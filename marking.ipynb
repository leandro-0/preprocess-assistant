{
 "cells": [
  {
   "cell_type": "code",
   "execution_count": 35,
   "metadata": {},
   "outputs": [],
   "source": [
    "import openpyxl\n",
    "import pickle\n",
    "import os"
   ]
  },
  {
   "cell_type": "code",
   "execution_count": 36,
   "metadata": {},
   "outputs": [
    {
     "data": {
      "text/plain": [
       "(['AIBR',\n",
       "  'Anuario-de-Estudios-Americanos',\n",
       "  'Revista-de-Indias',\n",
       "  'Revista-Española-de-Antropología-Americana'],\n",
       " {'AIBR': 'AIBR',\n",
       "  'Anuario-de-Estudios-Americanos': 'Anuario-de-Estudios-Americanos',\n",
       "  'Revista-de-Indias': 'Revista-de-Indias',\n",
       "  'Revista-Española-de-Antropolog': 'Revista-Española-de-Antropología-Americana'})"
      ]
     },
     "execution_count": 36,
     "metadata": {},
     "output_type": "execute_result"
    }
   ],
   "source": [
    "dirs = os.listdir(\"pack\")\n",
    "max_sheet_length = 30\n",
    "dirs_map = {}\n",
    "for d in dirs:\n",
    "    dirs_map[d[:max_sheet_length]] = d\n",
    "\n",
    "dirs, dirs_map"
   ]
  },
  {
   "cell_type": "code",
   "execution_count": null,
   "metadata": {},
   "outputs": [],
   "source": [
    "wb = openpyxl.Workbook()\n",
    "\n",
    "headers = (\"File\", \"InitialText\")\n",
    "\n",
    "\n",
    "sheets = {}\n",
    "for d in dirs:\n",
    "    files = os.listdir(os.path.join(\"pack\", d))\n",
    "    sheets[d[:max_sheet_length]] = [headers] + [(f, \"\") for f in files]\n",
    "\n",
    "# Delete default sheet\n",
    "wb.remove(wb.active)\n",
    "\n",
    "for sheet_name, values in sheets.items():\n",
    "    ws = wb.create_sheet(title=sheet_name)\n",
    "    for row in values:\n",
    "        ws.append(row)"
   ]
  },
  {
   "cell_type": "code",
   "execution_count": 3,
   "metadata": {},
   "outputs": [],
   "source": [
    "file_name = \"initial-text-marks.xlsx\""
   ]
  },
  {
   "cell_type": "code",
   "execution_count": null,
   "metadata": {},
   "outputs": [],
   "source": [
    "wb.save(file_name)"
   ]
  },
  {
   "cell_type": "code",
   "execution_count": 38,
   "metadata": {},
   "outputs": [
    {
     "data": {
      "text/plain": [
       "1912"
      ]
     },
     "execution_count": 38,
     "metadata": {},
     "output_type": "execute_result"
    }
   ],
   "source": [
    "wb = openpyxl.load_workbook(file_name)\n",
    "\n",
    "initial_texts = {}\n",
    "for sheet_name in wb.sheetnames:\n",
    "    ws = wb[sheet_name]\n",
    "    for row in ws.iter_rows(values_only=True):\n",
    "        if row[0] is None or row[0] == \"File\":\n",
    "            continue\n",
    "        initial_texts[os.path.join(\"pack\", dirs_map[sheet_name], row[0])] = row[1]\n",
    "\n",
    "len(initial_texts)"
   ]
  },
  {
   "cell_type": "code",
   "execution_count": 39,
   "metadata": {},
   "outputs": [],
   "source": [
    "with open(\"initial_texts-all-articles.pkl\", \"wb\") as f:\n",
    "    pickle.dump(initial_texts, f)"
   ]
  },
  {
   "cell_type": "code",
   "execution_count": null,
   "metadata": {},
   "outputs": [],
   "source": []
  }
 ],
 "metadata": {
  "kernelspec": {
   "display_name": ".venv",
   "language": "python",
   "name": "python3"
  },
  "language_info": {
   "codemirror_mode": {
    "name": "ipython",
    "version": 3
   },
   "file_extension": ".py",
   "mimetype": "text/x-python",
   "name": "python",
   "nbconvert_exporter": "python",
   "pygments_lexer": "ipython3",
   "version": "3.12.5"
  }
 },
 "nbformat": 4,
 "nbformat_minor": 2
}
