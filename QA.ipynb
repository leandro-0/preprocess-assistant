{
 "cells": [
  {
   "cell_type": "code",
   "execution_count": 1,
   "metadata": {},
   "outputs": [],
   "source": [
    "import pandas as pd\n",
    "import numpy as np"
   ]
  },
  {
   "cell_type": "code",
   "execution_count": 2,
   "metadata": {},
   "outputs": [
    {
     "data": {
      "text/html": [
       "<div>\n",
       "<style scoped>\n",
       "    .dataframe tbody tr th:only-of-type {\n",
       "        vertical-align: middle;\n",
       "    }\n",
       "\n",
       "    .dataframe tbody tr th {\n",
       "        vertical-align: top;\n",
       "    }\n",
       "\n",
       "    .dataframe thead th {\n",
       "        text-align: right;\n",
       "    }\n",
       "</style>\n",
       "<table border=\"1\" class=\"dataframe\">\n",
       "  <thead>\n",
       "    <tr style=\"text-align: right;\">\n",
       "      <th></th>\n",
       "      <th>Path</th>\n",
       "      <th>Text</th>\n",
       "    </tr>\n",
       "  </thead>\n",
       "  <tbody>\n",
       "    <tr>\n",
       "      <th>0</th>\n",
       "      <td>pack\\AIBR\\2006-Aymaras-peruanos-y-chilenos-en-...</td>\n",
       "      <td>catalogada y caricaturizada bajo el rótulo de ...</td>\n",
       "    </tr>\n",
       "    <tr>\n",
       "      <th>1</th>\n",
       "      <td>pack\\AIBR\\2006-Cambios-de-género-y-discriminac...</td>\n",
       "      <td>agradecimientos la autora desea agradecer a la...</td>\n",
       "    </tr>\n",
       "    <tr>\n",
       "      <th>2</th>\n",
       "      <td>pack\\AIBR\\2006-Consecuencias-personales-en-la-...</td>\n",
       "      <td>has carried out the biggest employment adjustm...</td>\n",
       "    </tr>\n",
       "    <tr>\n",
       "      <th>3</th>\n",
       "      <td>pack\\AIBR\\2006-Construcción-de-modelos-de-géne...</td>\n",
       "      <td>tampoco queremos que se entienda identidad de ...</td>\n",
       "    </tr>\n",
       "    <tr>\n",
       "      <th>4</th>\n",
       "      <td>pack\\AIBR\\2006-Contribuciones-feministas-a-pro...</td>\n",
       "      <td>is irrelevant for others con el que teresa del...</td>\n",
       "    </tr>\n",
       "    <tr>\n",
       "      <th>...</th>\n",
       "      <td>...</td>\n",
       "      <td>...</td>\n",
       "    </tr>\n",
       "    <tr>\n",
       "      <th>1920</th>\n",
       "      <td>pack\\Revista-Española-de-Antropología-American...</td>\n",
       "      <td>cómo citar: burguete cal y mayor, araceli. 202...</td>\n",
       "    </tr>\n",
       "    <tr>\n",
       "      <th>1921</th>\n",
       "      <td>pack\\Revista-Española-de-Antropología-American...</td>\n",
       "      <td>project exposed some critical questionings. in...</td>\n",
       "    </tr>\n",
       "    <tr>\n",
       "      <th>1922</th>\n",
       "      <td>pack\\Revista-Española-de-Antropología-American...</td>\n",
       "      <td>1. introducción el interés por los quipus, que...</td>\n",
       "    </tr>\n",
       "    <tr>\n",
       "      <th>1923</th>\n",
       "      <td>pack\\Revista-Española-de-Antropología-American...</td>\n",
       "      <td>1. introducción ¿cómo se produce la diferencia...</td>\n",
       "    </tr>\n",
       "    <tr>\n",
       "      <th>1924</th>\n",
       "      <td>pack\\Revista-Española-de-Antropología-American...</td>\n",
       "      <td>cómo citar: ramo affonso, ana maría. 2024. yvy...</td>\n",
       "    </tr>\n",
       "  </tbody>\n",
       "</table>\n",
       "<p>1925 rows × 2 columns</p>\n",
       "</div>"
      ],
      "text/plain": [
       "                                                   Path  \\\n",
       "0     pack\\AIBR\\2006-Aymaras-peruanos-y-chilenos-en-...   \n",
       "1     pack\\AIBR\\2006-Cambios-de-género-y-discriminac...   \n",
       "2     pack\\AIBR\\2006-Consecuencias-personales-en-la-...   \n",
       "3     pack\\AIBR\\2006-Construcción-de-modelos-de-géne...   \n",
       "4     pack\\AIBR\\2006-Contribuciones-feministas-a-pro...   \n",
       "...                                                 ...   \n",
       "1920  pack\\Revista-Española-de-Antropología-American...   \n",
       "1921  pack\\Revista-Española-de-Antropología-American...   \n",
       "1922  pack\\Revista-Española-de-Antropología-American...   \n",
       "1923  pack\\Revista-Española-de-Antropología-American...   \n",
       "1924  pack\\Revista-Española-de-Antropología-American...   \n",
       "\n",
       "                                                   Text  \n",
       "0     catalogada y caricaturizada bajo el rótulo de ...  \n",
       "1     agradecimientos la autora desea agradecer a la...  \n",
       "2     has carried out the biggest employment adjustm...  \n",
       "3     tampoco queremos que se entienda identidad de ...  \n",
       "4     is irrelevant for others con el que teresa del...  \n",
       "...                                                 ...  \n",
       "1920  cómo citar: burguete cal y mayor, araceli. 202...  \n",
       "1921  project exposed some critical questionings. in...  \n",
       "1922  1. introducción el interés por los quipus, que...  \n",
       "1923  1. introducción ¿cómo se produce la diferencia...  \n",
       "1924  cómo citar: ramo affonso, ana maría. 2024. yvy...  \n",
       "\n",
       "[1925 rows x 2 columns]"
      ]
     },
     "execution_count": 2,
     "metadata": {},
     "output_type": "execute_result"
    }
   ],
   "source": [
    "df = pd.read_csv('preprocessed.csv')\n",
    "df"
   ]
  },
  {
   "cell_type": "code",
   "execution_count": 3,
   "metadata": {},
   "outputs": [
    {
     "name": "stderr",
     "output_type": "stream",
     "text": [
      "/home/codespace/.python/current/lib/python3.12/site-packages/tqdm/auto.py:21: TqdmWarning: IProgress not found. Please update jupyter and ipywidgets. See https://ipywidgets.readthedocs.io/en/stable/user_install.html\n",
      "  from .autonotebook import tqdm as notebook_tqdm\n"
     ]
    }
   ],
   "source": [
    "import torch\n",
    "import spacy\n",
    "from transformers import pipeline\n",
    "from dotenv import load_dotenv\n",
    "import os\n",
    "\n",
    "load_dotenv()\n",
    "\n",
    "nlp = spacy.load(\"es_core_news_sm\")\n",
    "if torch.cuda.is_available():\n",
    "    print(torch.cuda.get_device_name(torch.cuda.current_device()))"
   ]
  },
  {
   "cell_type": "code",
   "execution_count": null,
   "metadata": {},
   "outputs": [],
   "source": []
  },
  {
   "cell_type": "code",
   "execution_count": 7,
   "metadata": {},
   "outputs": [
    {
     "data": {
      "text/plain": [
       "'pack\\\\AIBR\\\\2006-Consecuencias-personales-en-la-ruptura-de-la-vida-laboral-El-caso-de-Telefónica.pdf'"
      ]
     },
     "execution_count": 7,
     "metadata": {},
     "output_type": "execute_result"
    }
   ],
   "source": [
    "df.iloc[2]['Path']"
   ]
  },
  {
   "cell_type": "markdown",
   "metadata": {},
   "source": [
    "### QA basico"
   ]
  },
  {
   "cell_type": "code",
   "execution_count": null,
   "metadata": {},
   "outputs": [],
   "source": [
    "from llama_index.core import VectorStoreIndex, Document\n",
    "from llama_index.llms.huggingface import HuggingFaceLLM\n",
    "from llama_index.embeddings.huggingface import HuggingFaceEmbedding\n",
    "from transformers import AutoModelForCausalLM, AutoTokenizer\n",
    "from huggingface_hub import login\n",
    "import os\n",
    "from dotenv import load_dotenv\n",
    "\n",
    "load_dotenv()\n",
    "\n",
    "token = os.getenv(\"HUGGINGFACE_TOKEN\")\n",
    "login(token)"
   ]
  },
  {
   "cell_type": "code",
   "execution_count": null,
   "metadata": {},
   "outputs": [
    {
     "name": "stderr",
     "output_type": "stream",
     "text": [
      "Setting `pad_token_id` to `eos_token_id`:128001 for open-end generation.\n"
     ]
    },
    {
     "name": "stdout",
     "output_type": "stream",
     "text": [
      " La ley de estatuto de los trabajadores es una norma legal que establece las condiciones de trabajo, los derechos y las obligaciones de los trabajadores en un país. En España, por ejemplo, la ley de estatuto de los trabajadores es el Decreto 39/2003, de 28 de junio, que regula el estatuto de los trabajadores en el ámbito laboral español. El Decreto 39/2003 establece las normas básicas para el trabajo, incluyendo la regulación de los derechos y las obligaciones de los trabajadores, así como la protección de los trabajadores en la empresa.  La ley de estatuto de los trabajadores tiene como objetivo principal el proteger los derechos y las condiciones de trabajo de los trabajadores, garantizando su dignidad y bienestar. En España, el estatuto de los trabajadores es un derecho fundamental, y su cumplimiento es obligatorio para las empresas que emplean a los trabajadores. La ley de estatuto de los trabajadores también establece la posibilidad de la negociación colectiva, lo que permite a los trabajadores y a las organizaciones sindicales negociar los tér\n"
     ]
    }
   ],
   "source": [
    "model_id = \"meta-llama/Llama-3.2-1B-Instruct\"\n",
    "\n",
    "tokenizer = AutoTokenizer.from_pretrained(model_id)\n",
    "model = AutoModelForCausalLM.from_pretrained(model_id)\n",
    "\n",
    "llm = HuggingFaceLLM(model=model, tokenizer=tokenizer)\n",
    "\n",
    "embeddings_model = HuggingFaceEmbedding(model_name=\"sentence-transformers/all-MiniLM-L6-v2\")\n",
    "\n",
    "# crear documento con el texto\n",
    "text = df.iloc[2]['Text']\n",
    "document = Document(text=text)\n",
    "\n",
    "# Crear índice del modelo de embeddings específico\n",
    "index = VectorStoreIndex.from_documents(\n",
    "    [document], \n",
    "    embed_model=embeddings_model\n",
    ")\n",
    "\n",
    "# motor de consultas\n",
    "query_engine = index.as_query_engine(llm=llm)"
   ]
  },
  {
   "cell_type": "code",
   "execution_count": null,
   "metadata": {},
   "outputs": [
    {
     "name": "stderr",
     "output_type": "stream",
     "text": [
      "Setting `pad_token_id` to `eos_token_id`:128001 for open-end generation.\n"
     ]
    },
    {
     "name": "stdout",
     "output_type": "stream",
     "text": [
      " Los flujos de mercado de trabajo pueden ser de dos tipos:\n",
      "\n",
      "1. Flujos de mercado de trabajo tradicionales: son los flujos de mercado de trabajo que siguen las formas tradicionales de empleo, donde el empleador busca a un empleado que tenga una antigüedad en la empresa y que esté dispuesto a trabajar en un horario estable.\n",
      "2. Flujos de mercado de trabajo innovadores: son los flujos de mercado de trabajo que siguen las formas innovadoras de empleo, donde el empleador busca a un empleado que tenga habilidades y competencias que no se encuentran en la empresa, y que estén dispuestos a trabajar en un horario flexible o en un entorno de trabajo más dinámico.\n"
     ]
    }
   ],
   "source": [
    "# Ejemplo de consulta\n",
    "# respuesta = query_engine.query(\"¿Cuál es la idea principal del texto?\")\n",
    "# respuesta = query_engine.query(\"¿que es la ley de estatuto de los trabajadores?\")\n",
    "respuesta = query_engine.query(\"¿de que tipos pueden ser los flujos de mercado de trabajo?\") \n",
    "print(respuesta)"
   ]
  },
  {
   "cell_type": "markdown",
   "metadata": {},
   "source": [
    "## Langchain"
   ]
  },
  {
   "cell_type": "code",
   "execution_count": 4,
   "metadata": {},
   "outputs": [],
   "source": [
    "import pickle"
   ]
  },
  {
   "cell_type": "code",
   "execution_count": 5,
   "metadata": {},
   "outputs": [
    {
     "data": {
      "text/plain": [
       "(73111, 768)"
      ]
     },
     "execution_count": 5,
     "metadata": {},
     "output_type": "execute_result"
    }
   ],
   "source": [
    "embeddings_np = np.load(\"embeddings-chunks-512-50-nomic.bin.npy\")\n",
    "embeddings_np.shape"
   ]
  },
  {
   "cell_type": "code",
   "execution_count": 6,
   "metadata": {},
   "outputs": [],
   "source": [
    "with open(\"chunks-512-50-nomic.pkl\", \"rb\") as f:\n",
    "    chunks, chunks_ids = pickle.load(f)"
   ]
  },
  {
   "cell_type": "code",
   "execution_count": 7,
   "metadata": {},
   "outputs": [
    {
     "data": {
      "text/plain": [
       "'pack\\\\Anuario-de-Estudios-Americanos\\\\1996-El-Consulado-en-el-proceso-de-independencia-de-Cartagena-de-Indias.pdf'"
      ]
     },
     "execution_count": 7,
     "metadata": {},
     "output_type": "execute_result"
    }
   ],
   "source": [
    "df.iloc[340]['Path']"
   ]
  },
  {
   "cell_type": "code",
   "execution_count": 8,
   "metadata": {},
   "outputs": [
    {
     "name": "stdout",
     "output_type": "stream",
     "text": [
      "(11489, 11526)\n"
     ]
    }
   ],
   "source": [
    "import bisect\n",
    "\n",
    "def find_index_range(chunks_ids, target):\n",
    "    start_index = bisect.bisect_left(chunks_ids, target)\n",
    "    end_index = bisect.bisect_right(chunks_ids, target) - 1\n",
    "    \n",
    "    if start_index == len(chunks_ids) or chunks_ids[start_index] != target:\n",
    "        return None  # El índice no se encontró en la lista\n",
    "    return (start_index, end_index)\n",
    "\n",
    "# Ejemplo de uso\n",
    "target = 340\n",
    "print(find_index_range(chunks_ids, target))  # Salida: (1, 3)"
   ]
  },
  {
   "cell_type": "code",
   "execution_count": 9,
   "metadata": {},
   "outputs": [],
   "source": [
    "test_indices = find_index_range(chunks_ids, 340)\n",
    "testing_embeddings = embeddings_np[test_indices[0]:test_indices[1]]\n",
    "testing_chunks = chunks[test_indices[0]:test_indices[1]]"
   ]
  },
  {
   "cell_type": "code",
   "execution_count": 10,
   "metadata": {},
   "outputs": [
    {
     "name": "stderr",
     "output_type": "stream",
     "text": [
      "/tmp/ipykernel_68309/3343325745.py:10: LangChainDeprecationWarning: The class `HuggingFaceEmbeddings` was deprecated in LangChain 0.2.2 and will be removed in 1.0. An updated version of the class exists in the :class:`~langchain-huggingface package and should be used instead. To use it run `pip install -U :class:`~langchain-huggingface` and import as `from :class:`~langchain_huggingface import HuggingFaceEmbeddings``.\n",
      "  embeddings = HuggingFaceEmbeddings(model_name=\"sentence-transformers/paraphrase-multilingual-MiniLM-L12-v2\")\n"
     ]
    }
   ],
   "source": [
    "from langchain.text_splitter import RecursiveCharacterTextSplitter\n",
    "from langchain_community.vectorstores import FAISS\n",
    "from langchain_community.embeddings import HuggingFaceEmbeddings\n",
    "from langchain_community.llms import HuggingFacePipeline\n",
    "from langchain.chains import RetrievalQA\n",
    "from transformers import AutoTokenizer, AutoModelForCausalLM, pipeline\n",
    "import torch\n",
    "\n",
    "# Crear embeddings y almacenarlos\n",
    "embeddings = HuggingFaceEmbeddings(model_name=\"sentence-transformers/paraphrase-multilingual-MiniLM-L12-v2\")\n",
    "db = FAISS.from_texts(testing_chunks, embeddings)\n",
    "\n"
   ]
  },
  {
   "cell_type": "code",
   "execution_count": 11,
   "metadata": {},
   "outputs": [
    {
     "name": "stderr",
     "output_type": "stream",
     "text": [
      "Device set to use cpu\n",
      "/tmp/ipykernel_68309/2995009068.py:15: LangChainDeprecationWarning: The class `HuggingFacePipeline` was deprecated in LangChain 0.0.37 and will be removed in 1.0. An updated version of the class exists in the :class:`~langchain-huggingface package and should be used instead. To use it run `pip install -U :class:`~langchain-huggingface` and import as `from :class:`~langchain_huggingface import HuggingFacePipeline``.\n",
      "  llm = HuggingFacePipeline(pipeline=pipe)\n"
     ]
    }
   ],
   "source": [
    "# Configurar el modelo Llama\n",
    "model_id = \"meta-llama/Llama-3.2-1B-Instruct\" \n",
    "tokenizer = AutoTokenizer.from_pretrained(model_id)\n",
    "model = AutoModelForCausalLM.from_pretrained(model_id)\n",
    "\n",
    "#  pipeline para utilizar con LangChain\n",
    "pipe = pipeline(\n",
    "    \"text-generation\",\n",
    "    model=model,\n",
    "    tokenizer=tokenizer,\n",
    "    max_new_tokens=512,\n",
    "    temperature=0.1\n",
    ")\n",
    "\n",
    "llm = HuggingFacePipeline(pipeline=pipe)\n",
    "\n",
    "# 4. Crear el sistema de respuesta a preguntas\n",
    "qa_chain = RetrievalQA.from_chain_type(\n",
    "    llm=llm,\n",
    "    chain_type=\"stuff\",\n",
    "    retriever=db.as_retriever(search_kwargs={\"k\": 3})\n",
    ")\n",
    "\n",
    "# Función para responder preguntas\n",
    "def responder_pregunta(pregunta):\n",
    "    respuesta = qa_chain.run(pregunta)\n",
    "    return respuesta"
   ]
  },
  {
   "cell_type": "code",
   "execution_count": 12,
   "metadata": {},
   "outputs": [
    {
     "name": "stderr",
     "output_type": "stream",
     "text": [
      "/tmp/ipykernel_68309/2995009068.py:26: LangChainDeprecationWarning: The method `Chain.run` was deprecated in langchain 0.1.0 and will be removed in 1.0. Use :meth:`~invoke` instead.\n",
      "  respuesta = qa_chain.run(pregunta)\n",
      "Setting `pad_token_id` to `eos_token_id`:128001 for open-end generation.\n"
     ]
    },
    {
     "name": "stdout",
     "output_type": "stream",
     "text": [
      "Use the following pieces of context to answer the question at the end. If you don't know the answer, just say that you don't know, don't try to make up an answer.\n",
      "\n",
      "chamente ligados a los de la corona. una de las consideraciones que motivaron la creación de los nuevos consulados indianos fue la de conseguir un pacto político regional con los comerciantes americanos establecidos en regiones estratégicas. el objetivo era evitar la aparición de peligrosos vacíos de poder o tentaciones rupturistas y en la mayoría de los casos se saldó de forma positiva, ya que los consulados, como en nuestro caso, actuaron como fieles aliados de la causa realista. normalizada la situación en el seno de la institución mercantil, los sectores revolucionarios o patriotas que hasta entonces habían mantenido una explicable actitud de reserva ante el comportamiento del consulado, van a condicionar su opinión a la orientación que éste adoptase ante los acontecimientos que se avecinaban. las razones que explican la gran preocupación de los partidarios del nuevo orden sobre cual sería la actitud del consulado son múltiples: el consulado constituía, sin lugar a dudas, el cuerpo más nutrido y prestigioso de la ciudad, ya que la mayoría de sus matriculados poseían a nivel individual un sólido e indiscutido poder económico que les permitía una amplia capacidad de actuación en los más diversos aspectos de la vida pública; sus miembros disfrutaban de un indiscutido prestigio y ascendiente personal no sólo en la ciudad, sino en toda la provincia de cartagena; por la intensa labor de propaganda que desplegaban por toda la jurisdicción virreinal a favor de la causa realista; por la ininterrumpida correspondencia secreta que tenían con las autoridades tanto coloniales como metropolitanas que se manten\n",
      "\n",
      "idad deseada. los comerciantes cartageneros también contribuyeron a este afán liberalizador, como lo demuestran los informes, representaciones, memoriales, etc. que, a través del consulado de comercio de la ciudad, se elevaron reiteradamente al rey. estructura y actuación del consulado en los inicios del proceso revolucionario el consulado de cartagena de indias no mantuvo una postura uniforme a lo largo de todo el proceso revolucionario, sino que su comporta- miento se vio afectado por una serie de modificaciones a medida que éste se radicalizaba y sufría un deslizamiento hacía la izquierda. la institución mercantil, en los inicios del movimiento revolucionario, presentó una actitud un tanto ambigua, que, como se evidenciará más tarde, no era compartida por la mayoría de sus miembros. no obstante, transcurrido ese período de euforia que suele acompañar en sus inicios a toda alteración estructural profunda, muchos de sus miembros que habían contemplado con asentimiento, e incluso participado activamente en las irregularidades políticas, reconsideraron su actitud y aquellas veleidades pseudo-revolucionarias quedaron superadas. así, los matriculados de extracción peninsular que conformaban la mayoría del instituto mercantil percibieron, con ese singular olfato que caracteriza a todos los ciudadanos dedicados a la actividad comercial, que tanto sus intereses materiales como su futuro estaban estrechamente ligados a los de la corona. una de las consideraciones que motivaron la creación de los nuevos consulados indianos fue la de conseguir un pacto polí\n",
      "\n",
      " mencionada ceremonia debía celebrarse de forma desglosada. la razón que justificaba dicha distinción estribaba en que las funciones y responsabilidades de cada una de ellas —el tribunal consular o de justicia y la junta de gobierno— eran autónomas e independientes entre sí. dentro de la institución consular existía un cierto malestar contra el gobierno central, motivado por una serie de razones a las que ya hemos hecho referencia y entre las que predominaban las de índole economica. por tanto no debe extrañarnos que en el mismo seno del consulado existiese un indeterminado número de matriculados que creían que había llegado el momento oportuno para corregir los defectos que se encontraban pendientes de estudio. previamente la junta de gobierno consular se reunió para preparar tanto el desarrollo de los acontecimientos como los temas que serían debatidos el día 18 y que posteriormente veremos reflejados en el acta de dicha sesión. en el punto cuarto de la misma se contemplaba que los miembros del tribunal consular se responsabilizarían de que la real provisión emanada de la junta de sevilla y el oficio exhortatorio se difundiera por toda la jurisdicción del virreinato a través de las diputaciones consulares y demás individuos que se hacen necesarios para ayudar a dicha misión. al mismo tiempo se invitaba a todos los individuos que estaban en posesión del fuero del comercio a que prestasen la mayor ayuda posible ante las difíciles circunstancias que soportaba la monarquía española en europa. en su punto quinto creemos apreciar una actitud prudente o recelosa. si entre los distint\n",
      "\n",
      "Question: que motivo a la creacion de los nuevos consulados indianos?\n",
      "Helpful Answer: La creación de los nuevos consulados indianos fue motivada por la necesidad de conseguir un pacto político regional con los comerciantes americanos establecidos en regiones estratégicas.\n"
     ]
    }
   ],
   "source": [
    "pregunta = \"que motivo a la creacion de los nuevos consulados indianos?\"\n",
    "respuesta = responder_pregunta(pregunta)\n",
    "print(respuesta)"
   ]
  },
  {
   "cell_type": "code",
   "execution_count": null,
   "metadata": {},
   "outputs": [],
   "source": []
  },
  {
   "cell_type": "code",
   "execution_count": null,
   "metadata": {},
   "outputs": [],
   "source": []
  }
 ],
 "metadata": {
  "kernelspec": {
   "display_name": "Python 3",
   "language": "python",
   "name": "python3"
  },
  "language_info": {
   "codemirror_mode": {
    "name": "ipython",
    "version": 3
   },
   "file_extension": ".py",
   "mimetype": "text/x-python",
   "name": "python",
   "nbconvert_exporter": "python",
   "pygments_lexer": "ipython3",
   "version": "3.12.1"
  }
 },
 "nbformat": 4,
 "nbformat_minor": 2
}
