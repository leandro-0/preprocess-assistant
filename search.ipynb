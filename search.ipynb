{
 "cells": [
  {
   "cell_type": "code",
   "execution_count": 96,
   "metadata": {},
   "outputs": [
    {
     "name": "stdout",
     "output_type": "stream",
     "text": [
      "NVIDIA GeForce RTX 2070 SUPER\n"
     ]
    }
   ],
   "source": [
    "from sentence_transformers import SentenceTransformer\n",
    "import torch\n",
    "import spacy\n",
    "import pandas as pd\n",
    "import numpy as np\n",
    "import concurrent.futures\n",
    "import pickle\n",
    "import faiss\n",
    "from transformers import pipeline\n",
    "from scipy.stats import skew\n",
    "\n",
    "\n",
    "pd.set_option('display.max_colwidth', 100)\n",
    "nlp = spacy.load(\"es_core_news_sm\")\n",
    "if torch.cuda.is_available():\n",
    "    print(torch.cuda.get_device_name(torch.cuda.current_device()))"
   ]
  },
  {
   "cell_type": "code",
   "execution_count": null,
   "metadata": {},
   "outputs": [
    {
     "name": "stderr",
     "output_type": "stream",
     "text": [
      "Device set to use cuda:0\n"
     ]
    }
   ],
   "source": [
    "model_id = \"meta-llama/Llama-3.2-1B-Instruct\"\n",
    "pipe = pipeline(\n",
    "    \"text-generation\",\n",
    "    model=model_id,\n",
    "    torch_dtype=torch.bfloat16,\n",
    "    device_map=\"auto\",\n",
    "    \n",
    ")\n",
    "\n",
    "messages = [\n",
    "    {\"role\": \"system\", \"content\": \"Eres una máquina que reformula consultas sobre historia latinoamericana. A cada consulta responderás con un pasaje de texto corto pero relevante que pueda ser útil para responder a la consulta original. No vas a dar respuestas que incluyan títulos, listas o formato Markdown.\"},\n",
    "    {\"role\": \"user\", \"content\": \"Influencias de Colón en la historia de América\"},\n",
    "]\n",
    "messages2 = [\n",
    "    {\"role\": \"system\", \"content\": \"Eres una máquina especializada en reformular consultas sobre historia latinoamericana. A cada consulta, tu tarea es hacerla más precisa y clara, sin extenderte demasiado. Solo responderás con la consulta reformulada, sin incluir títulos, listas o formato Markdown.\"},\n",
    "    {\"role\": \"user\", \"content\": \"Influencias de Colón en la historia de América\"},\n",
    "]\n",
    "messages3 = [\n",
    "    {\"role\": \"system\", \"content\": \"Eres un experto en historia latinoamericana. Tu tarea es tomar consultas relacionadas con la historia de América Latina y reformularlas para hacerlas más precisas, claras y detalladas. Deberías asegurarte de que la nueva consulta sea más específica, completa y comprensible. Responde solo con la consulta reformulada, sin agregar respuestas completas ni contenido adicional. No uses listas, títulos ni formato Markdown.\"},\n",
    "    {\"role\": \"user\", \"content\": \"Influencias de Colón en la historia de América\"},\n",
    "]\n",
    "\n",
    "def get_messages(q):\n",
    "    return [\n",
    "        {\"role\": \"system\", \"content\": \"Eres un experto en historia latinoamericana. Tu tarea es tomar consultas relacionadas con la historia de América Latina y reformularlas para hacerlas más precisas, claras y detalladas. Deberías asegurarte de que la nueva consulta sea más específica, completa y comprensible. Responde solo con la consulta reformulada, sin agregar respuestas completas ni contenido adicional. No uses listas, títulos ni formato Markdown.\"},\n",
    "        {\"role\": \"user\", \"content\": q},\n",
    "    ]"
   ]
  },
  {
   "cell_type": "code",
   "execution_count": 5,
   "metadata": {},
   "outputs": [
    {
     "name": "stderr",
     "output_type": "stream",
     "text": [
      "Setting `pad_token_id` to `eos_token_id`:128001 for open-end generation.\n"
     ]
    },
    {
     "data": {
      "text/plain": [
       "'El monopolio de Sevilla se refiere a la situación en la que la ciudad de Sevilla, en España, se convirtió en un centro de comercio y comerciante de bienes de lujo, especialmente vino, en el siglo XVII. Esta situación se debió a una combinación de factores, incluyendo la expansión del comercio español en América, la creciente demanda de vino en Europa y la posición geográfica de Sevilla como puerto.\\n\\nEn 1635, la ciudad de Sevilla se convirtió en el principal centro de comercio de vino en Europa, gracias en parte a la expansión de la industria vinícola en América. La ciudad era un importante centro de exportación de vino, y su reputación como una de las mejores tiendas de vino del mundo se consolidó en ese momento.\\n\\nEl monopolio de Sevilla se debió en parte a la posición de la ciudad como puerto y el centro de comercio, que la convirtió en un punto de partida para la exportación de vino a todo el mundo. Además, la ciudad tenía una gran cantidad de comerciantes y vendedores de bienes de lujo, que la utilizaban como'"
      ]
     },
     "execution_count": 5,
     "metadata": {},
     "output_type": "execute_result"
    }
   ],
   "source": [
    "q = \"Monopolio de Sevilla\"\n",
    "\n",
    "outputs = pipe(\n",
    "    get_messages(q),\n",
    "    max_new_tokens=256,\n",
    ")\n",
    "\n",
    "new_query = outputs[0][\"generated_text\"][-1]['content']\n",
    "new_query"
   ]
  },
  {
   "cell_type": "code",
   "execution_count": null,
   "metadata": {},
   "outputs": [],
   "source": [
    "model = SentenceTransformer('sentence-transformers/paraphrase-multilingual-MiniLM-L12-v2')\n",
    "device = torch.device(\"cuda\" if torch.cuda.is_available() else \"cpu\")\n",
    "model = model.to(device)"
   ]
  },
  {
   "cell_type": "code",
   "execution_count": 40,
   "metadata": {},
   "outputs": [],
   "source": [
    "def divide_document(text, max_words=300):\n",
    "    doc = nlp(text)\n",
    "    sents = [sent.text for sent in doc.sents]\n",
    "    fragments = []\n",
    "    temp = \"\"\n",
    "\n",
    "    for sent in sents:\n",
    "        if len(temp.split()) + len(sent.split()) <= max_words:\n",
    "            temp += \" \" + sent\n",
    "        else:\n",
    "            fragments.append(temp.strip())\n",
    "            temp = sent\n",
    "\n",
    "    if temp:\n",
    "        fragments.append(temp.strip())\n",
    "\n",
    "    return fragments\n"
   ]
  },
  {
   "cell_type": "code",
   "execution_count": 7,
   "metadata": {},
   "outputs": [
    {
     "data": {
      "text/html": [
       "<div>\n",
       "<style scoped>\n",
       "    .dataframe tbody tr th:only-of-type {\n",
       "        vertical-align: middle;\n",
       "    }\n",
       "\n",
       "    .dataframe tbody tr th {\n",
       "        vertical-align: top;\n",
       "    }\n",
       "\n",
       "    .dataframe thead th {\n",
       "        text-align: right;\n",
       "    }\n",
       "</style>\n",
       "<table border=\"1\" class=\"dataframe\">\n",
       "  <thead>\n",
       "    <tr style=\"text-align: right;\">\n",
       "      <th></th>\n",
       "      <th>Path</th>\n",
       "      <th>Text</th>\n",
       "    </tr>\n",
       "  </thead>\n",
       "  <tbody>\n",
       "    <tr>\n",
       "      <th>0</th>\n",
       "      <td>pack\\AIBR\\2006-Aymaras-peruanos-y-chilenos-en-los-Andes-ariqueños-Resistencia-y-conflicto-frente...</td>\n",
       "      <td>catalogada y caricaturizada bajo el rótulo de indómito pueblo araucano. esta imagen, construida ...</td>\n",
       "    </tr>\n",
       "    <tr>\n",
       "      <th>1</th>\n",
       "      <td>pack\\AIBR\\2006-Cambios-de-género-y-discriminación-laboral-en-el-sector-financiero-colombiano-El-...</td>\n",
       "      <td>agradecimientos la autora desea agradecer a la profesora luz gabriela arango la lectura del pres...</td>\n",
       "    </tr>\n",
       "    <tr>\n",
       "      <th>2</th>\n",
       "      <td>pack\\AIBR\\2006-Consecuencias-personales-en-la-ruptura-de-la-vida-laboral-El-caso-de-Telefónica.pdf</td>\n",
       "      <td>has carried out the biggest employment adjustment in our country, that will finished in 2007, af...</td>\n",
       "    </tr>\n",
       "    <tr>\n",
       "      <th>3</th>\n",
       "      <td>pack\\AIBR\\2006-Construcción-de-modelos-de-género-a-partir-de-textos-de-la-tradición-oral-en-Extr...</td>\n",
       "      <td>tampoco queremos que se entienda identidad de género, como identidad del nosotras o identidad de...</td>\n",
       "    </tr>\n",
       "    <tr>\n",
       "      <th>4</th>\n",
       "      <td>pack\\AIBR\\2006-Contribuciones-feministas-a-problemas-epistemológicos-de-la-disciplina-antropológ...</td>\n",
       "      <td>is irrelevant for others con el que teresa del valle enuncia uno de los apartados de su introduc...</td>\n",
       "    </tr>\n",
       "    <tr>\n",
       "      <th>...</th>\n",
       "      <td>...</td>\n",
       "      <td>...</td>\n",
       "    </tr>\n",
       "    <tr>\n",
       "      <th>1920</th>\n",
       "      <td>pack\\Revista-Española-de-Antropología-Americana\\2024-Paridad-y-violencia-política-contra-las-muj...</td>\n",
       "      <td>cómo citar: burguete cal y mayor, araceli. 2024. paridad y violencia política contra las mujeres...</td>\n",
       "    </tr>\n",
       "    <tr>\n",
       "      <th>1921</th>\n",
       "      <td>pack\\Revista-Española-de-Antropología-Americana\\2024-Reorientación-de-la-educación-superior-inte...</td>\n",
       "      <td>project exposed some critical questionings. in this paper i expose five of these critical questi...</td>\n",
       "    </tr>\n",
       "    <tr>\n",
       "      <th>1922</th>\n",
       "      <td>pack\\Revista-Española-de-Antropología-Americana\\2024-Una-aproximación-metodológica-a-la-lectura-...</td>\n",
       "      <td>1. introducción el interés por los quipus, que ha crecido en los últimos años, ha sido acompañad...</td>\n",
       "    </tr>\n",
       "    <tr>\n",
       "      <th>1923</th>\n",
       "      <td>pack\\Revista-Española-de-Antropología-Americana\\2024-Valdivia-fase-3-transformación-de-las-figur...</td>\n",
       "      <td>1. introducción ¿cómo se produce la diferenciación entre los géneros? ¿cómo surge el conflicto d...</td>\n",
       "    </tr>\n",
       "    <tr>\n",
       "      <th>1924</th>\n",
       "      <td>pack\\Revista-Española-de-Antropología-Americana\\2024-Yvyrupa-la-Tierra-memoria-viva-y-movimiento...</td>\n",
       "      <td>cómo citar: ramo affonso, ana maría. 2024. yvyrupa, la tierra: memoria viva y movimientos guaran...</td>\n",
       "    </tr>\n",
       "  </tbody>\n",
       "</table>\n",
       "<p>1925 rows × 2 columns</p>\n",
       "</div>"
      ],
      "text/plain": [
       "                                                                                                     Path  \\\n",
       "0     pack\\AIBR\\2006-Aymaras-peruanos-y-chilenos-en-los-Andes-ariqueños-Resistencia-y-conflicto-frente...   \n",
       "1     pack\\AIBR\\2006-Cambios-de-género-y-discriminación-laboral-en-el-sector-financiero-colombiano-El-...   \n",
       "2      pack\\AIBR\\2006-Consecuencias-personales-en-la-ruptura-de-la-vida-laboral-El-caso-de-Telefónica.pdf   \n",
       "3     pack\\AIBR\\2006-Construcción-de-modelos-de-género-a-partir-de-textos-de-la-tradición-oral-en-Extr...   \n",
       "4     pack\\AIBR\\2006-Contribuciones-feministas-a-problemas-epistemológicos-de-la-disciplina-antropológ...   \n",
       "...                                                                                                   ...   \n",
       "1920  pack\\Revista-Española-de-Antropología-Americana\\2024-Paridad-y-violencia-política-contra-las-muj...   \n",
       "1921  pack\\Revista-Española-de-Antropología-Americana\\2024-Reorientación-de-la-educación-superior-inte...   \n",
       "1922  pack\\Revista-Española-de-Antropología-Americana\\2024-Una-aproximación-metodológica-a-la-lectura-...   \n",
       "1923  pack\\Revista-Española-de-Antropología-Americana\\2024-Valdivia-fase-3-transformación-de-las-figur...   \n",
       "1924  pack\\Revista-Española-de-Antropología-Americana\\2024-Yvyrupa-la-Tierra-memoria-viva-y-movimiento...   \n",
       "\n",
       "                                                                                                     Text  \n",
       "0     catalogada y caricaturizada bajo el rótulo de indómito pueblo araucano. esta imagen, construida ...  \n",
       "1     agradecimientos la autora desea agradecer a la profesora luz gabriela arango la lectura del pres...  \n",
       "2     has carried out the biggest employment adjustment in our country, that will finished in 2007, af...  \n",
       "3     tampoco queremos que se entienda identidad de género, como identidad del nosotras o identidad de...  \n",
       "4     is irrelevant for others con el que teresa del valle enuncia uno de los apartados de su introduc...  \n",
       "...                                                                                                   ...  \n",
       "1920  cómo citar: burguete cal y mayor, araceli. 2024. paridad y violencia política contra las mujeres...  \n",
       "1921  project exposed some critical questionings. in this paper i expose five of these critical questi...  \n",
       "1922  1. introducción el interés por los quipus, que ha crecido en los últimos años, ha sido acompañad...  \n",
       "1923  1. introducción ¿cómo se produce la diferenciación entre los géneros? ¿cómo surge el conflicto d...  \n",
       "1924  cómo citar: ramo affonso, ana maría. 2024. yvyrupa, la tierra: memoria viva y movimientos guaran...  \n",
       "\n",
       "[1925 rows x 2 columns]"
      ]
     },
     "execution_count": 7,
     "metadata": {},
     "output_type": "execute_result"
    }
   ],
   "source": [
    "df = pd.read_csv(\"preprocessed.csv\")\n",
    "df"
   ]
  },
  {
   "cell_type": "code",
   "execution_count": 40,
   "metadata": {},
   "outputs": [],
   "source": [
    "from sentence_transformers import SentenceTransformer\n",
    "from transformers import AutoTokenizer\n",
    "\n",
    "# Carga el modelo y el tokenizer\n",
    "model_name = \"sentence-transformers/paraphrase-multilingual-MiniLM-L12-v2\"\n",
    "model = SentenceTransformer(model_name)\n",
    "tokenizer = AutoTokenizer.from_pretrained(model_name)\n"
   ]
  },
  {
   "cell_type": "code",
   "execution_count": 43,
   "metadata": {},
   "outputs": [
    {
     "name": "stderr",
     "output_type": "stream",
     "text": [
      "Token indices sequence length is longer than the specified maximum sequence length for this model (8924 > 512). Running this sequence through the model will result in indexing errors\n"
     ]
    },
    {
     "data": {
      "text/plain": [
       "(65, 44391)"
      ]
     },
     "execution_count": 43,
     "metadata": {},
     "output_type": "execute_result"
    }
   ],
   "source": [
    "mi, ma = 1 << 31, 0\n",
    "for i, r in df.iterrows():\n",
    "    if type(r[\"Text\"]) != str:\n",
    "        continue\n",
    "    n_tokens = len(tokenizer.tokenize(r[\"Text\"]))\n",
    "    mi = min(mi, n_tokens)\n",
    "    ma = max(ma, n_tokens)\n",
    "mi, ma"
   ]
  },
  {
   "cell_type": "code",
   "execution_count": 42,
   "metadata": {},
   "outputs": [
    {
     "ename": "KeyboardInterrupt",
     "evalue": "",
     "output_type": "error",
     "traceback": [
      "\u001b[1;31m---------------------------------------------------------------------------\u001b[0m",
      "\u001b[1;31mKeyboardInterrupt\u001b[0m                         Traceback (most recent call last)",
      "Cell \u001b[1;32mIn[42], line 12\u001b[0m\n\u001b[0;32m      9\u001b[0m fragments_ids \u001b[38;5;241m=\u001b[39m []\n\u001b[0;32m     11\u001b[0m \u001b[38;5;28;01mwith\u001b[39;00m concurrent\u001b[38;5;241m.\u001b[39mfutures\u001b[38;5;241m.\u001b[39mThreadPoolExecutor(max_workers\u001b[38;5;241m=\u001b[39m\u001b[38;5;241m10\u001b[39m) \u001b[38;5;28;01mas\u001b[39;00m executor:\n\u001b[1;32m---> 12\u001b[0m     results \u001b[38;5;241m=\u001b[39m \u001b[38;5;28;43mlist\u001b[39;49m\u001b[43m(\u001b[49m\u001b[43mexecutor\u001b[49m\u001b[38;5;241;43m.\u001b[39;49m\u001b[43mmap\u001b[49m\u001b[43m(\u001b[49m\u001b[38;5;28;43;01mlambda\u001b[39;49;00m\u001b[43m \u001b[49m\u001b[43mrow\u001b[49m\u001b[43m:\u001b[49m\u001b[43m \u001b[49m\u001b[43mdivide_and_assign_ids\u001b[49m\u001b[43m(\u001b[49m\u001b[43mrow\u001b[49m\u001b[43m[\u001b[49m\u001b[38;5;241;43m0\u001b[39;49m\u001b[43m]\u001b[49m\u001b[43m,\u001b[49m\u001b[43m \u001b[49m\u001b[43mrow\u001b[49m\u001b[43m[\u001b[49m\u001b[38;5;241;43m1\u001b[39;49m\u001b[43m]\u001b[49m\u001b[43m[\u001b[49m\u001b[38;5;124;43m\"\u001b[39;49m\u001b[38;5;124;43mText\u001b[39;49m\u001b[38;5;124;43m\"\u001b[39;49m\u001b[43m]\u001b[49m\u001b[43m)\u001b[49m\u001b[43m,\u001b[49m\n\u001b[0;32m     13\u001b[0m \u001b[43m                                \u001b[49m\u001b[43mdf\u001b[49m\u001b[38;5;241;43m.\u001b[39;49m\u001b[43miterrows\u001b[49m\u001b[43m(\u001b[49m\u001b[43m)\u001b[49m\u001b[43m)\u001b[49m\u001b[43m)\u001b[49m\n\u001b[0;32m     15\u001b[0m     \u001b[38;5;28;01mfor\u001b[39;00m frags, ids \u001b[38;5;129;01min\u001b[39;00m results:\n\u001b[0;32m     16\u001b[0m         \u001b[38;5;28;01mif\u001b[39;00m \u001b[38;5;129;01mnot\u001b[39;00m frags \u001b[38;5;129;01mor\u001b[39;00m \u001b[38;5;129;01mnot\u001b[39;00m ids:\n",
      "File \u001b[1;32m~\\AppData\\Local\\Programs\\Python\\Python312\\Lib\\concurrent\\futures\\_base.py:619\u001b[0m, in \u001b[0;36mExecutor.map.<locals>.result_iterator\u001b[1;34m()\u001b[0m\n\u001b[0;32m    616\u001b[0m \u001b[38;5;28;01mwhile\u001b[39;00m fs:\n\u001b[0;32m    617\u001b[0m     \u001b[38;5;66;03m# Careful not to keep a reference to the popped future\u001b[39;00m\n\u001b[0;32m    618\u001b[0m     \u001b[38;5;28;01mif\u001b[39;00m timeout \u001b[38;5;129;01mis\u001b[39;00m \u001b[38;5;28;01mNone\u001b[39;00m:\n\u001b[1;32m--> 619\u001b[0m         \u001b[38;5;28;01myield\u001b[39;00m \u001b[43m_result_or_cancel\u001b[49m\u001b[43m(\u001b[49m\u001b[43mfs\u001b[49m\u001b[38;5;241;43m.\u001b[39;49m\u001b[43mpop\u001b[49m\u001b[43m(\u001b[49m\u001b[43m)\u001b[49m\u001b[43m)\u001b[49m\n\u001b[0;32m    620\u001b[0m     \u001b[38;5;28;01melse\u001b[39;00m:\n\u001b[0;32m    621\u001b[0m         \u001b[38;5;28;01myield\u001b[39;00m _result_or_cancel(fs\u001b[38;5;241m.\u001b[39mpop(), end_time \u001b[38;5;241m-\u001b[39m time\u001b[38;5;241m.\u001b[39mmonotonic())\n",
      "File \u001b[1;32m~\\AppData\\Local\\Programs\\Python\\Python312\\Lib\\concurrent\\futures\\_base.py:317\u001b[0m, in \u001b[0;36m_result_or_cancel\u001b[1;34m(***failed resolving arguments***)\u001b[0m\n\u001b[0;32m    315\u001b[0m \u001b[38;5;28;01mtry\u001b[39;00m:\n\u001b[0;32m    316\u001b[0m     \u001b[38;5;28;01mtry\u001b[39;00m:\n\u001b[1;32m--> 317\u001b[0m         \u001b[38;5;28;01mreturn\u001b[39;00m \u001b[43mfut\u001b[49m\u001b[38;5;241;43m.\u001b[39;49m\u001b[43mresult\u001b[49m\u001b[43m(\u001b[49m\u001b[43mtimeout\u001b[49m\u001b[43m)\u001b[49m\n\u001b[0;32m    318\u001b[0m     \u001b[38;5;28;01mfinally\u001b[39;00m:\n\u001b[0;32m    319\u001b[0m         fut\u001b[38;5;241m.\u001b[39mcancel()\n",
      "File \u001b[1;32m~\\AppData\\Local\\Programs\\Python\\Python312\\Lib\\concurrent\\futures\\_base.py:451\u001b[0m, in \u001b[0;36mFuture.result\u001b[1;34m(self, timeout)\u001b[0m\n\u001b[0;32m    448\u001b[0m \u001b[38;5;28;01melif\u001b[39;00m \u001b[38;5;28mself\u001b[39m\u001b[38;5;241m.\u001b[39m_state \u001b[38;5;241m==\u001b[39m FINISHED:\n\u001b[0;32m    449\u001b[0m     \u001b[38;5;28;01mreturn\u001b[39;00m \u001b[38;5;28mself\u001b[39m\u001b[38;5;241m.\u001b[39m__get_result()\n\u001b[1;32m--> 451\u001b[0m \u001b[38;5;28;43mself\u001b[39;49m\u001b[38;5;241;43m.\u001b[39;49m\u001b[43m_condition\u001b[49m\u001b[38;5;241;43m.\u001b[39;49m\u001b[43mwait\u001b[49m\u001b[43m(\u001b[49m\u001b[43mtimeout\u001b[49m\u001b[43m)\u001b[49m\n\u001b[0;32m    453\u001b[0m \u001b[38;5;28;01mif\u001b[39;00m \u001b[38;5;28mself\u001b[39m\u001b[38;5;241m.\u001b[39m_state \u001b[38;5;129;01min\u001b[39;00m [CANCELLED, CANCELLED_AND_NOTIFIED]:\n\u001b[0;32m    454\u001b[0m     \u001b[38;5;28;01mraise\u001b[39;00m CancelledError()\n",
      "File \u001b[1;32m~\\AppData\\Local\\Programs\\Python\\Python312\\Lib\\threading.py:355\u001b[0m, in \u001b[0;36mCondition.wait\u001b[1;34m(self, timeout)\u001b[0m\n\u001b[0;32m    353\u001b[0m \u001b[38;5;28;01mtry\u001b[39;00m:    \u001b[38;5;66;03m# restore state no matter what (e.g., KeyboardInterrupt)\u001b[39;00m\n\u001b[0;32m    354\u001b[0m     \u001b[38;5;28;01mif\u001b[39;00m timeout \u001b[38;5;129;01mis\u001b[39;00m \u001b[38;5;28;01mNone\u001b[39;00m:\n\u001b[1;32m--> 355\u001b[0m         \u001b[43mwaiter\u001b[49m\u001b[38;5;241;43m.\u001b[39;49m\u001b[43macquire\u001b[49m\u001b[43m(\u001b[49m\u001b[43m)\u001b[49m\n\u001b[0;32m    356\u001b[0m         gotit \u001b[38;5;241m=\u001b[39m \u001b[38;5;28;01mTrue\u001b[39;00m\n\u001b[0;32m    357\u001b[0m     \u001b[38;5;28;01melse\u001b[39;00m:\n",
      "\u001b[1;31mKeyboardInterrupt\u001b[0m: "
     ]
    }
   ],
   "source": [
    "def divide_and_assign_ids(i, text):\n",
    "    if type(text) != str:\n",
    "        return [], []\n",
    "\n",
    "    frags = divide_document(text)\n",
    "    return frags, [i] * len(frags)\n",
    "\n",
    "fragments = []\n",
    "fragments_ids = []\n",
    "\n",
    "with concurrent.futures.ThreadPoolExecutor(max_workers=10) as executor:\n",
    "    results = list(executor.map(lambda row: divide_and_assign_ids(row[0], row[1][\"Text\"]),\n",
    "                                df.iterrows()))\n",
    "\n",
    "    for frags, ids in results:\n",
    "        if not frags or not ids:\n",
    "            continue\n",
    "\n",
    "        fragments.extend(frags)\n",
    "        fragments_ids.extend(ids)\n",
    "\n",
    "len(fragments), len(fragments_ids)"
   ]
  },
  {
   "cell_type": "code",
   "execution_count": null,
   "metadata": {},
   "outputs": [],
   "source": [
    "with open(\"fragments.pkl\", \"wb\") as f:\n",
    "    pickle.dump((fragments, fragments_ids), f)"
   ]
  },
  {
   "cell_type": "code",
   "execution_count": 28,
   "metadata": {},
   "outputs": [],
   "source": [
    "with open(\"fragments.pkl\", \"rb\") as f:\n",
    "    fragments, fragments_ids = pickle.load(f)"
   ]
  },
  {
   "cell_type": "code",
   "execution_count": 29,
   "metadata": {},
   "outputs": [
    {
     "name": "stdout",
     "output_type": "stream",
     "text": [
      "torch.Size([57716, 384])\n"
     ]
    }
   ],
   "source": [
    "embeddings = model.encode(fragments, convert_to_tensor=True, device=device)\n",
    "print(embeddings.shape)"
   ]
  },
  {
   "cell_type": "code",
   "execution_count": 81,
   "metadata": {},
   "outputs": [
    {
     "name": "stdout",
     "output_type": "stream",
     "text": [
      "(73111, 1024)\n"
     ]
    }
   ],
   "source": [
    "embeddings_np = embeddings.cpu().numpy()\n",
    "print(embeddings_np.shape)\n",
    "\n",
    "# embeddings_normalized = embeddings_np / np.linalg.norm(embeddings_np, axis=1, keepdims=True)\n",
    "# print(embeddings_normalized.shape)"
   ]
  },
  {
   "cell_type": "code",
   "execution_count": 82,
   "metadata": {},
   "outputs": [
    {
     "data": {
      "text/plain": [
       "<faiss.swigfaiss_avx2.IndexFlatL2; proxy of <Swig Object of type 'faiss::IndexFlatL2 *' at 0x000001E5071ED4D0> >"
      ]
     },
     "execution_count": 82,
     "metadata": {},
     "output_type": "execute_result"
    }
   ],
   "source": [
    "index = faiss.IndexFlatL2(embeddings_np.shape[1])\n",
    "index.add(embeddings_np)\n",
    "index"
   ]
  },
  {
   "cell_type": "code",
   "execution_count": 21,
   "metadata": {},
   "outputs": [],
   "source": [
    "faiss.write_index(index, \"index-sentence-transformers.faiss\")"
   ]
  },
  {
   "cell_type": "code",
   "execution_count": 9,
   "metadata": {},
   "outputs": [],
   "source": [
    "index = faiss.read_index(\"index-sentence-transformers.faiss\")"
   ]
  },
  {
   "cell_type": "code",
   "execution_count": 83,
   "metadata": {},
   "outputs": [],
   "source": [
    "def clean_query(query: str) -> str:\n",
    "    query = query.replace('\"', '').replace(\"'\", '')\n",
    "    query = query.replace(\"\\n\", \" \").replace(\"\\r\", \" \")\n",
    "    query = query.replace(\"  \", \" \").strip()\n",
    "\n",
    "    doc = nlp(query)\n",
    "    sentences = [sent.text.strip() for sent in doc.sents]\n",
    "    return \" \".join([sent for sent in sentences if len(sent) > 0 and sent[-1] == '.']).lower()\n",
    "\n",
    "def search(query, top_k=10):\n",
    "    query_embedding = model.encode([clean_query(query)], convert_to_tensor=True, device=device).cpu().numpy()\n",
    "    distances, indices = index.search(query_embedding, k=top_k*4)\n",
    "\n",
    "    already_in = set()\n",
    "    results = []\n",
    "    for i in indices[0]:\n",
    "        id = fragments_ids[i]\n",
    "        if id in already_in:\n",
    "            continue\n",
    "\n",
    "        already_in.add(id)\n",
    "        results.append(id)\n",
    "        if len(results) == top_k:\n",
    "            break\n",
    "\n",
    "    return df.iloc[results]\n",
    "\n",
    "def skewness(query, top_k=10):\n",
    "    query_embedding = model.encode([clean_query(query)], convert_to_tensor=True, device=device).cpu().numpy()\n",
    "    distances, _ = index.search(query_embedding, k=top_k)\n",
    "\n",
    "    # max and min distances\n",
    "    print(distances[0].min(), distances[0].max())\n",
    "\n",
    "    similarities = 1 - distances\n",
    "    return skew(similarities[0])"
   ]
  },
  {
   "cell_type": "code",
   "execution_count": 84,
   "metadata": {},
   "outputs": [
    {
     "data": {
      "text/html": [
       "<div>\n",
       "<style scoped>\n",
       "    .dataframe tbody tr th:only-of-type {\n",
       "        vertical-align: middle;\n",
       "    }\n",
       "\n",
       "    .dataframe tbody tr th {\n",
       "        vertical-align: top;\n",
       "    }\n",
       "\n",
       "    .dataframe thead th {\n",
       "        text-align: right;\n",
       "    }\n",
       "</style>\n",
       "<table border=\"1\" class=\"dataframe\">\n",
       "  <thead>\n",
       "    <tr style=\"text-align: right;\">\n",
       "      <th></th>\n",
       "      <th>Path</th>\n",
       "      <th>Text</th>\n",
       "    </tr>\n",
       "  </thead>\n",
       "  <tbody>\n",
       "    <tr>\n",
       "      <th>675</th>\n",
       "      <td>pack\\Anuario-de-Estudios-Americanos\\2014-La-elaboración-de-la-Ordenanza-de-Montes-de-Marina-de-3...</td>\n",
       "      <td>introducción el mayor punto del comercio de españa depende de arreglar lo casi perdido con sus i...</td>\n",
       "    </tr>\n",
       "    <tr>\n",
       "      <th>1736</th>\n",
       "      <td>pack\\Revista-Española-de-Antropología-Americana\\2015-Interacciones-entre-las-sociedades-y-las-pl...</td>\n",
       "      <td>figura 1: ubicación del área septentrional del río de la plata en el contexto regional. en detal...</td>\n",
       "    </tr>\n",
       "    <tr>\n",
       "      <th>1307</th>\n",
       "      <td>pack\\Revista-de-Indias\\2017-Gamonales-y-alcaldes-poder-institucional-y-parainstitucional-en-la-P...</td>\n",
       "      <td>introducción la presente investigación tiene como principal objetivo recalcar el importante pape...</td>\n",
       "    </tr>\n",
       "    <tr>\n",
       "      <th>956</th>\n",
       "      <td>pack\\Revista-de-Indias\\2002-En-búsqueda-de-un-punto-fijo-para-la-República-El-cesarismo-liberal-...</td>\n",
       "      <td>and covenants, without the sword, are but words2 tres de las cuatro revoluciones de principios d...</td>\n",
       "    </tr>\n",
       "    <tr>\n",
       "      <th>1116</th>\n",
       "      <td>pack\\Revista-de-Indias\\2008-Políticas-y-prácticas-migratorias-los-flujos-de-gallegos-y-asturiano...</td>\n",
       "      <td>ricano de las corrientes del noroeste hispánico, luego del cubano, que mantuvo una notoria y ant...</td>\n",
       "    </tr>\n",
       "    <tr>\n",
       "      <th>435</th>\n",
       "      <td>pack\\Anuario-de-Estudios-Americanos\\2001-El-oro-de-América-La-contribución-de-los-emigrantes-del...</td>\n",
       "      <td>ca, y en particular el lerrouxismo. la república del emigrante describe en detalle la cultura po...</td>\n",
       "    </tr>\n",
       "    <tr>\n",
       "      <th>1256</th>\n",
       "      <td>pack\\Revista-de-Indias\\2014-México-y-las-instituciones-republicanas-en-el-exilio-del-apoyo-del-C...</td>\n",
       "      <td>normalizaron, el inicio de la guerra civil puso de manifiesto el apoyo inequívoco del gobierno m...</td>\n",
       "    </tr>\n",
       "    <tr>\n",
       "      <th>681</th>\n",
       "      <td>pack\\Anuario-de-Estudios-Americanos\\2014-Los-arbitristas-y-la-América-portuguesa-15901640.pdf</td>\n",
       "      <td>introducción a finales de diciembre de 1640, los consejeros de estado de felipe iv se reunieron ...</td>\n",
       "    </tr>\n",
       "    <tr>\n",
       "      <th>1104</th>\n",
       "      <td>pack\\Revista-de-Indias\\2008-Construyendo-identidades-desde-la-excepcionalidad-mujer-divorciada-y...</td>\n",
       "      <td>latinoamérica. pero en esta ocasión el nombre es el de maría baldomera fuentes segura, la protag...</td>\n",
       "    </tr>\n",
       "    <tr>\n",
       "      <th>1811</th>\n",
       "      <td>pack\\Revista-Española-de-Antropología-Americana\\2019-Explorando-las-órbitas-tecnológicas-de-dos-...</td>\n",
       "      <td>1. introducción treinta y cinco años después del inicio del proyecto nacional tikal, el cual des...</td>\n",
       "    </tr>\n",
       "  </tbody>\n",
       "</table>\n",
       "</div>"
      ],
      "text/plain": [
       "                                                                                                     Path  \\\n",
       "675   pack\\Anuario-de-Estudios-Americanos\\2014-La-elaboración-de-la-Ordenanza-de-Montes-de-Marina-de-3...   \n",
       "1736  pack\\Revista-Española-de-Antropología-Americana\\2015-Interacciones-entre-las-sociedades-y-las-pl...   \n",
       "1307  pack\\Revista-de-Indias\\2017-Gamonales-y-alcaldes-poder-institucional-y-parainstitucional-en-la-P...   \n",
       "956   pack\\Revista-de-Indias\\2002-En-búsqueda-de-un-punto-fijo-para-la-República-El-cesarismo-liberal-...   \n",
       "1116  pack\\Revista-de-Indias\\2008-Políticas-y-prácticas-migratorias-los-flujos-de-gallegos-y-asturiano...   \n",
       "435   pack\\Anuario-de-Estudios-Americanos\\2001-El-oro-de-América-La-contribución-de-los-emigrantes-del...   \n",
       "1256  pack\\Revista-de-Indias\\2014-México-y-las-instituciones-republicanas-en-el-exilio-del-apoyo-del-C...   \n",
       "681         pack\\Anuario-de-Estudios-Americanos\\2014-Los-arbitristas-y-la-América-portuguesa-15901640.pdf   \n",
       "1104  pack\\Revista-de-Indias\\2008-Construyendo-identidades-desde-la-excepcionalidad-mujer-divorciada-y...   \n",
       "1811  pack\\Revista-Española-de-Antropología-Americana\\2019-Explorando-las-órbitas-tecnológicas-de-dos-...   \n",
       "\n",
       "                                                                                                     Text  \n",
       "675   introducción el mayor punto del comercio de españa depende de arreglar lo casi perdido con sus i...  \n",
       "1736  figura 1: ubicación del área septentrional del río de la plata en el contexto regional. en detal...  \n",
       "1307  introducción la presente investigación tiene como principal objetivo recalcar el importante pape...  \n",
       "956   and covenants, without the sword, are but words2 tres de las cuatro revoluciones de principios d...  \n",
       "1116  ricano de las corrientes del noroeste hispánico, luego del cubano, que mantuvo una notoria y ant...  \n",
       "435   ca, y en particular el lerrouxismo. la república del emigrante describe en detalle la cultura po...  \n",
       "1256  normalizaron, el inicio de la guerra civil puso de manifiesto el apoyo inequívoco del gobierno m...  \n",
       "681   introducción a finales de diciembre de 1640, los consejeros de estado de felipe iv se reunieron ...  \n",
       "1104  latinoamérica. pero en esta ocasión el nombre es el de maría baldomera fuentes segura, la protag...  \n",
       "1811  1. introducción treinta y cinco años después del inicio del proyecto nacional tikal, el cual des...  "
      ]
     },
     "execution_count": 84,
     "metadata": {},
     "output_type": "execute_result"
    }
   ],
   "source": [
    "search(new_query, top_k=10)"
   ]
  },
  {
   "cell_type": "code",
   "execution_count": 85,
   "metadata": {},
   "outputs": [
    {
     "data": {
      "text/html": [
       "<div>\n",
       "<style scoped>\n",
       "    .dataframe tbody tr th:only-of-type {\n",
       "        vertical-align: middle;\n",
       "    }\n",
       "\n",
       "    .dataframe tbody tr th {\n",
       "        vertical-align: top;\n",
       "    }\n",
       "\n",
       "    .dataframe thead th {\n",
       "        text-align: right;\n",
       "    }\n",
       "</style>\n",
       "<table border=\"1\" class=\"dataframe\">\n",
       "  <thead>\n",
       "    <tr style=\"text-align: right;\">\n",
       "      <th></th>\n",
       "      <th>Path</th>\n",
       "      <th>Text</th>\n",
       "    </tr>\n",
       "  </thead>\n",
       "  <tbody>\n",
       "    <tr>\n",
       "      <th>609</th>\n",
       "      <td>pack\\Anuario-de-Estudios-Americanos\\2010-Valoración-partición-y-distribución-de-la-tierra-de-los...</td>\n",
       "      <td>introducción en la nueva granada, a cuya jurisdicción estuvo adscrita mérida hasta 1777, se deno...</td>\n",
       "    </tr>\n",
       "    <tr>\n",
       "      <th>607</th>\n",
       "      <td>pack\\Anuario-de-Estudios-Americanos\\2010-Sólo-una-virreina-consorte-de-la-Nueva-España-16601664-...</td>\n",
       "      <td>en la historia colonial del nuevo mundo, el más alto poder residía en los virreyes y las activid...</td>\n",
       "    </tr>\n",
       "    <tr>\n",
       "      <th>862</th>\n",
       "      <td>pack\\Anuario-de-Estudios-Americanos\\2022-Una-mirada-familiar-a-fray-Juan-de-Zumárraga-ocho-docum...</td>\n",
       "      <td>en el curso de mis investigaciones en los protocolos de sevilla me he encontrado, no sin cierta ...</td>\n",
       "    </tr>\n",
       "    <tr>\n",
       "      <th>1055</th>\n",
       "      <td>pack\\Revista-de-Indias\\2006-Empresas-instituciones-y-red-social-la-Compañía-Hispanoamericana-de-...</td>\n",
       "      <td>nos envían a sus familias y comunidades de origen y que son denominados remesas. los retornos de...</td>\n",
       "    </tr>\n",
       "    <tr>\n",
       "      <th>1485</th>\n",
       "      <td>pack\\Revista-Española-de-Antropología-Americana\\2003-Diseño-arquitectónico-patrones-de-ocupación...</td>\n",
       "      <td>1. el sitio de pachacamac pachacamac se encuentra sobre la margen derecha del río lurín y cerca ...</td>\n",
       "    </tr>\n",
       "    <tr>\n",
       "      <th>900</th>\n",
       "      <td>pack\\Revista-de-Indias\\2000-El-crecimiento-económico-de-Cuba-republicana-19021959-Una-revisión-y...</td>\n",
       "      <td>medida perfecta y tampoco la única posible. sin embargo, su cálculo y el de los demás grandes ag...</td>\n",
       "    </tr>\n",
       "    <tr>\n",
       "      <th>543</th>\n",
       "      <td>pack\\Anuario-de-Estudios-Americanos\\2007-Militarización-e-identidades-políticas-en-la-revolución...</td>\n",
       "      <td>ñoles americanos a partir de 1808, este trabajo propone explorar estos procesos de construcción ...</td>\n",
       "    </tr>\n",
       "    <tr>\n",
       "      <th>1314</th>\n",
       "      <td>pack\\Revista-de-Indias\\2017-La-política-desde-el-campo-iniciativas-locales-y-gobierno-rural-en-t...</td>\n",
       "      <td>planteo introductorio uno de los grandes atractivos de la historia política colonial del siglo x...</td>\n",
       "    </tr>\n",
       "    <tr>\n",
       "      <th>478</th>\n",
       "      <td>pack\\Anuario-de-Estudios-Americanos\\2003-Una-antinomia-protorrenacentista-secreto-de-estado-y-di...</td>\n",
       "      <td>difícil coexistencia de ambos parámetros, el mayor énfasis de uno u otro —según los intereses es...</td>\n",
       "    </tr>\n",
       "    <tr>\n",
       "      <th>541</th>\n",
       "      <td>pack\\Anuario-de-Estudios-Americanos\\2007-Las-rutas-del-libro-atlántico-libros-enviados-en-el-nav...</td>\n",
       "      <td>to impreso fue un producto cultural con rasgos novedosos que pronto encontraría su lugar en el m...</td>\n",
       "    </tr>\n",
       "  </tbody>\n",
       "</table>\n",
       "</div>"
      ],
      "text/plain": [
       "                                                                                                     Path  \\\n",
       "609   pack\\Anuario-de-Estudios-Americanos\\2010-Valoración-partición-y-distribución-de-la-tierra-de-los...   \n",
       "607   pack\\Anuario-de-Estudios-Americanos\\2010-Sólo-una-virreina-consorte-de-la-Nueva-España-16601664-...   \n",
       "862   pack\\Anuario-de-Estudios-Americanos\\2022-Una-mirada-familiar-a-fray-Juan-de-Zumárraga-ocho-docum...   \n",
       "1055  pack\\Revista-de-Indias\\2006-Empresas-instituciones-y-red-social-la-Compañía-Hispanoamericana-de-...   \n",
       "1485  pack\\Revista-Española-de-Antropología-Americana\\2003-Diseño-arquitectónico-patrones-de-ocupación...   \n",
       "900   pack\\Revista-de-Indias\\2000-El-crecimiento-económico-de-Cuba-republicana-19021959-Una-revisión-y...   \n",
       "543   pack\\Anuario-de-Estudios-Americanos\\2007-Militarización-e-identidades-políticas-en-la-revolución...   \n",
       "1314  pack\\Revista-de-Indias\\2017-La-política-desde-el-campo-iniciativas-locales-y-gobierno-rural-en-t...   \n",
       "478   pack\\Anuario-de-Estudios-Americanos\\2003-Una-antinomia-protorrenacentista-secreto-de-estado-y-di...   \n",
       "541   pack\\Anuario-de-Estudios-Americanos\\2007-Las-rutas-del-libro-atlántico-libros-enviados-en-el-nav...   \n",
       "\n",
       "                                                                                                     Text  \n",
       "609   introducción en la nueva granada, a cuya jurisdicción estuvo adscrita mérida hasta 1777, se deno...  \n",
       "607   en la historia colonial del nuevo mundo, el más alto poder residía en los virreyes y las activid...  \n",
       "862   en el curso de mis investigaciones en los protocolos de sevilla me he encontrado, no sin cierta ...  \n",
       "1055  nos envían a sus familias y comunidades de origen y que son denominados remesas. los retornos de...  \n",
       "1485  1. el sitio de pachacamac pachacamac se encuentra sobre la margen derecha del río lurín y cerca ...  \n",
       "900   medida perfecta y tampoco la única posible. sin embargo, su cálculo y el de los demás grandes ag...  \n",
       "543   ñoles americanos a partir de 1808, este trabajo propone explorar estos procesos de construcción ...  \n",
       "1314  planteo introductorio uno de los grandes atractivos de la historia política colonial del siglo x...  \n",
       "478   difícil coexistencia de ambos parámetros, el mayor énfasis de uno u otro —según los intereses es...  \n",
       "541   to impreso fue un producto cultural con rasgos novedosos que pronto encontraría su lugar en el m...  "
      ]
     },
     "execution_count": 85,
     "metadata": {},
     "output_type": "execute_result"
    }
   ],
   "source": [
    "search(q, top_k=10)"
   ]
  },
  {
   "cell_type": "code",
   "execution_count": 27,
   "metadata": {},
   "outputs": [
    {
     "name": "stdout",
     "output_type": "stream",
     "text": [
      "11.059961 14.668214\n"
     ]
    },
    {
     "data": {
      "text/plain": [
       "3.362548656394798"
      ]
     },
     "execution_count": 27,
     "metadata": {},
     "output_type": "execute_result"
    }
   ],
   "source": [
    "skewness(q, top_k=20)"
   ]
  },
  {
   "cell_type": "markdown",
   "metadata": {},
   "source": [
    "# LANGCHAIN"
   ]
  },
  {
   "cell_type": "code",
   "execution_count": 55,
   "metadata": {},
   "outputs": [
    {
     "name": "stdout",
     "output_type": "stream",
     "text": [
      "NVIDIA GeForce RTX 2070 SUPER\n"
     ]
    }
   ],
   "source": [
    "from sentence_transformers import SentenceTransformer\n",
    "from langchain.vectorstores import FAISS\n",
    "import faiss\n",
    "import torch\n",
    "from langchain.text_splitter import CharacterTextSplitter\n",
    "import spacy\n",
    "import pandas as pd\n",
    "import numpy as np\n",
    "import concurrent.futures\n",
    "import pickle\n",
    "from transformers import pipeline\n",
    "from scipy.stats import skew\n",
    "from langchain_text_splitters import TokenTextSplitter\n",
    "\n",
    "\n",
    "pd.set_option('display.max_colwidth', 100)\n",
    "nlp = spacy.load(\"es_core_news_sm\")\n",
    "if torch.cuda.is_available():\n",
    "    print(torch.cuda.get_device_name(torch.cuda.current_device()))"
   ]
  },
  {
   "cell_type": "code",
   "execution_count": 62,
   "metadata": {},
   "outputs": [
    {
     "data": {
      "text/html": [
       "<div>\n",
       "<style scoped>\n",
       "    .dataframe tbody tr th:only-of-type {\n",
       "        vertical-align: middle;\n",
       "    }\n",
       "\n",
       "    .dataframe tbody tr th {\n",
       "        vertical-align: top;\n",
       "    }\n",
       "\n",
       "    .dataframe thead th {\n",
       "        text-align: right;\n",
       "    }\n",
       "</style>\n",
       "<table border=\"1\" class=\"dataframe\">\n",
       "  <thead>\n",
       "    <tr style=\"text-align: right;\">\n",
       "      <th></th>\n",
       "      <th>Path</th>\n",
       "      <th>Text</th>\n",
       "    </tr>\n",
       "  </thead>\n",
       "  <tbody>\n",
       "    <tr>\n",
       "      <th>0</th>\n",
       "      <td>pack\\AIBR\\2006-Aymaras-peruanos-y-chilenos-en-los-Andes-ariqueños-Resistencia-y-conflicto-frente...</td>\n",
       "      <td>catalogada y caricaturizada bajo el rótulo de indómito pueblo araucano. esta imagen, construida ...</td>\n",
       "    </tr>\n",
       "    <tr>\n",
       "      <th>1</th>\n",
       "      <td>pack\\AIBR\\2006-Cambios-de-género-y-discriminación-laboral-en-el-sector-financiero-colombiano-El-...</td>\n",
       "      <td>agradecimientos la autora desea agradecer a la profesora luz gabriela arango la lectura del pres...</td>\n",
       "    </tr>\n",
       "    <tr>\n",
       "      <th>2</th>\n",
       "      <td>pack\\AIBR\\2006-Consecuencias-personales-en-la-ruptura-de-la-vida-laboral-El-caso-de-Telefónica.pdf</td>\n",
       "      <td>has carried out the biggest employment adjustment in our country, that will finished in 2007, af...</td>\n",
       "    </tr>\n",
       "    <tr>\n",
       "      <th>3</th>\n",
       "      <td>pack\\AIBR\\2006-Construcción-de-modelos-de-género-a-partir-de-textos-de-la-tradición-oral-en-Extr...</td>\n",
       "      <td>tampoco queremos que se entienda identidad de género, como identidad del nosotras o identidad de...</td>\n",
       "    </tr>\n",
       "    <tr>\n",
       "      <th>4</th>\n",
       "      <td>pack\\AIBR\\2006-Contribuciones-feministas-a-problemas-epistemológicos-de-la-disciplina-antropológ...</td>\n",
       "      <td>is irrelevant for others con el que teresa del valle enuncia uno de los apartados de su introduc...</td>\n",
       "    </tr>\n",
       "    <tr>\n",
       "      <th>...</th>\n",
       "      <td>...</td>\n",
       "      <td>...</td>\n",
       "    </tr>\n",
       "    <tr>\n",
       "      <th>1920</th>\n",
       "      <td>pack\\Revista-Española-de-Antropología-Americana\\2024-Paridad-y-violencia-política-contra-las-muj...</td>\n",
       "      <td>cómo citar: burguete cal y mayor, araceli. 2024. paridad y violencia política contra las mujeres...</td>\n",
       "    </tr>\n",
       "    <tr>\n",
       "      <th>1921</th>\n",
       "      <td>pack\\Revista-Española-de-Antropología-Americana\\2024-Reorientación-de-la-educación-superior-inte...</td>\n",
       "      <td>project exposed some critical questionings. in this paper i expose five of these critical questi...</td>\n",
       "    </tr>\n",
       "    <tr>\n",
       "      <th>1922</th>\n",
       "      <td>pack\\Revista-Española-de-Antropología-Americana\\2024-Una-aproximación-metodológica-a-la-lectura-...</td>\n",
       "      <td>1. introducción el interés por los quipus, que ha crecido en los últimos años, ha sido acompañad...</td>\n",
       "    </tr>\n",
       "    <tr>\n",
       "      <th>1923</th>\n",
       "      <td>pack\\Revista-Española-de-Antropología-Americana\\2024-Valdivia-fase-3-transformación-de-las-figur...</td>\n",
       "      <td>1. introducción ¿cómo se produce la diferenciación entre los géneros? ¿cómo surge el conflicto d...</td>\n",
       "    </tr>\n",
       "    <tr>\n",
       "      <th>1924</th>\n",
       "      <td>pack\\Revista-Española-de-Antropología-Americana\\2024-Yvyrupa-la-Tierra-memoria-viva-y-movimiento...</td>\n",
       "      <td>cómo citar: ramo affonso, ana maría. 2024. yvyrupa, la tierra: memoria viva y movimientos guaran...</td>\n",
       "    </tr>\n",
       "  </tbody>\n",
       "</table>\n",
       "<p>1925 rows × 2 columns</p>\n",
       "</div>"
      ],
      "text/plain": [
       "                                                                                                     Path  \\\n",
       "0     pack\\AIBR\\2006-Aymaras-peruanos-y-chilenos-en-los-Andes-ariqueños-Resistencia-y-conflicto-frente...   \n",
       "1     pack\\AIBR\\2006-Cambios-de-género-y-discriminación-laboral-en-el-sector-financiero-colombiano-El-...   \n",
       "2      pack\\AIBR\\2006-Consecuencias-personales-en-la-ruptura-de-la-vida-laboral-El-caso-de-Telefónica.pdf   \n",
       "3     pack\\AIBR\\2006-Construcción-de-modelos-de-género-a-partir-de-textos-de-la-tradición-oral-en-Extr...   \n",
       "4     pack\\AIBR\\2006-Contribuciones-feministas-a-problemas-epistemológicos-de-la-disciplina-antropológ...   \n",
       "...                                                                                                   ...   \n",
       "1920  pack\\Revista-Española-de-Antropología-Americana\\2024-Paridad-y-violencia-política-contra-las-muj...   \n",
       "1921  pack\\Revista-Española-de-Antropología-Americana\\2024-Reorientación-de-la-educación-superior-inte...   \n",
       "1922  pack\\Revista-Española-de-Antropología-Americana\\2024-Una-aproximación-metodológica-a-la-lectura-...   \n",
       "1923  pack\\Revista-Española-de-Antropología-Americana\\2024-Valdivia-fase-3-transformación-de-las-figur...   \n",
       "1924  pack\\Revista-Española-de-Antropología-Americana\\2024-Yvyrupa-la-Tierra-memoria-viva-y-movimiento...   \n",
       "\n",
       "                                                                                                     Text  \n",
       "0     catalogada y caricaturizada bajo el rótulo de indómito pueblo araucano. esta imagen, construida ...  \n",
       "1     agradecimientos la autora desea agradecer a la profesora luz gabriela arango la lectura del pres...  \n",
       "2     has carried out the biggest employment adjustment in our country, that will finished in 2007, af...  \n",
       "3     tampoco queremos que se entienda identidad de género, como identidad del nosotras o identidad de...  \n",
       "4     is irrelevant for others con el que teresa del valle enuncia uno de los apartados de su introduc...  \n",
       "...                                                                                                   ...  \n",
       "1920  cómo citar: burguete cal y mayor, araceli. 2024. paridad y violencia política contra las mujeres...  \n",
       "1921  project exposed some critical questionings. in this paper i expose five of these critical questi...  \n",
       "1922  1. introducción el interés por los quipus, que ha crecido en los últimos años, ha sido acompañad...  \n",
       "1923  1. introducción ¿cómo se produce la diferenciación entre los géneros? ¿cómo surge el conflicto d...  \n",
       "1924  cómo citar: ramo affonso, ana maría. 2024. yvyrupa, la tierra: memoria viva y movimientos guaran...  \n",
       "\n",
       "[1925 rows x 2 columns]"
      ]
     },
     "execution_count": 62,
     "metadata": {},
     "output_type": "execute_result"
    }
   ],
   "source": [
    "df = pd.read_csv(\"preprocessed.csv\")\n",
    "df"
   ]
  },
  {
   "cell_type": "code",
   "execution_count": 86,
   "metadata": {},
   "outputs": [],
   "source": [
    "# model = SentenceTransformer(\"sentence-transformers/static-similarity-mrl-multilingual-v1\", trust_remote_code=True)\n",
    "model = SentenceTransformer(\"sentence-transformers/paraphrase-multilingual-MiniLM-L12-v2\", trust_remote_code=True)"
   ]
  },
  {
   "cell_type": "code",
   "execution_count": 90,
   "metadata": {},
   "outputs": [],
   "source": [
    "text_splitter = TokenTextSplitter(chunk_size=300, chunk_overlap=50)"
   ]
  },
  {
   "cell_type": "code",
   "execution_count": 91,
   "metadata": {},
   "outputs": [
    {
     "data": {
      "text/plain": [
       "134295"
      ]
     },
     "execution_count": 91,
     "metadata": {},
     "output_type": "execute_result"
    }
   ],
   "source": [
    "chunks, chunks_ids = [], []\n",
    "for i, r in df.iterrows():\n",
    "    if type(r[\"Text\"]) != str:\n",
    "        continue\n",
    "\n",
    "    new_chunks = text_splitter.split_text(r[\"Text\"])\n",
    "    chunks.extend(new_chunks)\n",
    "    chunks_ids.extend([i] * len(new_chunks))\n",
    "\n",
    "len(chunks)"
   ]
  },
  {
   "cell_type": "code",
   "execution_count": 94,
   "metadata": {},
   "outputs": [
    {
     "ename": "KeyboardInterrupt",
     "evalue": "",
     "output_type": "error",
     "traceback": [
      "\u001b[1;31m---------------------------------------------------------------------------\u001b[0m",
      "\u001b[1;31mKeyboardInterrupt\u001b[0m                         Traceback (most recent call last)",
      "Cell \u001b[1;32mIn[94], line 2\u001b[0m\n\u001b[0;32m      1\u001b[0m \u001b[38;5;66;03m# embeddings = model.encode(chunks, convert_to_tensor=True, device=device, prompt_name=\"passage\")\u001b[39;00m\n\u001b[1;32m----> 2\u001b[0m embeddings \u001b[38;5;241m=\u001b[39m \u001b[43mmodel\u001b[49m\u001b[38;5;241;43m.\u001b[39;49m\u001b[43mencode\u001b[49m\u001b[43m(\u001b[49m\u001b[43mchunks\u001b[49m\u001b[43m,\u001b[49m\u001b[43m \u001b[49m\u001b[43mconvert_to_tensor\u001b[49m\u001b[38;5;241;43m=\u001b[39;49m\u001b[38;5;28;43;01mTrue\u001b[39;49;00m\u001b[43m,\u001b[49m\u001b[43m \u001b[49m\u001b[43mdevice\u001b[49m\u001b[38;5;241;43m=\u001b[39;49m\u001b[43mdevice\u001b[49m\u001b[43m)\u001b[49m\n\u001b[0;32m      3\u001b[0m embeddings\u001b[38;5;241m.\u001b[39mshape\n",
      "File \u001b[1;32mc:\\Users\\leand\\Documents\\tesis\\notebooks\\preprocesado\\.venv\\Lib\\site-packages\\sentence_transformers\\SentenceTransformer.py:623\u001b[0m, in \u001b[0;36mSentenceTransformer.encode\u001b[1;34m(self, sentences, prompt_name, prompt, batch_size, show_progress_bar, output_value, precision, convert_to_numpy, convert_to_tensor, device, normalize_embeddings, **kwargs)\u001b[0m\n\u001b[0;32m    620\u001b[0m features\u001b[38;5;241m.\u001b[39mupdate(extra_features)\n\u001b[0;32m    622\u001b[0m \u001b[38;5;28;01mwith\u001b[39;00m torch\u001b[38;5;241m.\u001b[39mno_grad():\n\u001b[1;32m--> 623\u001b[0m     out_features \u001b[38;5;241m=\u001b[39m \u001b[38;5;28;43mself\u001b[39;49m\u001b[38;5;241;43m.\u001b[39;49m\u001b[43mforward\u001b[49m\u001b[43m(\u001b[49m\u001b[43mfeatures\u001b[49m\u001b[43m,\u001b[49m\u001b[43m \u001b[49m\u001b[38;5;241;43m*\u001b[39;49m\u001b[38;5;241;43m*\u001b[39;49m\u001b[43mkwargs\u001b[49m\u001b[43m)\u001b[49m\n\u001b[0;32m    624\u001b[0m     \u001b[38;5;28;01mif\u001b[39;00m \u001b[38;5;28mself\u001b[39m\u001b[38;5;241m.\u001b[39mdevice\u001b[38;5;241m.\u001b[39mtype \u001b[38;5;241m==\u001b[39m \u001b[38;5;124m\"\u001b[39m\u001b[38;5;124mhpu\u001b[39m\u001b[38;5;124m\"\u001b[39m:\n\u001b[0;32m    625\u001b[0m         out_features \u001b[38;5;241m=\u001b[39m copy\u001b[38;5;241m.\u001b[39mdeepcopy(out_features)\n",
      "File \u001b[1;32mc:\\Users\\leand\\Documents\\tesis\\notebooks\\preprocesado\\.venv\\Lib\\site-packages\\sentence_transformers\\SentenceTransformer.py:690\u001b[0m, in \u001b[0;36mSentenceTransformer.forward\u001b[1;34m(self, input, **kwargs)\u001b[0m\n\u001b[0;32m    688\u001b[0m     module_kwarg_keys \u001b[38;5;241m=\u001b[39m \u001b[38;5;28mself\u001b[39m\u001b[38;5;241m.\u001b[39mmodule_kwargs\u001b[38;5;241m.\u001b[39mget(module_name, [])\n\u001b[0;32m    689\u001b[0m     module_kwargs \u001b[38;5;241m=\u001b[39m {key: value \u001b[38;5;28;01mfor\u001b[39;00m key, value \u001b[38;5;129;01min\u001b[39;00m kwargs\u001b[38;5;241m.\u001b[39mitems() \u001b[38;5;28;01mif\u001b[39;00m key \u001b[38;5;129;01min\u001b[39;00m module_kwarg_keys}\n\u001b[1;32m--> 690\u001b[0m     \u001b[38;5;28minput\u001b[39m \u001b[38;5;241m=\u001b[39m \u001b[43mmodule\u001b[49m\u001b[43m(\u001b[49m\u001b[38;5;28;43minput\u001b[39;49m\u001b[43m,\u001b[49m\u001b[43m \u001b[49m\u001b[38;5;241;43m*\u001b[39;49m\u001b[38;5;241;43m*\u001b[39;49m\u001b[43mmodule_kwargs\u001b[49m\u001b[43m)\u001b[49m\n\u001b[0;32m    691\u001b[0m \u001b[38;5;28;01mreturn\u001b[39;00m \u001b[38;5;28minput\u001b[39m\n",
      "File \u001b[1;32mc:\\Users\\leand\\Documents\\tesis\\notebooks\\preprocesado\\.venv\\Lib\\site-packages\\torch\\nn\\modules\\module.py:1739\u001b[0m, in \u001b[0;36mModule._wrapped_call_impl\u001b[1;34m(self, *args, **kwargs)\u001b[0m\n\u001b[0;32m   1737\u001b[0m     \u001b[38;5;28;01mreturn\u001b[39;00m \u001b[38;5;28mself\u001b[39m\u001b[38;5;241m.\u001b[39m_compiled_call_impl(\u001b[38;5;241m*\u001b[39margs, \u001b[38;5;241m*\u001b[39m\u001b[38;5;241m*\u001b[39mkwargs)  \u001b[38;5;66;03m# type: ignore[misc]\u001b[39;00m\n\u001b[0;32m   1738\u001b[0m \u001b[38;5;28;01melse\u001b[39;00m:\n\u001b[1;32m-> 1739\u001b[0m     \u001b[38;5;28;01mreturn\u001b[39;00m \u001b[38;5;28;43mself\u001b[39;49m\u001b[38;5;241;43m.\u001b[39;49m\u001b[43m_call_impl\u001b[49m\u001b[43m(\u001b[49m\u001b[38;5;241;43m*\u001b[39;49m\u001b[43margs\u001b[49m\u001b[43m,\u001b[49m\u001b[43m \u001b[49m\u001b[38;5;241;43m*\u001b[39;49m\u001b[38;5;241;43m*\u001b[39;49m\u001b[43mkwargs\u001b[49m\u001b[43m)\u001b[49m\n",
      "File \u001b[1;32mc:\\Users\\leand\\Documents\\tesis\\notebooks\\preprocesado\\.venv\\Lib\\site-packages\\torch\\nn\\modules\\module.py:1750\u001b[0m, in \u001b[0;36mModule._call_impl\u001b[1;34m(self, *args, **kwargs)\u001b[0m\n\u001b[0;32m   1745\u001b[0m \u001b[38;5;66;03m# If we don't have any hooks, we want to skip the rest of the logic in\u001b[39;00m\n\u001b[0;32m   1746\u001b[0m \u001b[38;5;66;03m# this function, and just call forward.\u001b[39;00m\n\u001b[0;32m   1747\u001b[0m \u001b[38;5;28;01mif\u001b[39;00m \u001b[38;5;129;01mnot\u001b[39;00m (\u001b[38;5;28mself\u001b[39m\u001b[38;5;241m.\u001b[39m_backward_hooks \u001b[38;5;129;01mor\u001b[39;00m \u001b[38;5;28mself\u001b[39m\u001b[38;5;241m.\u001b[39m_backward_pre_hooks \u001b[38;5;129;01mor\u001b[39;00m \u001b[38;5;28mself\u001b[39m\u001b[38;5;241m.\u001b[39m_forward_hooks \u001b[38;5;129;01mor\u001b[39;00m \u001b[38;5;28mself\u001b[39m\u001b[38;5;241m.\u001b[39m_forward_pre_hooks\n\u001b[0;32m   1748\u001b[0m         \u001b[38;5;129;01mor\u001b[39;00m _global_backward_pre_hooks \u001b[38;5;129;01mor\u001b[39;00m _global_backward_hooks\n\u001b[0;32m   1749\u001b[0m         \u001b[38;5;129;01mor\u001b[39;00m _global_forward_hooks \u001b[38;5;129;01mor\u001b[39;00m _global_forward_pre_hooks):\n\u001b[1;32m-> 1750\u001b[0m     \u001b[38;5;28;01mreturn\u001b[39;00m \u001b[43mforward_call\u001b[49m\u001b[43m(\u001b[49m\u001b[38;5;241;43m*\u001b[39;49m\u001b[43margs\u001b[49m\u001b[43m,\u001b[49m\u001b[43m \u001b[49m\u001b[38;5;241;43m*\u001b[39;49m\u001b[38;5;241;43m*\u001b[39;49m\u001b[43mkwargs\u001b[49m\u001b[43m)\u001b[49m\n\u001b[0;32m   1752\u001b[0m result \u001b[38;5;241m=\u001b[39m \u001b[38;5;28;01mNone\u001b[39;00m\n\u001b[0;32m   1753\u001b[0m called_always_called_hooks \u001b[38;5;241m=\u001b[39m \u001b[38;5;28mset\u001b[39m()\n",
      "File \u001b[1;32mc:\\Users\\leand\\Documents\\tesis\\notebooks\\preprocesado\\.venv\\Lib\\site-packages\\sentence_transformers\\models\\Transformer.py:442\u001b[0m, in \u001b[0;36mTransformer.forward\u001b[1;34m(self, features, **kwargs)\u001b[0m\n\u001b[0;32m    435\u001b[0m \u001b[38;5;250m\u001b[39m\u001b[38;5;124;03m\"\"\"Returns token_embeddings, cls_token\"\"\"\u001b[39;00m\n\u001b[0;32m    436\u001b[0m trans_features \u001b[38;5;241m=\u001b[39m {\n\u001b[0;32m    437\u001b[0m     key: value\n\u001b[0;32m    438\u001b[0m     \u001b[38;5;28;01mfor\u001b[39;00m key, value \u001b[38;5;129;01min\u001b[39;00m features\u001b[38;5;241m.\u001b[39mitems()\n\u001b[0;32m    439\u001b[0m     \u001b[38;5;28;01mif\u001b[39;00m key \u001b[38;5;129;01min\u001b[39;00m [\u001b[38;5;124m\"\u001b[39m\u001b[38;5;124minput_ids\u001b[39m\u001b[38;5;124m\"\u001b[39m, \u001b[38;5;124m\"\u001b[39m\u001b[38;5;124mattention_mask\u001b[39m\u001b[38;5;124m\"\u001b[39m, \u001b[38;5;124m\"\u001b[39m\u001b[38;5;124mtoken_type_ids\u001b[39m\u001b[38;5;124m\"\u001b[39m, \u001b[38;5;124m\"\u001b[39m\u001b[38;5;124minputs_embeds\u001b[39m\u001b[38;5;124m\"\u001b[39m]\n\u001b[0;32m    440\u001b[0m }\n\u001b[1;32m--> 442\u001b[0m output_states \u001b[38;5;241m=\u001b[39m \u001b[38;5;28;43mself\u001b[39;49m\u001b[38;5;241;43m.\u001b[39;49m\u001b[43mauto_model\u001b[49m\u001b[43m(\u001b[49m\u001b[38;5;241;43m*\u001b[39;49m\u001b[38;5;241;43m*\u001b[39;49m\u001b[43mtrans_features\u001b[49m\u001b[43m,\u001b[49m\u001b[43m \u001b[49m\u001b[38;5;241;43m*\u001b[39;49m\u001b[38;5;241;43m*\u001b[39;49m\u001b[43mkwargs\u001b[49m\u001b[43m,\u001b[49m\u001b[43m \u001b[49m\u001b[43mreturn_dict\u001b[49m\u001b[38;5;241;43m=\u001b[39;49m\u001b[38;5;28;43;01mFalse\u001b[39;49;00m\u001b[43m)\u001b[49m\n\u001b[0;32m    443\u001b[0m output_tokens \u001b[38;5;241m=\u001b[39m output_states[\u001b[38;5;241m0\u001b[39m]\n\u001b[0;32m    445\u001b[0m \u001b[38;5;66;03m# If the AutoModel is wrapped with a PeftModelForFeatureExtraction, then it may have added virtual tokens\u001b[39;00m\n\u001b[0;32m    446\u001b[0m \u001b[38;5;66;03m# We need to extend the attention mask to include these virtual tokens, or the pooling will fail\u001b[39;00m\n",
      "File \u001b[1;32mc:\\Users\\leand\\Documents\\tesis\\notebooks\\preprocesado\\.venv\\Lib\\site-packages\\torch\\nn\\modules\\module.py:1739\u001b[0m, in \u001b[0;36mModule._wrapped_call_impl\u001b[1;34m(self, *args, **kwargs)\u001b[0m\n\u001b[0;32m   1737\u001b[0m     \u001b[38;5;28;01mreturn\u001b[39;00m \u001b[38;5;28mself\u001b[39m\u001b[38;5;241m.\u001b[39m_compiled_call_impl(\u001b[38;5;241m*\u001b[39margs, \u001b[38;5;241m*\u001b[39m\u001b[38;5;241m*\u001b[39mkwargs)  \u001b[38;5;66;03m# type: ignore[misc]\u001b[39;00m\n\u001b[0;32m   1738\u001b[0m \u001b[38;5;28;01melse\u001b[39;00m:\n\u001b[1;32m-> 1739\u001b[0m     \u001b[38;5;28;01mreturn\u001b[39;00m \u001b[38;5;28;43mself\u001b[39;49m\u001b[38;5;241;43m.\u001b[39;49m\u001b[43m_call_impl\u001b[49m\u001b[43m(\u001b[49m\u001b[38;5;241;43m*\u001b[39;49m\u001b[43margs\u001b[49m\u001b[43m,\u001b[49m\u001b[43m \u001b[49m\u001b[38;5;241;43m*\u001b[39;49m\u001b[38;5;241;43m*\u001b[39;49m\u001b[43mkwargs\u001b[49m\u001b[43m)\u001b[49m\n",
      "File \u001b[1;32mc:\\Users\\leand\\Documents\\tesis\\notebooks\\preprocesado\\.venv\\Lib\\site-packages\\torch\\nn\\modules\\module.py:1750\u001b[0m, in \u001b[0;36mModule._call_impl\u001b[1;34m(self, *args, **kwargs)\u001b[0m\n\u001b[0;32m   1745\u001b[0m \u001b[38;5;66;03m# If we don't have any hooks, we want to skip the rest of the logic in\u001b[39;00m\n\u001b[0;32m   1746\u001b[0m \u001b[38;5;66;03m# this function, and just call forward.\u001b[39;00m\n\u001b[0;32m   1747\u001b[0m \u001b[38;5;28;01mif\u001b[39;00m \u001b[38;5;129;01mnot\u001b[39;00m (\u001b[38;5;28mself\u001b[39m\u001b[38;5;241m.\u001b[39m_backward_hooks \u001b[38;5;129;01mor\u001b[39;00m \u001b[38;5;28mself\u001b[39m\u001b[38;5;241m.\u001b[39m_backward_pre_hooks \u001b[38;5;129;01mor\u001b[39;00m \u001b[38;5;28mself\u001b[39m\u001b[38;5;241m.\u001b[39m_forward_hooks \u001b[38;5;129;01mor\u001b[39;00m \u001b[38;5;28mself\u001b[39m\u001b[38;5;241m.\u001b[39m_forward_pre_hooks\n\u001b[0;32m   1748\u001b[0m         \u001b[38;5;129;01mor\u001b[39;00m _global_backward_pre_hooks \u001b[38;5;129;01mor\u001b[39;00m _global_backward_hooks\n\u001b[0;32m   1749\u001b[0m         \u001b[38;5;129;01mor\u001b[39;00m _global_forward_hooks \u001b[38;5;129;01mor\u001b[39;00m _global_forward_pre_hooks):\n\u001b[1;32m-> 1750\u001b[0m     \u001b[38;5;28;01mreturn\u001b[39;00m \u001b[43mforward_call\u001b[49m\u001b[43m(\u001b[49m\u001b[38;5;241;43m*\u001b[39;49m\u001b[43margs\u001b[49m\u001b[43m,\u001b[49m\u001b[43m \u001b[49m\u001b[38;5;241;43m*\u001b[39;49m\u001b[38;5;241;43m*\u001b[39;49m\u001b[43mkwargs\u001b[49m\u001b[43m)\u001b[49m\n\u001b[0;32m   1752\u001b[0m result \u001b[38;5;241m=\u001b[39m \u001b[38;5;28;01mNone\u001b[39;00m\n\u001b[0;32m   1753\u001b[0m called_always_called_hooks \u001b[38;5;241m=\u001b[39m \u001b[38;5;28mset\u001b[39m()\n",
      "File \u001b[1;32mc:\\Users\\leand\\Documents\\tesis\\notebooks\\preprocesado\\.venv\\Lib\\site-packages\\transformers\\models\\bert\\modeling_bert.py:1142\u001b[0m, in \u001b[0;36mBertModel.forward\u001b[1;34m(self, input_ids, attention_mask, token_type_ids, position_ids, head_mask, inputs_embeds, encoder_hidden_states, encoder_attention_mask, past_key_values, use_cache, output_attentions, output_hidden_states, return_dict)\u001b[0m\n\u001b[0;32m   1135\u001b[0m \u001b[38;5;66;03m# Prepare head mask if needed\u001b[39;00m\n\u001b[0;32m   1136\u001b[0m \u001b[38;5;66;03m# 1.0 in head_mask indicate we keep the head\u001b[39;00m\n\u001b[0;32m   1137\u001b[0m \u001b[38;5;66;03m# attention_probs has shape bsz x n_heads x N x N\u001b[39;00m\n\u001b[0;32m   1138\u001b[0m \u001b[38;5;66;03m# input head_mask has shape [num_heads] or [num_hidden_layers x num_heads]\u001b[39;00m\n\u001b[0;32m   1139\u001b[0m \u001b[38;5;66;03m# and head_mask is converted to shape [num_hidden_layers x batch x num_heads x seq_length x seq_length]\u001b[39;00m\n\u001b[0;32m   1140\u001b[0m head_mask \u001b[38;5;241m=\u001b[39m \u001b[38;5;28mself\u001b[39m\u001b[38;5;241m.\u001b[39mget_head_mask(head_mask, \u001b[38;5;28mself\u001b[39m\u001b[38;5;241m.\u001b[39mconfig\u001b[38;5;241m.\u001b[39mnum_hidden_layers)\n\u001b[1;32m-> 1142\u001b[0m encoder_outputs \u001b[38;5;241m=\u001b[39m \u001b[38;5;28;43mself\u001b[39;49m\u001b[38;5;241;43m.\u001b[39;49m\u001b[43mencoder\u001b[49m\u001b[43m(\u001b[49m\n\u001b[0;32m   1143\u001b[0m \u001b[43m    \u001b[49m\u001b[43membedding_output\u001b[49m\u001b[43m,\u001b[49m\n\u001b[0;32m   1144\u001b[0m \u001b[43m    \u001b[49m\u001b[43mattention_mask\u001b[49m\u001b[38;5;241;43m=\u001b[39;49m\u001b[43mextended_attention_mask\u001b[49m\u001b[43m,\u001b[49m\n\u001b[0;32m   1145\u001b[0m \u001b[43m    \u001b[49m\u001b[43mhead_mask\u001b[49m\u001b[38;5;241;43m=\u001b[39;49m\u001b[43mhead_mask\u001b[49m\u001b[43m,\u001b[49m\n\u001b[0;32m   1146\u001b[0m \u001b[43m    \u001b[49m\u001b[43mencoder_hidden_states\u001b[49m\u001b[38;5;241;43m=\u001b[39;49m\u001b[43mencoder_hidden_states\u001b[49m\u001b[43m,\u001b[49m\n\u001b[0;32m   1147\u001b[0m \u001b[43m    \u001b[49m\u001b[43mencoder_attention_mask\u001b[49m\u001b[38;5;241;43m=\u001b[39;49m\u001b[43mencoder_extended_attention_mask\u001b[49m\u001b[43m,\u001b[49m\n\u001b[0;32m   1148\u001b[0m \u001b[43m    \u001b[49m\u001b[43mpast_key_values\u001b[49m\u001b[38;5;241;43m=\u001b[39;49m\u001b[43mpast_key_values\u001b[49m\u001b[43m,\u001b[49m\n\u001b[0;32m   1149\u001b[0m \u001b[43m    \u001b[49m\u001b[43muse_cache\u001b[49m\u001b[38;5;241;43m=\u001b[39;49m\u001b[43muse_cache\u001b[49m\u001b[43m,\u001b[49m\n\u001b[0;32m   1150\u001b[0m \u001b[43m    \u001b[49m\u001b[43moutput_attentions\u001b[49m\u001b[38;5;241;43m=\u001b[39;49m\u001b[43moutput_attentions\u001b[49m\u001b[43m,\u001b[49m\n\u001b[0;32m   1151\u001b[0m \u001b[43m    \u001b[49m\u001b[43moutput_hidden_states\u001b[49m\u001b[38;5;241;43m=\u001b[39;49m\u001b[43moutput_hidden_states\u001b[49m\u001b[43m,\u001b[49m\n\u001b[0;32m   1152\u001b[0m \u001b[43m    \u001b[49m\u001b[43mreturn_dict\u001b[49m\u001b[38;5;241;43m=\u001b[39;49m\u001b[43mreturn_dict\u001b[49m\u001b[43m,\u001b[49m\n\u001b[0;32m   1153\u001b[0m \u001b[43m\u001b[49m\u001b[43m)\u001b[49m\n\u001b[0;32m   1154\u001b[0m sequence_output \u001b[38;5;241m=\u001b[39m encoder_outputs[\u001b[38;5;241m0\u001b[39m]\n\u001b[0;32m   1155\u001b[0m pooled_output \u001b[38;5;241m=\u001b[39m \u001b[38;5;28mself\u001b[39m\u001b[38;5;241m.\u001b[39mpooler(sequence_output) \u001b[38;5;28;01mif\u001b[39;00m \u001b[38;5;28mself\u001b[39m\u001b[38;5;241m.\u001b[39mpooler \u001b[38;5;129;01mis\u001b[39;00m \u001b[38;5;129;01mnot\u001b[39;00m \u001b[38;5;28;01mNone\u001b[39;00m \u001b[38;5;28;01melse\u001b[39;00m \u001b[38;5;28;01mNone\u001b[39;00m\n",
      "File \u001b[1;32mc:\\Users\\leand\\Documents\\tesis\\notebooks\\preprocesado\\.venv\\Lib\\site-packages\\torch\\nn\\modules\\module.py:1739\u001b[0m, in \u001b[0;36mModule._wrapped_call_impl\u001b[1;34m(self, *args, **kwargs)\u001b[0m\n\u001b[0;32m   1737\u001b[0m     \u001b[38;5;28;01mreturn\u001b[39;00m \u001b[38;5;28mself\u001b[39m\u001b[38;5;241m.\u001b[39m_compiled_call_impl(\u001b[38;5;241m*\u001b[39margs, \u001b[38;5;241m*\u001b[39m\u001b[38;5;241m*\u001b[39mkwargs)  \u001b[38;5;66;03m# type: ignore[misc]\u001b[39;00m\n\u001b[0;32m   1738\u001b[0m \u001b[38;5;28;01melse\u001b[39;00m:\n\u001b[1;32m-> 1739\u001b[0m     \u001b[38;5;28;01mreturn\u001b[39;00m \u001b[38;5;28;43mself\u001b[39;49m\u001b[38;5;241;43m.\u001b[39;49m\u001b[43m_call_impl\u001b[49m\u001b[43m(\u001b[49m\u001b[38;5;241;43m*\u001b[39;49m\u001b[43margs\u001b[49m\u001b[43m,\u001b[49m\u001b[43m \u001b[49m\u001b[38;5;241;43m*\u001b[39;49m\u001b[38;5;241;43m*\u001b[39;49m\u001b[43mkwargs\u001b[49m\u001b[43m)\u001b[49m\n",
      "File \u001b[1;32mc:\\Users\\leand\\Documents\\tesis\\notebooks\\preprocesado\\.venv\\Lib\\site-packages\\torch\\nn\\modules\\module.py:1750\u001b[0m, in \u001b[0;36mModule._call_impl\u001b[1;34m(self, *args, **kwargs)\u001b[0m\n\u001b[0;32m   1745\u001b[0m \u001b[38;5;66;03m# If we don't have any hooks, we want to skip the rest of the logic in\u001b[39;00m\n\u001b[0;32m   1746\u001b[0m \u001b[38;5;66;03m# this function, and just call forward.\u001b[39;00m\n\u001b[0;32m   1747\u001b[0m \u001b[38;5;28;01mif\u001b[39;00m \u001b[38;5;129;01mnot\u001b[39;00m (\u001b[38;5;28mself\u001b[39m\u001b[38;5;241m.\u001b[39m_backward_hooks \u001b[38;5;129;01mor\u001b[39;00m \u001b[38;5;28mself\u001b[39m\u001b[38;5;241m.\u001b[39m_backward_pre_hooks \u001b[38;5;129;01mor\u001b[39;00m \u001b[38;5;28mself\u001b[39m\u001b[38;5;241m.\u001b[39m_forward_hooks \u001b[38;5;129;01mor\u001b[39;00m \u001b[38;5;28mself\u001b[39m\u001b[38;5;241m.\u001b[39m_forward_pre_hooks\n\u001b[0;32m   1748\u001b[0m         \u001b[38;5;129;01mor\u001b[39;00m _global_backward_pre_hooks \u001b[38;5;129;01mor\u001b[39;00m _global_backward_hooks\n\u001b[0;32m   1749\u001b[0m         \u001b[38;5;129;01mor\u001b[39;00m _global_forward_hooks \u001b[38;5;129;01mor\u001b[39;00m _global_forward_pre_hooks):\n\u001b[1;32m-> 1750\u001b[0m     \u001b[38;5;28;01mreturn\u001b[39;00m \u001b[43mforward_call\u001b[49m\u001b[43m(\u001b[49m\u001b[38;5;241;43m*\u001b[39;49m\u001b[43margs\u001b[49m\u001b[43m,\u001b[49m\u001b[43m \u001b[49m\u001b[38;5;241;43m*\u001b[39;49m\u001b[38;5;241;43m*\u001b[39;49m\u001b[43mkwargs\u001b[49m\u001b[43m)\u001b[49m\n\u001b[0;32m   1752\u001b[0m result \u001b[38;5;241m=\u001b[39m \u001b[38;5;28;01mNone\u001b[39;00m\n\u001b[0;32m   1753\u001b[0m called_always_called_hooks \u001b[38;5;241m=\u001b[39m \u001b[38;5;28mset\u001b[39m()\n",
      "File \u001b[1;32mc:\\Users\\leand\\Documents\\tesis\\notebooks\\preprocesado\\.venv\\Lib\\site-packages\\transformers\\models\\bert\\modeling_bert.py:695\u001b[0m, in \u001b[0;36mBertEncoder.forward\u001b[1;34m(self, hidden_states, attention_mask, head_mask, encoder_hidden_states, encoder_attention_mask, past_key_values, use_cache, output_attentions, output_hidden_states, return_dict)\u001b[0m\n\u001b[0;32m    684\u001b[0m     layer_outputs \u001b[38;5;241m=\u001b[39m \u001b[38;5;28mself\u001b[39m\u001b[38;5;241m.\u001b[39m_gradient_checkpointing_func(\n\u001b[0;32m    685\u001b[0m         layer_module\u001b[38;5;241m.\u001b[39m\u001b[38;5;21m__call__\u001b[39m,\n\u001b[0;32m    686\u001b[0m         hidden_states,\n\u001b[1;32m   (...)\u001b[0m\n\u001b[0;32m    692\u001b[0m         output_attentions,\n\u001b[0;32m    693\u001b[0m     )\n\u001b[0;32m    694\u001b[0m \u001b[38;5;28;01melse\u001b[39;00m:\n\u001b[1;32m--> 695\u001b[0m     layer_outputs \u001b[38;5;241m=\u001b[39m \u001b[43mlayer_module\u001b[49m\u001b[43m(\u001b[49m\n\u001b[0;32m    696\u001b[0m \u001b[43m        \u001b[49m\u001b[43mhidden_states\u001b[49m\u001b[43m,\u001b[49m\n\u001b[0;32m    697\u001b[0m \u001b[43m        \u001b[49m\u001b[43mattention_mask\u001b[49m\u001b[43m,\u001b[49m\n\u001b[0;32m    698\u001b[0m \u001b[43m        \u001b[49m\u001b[43mlayer_head_mask\u001b[49m\u001b[43m,\u001b[49m\n\u001b[0;32m    699\u001b[0m \u001b[43m        \u001b[49m\u001b[43mencoder_hidden_states\u001b[49m\u001b[43m,\u001b[49m\n\u001b[0;32m    700\u001b[0m \u001b[43m        \u001b[49m\u001b[43mencoder_attention_mask\u001b[49m\u001b[43m,\u001b[49m\n\u001b[0;32m    701\u001b[0m \u001b[43m        \u001b[49m\u001b[43mpast_key_value\u001b[49m\u001b[43m,\u001b[49m\n\u001b[0;32m    702\u001b[0m \u001b[43m        \u001b[49m\u001b[43moutput_attentions\u001b[49m\u001b[43m,\u001b[49m\n\u001b[0;32m    703\u001b[0m \u001b[43m    \u001b[49m\u001b[43m)\u001b[49m\n\u001b[0;32m    705\u001b[0m hidden_states \u001b[38;5;241m=\u001b[39m layer_outputs[\u001b[38;5;241m0\u001b[39m]\n\u001b[0;32m    706\u001b[0m \u001b[38;5;28;01mif\u001b[39;00m use_cache:\n",
      "File \u001b[1;32mc:\\Users\\leand\\Documents\\tesis\\notebooks\\preprocesado\\.venv\\Lib\\site-packages\\torch\\nn\\modules\\module.py:1739\u001b[0m, in \u001b[0;36mModule._wrapped_call_impl\u001b[1;34m(self, *args, **kwargs)\u001b[0m\n\u001b[0;32m   1737\u001b[0m     \u001b[38;5;28;01mreturn\u001b[39;00m \u001b[38;5;28mself\u001b[39m\u001b[38;5;241m.\u001b[39m_compiled_call_impl(\u001b[38;5;241m*\u001b[39margs, \u001b[38;5;241m*\u001b[39m\u001b[38;5;241m*\u001b[39mkwargs)  \u001b[38;5;66;03m# type: ignore[misc]\u001b[39;00m\n\u001b[0;32m   1738\u001b[0m \u001b[38;5;28;01melse\u001b[39;00m:\n\u001b[1;32m-> 1739\u001b[0m     \u001b[38;5;28;01mreturn\u001b[39;00m \u001b[38;5;28;43mself\u001b[39;49m\u001b[38;5;241;43m.\u001b[39;49m\u001b[43m_call_impl\u001b[49m\u001b[43m(\u001b[49m\u001b[38;5;241;43m*\u001b[39;49m\u001b[43margs\u001b[49m\u001b[43m,\u001b[49m\u001b[43m \u001b[49m\u001b[38;5;241;43m*\u001b[39;49m\u001b[38;5;241;43m*\u001b[39;49m\u001b[43mkwargs\u001b[49m\u001b[43m)\u001b[49m\n",
      "File \u001b[1;32mc:\\Users\\leand\\Documents\\tesis\\notebooks\\preprocesado\\.venv\\Lib\\site-packages\\torch\\nn\\modules\\module.py:1750\u001b[0m, in \u001b[0;36mModule._call_impl\u001b[1;34m(self, *args, **kwargs)\u001b[0m\n\u001b[0;32m   1745\u001b[0m \u001b[38;5;66;03m# If we don't have any hooks, we want to skip the rest of the logic in\u001b[39;00m\n\u001b[0;32m   1746\u001b[0m \u001b[38;5;66;03m# this function, and just call forward.\u001b[39;00m\n\u001b[0;32m   1747\u001b[0m \u001b[38;5;28;01mif\u001b[39;00m \u001b[38;5;129;01mnot\u001b[39;00m (\u001b[38;5;28mself\u001b[39m\u001b[38;5;241m.\u001b[39m_backward_hooks \u001b[38;5;129;01mor\u001b[39;00m \u001b[38;5;28mself\u001b[39m\u001b[38;5;241m.\u001b[39m_backward_pre_hooks \u001b[38;5;129;01mor\u001b[39;00m \u001b[38;5;28mself\u001b[39m\u001b[38;5;241m.\u001b[39m_forward_hooks \u001b[38;5;129;01mor\u001b[39;00m \u001b[38;5;28mself\u001b[39m\u001b[38;5;241m.\u001b[39m_forward_pre_hooks\n\u001b[0;32m   1748\u001b[0m         \u001b[38;5;129;01mor\u001b[39;00m _global_backward_pre_hooks \u001b[38;5;129;01mor\u001b[39;00m _global_backward_hooks\n\u001b[0;32m   1749\u001b[0m         \u001b[38;5;129;01mor\u001b[39;00m _global_forward_hooks \u001b[38;5;129;01mor\u001b[39;00m _global_forward_pre_hooks):\n\u001b[1;32m-> 1750\u001b[0m     \u001b[38;5;28;01mreturn\u001b[39;00m \u001b[43mforward_call\u001b[49m\u001b[43m(\u001b[49m\u001b[38;5;241;43m*\u001b[39;49m\u001b[43margs\u001b[49m\u001b[43m,\u001b[49m\u001b[43m \u001b[49m\u001b[38;5;241;43m*\u001b[39;49m\u001b[38;5;241;43m*\u001b[39;49m\u001b[43mkwargs\u001b[49m\u001b[43m)\u001b[49m\n\u001b[0;32m   1752\u001b[0m result \u001b[38;5;241m=\u001b[39m \u001b[38;5;28;01mNone\u001b[39;00m\n\u001b[0;32m   1753\u001b[0m called_always_called_hooks \u001b[38;5;241m=\u001b[39m \u001b[38;5;28mset\u001b[39m()\n",
      "File \u001b[1;32mc:\\Users\\leand\\Documents\\tesis\\notebooks\\preprocesado\\.venv\\Lib\\site-packages\\transformers\\models\\bert\\modeling_bert.py:627\u001b[0m, in \u001b[0;36mBertLayer.forward\u001b[1;34m(self, hidden_states, attention_mask, head_mask, encoder_hidden_states, encoder_attention_mask, past_key_value, output_attentions)\u001b[0m\n\u001b[0;32m    624\u001b[0m     cross_attn_present_key_value \u001b[38;5;241m=\u001b[39m cross_attention_outputs[\u001b[38;5;241m-\u001b[39m\u001b[38;5;241m1\u001b[39m]\n\u001b[0;32m    625\u001b[0m     present_key_value \u001b[38;5;241m=\u001b[39m present_key_value \u001b[38;5;241m+\u001b[39m cross_attn_present_key_value\n\u001b[1;32m--> 627\u001b[0m layer_output \u001b[38;5;241m=\u001b[39m \u001b[43mapply_chunking_to_forward\u001b[49m\u001b[43m(\u001b[49m\n\u001b[0;32m    628\u001b[0m \u001b[43m    \u001b[49m\u001b[38;5;28;43mself\u001b[39;49m\u001b[38;5;241;43m.\u001b[39;49m\u001b[43mfeed_forward_chunk\u001b[49m\u001b[43m,\u001b[49m\u001b[43m \u001b[49m\u001b[38;5;28;43mself\u001b[39;49m\u001b[38;5;241;43m.\u001b[39;49m\u001b[43mchunk_size_feed_forward\u001b[49m\u001b[43m,\u001b[49m\u001b[43m \u001b[49m\u001b[38;5;28;43mself\u001b[39;49m\u001b[38;5;241;43m.\u001b[39;49m\u001b[43mseq_len_dim\u001b[49m\u001b[43m,\u001b[49m\u001b[43m \u001b[49m\u001b[43mattention_output\u001b[49m\n\u001b[0;32m    629\u001b[0m \u001b[43m\u001b[49m\u001b[43m)\u001b[49m\n\u001b[0;32m    630\u001b[0m outputs \u001b[38;5;241m=\u001b[39m (layer_output,) \u001b[38;5;241m+\u001b[39m outputs\n\u001b[0;32m    632\u001b[0m \u001b[38;5;66;03m# if decoder, return the attn key/values as the last output\u001b[39;00m\n",
      "File \u001b[1;32mc:\\Users\\leand\\Documents\\tesis\\notebooks\\preprocesado\\.venv\\Lib\\site-packages\\transformers\\pytorch_utils.py:261\u001b[0m, in \u001b[0;36mapply_chunking_to_forward\u001b[1;34m(forward_fn, chunk_size, chunk_dim, *input_tensors)\u001b[0m\n\u001b[0;32m    258\u001b[0m     \u001b[38;5;66;03m# concatenate output at same dimension\u001b[39;00m\n\u001b[0;32m    259\u001b[0m     \u001b[38;5;28;01mreturn\u001b[39;00m torch\u001b[38;5;241m.\u001b[39mcat(output_chunks, dim\u001b[38;5;241m=\u001b[39mchunk_dim)\n\u001b[1;32m--> 261\u001b[0m \u001b[38;5;28;01mreturn\u001b[39;00m \u001b[43mforward_fn\u001b[49m\u001b[43m(\u001b[49m\u001b[38;5;241;43m*\u001b[39;49m\u001b[43minput_tensors\u001b[49m\u001b[43m)\u001b[49m\n",
      "File \u001b[1;32mc:\\Users\\leand\\Documents\\tesis\\notebooks\\preprocesado\\.venv\\Lib\\site-packages\\transformers\\models\\bert\\modeling_bert.py:640\u001b[0m, in \u001b[0;36mBertLayer.feed_forward_chunk\u001b[1;34m(self, attention_output)\u001b[0m\n\u001b[0;32m    638\u001b[0m \u001b[38;5;28;01mdef\u001b[39;00m\u001b[38;5;250m \u001b[39m\u001b[38;5;21mfeed_forward_chunk\u001b[39m(\u001b[38;5;28mself\u001b[39m, attention_output):\n\u001b[0;32m    639\u001b[0m     intermediate_output \u001b[38;5;241m=\u001b[39m \u001b[38;5;28mself\u001b[39m\u001b[38;5;241m.\u001b[39mintermediate(attention_output)\n\u001b[1;32m--> 640\u001b[0m     layer_output \u001b[38;5;241m=\u001b[39m \u001b[38;5;28;43mself\u001b[39;49m\u001b[38;5;241;43m.\u001b[39;49m\u001b[43moutput\u001b[49m\u001b[43m(\u001b[49m\u001b[43mintermediate_output\u001b[49m\u001b[43m,\u001b[49m\u001b[43m \u001b[49m\u001b[43mattention_output\u001b[49m\u001b[43m)\u001b[49m\n\u001b[0;32m    641\u001b[0m     \u001b[38;5;28;01mreturn\u001b[39;00m layer_output\n",
      "File \u001b[1;32mc:\\Users\\leand\\Documents\\tesis\\notebooks\\preprocesado\\.venv\\Lib\\site-packages\\torch\\nn\\modules\\module.py:1739\u001b[0m, in \u001b[0;36mModule._wrapped_call_impl\u001b[1;34m(self, *args, **kwargs)\u001b[0m\n\u001b[0;32m   1737\u001b[0m     \u001b[38;5;28;01mreturn\u001b[39;00m \u001b[38;5;28mself\u001b[39m\u001b[38;5;241m.\u001b[39m_compiled_call_impl(\u001b[38;5;241m*\u001b[39margs, \u001b[38;5;241m*\u001b[39m\u001b[38;5;241m*\u001b[39mkwargs)  \u001b[38;5;66;03m# type: ignore[misc]\u001b[39;00m\n\u001b[0;32m   1738\u001b[0m \u001b[38;5;28;01melse\u001b[39;00m:\n\u001b[1;32m-> 1739\u001b[0m     \u001b[38;5;28;01mreturn\u001b[39;00m \u001b[38;5;28;43mself\u001b[39;49m\u001b[38;5;241;43m.\u001b[39;49m\u001b[43m_call_impl\u001b[49m\u001b[43m(\u001b[49m\u001b[38;5;241;43m*\u001b[39;49m\u001b[43margs\u001b[49m\u001b[43m,\u001b[49m\u001b[43m \u001b[49m\u001b[38;5;241;43m*\u001b[39;49m\u001b[38;5;241;43m*\u001b[39;49m\u001b[43mkwargs\u001b[49m\u001b[43m)\u001b[49m\n",
      "File \u001b[1;32mc:\\Users\\leand\\Documents\\tesis\\notebooks\\preprocesado\\.venv\\Lib\\site-packages\\torch\\nn\\modules\\module.py:1750\u001b[0m, in \u001b[0;36mModule._call_impl\u001b[1;34m(self, *args, **kwargs)\u001b[0m\n\u001b[0;32m   1745\u001b[0m \u001b[38;5;66;03m# If we don't have any hooks, we want to skip the rest of the logic in\u001b[39;00m\n\u001b[0;32m   1746\u001b[0m \u001b[38;5;66;03m# this function, and just call forward.\u001b[39;00m\n\u001b[0;32m   1747\u001b[0m \u001b[38;5;28;01mif\u001b[39;00m \u001b[38;5;129;01mnot\u001b[39;00m (\u001b[38;5;28mself\u001b[39m\u001b[38;5;241m.\u001b[39m_backward_hooks \u001b[38;5;129;01mor\u001b[39;00m \u001b[38;5;28mself\u001b[39m\u001b[38;5;241m.\u001b[39m_backward_pre_hooks \u001b[38;5;129;01mor\u001b[39;00m \u001b[38;5;28mself\u001b[39m\u001b[38;5;241m.\u001b[39m_forward_hooks \u001b[38;5;129;01mor\u001b[39;00m \u001b[38;5;28mself\u001b[39m\u001b[38;5;241m.\u001b[39m_forward_pre_hooks\n\u001b[0;32m   1748\u001b[0m         \u001b[38;5;129;01mor\u001b[39;00m _global_backward_pre_hooks \u001b[38;5;129;01mor\u001b[39;00m _global_backward_hooks\n\u001b[0;32m   1749\u001b[0m         \u001b[38;5;129;01mor\u001b[39;00m _global_forward_hooks \u001b[38;5;129;01mor\u001b[39;00m _global_forward_pre_hooks):\n\u001b[1;32m-> 1750\u001b[0m     \u001b[38;5;28;01mreturn\u001b[39;00m \u001b[43mforward_call\u001b[49m\u001b[43m(\u001b[49m\u001b[38;5;241;43m*\u001b[39;49m\u001b[43margs\u001b[49m\u001b[43m,\u001b[49m\u001b[43m \u001b[49m\u001b[38;5;241;43m*\u001b[39;49m\u001b[38;5;241;43m*\u001b[39;49m\u001b[43mkwargs\u001b[49m\u001b[43m)\u001b[49m\n\u001b[0;32m   1752\u001b[0m result \u001b[38;5;241m=\u001b[39m \u001b[38;5;28;01mNone\u001b[39;00m\n\u001b[0;32m   1753\u001b[0m called_always_called_hooks \u001b[38;5;241m=\u001b[39m \u001b[38;5;28mset\u001b[39m()\n",
      "File \u001b[1;32mc:\\Users\\leand\\Documents\\tesis\\notebooks\\preprocesado\\.venv\\Lib\\site-packages\\transformers\\models\\bert\\modeling_bert.py:554\u001b[0m, in \u001b[0;36mBertOutput.forward\u001b[1;34m(self, hidden_states, input_tensor)\u001b[0m\n\u001b[0;32m    552\u001b[0m hidden_states \u001b[38;5;241m=\u001b[39m \u001b[38;5;28mself\u001b[39m\u001b[38;5;241m.\u001b[39mdense(hidden_states)\n\u001b[0;32m    553\u001b[0m hidden_states \u001b[38;5;241m=\u001b[39m \u001b[38;5;28mself\u001b[39m\u001b[38;5;241m.\u001b[39mdropout(hidden_states)\n\u001b[1;32m--> 554\u001b[0m hidden_states \u001b[38;5;241m=\u001b[39m \u001b[38;5;28;43mself\u001b[39;49m\u001b[38;5;241;43m.\u001b[39;49m\u001b[43mLayerNorm\u001b[49m\u001b[43m(\u001b[49m\u001b[43mhidden_states\u001b[49m\u001b[43m \u001b[49m\u001b[38;5;241;43m+\u001b[39;49m\u001b[43m \u001b[49m\u001b[43minput_tensor\u001b[49m\u001b[43m)\u001b[49m\n\u001b[0;32m    555\u001b[0m \u001b[38;5;28;01mreturn\u001b[39;00m hidden_states\n",
      "File \u001b[1;32mc:\\Users\\leand\\Documents\\tesis\\notebooks\\preprocesado\\.venv\\Lib\\site-packages\\torch\\nn\\modules\\module.py:1739\u001b[0m, in \u001b[0;36mModule._wrapped_call_impl\u001b[1;34m(self, *args, **kwargs)\u001b[0m\n\u001b[0;32m   1737\u001b[0m     \u001b[38;5;28;01mreturn\u001b[39;00m \u001b[38;5;28mself\u001b[39m\u001b[38;5;241m.\u001b[39m_compiled_call_impl(\u001b[38;5;241m*\u001b[39margs, \u001b[38;5;241m*\u001b[39m\u001b[38;5;241m*\u001b[39mkwargs)  \u001b[38;5;66;03m# type: ignore[misc]\u001b[39;00m\n\u001b[0;32m   1738\u001b[0m \u001b[38;5;28;01melse\u001b[39;00m:\n\u001b[1;32m-> 1739\u001b[0m     \u001b[38;5;28;01mreturn\u001b[39;00m \u001b[38;5;28;43mself\u001b[39;49m\u001b[38;5;241;43m.\u001b[39;49m\u001b[43m_call_impl\u001b[49m\u001b[43m(\u001b[49m\u001b[38;5;241;43m*\u001b[39;49m\u001b[43margs\u001b[49m\u001b[43m,\u001b[49m\u001b[43m \u001b[49m\u001b[38;5;241;43m*\u001b[39;49m\u001b[38;5;241;43m*\u001b[39;49m\u001b[43mkwargs\u001b[49m\u001b[43m)\u001b[49m\n",
      "File \u001b[1;32mc:\\Users\\leand\\Documents\\tesis\\notebooks\\preprocesado\\.venv\\Lib\\site-packages\\torch\\nn\\modules\\module.py:1750\u001b[0m, in \u001b[0;36mModule._call_impl\u001b[1;34m(self, *args, **kwargs)\u001b[0m\n\u001b[0;32m   1745\u001b[0m \u001b[38;5;66;03m# If we don't have any hooks, we want to skip the rest of the logic in\u001b[39;00m\n\u001b[0;32m   1746\u001b[0m \u001b[38;5;66;03m# this function, and just call forward.\u001b[39;00m\n\u001b[0;32m   1747\u001b[0m \u001b[38;5;28;01mif\u001b[39;00m \u001b[38;5;129;01mnot\u001b[39;00m (\u001b[38;5;28mself\u001b[39m\u001b[38;5;241m.\u001b[39m_backward_hooks \u001b[38;5;129;01mor\u001b[39;00m \u001b[38;5;28mself\u001b[39m\u001b[38;5;241m.\u001b[39m_backward_pre_hooks \u001b[38;5;129;01mor\u001b[39;00m \u001b[38;5;28mself\u001b[39m\u001b[38;5;241m.\u001b[39m_forward_hooks \u001b[38;5;129;01mor\u001b[39;00m \u001b[38;5;28mself\u001b[39m\u001b[38;5;241m.\u001b[39m_forward_pre_hooks\n\u001b[0;32m   1748\u001b[0m         \u001b[38;5;129;01mor\u001b[39;00m _global_backward_pre_hooks \u001b[38;5;129;01mor\u001b[39;00m _global_backward_hooks\n\u001b[0;32m   1749\u001b[0m         \u001b[38;5;129;01mor\u001b[39;00m _global_forward_hooks \u001b[38;5;129;01mor\u001b[39;00m _global_forward_pre_hooks):\n\u001b[1;32m-> 1750\u001b[0m     \u001b[38;5;28;01mreturn\u001b[39;00m \u001b[43mforward_call\u001b[49m\u001b[43m(\u001b[49m\u001b[38;5;241;43m*\u001b[39;49m\u001b[43margs\u001b[49m\u001b[43m,\u001b[49m\u001b[43m \u001b[49m\u001b[38;5;241;43m*\u001b[39;49m\u001b[38;5;241;43m*\u001b[39;49m\u001b[43mkwargs\u001b[49m\u001b[43m)\u001b[49m\n\u001b[0;32m   1752\u001b[0m result \u001b[38;5;241m=\u001b[39m \u001b[38;5;28;01mNone\u001b[39;00m\n\u001b[0;32m   1753\u001b[0m called_always_called_hooks \u001b[38;5;241m=\u001b[39m \u001b[38;5;28mset\u001b[39m()\n",
      "File \u001b[1;32mc:\\Users\\leand\\Documents\\tesis\\notebooks\\preprocesado\\.venv\\Lib\\site-packages\\torch\\nn\\modules\\normalization.py:217\u001b[0m, in \u001b[0;36mLayerNorm.forward\u001b[1;34m(self, input)\u001b[0m\n\u001b[0;32m    216\u001b[0m \u001b[38;5;28;01mdef\u001b[39;00m\u001b[38;5;250m \u001b[39m\u001b[38;5;21mforward\u001b[39m(\u001b[38;5;28mself\u001b[39m, \u001b[38;5;28minput\u001b[39m: Tensor) \u001b[38;5;241m-\u001b[39m\u001b[38;5;241m>\u001b[39m Tensor:\n\u001b[1;32m--> 217\u001b[0m     \u001b[38;5;28;01mreturn\u001b[39;00m \u001b[43mF\u001b[49m\u001b[38;5;241;43m.\u001b[39;49m\u001b[43mlayer_norm\u001b[49m\u001b[43m(\u001b[49m\n\u001b[0;32m    218\u001b[0m \u001b[43m        \u001b[49m\u001b[38;5;28;43minput\u001b[39;49m\u001b[43m,\u001b[49m\u001b[43m \u001b[49m\u001b[38;5;28;43mself\u001b[39;49m\u001b[38;5;241;43m.\u001b[39;49m\u001b[43mnormalized_shape\u001b[49m\u001b[43m,\u001b[49m\u001b[43m \u001b[49m\u001b[38;5;28;43mself\u001b[39;49m\u001b[38;5;241;43m.\u001b[39;49m\u001b[43mweight\u001b[49m\u001b[43m,\u001b[49m\u001b[43m \u001b[49m\u001b[38;5;28;43mself\u001b[39;49m\u001b[38;5;241;43m.\u001b[39;49m\u001b[43mbias\u001b[49m\u001b[43m,\u001b[49m\u001b[43m \u001b[49m\u001b[38;5;28;43mself\u001b[39;49m\u001b[38;5;241;43m.\u001b[39;49m\u001b[43meps\u001b[49m\n\u001b[0;32m    219\u001b[0m \u001b[43m    \u001b[49m\u001b[43m)\u001b[49m\n",
      "File \u001b[1;32mc:\\Users\\leand\\Documents\\tesis\\notebooks\\preprocesado\\.venv\\Lib\\site-packages\\torch\\nn\\functional.py:2910\u001b[0m, in \u001b[0;36mlayer_norm\u001b[1;34m(input, normalized_shape, weight, bias, eps)\u001b[0m\n\u001b[0;32m   2900\u001b[0m \u001b[38;5;28;01mif\u001b[39;00m has_torch_function_variadic(\u001b[38;5;28minput\u001b[39m, weight, bias):\n\u001b[0;32m   2901\u001b[0m     \u001b[38;5;28;01mreturn\u001b[39;00m handle_torch_function(\n\u001b[0;32m   2902\u001b[0m         layer_norm,\n\u001b[0;32m   2903\u001b[0m         (\u001b[38;5;28minput\u001b[39m, weight, bias),\n\u001b[1;32m   (...)\u001b[0m\n\u001b[0;32m   2908\u001b[0m         eps\u001b[38;5;241m=\u001b[39meps,\n\u001b[0;32m   2909\u001b[0m     )\n\u001b[1;32m-> 2910\u001b[0m \u001b[38;5;28;01mreturn\u001b[39;00m \u001b[43mtorch\u001b[49m\u001b[38;5;241;43m.\u001b[39;49m\u001b[43mlayer_norm\u001b[49m\u001b[43m(\u001b[49m\n\u001b[0;32m   2911\u001b[0m \u001b[43m    \u001b[49m\u001b[38;5;28;43minput\u001b[39;49m\u001b[43m,\u001b[49m\u001b[43m \u001b[49m\u001b[43mnormalized_shape\u001b[49m\u001b[43m,\u001b[49m\u001b[43m \u001b[49m\u001b[43mweight\u001b[49m\u001b[43m,\u001b[49m\u001b[43m \u001b[49m\u001b[43mbias\u001b[49m\u001b[43m,\u001b[49m\u001b[43m \u001b[49m\u001b[43meps\u001b[49m\u001b[43m,\u001b[49m\u001b[43m \u001b[49m\u001b[43mtorch\u001b[49m\u001b[38;5;241;43m.\u001b[39;49m\u001b[43mbackends\u001b[49m\u001b[38;5;241;43m.\u001b[39;49m\u001b[43mcudnn\u001b[49m\u001b[38;5;241;43m.\u001b[39;49m\u001b[43menabled\u001b[49m\n\u001b[0;32m   2912\u001b[0m \u001b[43m\u001b[49m\u001b[43m)\u001b[49m\n",
      "\u001b[1;31mKeyboardInterrupt\u001b[0m: "
     ]
    }
   ],
   "source": [
    "# embeddings = model.encode(chunks, convert_to_tensor=True, device=device, prompt_name=\"passage\")\n",
    "embeddings = model.encode(chunks, convert_to_tensor=True, device=device)\n",
    "embeddings.shape"
   ]
  },
  {
   "cell_type": "code",
   "execution_count": 95,
   "metadata": {},
   "outputs": [
    {
     "data": {
      "text/plain": [
       "(100, 384)"
      ]
     },
     "execution_count": 95,
     "metadata": {},
     "output_type": "execute_result"
    }
   ],
   "source": [
    "embeddings_np = embeddings.cpu().numpy()\n",
    "embeddings_np.shape"
   ]
  },
  {
   "cell_type": "code",
   "execution_count": null,
   "metadata": {},
   "outputs": [],
   "source": [
    "index = faiss.IndexFlatL2(embeddings_np.shape[1])\n",
    "index.add(embeddings_np)\n",
    "\n",
    "faiss.write_index(index, \"index-nomic-ai.faiss\")\n",
    "\n",
    "faiss_store = FAISS(index)"
   ]
  },
  {
   "cell_type": "markdown",
   "metadata": {},
   "source": [
    "# Cargar embeddings y LLaMa"
   ]
  },
  {
   "cell_type": "code",
   "execution_count": 81,
   "metadata": {},
   "outputs": [
    {
     "name": "stdout",
     "output_type": "stream",
     "text": [
      "NVIDIA GeForce RTX 2070 SUPER\n"
     ]
    }
   ],
   "source": [
    "from sentence_transformers import SentenceTransformer\n",
    "from langchain.vectorstores import FAISS\n",
    "import faiss\n",
    "import torch\n",
    "from langchain.text_splitter import CharacterTextSplitter\n",
    "import spacy\n",
    "import pandas as pd\n",
    "import numpy as np\n",
    "import concurrent.futures\n",
    "import pickle\n",
    "from transformers import pipeline\n",
    "from scipy.stats import skew\n",
    "from langchain_text_splitters import TokenTextSplitter\n",
    "from huggingface_hub import InferenceClient\n",
    "import os\n",
    "from dotenv import load_dotenv\n",
    "\n",
    "load_dotenv()\n",
    "\n",
    "pd.set_option('display.max_colwidth', 100)\n",
    "nlp = spacy.load(\"es_core_news_sm\")\n",
    "if torch.cuda.is_available():\n",
    "    print(torch.cuda.get_device_name(torch.cuda.current_device()))"
   ]
  },
  {
   "cell_type": "code",
   "execution_count": 2,
   "metadata": {},
   "outputs": [
    {
     "data": {
      "text/html": [
       "<div>\n",
       "<style scoped>\n",
       "    .dataframe tbody tr th:only-of-type {\n",
       "        vertical-align: middle;\n",
       "    }\n",
       "\n",
       "    .dataframe tbody tr th {\n",
       "        vertical-align: top;\n",
       "    }\n",
       "\n",
       "    .dataframe thead th {\n",
       "        text-align: right;\n",
       "    }\n",
       "</style>\n",
       "<table border=\"1\" class=\"dataframe\">\n",
       "  <thead>\n",
       "    <tr style=\"text-align: right;\">\n",
       "      <th></th>\n",
       "      <th>Path</th>\n",
       "      <th>Text</th>\n",
       "    </tr>\n",
       "  </thead>\n",
       "  <tbody>\n",
       "    <tr>\n",
       "      <th>0</th>\n",
       "      <td>pack\\AIBR\\2006-Aymaras-peruanos-y-chilenos-en-los-Andes-ariqueños-Resistencia-y-conflicto-frente...</td>\n",
       "      <td>catalogada y caricaturizada bajo el rótulo de indómito pueblo araucano. esta imagen, construida ...</td>\n",
       "    </tr>\n",
       "    <tr>\n",
       "      <th>1</th>\n",
       "      <td>pack\\AIBR\\2006-Cambios-de-género-y-discriminación-laboral-en-el-sector-financiero-colombiano-El-...</td>\n",
       "      <td>agradecimientos la autora desea agradecer a la profesora luz gabriela arango la lectura del pres...</td>\n",
       "    </tr>\n",
       "    <tr>\n",
       "      <th>2</th>\n",
       "      <td>pack\\AIBR\\2006-Consecuencias-personales-en-la-ruptura-de-la-vida-laboral-El-caso-de-Telefónica.pdf</td>\n",
       "      <td>has carried out the biggest employment adjustment in our country, that will finished in 2007, af...</td>\n",
       "    </tr>\n",
       "    <tr>\n",
       "      <th>3</th>\n",
       "      <td>pack\\AIBR\\2006-Construcción-de-modelos-de-género-a-partir-de-textos-de-la-tradición-oral-en-Extr...</td>\n",
       "      <td>tampoco queremos que se entienda identidad de género, como identidad del nosotras o identidad de...</td>\n",
       "    </tr>\n",
       "    <tr>\n",
       "      <th>4</th>\n",
       "      <td>pack\\AIBR\\2006-Contribuciones-feministas-a-problemas-epistemológicos-de-la-disciplina-antropológ...</td>\n",
       "      <td>is irrelevant for others con el que teresa del valle enuncia uno de los apartados de su introduc...</td>\n",
       "    </tr>\n",
       "    <tr>\n",
       "      <th>...</th>\n",
       "      <td>...</td>\n",
       "      <td>...</td>\n",
       "    </tr>\n",
       "    <tr>\n",
       "      <th>1920</th>\n",
       "      <td>pack\\Revista-Española-de-Antropología-Americana\\2024-Paridad-y-violencia-política-contra-las-muj...</td>\n",
       "      <td>cómo citar: burguete cal y mayor, araceli. 2024. paridad y violencia política contra las mujeres...</td>\n",
       "    </tr>\n",
       "    <tr>\n",
       "      <th>1921</th>\n",
       "      <td>pack\\Revista-Española-de-Antropología-Americana\\2024-Reorientación-de-la-educación-superior-inte...</td>\n",
       "      <td>project exposed some critical questionings. in this paper i expose five of these critical questi...</td>\n",
       "    </tr>\n",
       "    <tr>\n",
       "      <th>1922</th>\n",
       "      <td>pack\\Revista-Española-de-Antropología-Americana\\2024-Una-aproximación-metodológica-a-la-lectura-...</td>\n",
       "      <td>1. introducción el interés por los quipus, que ha crecido en los últimos años, ha sido acompañad...</td>\n",
       "    </tr>\n",
       "    <tr>\n",
       "      <th>1923</th>\n",
       "      <td>pack\\Revista-Española-de-Antropología-Americana\\2024-Valdivia-fase-3-transformación-de-las-figur...</td>\n",
       "      <td>1. introducción ¿cómo se produce la diferenciación entre los géneros? ¿cómo surge el conflicto d...</td>\n",
       "    </tr>\n",
       "    <tr>\n",
       "      <th>1924</th>\n",
       "      <td>pack\\Revista-Española-de-Antropología-Americana\\2024-Yvyrupa-la-Tierra-memoria-viva-y-movimiento...</td>\n",
       "      <td>cómo citar: ramo affonso, ana maría. 2024. yvyrupa, la tierra: memoria viva y movimientos guaran...</td>\n",
       "    </tr>\n",
       "  </tbody>\n",
       "</table>\n",
       "<p>1925 rows × 2 columns</p>\n",
       "</div>"
      ],
      "text/plain": [
       "                                                                                                     Path  \\\n",
       "0     pack\\AIBR\\2006-Aymaras-peruanos-y-chilenos-en-los-Andes-ariqueños-Resistencia-y-conflicto-frente...   \n",
       "1     pack\\AIBR\\2006-Cambios-de-género-y-discriminación-laboral-en-el-sector-financiero-colombiano-El-...   \n",
       "2      pack\\AIBR\\2006-Consecuencias-personales-en-la-ruptura-de-la-vida-laboral-El-caso-de-Telefónica.pdf   \n",
       "3     pack\\AIBR\\2006-Construcción-de-modelos-de-género-a-partir-de-textos-de-la-tradición-oral-en-Extr...   \n",
       "4     pack\\AIBR\\2006-Contribuciones-feministas-a-problemas-epistemológicos-de-la-disciplina-antropológ...   \n",
       "...                                                                                                   ...   \n",
       "1920  pack\\Revista-Española-de-Antropología-Americana\\2024-Paridad-y-violencia-política-contra-las-muj...   \n",
       "1921  pack\\Revista-Española-de-Antropología-Americana\\2024-Reorientación-de-la-educación-superior-inte...   \n",
       "1922  pack\\Revista-Española-de-Antropología-Americana\\2024-Una-aproximación-metodológica-a-la-lectura-...   \n",
       "1923  pack\\Revista-Española-de-Antropología-Americana\\2024-Valdivia-fase-3-transformación-de-las-figur...   \n",
       "1924  pack\\Revista-Española-de-Antropología-Americana\\2024-Yvyrupa-la-Tierra-memoria-viva-y-movimiento...   \n",
       "\n",
       "                                                                                                     Text  \n",
       "0     catalogada y caricaturizada bajo el rótulo de indómito pueblo araucano. esta imagen, construida ...  \n",
       "1     agradecimientos la autora desea agradecer a la profesora luz gabriela arango la lectura del pres...  \n",
       "2     has carried out the biggest employment adjustment in our country, that will finished in 2007, af...  \n",
       "3     tampoco queremos que se entienda identidad de género, como identidad del nosotras o identidad de...  \n",
       "4     is irrelevant for others con el que teresa del valle enuncia uno de los apartados de su introduc...  \n",
       "...                                                                                                   ...  \n",
       "1920  cómo citar: burguete cal y mayor, araceli. 2024. paridad y violencia política contra las mujeres...  \n",
       "1921  project exposed some critical questionings. in this paper i expose five of these critical questi...  \n",
       "1922  1. introducción el interés por los quipus, que ha crecido en los últimos años, ha sido acompañad...  \n",
       "1923  1. introducción ¿cómo se produce la diferenciación entre los géneros? ¿cómo surge el conflicto d...  \n",
       "1924  cómo citar: ramo affonso, ana maría. 2024. yvyrupa, la tierra: memoria viva y movimientos guaran...  \n",
       "\n",
       "[1925 rows x 2 columns]"
      ]
     },
     "execution_count": 2,
     "metadata": {},
     "output_type": "execute_result"
    }
   ],
   "source": [
    "df = pd.read_csv(\"preprocessed.csv\")\n",
    "df"
   ]
  },
  {
   "cell_type": "code",
   "execution_count": null,
   "metadata": {},
   "outputs": [
    {
     "name": "stderr",
     "output_type": "stream",
     "text": [
      "Device set to use cuda:0\n"
     ]
    }
   ],
   "source": [
    "# Para correr llama localmente\n",
    "\n",
    "model_id = \"meta-llama/Llama-3.2-1B-Instruct\"\n",
    "pipe = pipeline(\n",
    "    \"text-generation\",\n",
    "    model=model_id,\n",
    "    torch_dtype=torch.bfloat16,\n",
    "    device_map=\"auto\",\n",
    ")\n",
    "\n",
    "def get_messages(q):\n",
    "    return [\n",
    "        {\"role\": \"system\", \"content\": \"Eres un experto en historia latinoamericana. Tu tarea es tomar consultas relacionadas con la historia de América Latina y reformularlas para hacerlas más precisas, claras y detalladas. Deberías asegurarte de que la nueva consulta sea más específica, completa y comprensible. Responde solo con la consulta reformulada, sin agregar respuestas completas ni contenido adicional. No uses listas, títulos ni formato Markdown.\"},\n",
    "        {\"role\": \"user\", \"content\": q},\n",
    "    ]\n",
    "\n",
    "def rewrite(q: str) -> str:\n",
    "    outputs = pipe(\n",
    "        get_messages(q),\n",
    "        max_new_tokens=256,\n",
    "    )\n",
    "\n",
    "    return outputs[0][\"generated_text\"][-1]['content']"
   ]
  },
  {
   "cell_type": "code",
   "execution_count": 82,
   "metadata": {},
   "outputs": [],
   "source": [
    "\n",
    "client = InferenceClient(\n",
    "\tprovider=\"sambanova\",\n",
    "\tapi_key=os.getenv(\"HF_TOKEN\")\n",
    ")\n",
    "\n",
    "def rewrite(q: str) -> str:\n",
    "    messages = [\n",
    "        {\n",
    "            \"role\": \"system\",\n",
    "            \"content\": \"Eres un experto en historia latinoamericana. Tu tarea es tomar consultas relacionadas con la historia de América Latina y reformularlas para hacerlas más precisas, claras y detalladas. Deberías asegurarte de que la nueva consulta sea más específica, completa y comprensible. Responde solo con la consulta reformulada, sin agregar respuestas completas ni contenido adicional. No uses listas, títulos ni formato Markdown.\"\n",
    "        },\n",
    "        {\"role\": \"user\", \"content\": q}\n",
    "    ]\n",
    "\n",
    "    completion = client.chat.completions.create(\n",
    "        model=\"meta-llama/Llama-3.2-1B-Instruct\", \n",
    "        messages=messages, \n",
    "        max_tokens=256,\n",
    "    )\n",
    "\n",
    "    return completion.choices[0].message.content"
   ]
  },
  {
   "cell_type": "code",
   "execution_count": 13,
   "metadata": {},
   "outputs": [],
   "source": [
    "model = SentenceTransformer(\"nomic-ai/nomic-embed-text-v2-moe\", trust_remote_code=True)\n",
    "device = torch.device(\"cuda\" if torch.cuda.is_available() else \"cpu\")\n",
    "model = model.to(device)"
   ]
  },
  {
   "cell_type": "code",
   "execution_count": 5,
   "metadata": {},
   "outputs": [
    {
     "data": {
      "text/plain": [
       "<faiss.swigfaiss_avx2.IndexFlatL2; proxy of <Swig Object of type 'faiss::IndexFlatL2 *' at 0x00000187F0FF4150> >"
      ]
     },
     "execution_count": 5,
     "metadata": {},
     "output_type": "execute_result"
    }
   ],
   "source": [
    "index = faiss.read_index(\"index-chunks-512-50-nomic.faiss\")\n",
    "index"
   ]
  },
  {
   "cell_type": "code",
   "execution_count": 6,
   "metadata": {},
   "outputs": [
    {
     "data": {
      "text/plain": [
       "(73111, 768)"
      ]
     },
     "execution_count": 6,
     "metadata": {},
     "output_type": "execute_result"
    }
   ],
   "source": [
    "embeddings_np = np.load(\"embeddings-chunks-512-50-nomic.bin.npy\")\n",
    "embeddings_np.shape"
   ]
  },
  {
   "cell_type": "code",
   "execution_count": 7,
   "metadata": {},
   "outputs": [],
   "source": [
    "with open(\"chunks-512-50-nomic.pkl\", \"rb\") as f:\n",
    "    chunks, chunks_ids = pickle.load(f)"
   ]
  },
  {
   "cell_type": "code",
   "execution_count": 67,
   "metadata": {},
   "outputs": [],
   "source": [
    "def clean_query(query: str) -> str:\n",
    "    query = query.replace('\"', '').replace(\"'\", '')\n",
    "    query = query.replace(\"\\n\", \" \").replace(\"\\r\", \" \")\n",
    "    query = query.replace(\"*\", \"\").replace(\"-\", \"\").replace(\"~\", \"\")\n",
    "    query = query.replace(\"  \", \" \").strip()\n",
    "\n",
    "    doc = nlp(query)\n",
    "    sentences = [sent.text.strip() for sent in doc.sents]\n",
    "    return \" \".join([sent for sent in sentences if len(sent) > 0 and sent[-1] == '.']).lower()\n",
    "\n",
    "def search(query, top_k=10):\n",
    "    query_embedding = model.encode([clean_query(query)], convert_to_tensor=True, prompt_name=\"query\").cpu().numpy()\n",
    "    distances, indices = index.search(query_embedding, k=top_k*4)\n",
    "\n",
    "    already_in = set()\n",
    "    results = []\n",
    "    for i in indices[0]:\n",
    "        id = chunks_ids[i]\n",
    "        if id in already_in:\n",
    "            continue\n",
    "\n",
    "        already_in.add(id)\n",
    "        results.append(id)\n",
    "        if len(results) == top_k:\n",
    "            break\n",
    "\n",
    "    return df.iloc[results]"
   ]
  },
  {
   "cell_type": "code",
   "execution_count": null,
   "metadata": {},
   "outputs": [],
   "source": [
    "def skewness(query, top_k=10):\n",
    "    query_embedding = model.encode([clean_query(query)], convert_to_tensor=True, prompt_name=\"query\").cpu().numpy()\n",
    "    distances, _ = index.search(query_embedding, k=top_k)\n",
    "    similarities = 1 - distances\n",
    "    return skew(similarities[0])"
   ]
  },
  {
   "cell_type": "markdown",
   "metadata": {},
   "source": [
    "## Evaluación preliminar\n",
    "Dado que no tenemos datos etiquetados, se harán 5 queries para evaluar manualmente la relevancia de los documentos recuperados. Asimismo, se mostrará el query performance prediction para cada query en top10 y top5.\n",
    "\n",
    "Las consultas serán:\n",
    "- Monopolio de Sevilla\n",
    "- Quiero encontrar información sobre la Expedición Malaspina\n",
    "- Dame información sobre la Ruta Antillana del Cafe\n",
    "- Buscame artículos que hablen sobre los aymaras del altiplano peruano\n",
    "- Que datos existen sobre la agricultura prehispánica?"
   ]
  },
  {
   "cell_type": "markdown",
   "metadata": {},
   "source": [
    "**Resultados**:\n",
    "- Todos los artículos son relevantes\n",
    "- El primer documento relevante está en la posición 1\n",
    "- **Precisión: 1.0**\n",
    "- $AP(Q1) = \\frac{\\frac{1}{1}+\\frac{2}{2}+...+\\frac{10}{10}}{10} = 1.0$"
   ]
  },
  {
   "cell_type": "code",
   "execution_count": 50,
   "metadata": {},
   "outputs": [
    {
     "name": "stderr",
     "output_type": "stream",
     "text": [
      "Setting `pad_token_id` to `eos_token_id`:128001 for open-end generation.\n"
     ]
    },
    {
     "name": "stdout",
     "output_type": "stream",
     "text": [
      "Consulta reformulada: El monopolio de Sevilla se refiere a un período de tiempo en el que la ciudad de Sevilla, en la región de Andalucía, España, ejerció un dominio absoluto sobre el comercio y la industria en el norte de España, especialmente en la región de Castilla-La Mancha y la región de Extremadura. Este monopolio se estableció en el siglo XV y duró hasta el siglo XVIII.\n",
      "\n",
      "Durante este período, la ciudad de Sevilla se convirtió en un centro comercial y económico importante, gracias a su posición estratégica en la costa mediterránea y su acceso a rutas comerciales importantes. Sin embargo, el monopolio también llevó a una serie de conflictos y competencias entre Sevilla y otras ciudades y regiones de España, como la ciudad de Córdoba y la región de Castilla.\n",
      "\n",
      "Uno de los factores que contribuyeron al surgimiento del monopolio fue la expansión de las rutas comerciales marítimas, que conectaban la ciudad de Sevilla con las ciudades de la costa mediterránea y con las ciudades de la región de Castilla. La ciudad de Sevilla aprovechó\n",
      "Skewness top10 0.645157188869363\n",
      "Skewness top5 0.25109768488917955\n"
     ]
    },
    {
     "data": {
      "text/html": [
       "<div>\n",
       "<style scoped>\n",
       "    .dataframe tbody tr th:only-of-type {\n",
       "        vertical-align: middle;\n",
       "    }\n",
       "\n",
       "    .dataframe tbody tr th {\n",
       "        vertical-align: top;\n",
       "    }\n",
       "\n",
       "    .dataframe thead th {\n",
       "        text-align: right;\n",
       "    }\n",
       "</style>\n",
       "<table border=\"1\" class=\"dataframe\">\n",
       "  <thead>\n",
       "    <tr style=\"text-align: right;\">\n",
       "      <th></th>\n",
       "      <th>Path</th>\n",
       "      <th>Text</th>\n",
       "    </tr>\n",
       "  </thead>\n",
       "  <tbody>\n",
       "    <tr>\n",
       "      <th>902</th>\n",
       "      <td>pack\\Revista-de-Indias\\2000-El-discutido-monopolio-de-Sevilla.pdf</td>\n",
       "      <td>así se comprende que los reyes católicos decidan crear en sevilla, en fecha tan temprana como 15...</td>\n",
       "    </tr>\n",
       "    <tr>\n",
       "      <th>545</th>\n",
       "      <td>pack\\Anuario-de-Estudios-Americanos\\2007-Nobleza-y-fiscalidad-en-la-Ruta-de-las-Indias-el-empori...</td>\n",
       "      <td>del comienzo de la explotación sistemática de las posibilidades expansivas del imperio americano...</td>\n",
       "    </tr>\n",
       "    <tr>\n",
       "      <th>1158</th>\n",
       "      <td>pack\\Revista-de-Indias\\2010-La-institucionalización-de-la-cosmografía-americana-la-Casa-de-la-Co...</td>\n",
       "      <td>los descubrimientos han despertado cierto interés en el ámbito académico internacional. la activ...</td>\n",
       "    </tr>\n",
       "    <tr>\n",
       "      <th>762</th>\n",
       "      <td>pack\\Anuario-de-Estudios-Americanos\\2018-El-comercio-colonial-español-de-la-Carrera-de-Indias-hi...</td>\n",
       "      <td>redes e imperio: aproximación teórica en el caso del comercio atlántico español una revisión que...</td>\n",
       "    </tr>\n",
       "    <tr>\n",
       "      <th>510</th>\n",
       "      <td>pack\\Anuario-de-Estudios-Americanos\\2005-Los-orígenes-de-la-crisis-de-15411543-en-la-política-in...</td>\n",
       "      <td>pone este trabajo es que el desarrollo de las fuerzas económicas derivado directamente de la evo...</td>\n",
       "    </tr>\n",
       "    <tr>\n",
       "      <th>546</th>\n",
       "      <td>pack\\Anuario-de-Estudios-Americanos\\2007-Pinturas-novohispanas-en-España-responsables-finalidad-...</td>\n",
       "      <td>pana situada en nuestro país y los avatares que incidieron en su proceso de llegada. muchas de e...</td>\n",
       "    </tr>\n",
       "    <tr>\n",
       "      <th>1296</th>\n",
       "      <td>pack\\Revista-de-Indias\\2016-La-ropa-de-la-China-desde-Filipinas-hasta-Buenos-Aires-Circulación-c...</td>\n",
       "      <td>pleno entre los historiadores al concebir el contrabando como una de las herramientas más contun...</td>\n",
       "    </tr>\n",
       "    <tr>\n",
       "      <th>777</th>\n",
       "      <td>pack\\Anuario-de-Estudios-Americanos\\2018-Nuevos-tiempos-nuevos-retos-historiográficos-Historia-d...</td>\n",
       "      <td>introducción la ciudad de sevilla, actual capital de andalucía, tiene una trayectoria americanis...</td>\n",
       "    </tr>\n",
       "    <tr>\n",
       "      <th>945</th>\n",
       "      <td>pack\\Revista-de-Indias\\2001-Santo-seña-y-ruta-histórica-del-plátano-hasta-Cuba.pdf</td>\n",
       "      <td>de la isla, permitieron que algunas de sus variedades frutales se convirtieran en objeto de tran...</td>\n",
       "    </tr>\n",
       "    <tr>\n",
       "      <th>1063</th>\n",
       "      <td>pack\\Revista-de-Indias\\2006-Los-negocios-ultramarinos-de-una-burguesía-cosmopolita-Los-catalanes...</td>\n",
       "      <td>mejorando los sistemas de navegación, los mecanismos de pago y tejiendo las coaliciones comercia...</td>\n",
       "    </tr>\n",
       "  </tbody>\n",
       "</table>\n",
       "</div>"
      ],
      "text/plain": [
       "                                                                                                     Path  \\\n",
       "902                                     pack\\Revista-de-Indias\\2000-El-discutido-monopolio-de-Sevilla.pdf   \n",
       "545   pack\\Anuario-de-Estudios-Americanos\\2007-Nobleza-y-fiscalidad-en-la-Ruta-de-las-Indias-el-empori...   \n",
       "1158  pack\\Revista-de-Indias\\2010-La-institucionalización-de-la-cosmografía-americana-la-Casa-de-la-Co...   \n",
       "762   pack\\Anuario-de-Estudios-Americanos\\2018-El-comercio-colonial-español-de-la-Carrera-de-Indias-hi...   \n",
       "510   pack\\Anuario-de-Estudios-Americanos\\2005-Los-orígenes-de-la-crisis-de-15411543-en-la-política-in...   \n",
       "546   pack\\Anuario-de-Estudios-Americanos\\2007-Pinturas-novohispanas-en-España-responsables-finalidad-...   \n",
       "1296  pack\\Revista-de-Indias\\2016-La-ropa-de-la-China-desde-Filipinas-hasta-Buenos-Aires-Circulación-c...   \n",
       "777   pack\\Anuario-de-Estudios-Americanos\\2018-Nuevos-tiempos-nuevos-retos-historiográficos-Historia-d...   \n",
       "945                    pack\\Revista-de-Indias\\2001-Santo-seña-y-ruta-histórica-del-plátano-hasta-Cuba.pdf   \n",
       "1063  pack\\Revista-de-Indias\\2006-Los-negocios-ultramarinos-de-una-burguesía-cosmopolita-Los-catalanes...   \n",
       "\n",
       "                                                                                                     Text  \n",
       "902   así se comprende que los reyes católicos decidan crear en sevilla, en fecha tan temprana como 15...  \n",
       "545   del comienzo de la explotación sistemática de las posibilidades expansivas del imperio americano...  \n",
       "1158  los descubrimientos han despertado cierto interés en el ámbito académico internacional. la activ...  \n",
       "762   redes e imperio: aproximación teórica en el caso del comercio atlántico español una revisión que...  \n",
       "510   pone este trabajo es que el desarrollo de las fuerzas económicas derivado directamente de la evo...  \n",
       "546   pana situada en nuestro país y los avatares que incidieron en su proceso de llegada. muchas de e...  \n",
       "1296  pleno entre los historiadores al concebir el contrabando como una de las herramientas más contun...  \n",
       "777   introducción la ciudad de sevilla, actual capital de andalucía, tiene una trayectoria americanis...  \n",
       "945   de la isla, permitieron que algunas de sus variedades frutales se convirtieran en objeto de tran...  \n",
       "1063  mejorando los sistemas de navegación, los mecanismos de pago y tejiendo las coaliciones comercia...  "
      ]
     },
     "execution_count": 50,
     "metadata": {},
     "output_type": "execute_result"
    }
   ],
   "source": [
    "q = rewrite(\"Monopolio de Sevilla\")\n",
    "\n",
    "print(f\"Consulta reformulada: {q}\")\n",
    "print(f\"Skewness top10\", skewness(q, top_k=10))\n",
    "print(f\"Skewness top5\", skewness(q, top_k=5))\n",
    "\n",
    "search(q, top_k=10)"
   ]
  },
  {
   "cell_type": "markdown",
   "metadata": {},
   "source": [
    "**Resultados**:\n",
    "- Hay 6 artículos relevantes (2, 6, 8, 10)\n",
    "- El primer documento relevante está en la posición 1\n",
    "- **Precisión: 6/10 = 0.6**\n",
    "- $AP(Q2) = \\frac{\\frac{1}{1}+\\frac{2}{3}+\\frac{3}{4}+\\frac{4}{5}+\\frac{5}{7}+\\frac{6}{9}}{6} = 0.76$"
   ]
  },
  {
   "cell_type": "code",
   "execution_count": 51,
   "metadata": {},
   "outputs": [
    {
     "name": "stderr",
     "output_type": "stream",
     "text": [
      "Setting `pad_token_id` to `eos_token_id`:128001 for open-end generation.\n"
     ]
    },
    {
     "name": "stdout",
     "output_type": "stream",
     "text": [
      "Consulta reformulada: La Expedición Malaspina fue un viaje explorador y comercial que se llevó a cabo en la década de 1690 por la empresa de comercio holandesa Van der Donck. Fue liderada por el capitán Juan Sebastián Elcano, quien lideró la expedición hasta su desembarco en la costa de California en 1697. La expedición fue un intento de explorar y establecer una ruta comercial entre Asia y América, y también buscaba encontrar un camino para establecer una colonia en la costa de California.\n",
      "Skewness top10 0.72301927241953\n",
      "Skewness top5 0.500208057171255\n"
     ]
    },
    {
     "data": {
      "text/html": [
       "<div>\n",
       "<style scoped>\n",
       "    .dataframe tbody tr th:only-of-type {\n",
       "        vertical-align: middle;\n",
       "    }\n",
       "\n",
       "    .dataframe tbody tr th {\n",
       "        vertical-align: top;\n",
       "    }\n",
       "\n",
       "    .dataframe thead th {\n",
       "        text-align: right;\n",
       "    }\n",
       "</style>\n",
       "<table border=\"1\" class=\"dataframe\">\n",
       "  <thead>\n",
       "    <tr style=\"text-align: right;\">\n",
       "      <th></th>\n",
       "      <th>Path</th>\n",
       "      <th>Text</th>\n",
       "    </tr>\n",
       "  </thead>\n",
       "  <tbody>\n",
       "    <tr>\n",
       "      <th>558</th>\n",
       "      <td>pack\\Anuario-de-Estudios-Americanos\\2008-El-gran-mapa-de-la-humanidad-y-las-Bellas-Artes-prehisp...</td>\n",
       "      <td>xvi y xvii como martín fernández navarrete, reconoció en su relación del viage hecho por las gol...</td>\n",
       "    </tr>\n",
       "    <tr>\n",
       "      <th>665</th>\n",
       "      <td>pack\\Anuario-de-Estudios-Americanos\\2013-Una-experiencia-reciente-en-el-Pacífico-La-expedición-M...</td>\n",
       "      <td>numerosas expediciones han sido organizadas y llevadas a cabo por parte de españa, desde las pri...</td>\n",
       "    </tr>\n",
       "    <tr>\n",
       "      <th>652</th>\n",
       "      <td>pack\\Anuario-de-Estudios-Americanos\\2013-De-la-hidrografía-imperial-a-la-hidrografía-nacional-Re...</td>\n",
       "      <td>hasta 1835 la exploración hidrográfica del pacífico sur, esto es frente a las costas de chile, f...</td>\n",
       "    </tr>\n",
       "    <tr>\n",
       "      <th>367</th>\n",
       "      <td>pack\\Anuario-de-Estudios-Americanos\\1997-Tomás-de-Suria-un-dibujante-de-la-expedición-de-Malaspi...</td>\n",
       "      <td>varios motivos influyeron para que se llevaran a cabo, entre ellos los fines políticos del estad...</td>\n",
       "    </tr>\n",
       "    <tr>\n",
       "      <th>1481</th>\n",
       "      <td>pack\\Revista-Española-de-Antropología-Americana\\2003-Córdoba-y-Malaspina-antropología-y-política...</td>\n",
       "      <td>el imaginario colectivo admite aún hoy que la guerra contra el indígena que despobló el sur arge...</td>\n",
       "    </tr>\n",
       "    <tr>\n",
       "      <th>662</th>\n",
       "      <td>pack\\Anuario-de-Estudios-Americanos\\2013-Las-rivalidades-hispanoneerlandesas-en-el-Pacífico-y-la...</td>\n",
       "      <td>antecedentes: primeras expediciones en el contexto histórico-político desde el siglo xvi se orga...</td>\n",
       "    </tr>\n",
       "    <tr>\n",
       "      <th>1478</th>\n",
       "      <td>pack\\Revista-Española-de-Antropología-Americana\\2002-Los-saberes-indígenas-y-la-ciencia-de-la-Il...</td>\n",
       "      <td>usted objetará: ¿para qué sirven las categorías, las variedades y los sistemas? yo le contesto: ...</td>\n",
       "    </tr>\n",
       "    <tr>\n",
       "      <th>1686</th>\n",
       "      <td>pack\\Revista-Española-de-Antropología-Americana\\2012-Los-pimas-del-padre-Kino.pdf</td>\n",
       "      <td>de allí cruzar el océano que le llevaría a su destino. aunque su prioridad era misionar en asia,...</td>\n",
       "    </tr>\n",
       "    <tr>\n",
       "      <th>765</th>\n",
       "      <td>pack\\Anuario-de-Estudios-Americanos\\2018-ElAnuario-de-Estudios-Americanosy-el-despertar-de-la-Hi...</td>\n",
       "      <td>la historia marítima es un campo del saber histórico cuyo estudio científico 1 se comenzó a abor...</td>\n",
       "    </tr>\n",
       "    <tr>\n",
       "      <th>1316</th>\n",
       "      <td>pack\\Revista-de-Indias\\2017-La-presencia-española-en-el-norte-de-Sulawesi-durante-el-siglo-XVII-...</td>\n",
       "      <td>vino motivada con el objetivo del control de las especias de este archipiélago, el descubrimient...</td>\n",
       "    </tr>\n",
       "  </tbody>\n",
       "</table>\n",
       "</div>"
      ],
      "text/plain": [
       "                                                                                                     Path  \\\n",
       "558   pack\\Anuario-de-Estudios-Americanos\\2008-El-gran-mapa-de-la-humanidad-y-las-Bellas-Artes-prehisp...   \n",
       "665   pack\\Anuario-de-Estudios-Americanos\\2013-Una-experiencia-reciente-en-el-Pacífico-La-expedición-M...   \n",
       "652   pack\\Anuario-de-Estudios-Americanos\\2013-De-la-hidrografía-imperial-a-la-hidrografía-nacional-Re...   \n",
       "367   pack\\Anuario-de-Estudios-Americanos\\1997-Tomás-de-Suria-un-dibujante-de-la-expedición-de-Malaspi...   \n",
       "1481  pack\\Revista-Española-de-Antropología-Americana\\2003-Córdoba-y-Malaspina-antropología-y-política...   \n",
       "662   pack\\Anuario-de-Estudios-Americanos\\2013-Las-rivalidades-hispanoneerlandesas-en-el-Pacífico-y-la...   \n",
       "1478  pack\\Revista-Española-de-Antropología-Americana\\2002-Los-saberes-indígenas-y-la-ciencia-de-la-Il...   \n",
       "1686                    pack\\Revista-Española-de-Antropología-Americana\\2012-Los-pimas-del-padre-Kino.pdf   \n",
       "765   pack\\Anuario-de-Estudios-Americanos\\2018-ElAnuario-de-Estudios-Americanosy-el-despertar-de-la-Hi...   \n",
       "1316  pack\\Revista-de-Indias\\2017-La-presencia-española-en-el-norte-de-Sulawesi-durante-el-siglo-XVII-...   \n",
       "\n",
       "                                                                                                     Text  \n",
       "558   xvi y xvii como martín fernández navarrete, reconoció en su relación del viage hecho por las gol...  \n",
       "665   numerosas expediciones han sido organizadas y llevadas a cabo por parte de españa, desde las pri...  \n",
       "652   hasta 1835 la exploración hidrográfica del pacífico sur, esto es frente a las costas de chile, f...  \n",
       "367   varios motivos influyeron para que se llevaran a cabo, entre ellos los fines políticos del estad...  \n",
       "1481  el imaginario colectivo admite aún hoy que la guerra contra el indígena que despobló el sur arge...  \n",
       "662   antecedentes: primeras expediciones en el contexto histórico-político desde el siglo xvi se orga...  \n",
       "1478  usted objetará: ¿para qué sirven las categorías, las variedades y los sistemas? yo le contesto: ...  \n",
       "1686  de allí cruzar el océano que le llevaría a su destino. aunque su prioridad era misionar en asia,...  \n",
       "765   la historia marítima es un campo del saber histórico cuyo estudio científico 1 se comenzó a abor...  \n",
       "1316  vino motivada con el objetivo del control de las especias de este archipiélago, el descubrimient...  "
      ]
     },
     "execution_count": 51,
     "metadata": {},
     "output_type": "execute_result"
    }
   ],
   "source": [
    "q = rewrite(\"Quiero encontrar información sobre la Expedición Malaspina\")\n",
    "\n",
    "print(f\"Consulta reformulada: {q}\")\n",
    "print(f\"Skewness top10\", skewness(q, top_k=10))\n",
    "print(f\"Skewness top5\", skewness(q, top_k=5))\n",
    "\n",
    "search(q, top_k=10)"
   ]
  },
  {
   "cell_type": "markdown",
   "metadata": {},
   "source": [
    "**Resultados**:\n",
    "- Hay 5 artículos relevantes (2, 4, 5, 8 y 9 no lo son)\n",
    "- El primer documento relevante está en la posición 1\n",
    "- **Precisión: 5/10 = 0.5**\n",
    "- $AP(Q3) = \\frac{\\frac{1}{1}+\\frac{2}{3}+\\frac{3}{6}+\\frac{4}{7}+\\frac{5}{10}}{5} = 0.64$"
   ]
  },
  {
   "cell_type": "code",
   "execution_count": 53,
   "metadata": {},
   "outputs": [
    {
     "name": "stderr",
     "output_type": "stream",
     "text": [
      "Setting `pad_token_id` to `eos_token_id`:128001 for open-end generation.\n"
     ]
    },
    {
     "name": "stdout",
     "output_type": "stream",
     "text": [
      "Consulta reformulada: La Ruta Antillana del Café fue un tráfico de esclavos que se llevó a cabo en el siglo XVII y XVIII en la Ruta Caribe, que conectaba las Antillas con América. Esta ruta se estableció en el siglo XVI, cuando el comercio de esclavos se expandió por el Caribe y la costa de América. La Ruta Antillana del Café era una de las ramas más importantes de este tráfico, ya que permitía la exportación de esclavos desde las Antillas hasta América.\n",
      "\n",
      "La ruta se extendía desde las Antillas, particularmente desde Haití, República Dominicana y Cuba, hasta la costa de América, específicamente en Colombia, Venezuela, Ecuador y Perú. Los esclavos transportados a través de la Ruta Antillana del Café eran principalmente de africanos, principalmente de los grupos Bantu y Khoi-Khmer, que se convirtieron en la mayoría de la población esclava en América Latina.\n",
      "\n",
      "La Ruta Antillana del Café fue un sistema complejo de esclavitud que involucraba a varios actores, incluyendo los traficantes, los\n",
      "Skewness top10 0.8959271853290381\n",
      "Skewness top5 0.07225390801906907\n"
     ]
    },
    {
     "data": {
      "text/html": [
       "<div>\n",
       "<style scoped>\n",
       "    .dataframe tbody tr th:only-of-type {\n",
       "        vertical-align: middle;\n",
       "    }\n",
       "\n",
       "    .dataframe tbody tr th {\n",
       "        vertical-align: top;\n",
       "    }\n",
       "\n",
       "    .dataframe thead th {\n",
       "        text-align: right;\n",
       "    }\n",
       "</style>\n",
       "<table border=\"1\" class=\"dataframe\">\n",
       "  <thead>\n",
       "    <tr style=\"text-align: right;\">\n",
       "      <th></th>\n",
       "      <th>Path</th>\n",
       "      <th>Text</th>\n",
       "    </tr>\n",
       "  </thead>\n",
       "  <tbody>\n",
       "    <tr>\n",
       "      <th>1276</th>\n",
       "      <td>pack\\Revista-de-Indias\\2015-Los-primeros-tiempos-de-Cuba-en-la-ruta-antillana-del-café.pdf</td>\n",
       "      <td>uno de estos cultivos, el del café, así como su procesamiento, comercialización y consumo fue de...</td>\n",
       "    </tr>\n",
       "    <tr>\n",
       "      <th>1107</th>\n",
       "      <td>pack\\Revista-de-Indias\\2008-El-arriero-y-el-transporte-terrestre-en-el-Cono-Sur-Mendoza-17801800...</td>\n",
       "      <td>siglo xix. como resultado, el comercio bioceánico del cono sur, durante 300 años estuvo en buena...</td>\n",
       "    </tr>\n",
       "    <tr>\n",
       "      <th>1206</th>\n",
       "      <td>pack\\Revista-de-Indias\\2012-Migración-africana-y-formación-social-en-las-Américas-15002000.pdf</td>\n",
       "      <td>miento se dirigió a regiones donde la población aborigen era exigua, o había desaparecido como g...</td>\n",
       "    </tr>\n",
       "    <tr>\n",
       "      <th>1416</th>\n",
       "      <td>pack\\Revista-de-Indias\\2022-El-comercio-interprovincial-de-esclavos-en-el-nororiente-del-Nuevo-R...</td>\n",
       "      <td>introducción los estudios contemporáneos acerca del tráfico de esclavos se han concentrado en in...</td>\n",
       "    </tr>\n",
       "    <tr>\n",
       "      <th>849</th>\n",
       "      <td>pack\\Anuario-de-Estudios-Americanos\\2022-El-capitalismo-de-Génova-y-Burgos-y-la-apertura-de-la-r...</td>\n",
       "      <td>1522. los comienzos de la ruta negrera de santo tomé al caribe la apertura de una ruta negrera d...</td>\n",
       "    </tr>\n",
       "    <tr>\n",
       "      <th>1464</th>\n",
       "      <td>pack\\Revista-de-Indias\\2023-Un-episodio-desconocido-de-la-trata-intercaribeña-de-esclavizados-en...</td>\n",
       "      <td>la de adoptar una perspectiva amplia que ensanche la problemática de estudio queda patente en el...</td>\n",
       "    </tr>\n",
       "    <tr>\n",
       "      <th>1146</th>\n",
       "      <td>pack\\Revista-de-Indias\\2010-Brazos-para-el-azúcar-esclavos-para-vender-Estrategias-de-comerciali...</td>\n",
       "      <td>este trabajo pretende explicar las estrategias comerciales seguidas por los tratantes santiaguer...</td>\n",
       "    </tr>\n",
       "    <tr>\n",
       "      <th>510</th>\n",
       "      <td>pack\\Anuario-de-Estudios-Americanos\\2005-Los-orígenes-de-la-crisis-de-15411543-en-la-política-in...</td>\n",
       "      <td>pone este trabajo es que el desarrollo de las fuerzas económicas derivado directamente de la evo...</td>\n",
       "    </tr>\n",
       "    <tr>\n",
       "      <th>875</th>\n",
       "      <td>pack\\Anuario-de-Estudios-Americanos\\2023-La-participación-de-la-familia-Sánchez-de-Tagle-en-el-t...</td>\n",
       "      <td>introducción la historiografía reciente relacionada con la esclavitud en la monarquía hispánica ...</td>\n",
       "    </tr>\n",
       "    <tr>\n",
       "      <th>1187</th>\n",
       "      <td>pack\\Revista-de-Indias\\2011-Los-Despaigne-en-SaintDomingue-y-Cuba-narrativa-microhistórica-de-un...</td>\n",
       "      <td>de los integrantes del partido a ejercitar nuestros derechos de cubanos en lo adelante, exigir l...</td>\n",
       "    </tr>\n",
       "  </tbody>\n",
       "</table>\n",
       "</div>"
      ],
      "text/plain": [
       "                                                                                                     Path  \\\n",
       "1276           pack\\Revista-de-Indias\\2015-Los-primeros-tiempos-de-Cuba-en-la-ruta-antillana-del-café.pdf   \n",
       "1107  pack\\Revista-de-Indias\\2008-El-arriero-y-el-transporte-terrestre-en-el-Cono-Sur-Mendoza-17801800...   \n",
       "1206       pack\\Revista-de-Indias\\2012-Migración-africana-y-formación-social-en-las-Américas-15002000.pdf   \n",
       "1416  pack\\Revista-de-Indias\\2022-El-comercio-interprovincial-de-esclavos-en-el-nororiente-del-Nuevo-R...   \n",
       "849   pack\\Anuario-de-Estudios-Americanos\\2022-El-capitalismo-de-Génova-y-Burgos-y-la-apertura-de-la-r...   \n",
       "1464  pack\\Revista-de-Indias\\2023-Un-episodio-desconocido-de-la-trata-intercaribeña-de-esclavizados-en...   \n",
       "1146  pack\\Revista-de-Indias\\2010-Brazos-para-el-azúcar-esclavos-para-vender-Estrategias-de-comerciali...   \n",
       "510   pack\\Anuario-de-Estudios-Americanos\\2005-Los-orígenes-de-la-crisis-de-15411543-en-la-política-in...   \n",
       "875   pack\\Anuario-de-Estudios-Americanos\\2023-La-participación-de-la-familia-Sánchez-de-Tagle-en-el-t...   \n",
       "1187  pack\\Revista-de-Indias\\2011-Los-Despaigne-en-SaintDomingue-y-Cuba-narrativa-microhistórica-de-un...   \n",
       "\n",
       "                                                                                                     Text  \n",
       "1276  uno de estos cultivos, el del café, así como su procesamiento, comercialización y consumo fue de...  \n",
       "1107  siglo xix. como resultado, el comercio bioceánico del cono sur, durante 300 años estuvo en buena...  \n",
       "1206  miento se dirigió a regiones donde la población aborigen era exigua, o había desaparecido como g...  \n",
       "1416  introducción los estudios contemporáneos acerca del tráfico de esclavos se han concentrado en in...  \n",
       "849   1522. los comienzos de la ruta negrera de santo tomé al caribe la apertura de una ruta negrera d...  \n",
       "1464  la de adoptar una perspectiva amplia que ensanche la problemática de estudio queda patente en el...  \n",
       "1146  este trabajo pretende explicar las estrategias comerciales seguidas por los tratantes santiaguer...  \n",
       "510   pone este trabajo es que el desarrollo de las fuerzas económicas derivado directamente de la evo...  \n",
       "875   introducción la historiografía reciente relacionada con la esclavitud en la monarquía hispánica ...  \n",
       "1187  de los integrantes del partido a ejercitar nuestros derechos de cubanos en lo adelante, exigir l...  "
      ]
     },
     "execution_count": 53,
     "metadata": {},
     "output_type": "execute_result"
    }
   ],
   "source": [
    "q = rewrite(\"Dame información sobre la Ruta Antillana del Cafe\")\n",
    "\n",
    "print(f\"Consulta reformulada: {q}\")\n",
    "print(f\"Skewness top10\", skewness(q, top_k=10))\n",
    "print(f\"Skewness top5\", skewness(q, top_k=5))\n",
    "\n",
    "search(q, top_k=10)"
   ]
  },
  {
   "cell_type": "markdown",
   "metadata": {},
   "source": [
    "**Resultados**:\n",
    "- Todos los artículos son relevantes\n",
    "- El primer documento relevante está en la posición 1\n",
    "- **Precisión: 1.0**\n",
    "- $AP(Q4) = \\frac{\\frac{1}{1}+\\frac{2}{2}+...+\\frac{10}{10}}{10} = 1.0$"
   ]
  },
  {
   "cell_type": "code",
   "execution_count": 73,
   "metadata": {},
   "outputs": [
    {
     "name": "stderr",
     "output_type": "stream",
     "text": [
      "Setting `pad_token_id` to `eos_token_id`:128001 for open-end generation.\n"
     ]
    },
    {
     "name": "stdout",
     "output_type": "stream",
     "text": [
      "Consulta reformulada: Artículos que abordan las complejidades de la historia y la cultura de los aymaras del altiplano peruano, como su dinámica social, política y económica, su relación con la colonización española, su evolución en el contexto de la independencia y la formación de la nación peruana, su participación en la lucha por la justicia social y su papel en la construcción de la identidad aymara.\n",
      "Skewness top10 1.3397564681891203\n",
      "Skewness top5 0.8596469062068351\n"
     ]
    },
    {
     "data": {
      "text/html": [
       "<div>\n",
       "<style scoped>\n",
       "    .dataframe tbody tr th:only-of-type {\n",
       "        vertical-align: middle;\n",
       "    }\n",
       "\n",
       "    .dataframe tbody tr th {\n",
       "        vertical-align: top;\n",
       "    }\n",
       "\n",
       "    .dataframe thead th {\n",
       "        text-align: right;\n",
       "    }\n",
       "</style>\n",
       "<table border=\"1\" class=\"dataframe\">\n",
       "  <thead>\n",
       "    <tr style=\"text-align: right;\">\n",
       "      <th></th>\n",
       "      <th>Path</th>\n",
       "      <th>Text</th>\n",
       "    </tr>\n",
       "  </thead>\n",
       "  <tbody>\n",
       "    <tr>\n",
       "      <th>1916</th>\n",
       "      <td>pack\\Revista-Española-de-Antropología-Americana\\2024-Los-aymaras-del-altiplano-peruano-en-el-bic...</td>\n",
       "      <td>cómo citar: alanoca-arocutipa, vicente, jorge apaza-ticona, romel percy melgarejo-bolivar y cesa...</td>\n",
       "    </tr>\n",
       "    <tr>\n",
       "      <th>1537</th>\n",
       "      <td>pack\\Revista-Española-de-Antropología-Americana\\2006-Apxatas-de-difuntos-en-el-altiplano-aymara-...</td>\n",
       "      <td>en su cautiverio, las almas realizan un trabajo que, semejante al que corresponde a los seres hu...</td>\n",
       "    </tr>\n",
       "    <tr>\n",
       "      <th>0</th>\n",
       "      <td>pack\\AIBR\\2006-Aymaras-peruanos-y-chilenos-en-los-Andes-ariqueños-Resistencia-y-conflicto-frente...</td>\n",
       "      <td>catalogada y caricaturizada bajo el rótulo de indómito pueblo araucano. esta imagen, construida ...</td>\n",
       "    </tr>\n",
       "    <tr>\n",
       "      <th>1677</th>\n",
       "      <td>pack\\Revista-Española-de-Antropología-Americana\\2012-Crianzas-mutuas-El-trato-a-los-animales-des...</td>\n",
       "      <td>1. introducción este trabajo se propone abordar la relación entre las personas y los animales do...</td>\n",
       "    </tr>\n",
       "    <tr>\n",
       "      <th>1853</th>\n",
       "      <td>pack\\Revista-Española-de-Antropología-Americana\\2020-Tiempos-cristianos-y-tiempos-andinos-en-las...</td>\n",
       "      <td>1. un vaso colonial dedicado a franklin pease, para quien el problema del registro temporal de l...</td>\n",
       "    </tr>\n",
       "    <tr>\n",
       "      <th>1684</th>\n",
       "      <td>pack\\Revista-Española-de-Antropología-Americana\\2012-Lloren-las-ranas-casen-las-aguas-conténgans...</td>\n",
       "      <td>dependen la fertilidad de las cosechas y la reproducción de los ganados, y por ende la supervive...</td>\n",
       "    </tr>\n",
       "    <tr>\n",
       "      <th>150</th>\n",
       "      <td>pack\\AIBR\\2018-De-fantasma-a-vecino-El-Kharisiri-y-la-noción-de-humanidad-en-Los-Andes-aymara-pe...</td>\n",
       "      <td>introducción el presente artículo estudia la figura del kharisiri en relación con las nociones d...</td>\n",
       "    </tr>\n",
       "    <tr>\n",
       "      <th>1726</th>\n",
       "      <td>pack\\Revista-Española-de-Antropología-Americana\\2015-Desde-el-diabólico-mundo-de-los-gentiles-Le...</td>\n",
       "      <td>de potosí y chuquisaca. seguidamente rastrearemos los orígenes del concepto y del término a la l...</td>\n",
       "    </tr>\n",
       "    <tr>\n",
       "      <th>1763</th>\n",
       "      <td>pack\\Revista-Española-de-Antropología-Americana\\2017-Casas-en-las-sociedades-aymaras-norpotosina...</td>\n",
       "      <td>consenso en la etnohistoria, la etnografía y la arqueología andinas. el modelo, surgido del inte...</td>\n",
       "    </tr>\n",
       "    <tr>\n",
       "      <th>1642</th>\n",
       "      <td>pack\\Revista-Española-de-Antropología-Americana\\2010-Norte-contra-Sur-Análisis-comparativo-sobre...</td>\n",
       "      <td>en los andes del sur, en pleno altiplano peruano y boliviano, los maestros rituales aymaras, con...</td>\n",
       "    </tr>\n",
       "  </tbody>\n",
       "</table>\n",
       "</div>"
      ],
      "text/plain": [
       "                                                                                                     Path  \\\n",
       "1916  pack\\Revista-Española-de-Antropología-Americana\\2024-Los-aymaras-del-altiplano-peruano-en-el-bic...   \n",
       "1537  pack\\Revista-Española-de-Antropología-Americana\\2006-Apxatas-de-difuntos-en-el-altiplano-aymara-...   \n",
       "0     pack\\AIBR\\2006-Aymaras-peruanos-y-chilenos-en-los-Andes-ariqueños-Resistencia-y-conflicto-frente...   \n",
       "1677  pack\\Revista-Española-de-Antropología-Americana\\2012-Crianzas-mutuas-El-trato-a-los-animales-des...   \n",
       "1853  pack\\Revista-Española-de-Antropología-Americana\\2020-Tiempos-cristianos-y-tiempos-andinos-en-las...   \n",
       "1684  pack\\Revista-Española-de-Antropología-Americana\\2012-Lloren-las-ranas-casen-las-aguas-conténgans...   \n",
       "150   pack\\AIBR\\2018-De-fantasma-a-vecino-El-Kharisiri-y-la-noción-de-humanidad-en-Los-Andes-aymara-pe...   \n",
       "1726  pack\\Revista-Española-de-Antropología-Americana\\2015-Desde-el-diabólico-mundo-de-los-gentiles-Le...   \n",
       "1763  pack\\Revista-Española-de-Antropología-Americana\\2017-Casas-en-las-sociedades-aymaras-norpotosina...   \n",
       "1642  pack\\Revista-Española-de-Antropología-Americana\\2010-Norte-contra-Sur-Análisis-comparativo-sobre...   \n",
       "\n",
       "                                                                                                     Text  \n",
       "1916  cómo citar: alanoca-arocutipa, vicente, jorge apaza-ticona, romel percy melgarejo-bolivar y cesa...  \n",
       "1537  en su cautiverio, las almas realizan un trabajo que, semejante al que corresponde a los seres hu...  \n",
       "0     catalogada y caricaturizada bajo el rótulo de indómito pueblo araucano. esta imagen, construida ...  \n",
       "1677  1. introducción este trabajo se propone abordar la relación entre las personas y los animales do...  \n",
       "1853  1. un vaso colonial dedicado a franklin pease, para quien el problema del registro temporal de l...  \n",
       "1684  dependen la fertilidad de las cosechas y la reproducción de los ganados, y por ende la supervive...  \n",
       "150   introducción el presente artículo estudia la figura del kharisiri en relación con las nociones d...  \n",
       "1726  de potosí y chuquisaca. seguidamente rastrearemos los orígenes del concepto y del término a la l...  \n",
       "1763  consenso en la etnohistoria, la etnografía y la arqueología andinas. el modelo, surgido del inte...  \n",
       "1642  en los andes del sur, en pleno altiplano peruano y boliviano, los maestros rituales aymaras, con...  "
      ]
     },
     "execution_count": 73,
     "metadata": {},
     "output_type": "execute_result"
    }
   ],
   "source": [
    "q = rewrite(\"Buscame artículos que hablen sobre los aymaras del altiplano peruano\")\n",
    "\n",
    "print(f\"Consulta reformulada: {q}\")\n",
    "print(f\"Skewness top10\", skewness(q, top_k=10))\n",
    "print(f\"Skewness top5\", skewness(q, top_k=5))\n",
    "\n",
    "search(q, top_k=10)"
   ]
  },
  {
   "cell_type": "markdown",
   "metadata": {},
   "source": [
    "**Resultados**:\n",
    "- Hay 9 documentos relevantes (el 5 no lo es)\n",
    "- El primer documento relevante está en la posición 1\n",
    "- **Precisión: 9/10 = 0.9**\n",
    "- $AP(Q5) = \\frac{\\frac{1}{1}+\\frac{2}{2}+\\frac{3}{3}+\\frac{4}{4}+\\frac{5}{6}+\\frac{6}{7}+\\frac{7}{8}+\\frac{8}{9}+\\frac{9}{10}}{9} = 0.93$"
   ]
  },
  {
   "cell_type": "code",
   "execution_count": 72,
   "metadata": {},
   "outputs": [
    {
     "name": "stderr",
     "output_type": "stream",
     "text": [
      "Setting `pad_token_id` to `eos_token_id`:128001 for open-end generation.\n"
     ]
    },
    {
     "name": "stdout",
     "output_type": "stream",
     "text": [
      "Consulta reformulada: La agricultura prehispánica en América Latina es un tema fascinante que ha sido objeto de estudio y debate entre los historiadores y antropólogos. A continuación, te presento una visión general de los datos existentes sobre la agricultura prehispánica en la región:\n",
      "\n",
      "* La agricultura prehispánica en América Latina se desarrolló en un período que se extiende desde hace al menos 10.000 a 4.000 años, con algunas evidencias de agricultura en el período precolombino.\n",
      "* La principal planta alimentaria prehispánica en América Latina era el maíz, que se introdujo en el continente hace alrededor de 7.000 a 10.000 años.\n",
      "* La agricultura prehispánica en América Latina se caracterizaba por la utilización de técnicas de siembra y cultivo de maíz, trigo, avena, quinoa y otros cereales.\n",
      "* La agricultura prehispánica en América Latina también se caracterizaba por la producción de alimentos no alimentarios, como frutas, verduras, nueces, semillas y otros productos vegetales\n",
      "Skewness top10 0.23066454782794302\n",
      "Skewness top5 0.32714159400052967\n"
     ]
    },
    {
     "data": {
      "text/html": [
       "<div>\n",
       "<style scoped>\n",
       "    .dataframe tbody tr th:only-of-type {\n",
       "        vertical-align: middle;\n",
       "    }\n",
       "\n",
       "    .dataframe tbody tr th {\n",
       "        vertical-align: top;\n",
       "    }\n",
       "\n",
       "    .dataframe thead th {\n",
       "        text-align: right;\n",
       "    }\n",
       "</style>\n",
       "<table border=\"1\" class=\"dataframe\">\n",
       "  <thead>\n",
       "    <tr style=\"text-align: right;\">\n",
       "      <th></th>\n",
       "      <th>Path</th>\n",
       "      <th>Text</th>\n",
       "    </tr>\n",
       "  </thead>\n",
       "  <tbody>\n",
       "    <tr>\n",
       "      <th>1743</th>\n",
       "      <td>pack\\Revista-Española-de-Antropología-Americana\\2015-Variabilidad-en-las-trayectorias-de-adopció...</td>\n",
       "      <td>figura 1: a) noroeste argentino; b) chile central centro-occidente argentino; d) sierras central...</td>\n",
       "    </tr>\n",
       "    <tr>\n",
       "      <th>1735</th>\n",
       "      <td>pack\\Revista-Española-de-Antropología-Americana\\2015-Huertos-chacras-y-sementeras-Plantas-cultiv...</td>\n",
       "      <td>alfarero temprano. 6. los grupos llolleo del período alfarero temprano y la incorporación de nue...</td>\n",
       "    </tr>\n",
       "    <tr>\n",
       "      <th>1725</th>\n",
       "      <td>pack\\Revista-Española-de-Antropología-Americana\\2015-Demografía-humana-e-incorporación-de-cultíg...</td>\n",
       "      <td>sumario: 1. introducción. 2. centro occidente argentino, registro arqueológico y estrategias hum...</td>\n",
       "    </tr>\n",
       "    <tr>\n",
       "      <th>1723</th>\n",
       "      <td>pack\\Revista-Española-de-Antropología-Americana\\2015-Boceto-para-un-esquema-domesticación-y-agri...</td>\n",
       "      <td>presentativos en su caracterización y análisis. lejos de un esquema que se entienda como, o se c...</td>\n",
       "    </tr>\n",
       "    <tr>\n",
       "      <th>37</th>\n",
       "      <td>pack\\AIBR\\2007-La-combinación-de-sistemas-agrícolas-tradicionales-y-comerciales-el-proceso-de-co...</td>\n",
       "      <td>how this combination was made, and which were the mechanisms of social and cultural adjustment t...</td>\n",
       "    </tr>\n",
       "    <tr>\n",
       "      <th>1792</th>\n",
       "      <td>pack\\Revista-Española-de-Antropología-Americana\\2018-El-empleo-de-fotogrametría-mediante-vehícul...</td>\n",
       "      <td>sumario. 1. introducción. la cuenca de méxico y el patrimonio arqueológico en riesgo. 2. las chi...</td>\n",
       "    </tr>\n",
       "    <tr>\n",
       "      <th>1724</th>\n",
       "      <td>pack\\Revista-Española-de-Antropología-Americana\\2015-Cambios-y-permanencias-en-torno-al-proceso-...</td>\n",
       "      <td>más allá de los matices entre diferentes investigadores, existió un cierto consenso en definir a...</td>\n",
       "    </tr>\n",
       "    <tr>\n",
       "      <th>1736</th>\n",
       "      <td>pack\\Revista-Española-de-Antropología-Americana\\2015-Interacciones-entre-las-sociedades-y-las-pl...</td>\n",
       "      <td>figura 1: ubicación del área septentrional del río de la plata en el contexto regional. en detal...</td>\n",
       "    </tr>\n",
       "    <tr>\n",
       "      <th>1784</th>\n",
       "      <td>pack\\Revista-Española-de-Antropología-Americana\\2017-Sociedades-heterárquicas-en-el-Ecuador-prei...</td>\n",
       "      <td>1. introducción la presente investigación se centra en la organización política del área cultura...</td>\n",
       "    </tr>\n",
       "    <tr>\n",
       "      <th>886</th>\n",
       "      <td>pack\\Anuario-de-Estudios-Americanos\\2024-De-los-árboles-peces-y-animales-desta-tierra-reconstruc...</td>\n",
       "      <td>introducción este trabajo parte del estudio de dos documentos que integran una unidad: la relaci...</td>\n",
       "    </tr>\n",
       "  </tbody>\n",
       "</table>\n",
       "</div>"
      ],
      "text/plain": [
       "                                                                                                     Path  \\\n",
       "1743  pack\\Revista-Española-de-Antropología-Americana\\2015-Variabilidad-en-las-trayectorias-de-adopció...   \n",
       "1735  pack\\Revista-Española-de-Antropología-Americana\\2015-Huertos-chacras-y-sementeras-Plantas-cultiv...   \n",
       "1725  pack\\Revista-Española-de-Antropología-Americana\\2015-Demografía-humana-e-incorporación-de-cultíg...   \n",
       "1723  pack\\Revista-Española-de-Antropología-Americana\\2015-Boceto-para-un-esquema-domesticación-y-agri...   \n",
       "37    pack\\AIBR\\2007-La-combinación-de-sistemas-agrícolas-tradicionales-y-comerciales-el-proceso-de-co...   \n",
       "1792  pack\\Revista-Española-de-Antropología-Americana\\2018-El-empleo-de-fotogrametría-mediante-vehícul...   \n",
       "1724  pack\\Revista-Española-de-Antropología-Americana\\2015-Cambios-y-permanencias-en-torno-al-proceso-...   \n",
       "1736  pack\\Revista-Española-de-Antropología-Americana\\2015-Interacciones-entre-las-sociedades-y-las-pl...   \n",
       "1784  pack\\Revista-Española-de-Antropología-Americana\\2017-Sociedades-heterárquicas-en-el-Ecuador-prei...   \n",
       "886   pack\\Anuario-de-Estudios-Americanos\\2024-De-los-árboles-peces-y-animales-desta-tierra-reconstruc...   \n",
       "\n",
       "                                                                                                     Text  \n",
       "1743  figura 1: a) noroeste argentino; b) chile central centro-occidente argentino; d) sierras central...  \n",
       "1735  alfarero temprano. 6. los grupos llolleo del período alfarero temprano y la incorporación de nue...  \n",
       "1725  sumario: 1. introducción. 2. centro occidente argentino, registro arqueológico y estrategias hum...  \n",
       "1723  presentativos en su caracterización y análisis. lejos de un esquema que se entienda como, o se c...  \n",
       "37    how this combination was made, and which were the mechanisms of social and cultural adjustment t...  \n",
       "1792  sumario. 1. introducción. la cuenca de méxico y el patrimonio arqueológico en riesgo. 2. las chi...  \n",
       "1724  más allá de los matices entre diferentes investigadores, existió un cierto consenso en definir a...  \n",
       "1736  figura 1: ubicación del área septentrional del río de la plata en el contexto regional. en detal...  \n",
       "1784  1. introducción la presente investigación se centra en la organización política del área cultura...  \n",
       "886   introducción este trabajo parte del estudio de dos documentos que integran una unidad: la relaci...  "
      ]
     },
     "execution_count": 72,
     "metadata": {},
     "output_type": "execute_result"
    }
   ],
   "source": [
    "q = rewrite(\"Que datos existen sobre la agricultura prehispánica?\")\n",
    "\n",
    "print(f\"Consulta reformulada: {q}\")\n",
    "print(f\"Skewness top10\", skewness(q, top_k=10))\n",
    "print(f\"Skewness top5\", skewness(q, top_k=5))\n",
    "\n",
    "search(q, top_k=10)"
   ]
  },
  {
   "cell_type": "markdown",
   "metadata": {},
   "source": [
    "### Resultados generales\n",
    "$$|Q| = \\text{cantidad de consultas} = 5$$\n",
    "#### MAP@10 (mean average precision)\n",
    "$$MAP = \\frac{1}{|Q|} \\sum_{q \\space \\epsilon \\space Q} AP(q) = \\frac{1.0+0.76+0.64+1.0+0.93}{5}=0.866 \\rightarrow 86.6\\%$$\n",
    "#### MRR@10 (mean reciprocal rank)\n",
    "$$MRR = \\frac{1}{|Q|} \\sum_{i=1}^{|Q|} \\frac{1}{rank_i} = \\frac{1}{5} (\\frac{1}{1} + \\frac{2}{2} + ... + \\frac{5}{5}) = \\frac{5}{5} = 1.0 $$"
   ]
  }
 ],
 "metadata": {
  "kernelspec": {
   "display_name": ".venv",
   "language": "python",
   "name": "python3"
  },
  "language_info": {
   "codemirror_mode": {
    "name": "ipython",
    "version": 3
   },
   "file_extension": ".py",
   "mimetype": "text/x-python",
   "name": "python",
   "nbconvert_exporter": "python",
   "pygments_lexer": "ipython3",
   "version": "3.12.5"
  }
 },
 "nbformat": 4,
 "nbformat_minor": 2
}
