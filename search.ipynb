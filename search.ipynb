{
 "cells": [
  {
   "cell_type": "code",
   "execution_count": 2,
   "metadata": {},
   "outputs": [
    {
     "name": "stderr",
     "output_type": "stream",
     "text": [
      "c:\\Users\\leand\\Documents\\tesis\\notebooks\\preprocesado\\.venv\\Lib\\site-packages\\tqdm\\auto.py:21: TqdmWarning: IProgress not found. Please update jupyter and ipywidgets. See https://ipywidgets.readthedocs.io/en/stable/user_install.html\n",
      "  from .autonotebook import tqdm as notebook_tqdm\n"
     ]
    },
    {
     "name": "stdout",
     "output_type": "stream",
     "text": [
      "NVIDIA GeForce RTX 2070 SUPER\n"
     ]
    }
   ],
   "source": [
    "from sentence_transformers import SentenceTransformer\n",
    "import torch\n",
    "import spacy\n",
    "import pandas as pd\n",
    "import numpy as np\n",
    "import concurrent.futures\n",
    "import pickle\n",
    "import faiss\n",
    "from transformers import pipeline\n",
    "\n",
    "nlp = spacy.load(\"es_core_news_sm\")\n",
    "if torch.cuda.is_available():\n",
    "    print(torch.cuda.get_device_name(torch.cuda.current_device()))"
   ]
  },
  {
   "cell_type": "code",
   "execution_count": 3,
   "metadata": {},
   "outputs": [
    {
     "name": "stderr",
     "output_type": "stream",
     "text": [
      "Device set to use cuda:0\n"
     ]
    }
   ],
   "source": [
    "model_id = \"meta-llama/Llama-3.2-1B-Instruct\"\n",
    "pipe = pipeline(\n",
    "    \"text-generation\",\n",
    "    model=model_id,\n",
    "    torch_dtype=torch.bfloat16,\n",
    "    device_map=\"auto\",\n",
    "    \n",
    ")\n",
    "\n",
    "messages = [\n",
    "    {\"role\": \"system\", \"content\": \"Eres una máquina que reformula consultas sobre historia latinoamericana. A cada consulta responderás con un pasaje de texto corto pero relevante que pueda ser útil para responder a la consulta original. No vas a dar respuestas que incluyan títulos, listas o formato Markdown.\"},\n",
    "    {\"role\": \"user\", \"content\": \"Influencias de Colón en la historia de América\"},\n",
    "]\n",
    "messages2 = [\n",
    "    {\"role\": \"system\", \"content\": \"Eres una máquina especializada en reformular consultas sobre historia latinoamericana. A cada consulta, tu tarea es hacerla más precisa y clara, sin extenderte demasiado. Solo responderás con la consulta reformulada, sin incluir títulos, listas o formato Markdown.\"},\n",
    "    {\"role\": \"user\", \"content\": \"Influencias de Colón en la historia de América\"},\n",
    "]\n",
    "messages3 = [\n",
    "    {\"role\": \"system\", \"content\": \"Eres un experto en historia latinoamericana. Tu tarea es tomar consultas relacionadas con la historia de América Latina y reformularlas para hacerlas más precisas, claras y detalladas. Deberías asegurarte de que la nueva consulta sea más específica, completa y comprensible. Responde solo con la consulta reformulada, sin agregar respuestas completas ni contenido adicional. No uses listas, títulos ni formato Markdown.\"},\n",
    "    {\"role\": \"user\", \"content\": \"Influencias de Colón en la historia de América\"},\n",
    "]\n",
    "\n",
    "def get_messages(q):\n",
    "    return [\n",
    "        {\"role\": \"system\", \"content\": \"Eres un experto en historia latinoamericana. Tu tarea es tomar consultas relacionadas con la historia de América Latina y reformularlas para hacerlas más precisas, claras y detalladas. Deberías asegurarte de que la nueva consulta sea más específica, completa y comprensible. Responde solo con la consulta reformulada, sin agregar respuestas completas ni contenido adicional. No uses listas, títulos ni formato Markdown.\"},\n",
    "        {\"role\": \"user\", \"content\": q},\n",
    "    ]"
   ]
  },
  {
   "cell_type": "code",
   "execution_count": 9,
   "metadata": {},
   "outputs": [
    {
     "name": "stderr",
     "output_type": "stream",
     "text": [
      "Setting `pad_token_id` to `eos_token_id`:128001 for open-end generation.\n"
     ]
    }
   ],
   "source": [
    "q = \"Llegada de Colón a Santo Domingo\"\n",
    "\n",
    "outputs = pipe(\n",
    "    get_messages(q),\n",
    "    max_new_tokens=256,\n",
    ")\n",
    "\n",
    "new_query = outputs[0][\"generated_text\"][-1]['content']"
   ]
  },
  {
   "cell_type": "code",
   "execution_count": 11,
   "metadata": {},
   "outputs": [],
   "source": [
    "model = SentenceTransformer('sentence-transformers/paraphrase-multilingual-MiniLM-L12-v2')\n",
    "device = torch.device(\"cuda\" if torch.cuda.is_available() else \"cpu\")\n",
    "model = model.to(device)"
   ]
  },
  {
   "cell_type": "code",
   "execution_count": null,
   "metadata": {},
   "outputs": [],
   "source": [
    "def divide_document(text, max_words=300):\n",
    "    doc = nlp(text)\n",
    "    sents = [sent.text for sent in doc.sents]\n",
    "    fragments = []\n",
    "    temp = \"\"\n",
    "\n",
    "    for sent in sents:\n",
    "        if len(temp.split()) + len(sent.split()) <= max_words:\n",
    "            temp += \" \" + sent\n",
    "        else:\n",
    "            fragments.append(temp.strip())\n",
    "            temp = sent\n",
    "\n",
    "    if temp:\n",
    "        fragments.append(temp.strip())\n",
    "\n",
    "    return fragments\n"
   ]
  },
  {
   "cell_type": "code",
   "execution_count": 13,
   "metadata": {},
   "outputs": [
    {
     "data": {
      "text/html": [
       "<div>\n",
       "<style scoped>\n",
       "    .dataframe tbody tr th:only-of-type {\n",
       "        vertical-align: middle;\n",
       "    }\n",
       "\n",
       "    .dataframe tbody tr th {\n",
       "        vertical-align: top;\n",
       "    }\n",
       "\n",
       "    .dataframe thead th {\n",
       "        text-align: right;\n",
       "    }\n",
       "</style>\n",
       "<table border=\"1\" class=\"dataframe\">\n",
       "  <thead>\n",
       "    <tr style=\"text-align: right;\">\n",
       "      <th></th>\n",
       "      <th>Path</th>\n",
       "      <th>Text</th>\n",
       "    </tr>\n",
       "  </thead>\n",
       "  <tbody>\n",
       "    <tr>\n",
       "      <th>0</th>\n",
       "      <td>pack\\AIBR\\2006-Aymaras-peruanos-y-chilenos-en-...</td>\n",
       "      <td>catalogada y caricaturizada bajo el rótulo de ...</td>\n",
       "    </tr>\n",
       "    <tr>\n",
       "      <th>1</th>\n",
       "      <td>pack\\AIBR\\2006-Cambios-de-género-y-discriminac...</td>\n",
       "      <td>agradecimientos la autora desea agradecer a la...</td>\n",
       "    </tr>\n",
       "    <tr>\n",
       "      <th>2</th>\n",
       "      <td>pack\\AIBR\\2006-Consecuencias-personales-en-la-...</td>\n",
       "      <td>has carried out the biggest employment adjustm...</td>\n",
       "    </tr>\n",
       "    <tr>\n",
       "      <th>3</th>\n",
       "      <td>pack\\AIBR\\2006-Construcción-de-modelos-de-géne...</td>\n",
       "      <td>tampoco queremos que se entienda identidad de ...</td>\n",
       "    </tr>\n",
       "    <tr>\n",
       "      <th>4</th>\n",
       "      <td>pack\\AIBR\\2006-Contribuciones-feministas-a-pro...</td>\n",
       "      <td>is irrelevant for others con el que teresa del...</td>\n",
       "    </tr>\n",
       "    <tr>\n",
       "      <th>...</th>\n",
       "      <td>...</td>\n",
       "      <td>...</td>\n",
       "    </tr>\n",
       "    <tr>\n",
       "      <th>1920</th>\n",
       "      <td>pack\\Revista-Española-de-Antropología-American...</td>\n",
       "      <td>cómo citar: burguete cal y mayor, araceli. 202...</td>\n",
       "    </tr>\n",
       "    <tr>\n",
       "      <th>1921</th>\n",
       "      <td>pack\\Revista-Española-de-Antropología-American...</td>\n",
       "      <td>project exposed some critical questionings. in...</td>\n",
       "    </tr>\n",
       "    <tr>\n",
       "      <th>1922</th>\n",
       "      <td>pack\\Revista-Española-de-Antropología-American...</td>\n",
       "      <td>1. introducción el interés por los quipus, que...</td>\n",
       "    </tr>\n",
       "    <tr>\n",
       "      <th>1923</th>\n",
       "      <td>pack\\Revista-Española-de-Antropología-American...</td>\n",
       "      <td>1. introducción ¿cómo se produce la diferencia...</td>\n",
       "    </tr>\n",
       "    <tr>\n",
       "      <th>1924</th>\n",
       "      <td>pack\\Revista-Española-de-Antropología-American...</td>\n",
       "      <td>cómo citar: ramo affonso, ana maría. 2024. yvy...</td>\n",
       "    </tr>\n",
       "  </tbody>\n",
       "</table>\n",
       "<p>1925 rows × 2 columns</p>\n",
       "</div>"
      ],
      "text/plain": [
       "                                                   Path  \\\n",
       "0     pack\\AIBR\\2006-Aymaras-peruanos-y-chilenos-en-...   \n",
       "1     pack\\AIBR\\2006-Cambios-de-género-y-discriminac...   \n",
       "2     pack\\AIBR\\2006-Consecuencias-personales-en-la-...   \n",
       "3     pack\\AIBR\\2006-Construcción-de-modelos-de-géne...   \n",
       "4     pack\\AIBR\\2006-Contribuciones-feministas-a-pro...   \n",
       "...                                                 ...   \n",
       "1920  pack\\Revista-Española-de-Antropología-American...   \n",
       "1921  pack\\Revista-Española-de-Antropología-American...   \n",
       "1922  pack\\Revista-Española-de-Antropología-American...   \n",
       "1923  pack\\Revista-Española-de-Antropología-American...   \n",
       "1924  pack\\Revista-Española-de-Antropología-American...   \n",
       "\n",
       "                                                   Text  \n",
       "0     catalogada y caricaturizada bajo el rótulo de ...  \n",
       "1     agradecimientos la autora desea agradecer a la...  \n",
       "2     has carried out the biggest employment adjustm...  \n",
       "3     tampoco queremos que se entienda identidad de ...  \n",
       "4     is irrelevant for others con el que teresa del...  \n",
       "...                                                 ...  \n",
       "1920  cómo citar: burguete cal y mayor, araceli. 202...  \n",
       "1921  project exposed some critical questionings. in...  \n",
       "1922  1. introducción el interés por los quipus, que...  \n",
       "1923  1. introducción ¿cómo se produce la diferencia...  \n",
       "1924  cómo citar: ramo affonso, ana maría. 2024. yvy...  \n",
       "\n",
       "[1925 rows x 2 columns]"
      ]
     },
     "execution_count": 13,
     "metadata": {},
     "output_type": "execute_result"
    }
   ],
   "source": [
    "df = pd.read_csv(\"preprocessed.csv\")\n",
    "df"
   ]
  },
  {
   "cell_type": "code",
   "execution_count": 11,
   "metadata": {},
   "outputs": [
    {
     "data": {
      "text/plain": [
       "(57716, 57716)"
      ]
     },
     "execution_count": 11,
     "metadata": {},
     "output_type": "execute_result"
    }
   ],
   "source": [
    "def divide_and_assign_ids(i, text):\n",
    "    if type(text) != str:\n",
    "        return [], []\n",
    "\n",
    "    frags = divide_document(text)\n",
    "    return frags, [i] * len(frags)\n",
    "\n",
    "fragments = []\n",
    "fragments_ids = []\n",
    "\n",
    "with concurrent.futures.ThreadPoolExecutor(max_workers=10) as executor:\n",
    "    results = list(executor.map(lambda row: divide_and_assign_ids(row[0], row[1][\"Text\"]),\n",
    "                                df.iterrows()))\n",
    "\n",
    "    for frags, ids in results:\n",
    "        if not frags or not ids:\n",
    "            continue\n",
    "\n",
    "        fragments.extend(frags)\n",
    "        fragments_ids.extend(ids)\n",
    "\n",
    "len(fragments), len(fragments_ids)"
   ]
  },
  {
   "cell_type": "code",
   "execution_count": 14,
   "metadata": {},
   "outputs": [],
   "source": [
    "with open(\"fragments.pkl\", \"wb\") as f:\n",
    "    pickle.dump((fragments, fragments_ids), f)"
   ]
  },
  {
   "cell_type": "code",
   "execution_count": 5,
   "metadata": {},
   "outputs": [],
   "source": [
    "with open(\"fragments.pkl\", \"rb\") as f:\n",
    "    fragments, fragments_ids = pickle.load(f)"
   ]
  },
  {
   "cell_type": "code",
   "execution_count": 16,
   "metadata": {},
   "outputs": [
    {
     "name": "stdout",
     "output_type": "stream",
     "text": [
      "torch.Size([57716, 384])\n"
     ]
    }
   ],
   "source": [
    "embeddings = model.encode(fragments, convert_to_tensor=True, device=device)\n",
    "print(embeddings.shape)"
   ]
  },
  {
   "cell_type": "code",
   "execution_count": 17,
   "metadata": {},
   "outputs": [
    {
     "data": {
      "text/plain": [
       "(57716, 384)"
      ]
     },
     "execution_count": 17,
     "metadata": {},
     "output_type": "execute_result"
    }
   ],
   "source": [
    "embeddings_np = embeddings.cpu().numpy()\n",
    "embeddings_np.shape"
   ]
  },
  {
   "cell_type": "code",
   "execution_count": 19,
   "metadata": {},
   "outputs": [
    {
     "data": {
      "text/plain": [
       "<faiss.swigfaiss_avx2.IndexFlatL2; proxy of <Swig Object of type 'faiss::IndexFlatL2 *' at 0x0000023FFF5C7D20> >"
      ]
     },
     "execution_count": 19,
     "metadata": {},
     "output_type": "execute_result"
    }
   ],
   "source": [
    "index = faiss.IndexFlatL2(embeddings_np.shape[1])\n",
    "index.add(embeddings_np)\n",
    "index"
   ]
  },
  {
   "cell_type": "code",
   "execution_count": 21,
   "metadata": {},
   "outputs": [],
   "source": [
    "faiss.write_index(index, \"index-sentence-transformers.faiss\")"
   ]
  },
  {
   "cell_type": "code",
   "execution_count": 6,
   "metadata": {},
   "outputs": [],
   "source": [
    "index = faiss.read_index(\"index-sentence-transformers.faiss\")"
   ]
  },
  {
   "cell_type": "code",
   "execution_count": 7,
   "metadata": {},
   "outputs": [],
   "source": [
    "def search(query, top_k=10):\n",
    "    query_embedding = model.encode([query.lower()], convert_to_tensor=True, device=device).cpu().numpy()\n",
    "    _, indices = index.search(query_embedding, k=top_k*4)\n",
    "\n",
    "    already_in = set()\n",
    "    results = []\n",
    "    for i in indices[0]:\n",
    "        id = fragments_ids[i]\n",
    "        if id in already_in:\n",
    "            continue\n",
    "\n",
    "        already_in.add(id)\n",
    "        results.append(id)\n",
    "        if len(results) == top_k:\n",
    "            break\n",
    "\n",
    "    return df.iloc[results]"
   ]
  },
  {
   "cell_type": "code",
   "execution_count": 14,
   "metadata": {},
   "outputs": [
    {
     "data": {
      "text/html": [
       "<div>\n",
       "<style scoped>\n",
       "    .dataframe tbody tr th:only-of-type {\n",
       "        vertical-align: middle;\n",
       "    }\n",
       "\n",
       "    .dataframe tbody tr th {\n",
       "        vertical-align: top;\n",
       "    }\n",
       "\n",
       "    .dataframe thead th {\n",
       "        text-align: right;\n",
       "    }\n",
       "</style>\n",
       "<table border=\"1\" class=\"dataframe\">\n",
       "  <thead>\n",
       "    <tr style=\"text-align: right;\">\n",
       "      <th></th>\n",
       "      <th>Path</th>\n",
       "      <th>Text</th>\n",
       "    </tr>\n",
       "  </thead>\n",
       "  <tbody>\n",
       "    <tr>\n",
       "      <th>1370</th>\n",
       "      <td>pack\\Revista-de-Indias\\2020-Aquestos-y-otros-t...</td>\n",
       "      <td>vios y contemporáneos que comprende los fallec...</td>\n",
       "    </tr>\n",
       "    <tr>\n",
       "      <th>1160</th>\n",
       "      <td>pack\\Revista-de-Indias\\2010-La-provincia-de-An...</td>\n",
       "      <td>nistrativo de chile. toda el área que comprend...</td>\n",
       "    </tr>\n",
       "    <tr>\n",
       "      <th>828</th>\n",
       "      <td>pack\\Anuario-de-Estudios-Americanos\\2021-Const...</td>\n",
       "      <td>la red de caminos en chile poco cambió hasta e...</td>\n",
       "    </tr>\n",
       "    <tr>\n",
       "      <th>430</th>\n",
       "      <td>pack\\Anuario-de-Estudios-Americanos\\2001-El-ca...</td>\n",
       "      <td>por su parte, los ocupantes peruanos del terri...</td>\n",
       "    </tr>\n",
       "    <tr>\n",
       "      <th>831</th>\n",
       "      <td>pack\\Anuario-de-Estudios-Americanos\\2021-El-Do...</td>\n",
       "      <td>introducción el encuentro entre los dos imperi...</td>\n",
       "    </tr>\n",
       "    <tr>\n",
       "      <th>1347</th>\n",
       "      <td>pack\\Revista-de-Indias\\2019-Colonialismo-depor...</td>\n",
       "      <td>las deportaciones. una política del capitán ge...</td>\n",
       "    </tr>\n",
       "    <tr>\n",
       "      <th>1643</th>\n",
       "      <td>pack\\Revista-Española-de-Antropología-American...</td>\n",
       "      <td>reaa_40_2_06_lopezperez_maquetación 1 02/07/20...</td>\n",
       "    </tr>\n",
       "    <tr>\n",
       "      <th>834</th>\n",
       "      <td>pack\\Anuario-de-Estudios-Americanos\\2021-Entre...</td>\n",
       "      <td>introducción1 a principios de 1762 era ya evid...</td>\n",
       "    </tr>\n",
       "    <tr>\n",
       "      <th>1067</th>\n",
       "      <td>pack\\Revista-de-Indias\\2006-Poder-y-redes-de-i...</td>\n",
       "      <td>mer asentamiento sería posteriormente enriquec...</td>\n",
       "    </tr>\n",
       "    <tr>\n",
       "      <th>863</th>\n",
       "      <td>pack\\Anuario-de-Estudios-Americanos\\2022-Çiert...</td>\n",
       "      <td>un aprendiz camino a las indias en 1493, un jo...</td>\n",
       "    </tr>\n",
       "  </tbody>\n",
       "</table>\n",
       "</div>"
      ],
      "text/plain": [
       "                                                   Path  \\\n",
       "1370  pack\\Revista-de-Indias\\2020-Aquestos-y-otros-t...   \n",
       "1160  pack\\Revista-de-Indias\\2010-La-provincia-de-An...   \n",
       "828   pack\\Anuario-de-Estudios-Americanos\\2021-Const...   \n",
       "430   pack\\Anuario-de-Estudios-Americanos\\2001-El-ca...   \n",
       "831   pack\\Anuario-de-Estudios-Americanos\\2021-El-Do...   \n",
       "1347  pack\\Revista-de-Indias\\2019-Colonialismo-depor...   \n",
       "1643  pack\\Revista-Española-de-Antropología-American...   \n",
       "834   pack\\Anuario-de-Estudios-Americanos\\2021-Entre...   \n",
       "1067  pack\\Revista-de-Indias\\2006-Poder-y-redes-de-i...   \n",
       "863   pack\\Anuario-de-Estudios-Americanos\\2022-Çiert...   \n",
       "\n",
       "                                                   Text  \n",
       "1370  vios y contemporáneos que comprende los fallec...  \n",
       "1160  nistrativo de chile. toda el área que comprend...  \n",
       "828   la red de caminos en chile poco cambió hasta e...  \n",
       "430   por su parte, los ocupantes peruanos del terri...  \n",
       "831   introducción el encuentro entre los dos imperi...  \n",
       "1347  las deportaciones. una política del capitán ge...  \n",
       "1643  reaa_40_2_06_lopezperez_maquetación 1 02/07/20...  \n",
       "834   introducción1 a principios de 1762 era ya evid...  \n",
       "1067  mer asentamiento sería posteriormente enriquec...  \n",
       "863   un aprendiz camino a las indias en 1493, un jo...  "
      ]
     },
     "execution_count": 14,
     "metadata": {},
     "output_type": "execute_result"
    }
   ],
   "source": [
    "search(new_query)"
   ]
  },
  {
   "cell_type": "code",
   "execution_count": null,
   "metadata": {},
   "outputs": [],
   "source": []
  }
 ],
 "metadata": {
  "kernelspec": {
   "display_name": ".venv",
   "language": "python",
   "name": "python3"
  },
  "language_info": {
   "codemirror_mode": {
    "name": "ipython",
    "version": 3
   },
   "file_extension": ".py",
   "mimetype": "text/x-python",
   "name": "python",
   "nbconvert_exporter": "python",
   "pygments_lexer": "ipython3",
   "version": "3.12.5"
  }
 },
 "nbformat": 4,
 "nbformat_minor": 2
}
