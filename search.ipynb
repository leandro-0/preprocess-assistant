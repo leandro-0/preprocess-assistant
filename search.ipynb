{
 "cells": [
  {
   "cell_type": "code",
   "execution_count": 18,
   "metadata": {},
   "outputs": [
    {
     "name": "stdout",
     "output_type": "stream",
     "text": [
      "NVIDIA GeForce RTX 2070 SUPER\n"
     ]
    }
   ],
   "source": [
    "from sentence_transformers import SentenceTransformer\n",
    "import torch\n",
    "import spacy\n",
    "import pandas as pd\n",
    "import numpy as np\n",
    "import concurrent.futures\n",
    "import pickle\n",
    "import faiss\n",
    "\n",
    "nlp = spacy.load(\"es_core_news_sm\")\n",
    "if torch.cuda.is_available():\n",
    "    print(torch.cuda.get_device_name(torch.cuda.current_device()))"
   ]
  },
  {
   "cell_type": "code",
   "execution_count": 13,
   "metadata": {},
   "outputs": [],
   "source": [
    "model = SentenceTransformer('sentence-transformers/paraphrase-multilingual-MiniLM-L12-v2')\n",
    "device = torch.device(\"cuda\" if torch.cuda.is_available() else \"cpu\")\n",
    "model = model.to(device)"
   ]
  },
  {
   "cell_type": "code",
   "execution_count": 8,
   "metadata": {},
   "outputs": [],
   "source": [
    "def divide_document(text, max_words=300):\n",
    "    doc = nlp(text)\n",
    "    sents = [sent.text for sent in doc.sents]\n",
    "    fragments = []\n",
    "    temp = \"\"\n",
    "\n",
    "    for sent in sents:\n",
    "        if len(temp.split()) + len(sent.split()) <= max_words:\n",
    "            temp += \" \" + sent\n",
    "        else:\n",
    "            fragments.append(temp.strip())\n",
    "            temp = sent\n",
    "\n",
    "    if temp:\n",
    "        fragments.append(temp.strip())\n",
    "\n",
    "    return fragments"
   ]
  },
  {
   "cell_type": "code",
   "execution_count": 9,
   "metadata": {},
   "outputs": [
    {
     "data": {
      "text/html": [
       "<div>\n",
       "<style scoped>\n",
       "    .dataframe tbody tr th:only-of-type {\n",
       "        vertical-align: middle;\n",
       "    }\n",
       "\n",
       "    .dataframe tbody tr th {\n",
       "        vertical-align: top;\n",
       "    }\n",
       "\n",
       "    .dataframe thead th {\n",
       "        text-align: right;\n",
       "    }\n",
       "</style>\n",
       "<table border=\"1\" class=\"dataframe\">\n",
       "  <thead>\n",
       "    <tr style=\"text-align: right;\">\n",
       "      <th></th>\n",
       "      <th>Path</th>\n",
       "      <th>Text</th>\n",
       "    </tr>\n",
       "  </thead>\n",
       "  <tbody>\n",
       "    <tr>\n",
       "      <th>0</th>\n",
       "      <td>pack\\AIBR\\2006-Aymaras-peruanos-y-chilenos-en-...</td>\n",
       "      <td>catalogada y caricaturizada bajo el rótulo de ...</td>\n",
       "    </tr>\n",
       "    <tr>\n",
       "      <th>1</th>\n",
       "      <td>pack\\AIBR\\2006-Cambios-de-género-y-discriminac...</td>\n",
       "      <td>agradecimientos la autora desea agradecer a la...</td>\n",
       "    </tr>\n",
       "    <tr>\n",
       "      <th>2</th>\n",
       "      <td>pack\\AIBR\\2006-Consecuencias-personales-en-la-...</td>\n",
       "      <td>has carried out the biggest employment adjustm...</td>\n",
       "    </tr>\n",
       "    <tr>\n",
       "      <th>3</th>\n",
       "      <td>pack\\AIBR\\2006-Construcción-de-modelos-de-géne...</td>\n",
       "      <td>tampoco queremos que se entienda identidad de ...</td>\n",
       "    </tr>\n",
       "    <tr>\n",
       "      <th>4</th>\n",
       "      <td>pack\\AIBR\\2006-Contribuciones-feministas-a-pro...</td>\n",
       "      <td>is irrelevant for others con el que teresa del...</td>\n",
       "    </tr>\n",
       "    <tr>\n",
       "      <th>...</th>\n",
       "      <td>...</td>\n",
       "      <td>...</td>\n",
       "    </tr>\n",
       "    <tr>\n",
       "      <th>1920</th>\n",
       "      <td>pack\\Revista-Española-de-Antropología-American...</td>\n",
       "      <td>cómo citar: burguete cal y mayor, araceli. 202...</td>\n",
       "    </tr>\n",
       "    <tr>\n",
       "      <th>1921</th>\n",
       "      <td>pack\\Revista-Española-de-Antropología-American...</td>\n",
       "      <td>project exposed some critical questionings. in...</td>\n",
       "    </tr>\n",
       "    <tr>\n",
       "      <th>1922</th>\n",
       "      <td>pack\\Revista-Española-de-Antropología-American...</td>\n",
       "      <td>1. introducción el interés por los quipus, que...</td>\n",
       "    </tr>\n",
       "    <tr>\n",
       "      <th>1923</th>\n",
       "      <td>pack\\Revista-Española-de-Antropología-American...</td>\n",
       "      <td>1. introducción ¿cómo se produce la diferencia...</td>\n",
       "    </tr>\n",
       "    <tr>\n",
       "      <th>1924</th>\n",
       "      <td>pack\\Revista-Española-de-Antropología-American...</td>\n",
       "      <td>cómo citar: ramo affonso, ana maría. 2024. yvy...</td>\n",
       "    </tr>\n",
       "  </tbody>\n",
       "</table>\n",
       "<p>1925 rows × 2 columns</p>\n",
       "</div>"
      ],
      "text/plain": [
       "                                                   Path  \\\n",
       "0     pack\\AIBR\\2006-Aymaras-peruanos-y-chilenos-en-...   \n",
       "1     pack\\AIBR\\2006-Cambios-de-género-y-discriminac...   \n",
       "2     pack\\AIBR\\2006-Consecuencias-personales-en-la-...   \n",
       "3     pack\\AIBR\\2006-Construcción-de-modelos-de-géne...   \n",
       "4     pack\\AIBR\\2006-Contribuciones-feministas-a-pro...   \n",
       "...                                                 ...   \n",
       "1920  pack\\Revista-Española-de-Antropología-American...   \n",
       "1921  pack\\Revista-Española-de-Antropología-American...   \n",
       "1922  pack\\Revista-Española-de-Antropología-American...   \n",
       "1923  pack\\Revista-Española-de-Antropología-American...   \n",
       "1924  pack\\Revista-Española-de-Antropología-American...   \n",
       "\n",
       "                                                   Text  \n",
       "0     catalogada y caricaturizada bajo el rótulo de ...  \n",
       "1     agradecimientos la autora desea agradecer a la...  \n",
       "2     has carried out the biggest employment adjustm...  \n",
       "3     tampoco queremos que se entienda identidad de ...  \n",
       "4     is irrelevant for others con el que teresa del...  \n",
       "...                                                 ...  \n",
       "1920  cómo citar: burguete cal y mayor, araceli. 202...  \n",
       "1921  project exposed some critical questionings. in...  \n",
       "1922  1. introducción el interés por los quipus, que...  \n",
       "1923  1. introducción ¿cómo se produce la diferencia...  \n",
       "1924  cómo citar: ramo affonso, ana maría. 2024. yvy...  \n",
       "\n",
       "[1925 rows x 2 columns]"
      ]
     },
     "execution_count": 9,
     "metadata": {},
     "output_type": "execute_result"
    }
   ],
   "source": [
    "df = pd.read_csv(\"preprocessed.csv\")\n",
    "df"
   ]
  },
  {
   "cell_type": "code",
   "execution_count": 11,
   "metadata": {},
   "outputs": [
    {
     "data": {
      "text/plain": [
       "(57716, 57716)"
      ]
     },
     "execution_count": 11,
     "metadata": {},
     "output_type": "execute_result"
    }
   ],
   "source": [
    "def divide_and_assign_ids(i, text):\n",
    "    if type(text) != str:\n",
    "        return [], []\n",
    "\n",
    "    frags = divide_document(text)\n",
    "    return frags, [i] * len(frags)\n",
    "\n",
    "fragments = []\n",
    "fragments_ids = []\n",
    "\n",
    "with concurrent.futures.ThreadPoolExecutor(max_workers=10) as executor:\n",
    "    results = list(executor.map(lambda row: divide_and_assign_ids(row[0], row[1][\"Text\"]),\n",
    "                                df.iterrows()))\n",
    "\n",
    "    for frags, ids in results:\n",
    "        if not frags or not ids:\n",
    "            continue\n",
    "\n",
    "        fragments.extend(frags)\n",
    "        fragments_ids.extend(ids)\n",
    "\n",
    "len(fragments), len(fragments_ids)"
   ]
  },
  {
   "cell_type": "code",
   "execution_count": 14,
   "metadata": {},
   "outputs": [],
   "source": [
    "with open(\"fragments.pkl\", \"wb\") as f:\n",
    "    pickle.dump((fragments, fragments_ids), f)"
   ]
  },
  {
   "cell_type": "code",
   "execution_count": 16,
   "metadata": {},
   "outputs": [
    {
     "name": "stdout",
     "output_type": "stream",
     "text": [
      "torch.Size([57716, 384])\n"
     ]
    }
   ],
   "source": [
    "embeddings = model.encode(fragments, convert_to_tensor=True, device=device)\n",
    "print(embeddings.shape)"
   ]
  },
  {
   "cell_type": "code",
   "execution_count": 17,
   "metadata": {},
   "outputs": [
    {
     "data": {
      "text/plain": [
       "(57716, 384)"
      ]
     },
     "execution_count": 17,
     "metadata": {},
     "output_type": "execute_result"
    }
   ],
   "source": [
    "embeddings_np = embeddings.cpu().numpy()\n",
    "embeddings_np.shape"
   ]
  },
  {
   "cell_type": "code",
   "execution_count": 19,
   "metadata": {},
   "outputs": [
    {
     "data": {
      "text/plain": [
       "<faiss.swigfaiss_avx2.IndexFlatL2; proxy of <Swig Object of type 'faiss::IndexFlatL2 *' at 0x0000023FFF5C7D20> >"
      ]
     },
     "execution_count": 19,
     "metadata": {},
     "output_type": "execute_result"
    }
   ],
   "source": [
    "index = faiss.IndexFlatL2(embeddings_np.shape[1])\n",
    "index.add(embeddings_np)\n",
    "index"
   ]
  },
  {
   "cell_type": "code",
   "execution_count": 21,
   "metadata": {},
   "outputs": [],
   "source": [
    "faiss.write_index(index, \"index-sentence-transformers.faiss\")"
   ]
  },
  {
   "cell_type": "code",
   "execution_count": 51,
   "metadata": {},
   "outputs": [],
   "source": [
    "def search(query, top_k=10):\n",
    "    query_embedding = model.encode([query.lower()], convert_to_tensor=True, device=device).cpu().numpy()\n",
    "    _, indices = index.search(query_embedding, k=top_k*4)\n",
    "\n",
    "    already_in = set()\n",
    "    results = []\n",
    "    for i in indices[0]:\n",
    "        id = fragments_ids[i]\n",
    "        if id in already_in:\n",
    "            continue\n",
    "\n",
    "        already_in.add(id)\n",
    "        results.append(id)\n",
    "        if len(results) == top_k:\n",
    "            break\n",
    "\n",
    "    return df.iloc[results]"
   ]
  },
  {
   "cell_type": "code",
   "execution_count": 53,
   "metadata": {},
   "outputs": [
    {
     "data": {
      "text/html": [
       "<div>\n",
       "<style scoped>\n",
       "    .dataframe tbody tr th:only-of-type {\n",
       "        vertical-align: middle;\n",
       "    }\n",
       "\n",
       "    .dataframe tbody tr th {\n",
       "        vertical-align: top;\n",
       "    }\n",
       "\n",
       "    .dataframe thead th {\n",
       "        text-align: right;\n",
       "    }\n",
       "</style>\n",
       "<table border=\"1\" class=\"dataframe\">\n",
       "  <thead>\n",
       "    <tr style=\"text-align: right;\">\n",
       "      <th></th>\n",
       "      <th>Path</th>\n",
       "      <th>Text</th>\n",
       "    </tr>\n",
       "  </thead>\n",
       "  <tbody>\n",
       "    <tr>\n",
       "      <th>857</th>\n",
       "      <td>pack\\Anuario-de-Estudios-Americanos\\2022-Naval...</td>\n",
       "      <td>navalismo y comunidad hispánica. introducción ...</td>\n",
       "    </tr>\n",
       "    <tr>\n",
       "      <th>578</th>\n",
       "      <td>pack\\Anuario-de-Estudios-Americanos\\2009-Cober...</td>\n",
       "      <td>la migración extranjera en el perú republicano...</td>\n",
       "    </tr>\n",
       "    <tr>\n",
       "      <th>1347</th>\n",
       "      <td>pack\\Revista-de-Indias\\2019-Colonialismo-depor...</td>\n",
       "      <td>las deportaciones. una política del capitán ge...</td>\n",
       "    </tr>\n",
       "    <tr>\n",
       "      <th>947</th>\n",
       "      <td>pack\\Revista-de-Indias\\2001-Transición-polític...</td>\n",
       "      <td>la situación económica de la isla no era nada ...</td>\n",
       "    </tr>\n",
       "    <tr>\n",
       "      <th>909</th>\n",
       "      <td>pack\\Revista-de-Indias\\2000-La-guerra-hispanon...</td>\n",
       "      <td>la evolución de los hechos y acontecimientos h...</td>\n",
       "    </tr>\n",
       "    <tr>\n",
       "      <th>786</th>\n",
       "      <td>pack\\Anuario-de-Estudios-Americanos\\2019-La-de...</td>\n",
       "      <td>en 1739 el débil equilibrio que hacía veintisé...</td>\n",
       "    </tr>\n",
       "    <tr>\n",
       "      <th>471</th>\n",
       "      <td>pack\\Anuario-de-Estudios-Americanos\\2003-La-Co...</td>\n",
       "      <td>bajo trata de rescatar el proceso que llevó a ...</td>\n",
       "    </tr>\n",
       "    <tr>\n",
       "      <th>354</th>\n",
       "      <td>pack\\Anuario-de-Estudios-Americanos\\1997-Ameri...</td>\n",
       "      <td>en el litoral pacífico, las acciones bélicas c...</td>\n",
       "    </tr>\n",
       "    <tr>\n",
       "      <th>753</th>\n",
       "      <td>pack\\Anuario-de-Estudios-Americanos\\2017-Regal...</td>\n",
       "      <td>introducción desde 1765 hasta 1784 un grupo de...</td>\n",
       "    </tr>\n",
       "    <tr>\n",
       "      <th>433</th>\n",
       "      <td>pack\\Anuario-de-Estudios-Americanos\\2001-El-ho...</td>\n",
       "      <td>italia. francia y españa coincidían en la defe...</td>\n",
       "    </tr>\n",
       "  </tbody>\n",
       "</table>\n",
       "</div>"
      ],
      "text/plain": [
       "                                                   Path  \\\n",
       "857   pack\\Anuario-de-Estudios-Americanos\\2022-Naval...   \n",
       "578   pack\\Anuario-de-Estudios-Americanos\\2009-Cober...   \n",
       "1347  pack\\Revista-de-Indias\\2019-Colonialismo-depor...   \n",
       "947   pack\\Revista-de-Indias\\2001-Transición-polític...   \n",
       "909   pack\\Revista-de-Indias\\2000-La-guerra-hispanon...   \n",
       "786   pack\\Anuario-de-Estudios-Americanos\\2019-La-de...   \n",
       "471   pack\\Anuario-de-Estudios-Americanos\\2003-La-Co...   \n",
       "354   pack\\Anuario-de-Estudios-Americanos\\1997-Ameri...   \n",
       "753   pack\\Anuario-de-Estudios-Americanos\\2017-Regal...   \n",
       "433   pack\\Anuario-de-Estudios-Americanos\\2001-El-ho...   \n",
       "\n",
       "                                                   Text  \n",
       "857   navalismo y comunidad hispánica. introducción ...  \n",
       "578   la migración extranjera en el perú republicano...  \n",
       "1347  las deportaciones. una política del capitán ge...  \n",
       "947   la situación económica de la isla no era nada ...  \n",
       "909   la evolución de los hechos y acontecimientos h...  \n",
       "786   en 1739 el débil equilibrio que hacía veintisé...  \n",
       "471   bajo trata de rescatar el proceso que llevó a ...  \n",
       "354   en el litoral pacífico, las acciones bélicas c...  \n",
       "753   introducción desde 1765 hasta 1784 un grupo de...  \n",
       "433   italia. francia y españa coincidían en la defe...  "
      ]
     },
     "execution_count": 53,
     "metadata": {},
     "output_type": "execute_result"
    }
   ],
   "source": [
    "q = \"\"\"\n",
    "La Guerra Hispano-Norteamericana, que tuvo lugar en 1898, fue un conflicto breve pero significativo que marcó el fin del Imperio español y el surgimiento de Estados Unidos como potencia global. En Filipinas, este conflicto tuvo un impacto profundo, ya que el archipiélago era una de las últimas colonias importantes de España en Asia.\n",
    "\n",
    "El 1 de mayo de 1898, la flota estadounidense, al mando del comodoro George Dewey, derrotó a la armada española en la Batalla de la Bahía de Manila. Esta victoria fue decisiva y relativamente rápida, ya que la flota española, aunque valiente, estaba obsoleta y mal equipada en comparación con los buques modernos de Estados Unidos. La batalla se libró en cuestión de horas, y los estadounidenses lograron destruir o capturar todos los barcos españoles sin sufrir bajas significativas.\n",
    "\n",
    "Tras la derrota española en la bahía de Manila, Estados Unidos tomó el control de la capital filipina. Sin embargo, este cambio de poder no significó la independencia inmediata para Filipinas. En lugar de ello, el archipiélago se convirtió en un nuevo territorio bajo control estadounidense, lo que llevó a la Guerra Filipino-Estadounidense (1899-1902), un conflicto sangriento entre las fuerzas estadounidenses y los independentistas filipinos que luchaban por su libertad.\n",
    "\n",
    "La Guerra Hispano-Norteamericana en Filipinas no solo puso fin a más de tres siglos de dominio español en el archipiélago, sino que también marcó el inicio de una nueva era de influencia estadounidense en la región, con consecuencias duraderas para la política, la cultura y la sociedad filipinas.\n",
    "\"\"\"\n",
    "\n",
    "search(q)"
   ]
  },
  {
   "cell_type": "code",
   "execution_count": null,
   "metadata": {},
   "outputs": [],
   "source": []
  }
 ],
 "metadata": {
  "kernelspec": {
   "display_name": ".venv",
   "language": "python",
   "name": "python3"
  },
  "language_info": {
   "codemirror_mode": {
    "name": "ipython",
    "version": 3
   },
   "file_extension": ".py",
   "mimetype": "text/x-python",
   "name": "python",
   "nbconvert_exporter": "python",
   "pygments_lexer": "ipython3",
   "version": "3.12.5"
  }
 },
 "nbformat": 4,
 "nbformat_minor": 2
}
