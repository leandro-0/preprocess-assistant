{
 "cells": [
  {
   "cell_type": "code",
   "execution_count": 18,
   "metadata": {},
   "outputs": [
    {
     "name": "stdout",
     "output_type": "stream",
     "text": [
      "NVIDIA GeForce RTX 2070 SUPER\n"
     ]
    }
   ],
   "source": [
    "from sentence_transformers import SentenceTransformer\n",
    "import torch\n",
    "import spacy\n",
    "import pandas as pd\n",
    "import numpy as np\n",
    "import concurrent.futures\n",
    "import pickle\n",
    "import faiss\n",
    "\n",
    "nlp = spacy.load(\"es_core_news_sm\")\n",
    "if torch.cuda.is_available():\n",
    "    print(torch.cuda.get_device_name(torch.cuda.current_device()))"
   ]
  },
  {
   "cell_type": "code",
   "execution_count": 13,
   "metadata": {},
   "outputs": [],
   "source": [
    "model = SentenceTransformer('sentence-transformers/paraphrase-multilingual-MiniLM-L12-v2')\n",
    "device = torch.device(\"cuda\" if torch.cuda.is_available() else \"cpu\")\n",
    "model = model.to(device)"
   ]
  },
  {
   "cell_type": "code",
   "execution_count": 8,
   "metadata": {},
   "outputs": [],
   "source": [
    "def divide_document(text, max_words=300):\n",
    "    doc = nlp(text)\n",
    "    sents = [sent.text for sent in doc.sents]\n",
    "    fragments = []\n",
    "    temp = \"\"\n",
    "\n",
    "    for sent in sents:\n",
    "        if len(temp.split()) + len(sent.split()) <= max_words:\n",
    "            temp += \" \" + sent\n",
    "        else:\n",
    "            fragments.append(temp.strip())\n",
    "            temp = sent\n",
    "\n",
    "    if temp:\n",
    "        fragments.append(temp.strip())\n",
    "\n",
    "    return fragments"
   ]
  },
  {
   "cell_type": "code",
   "execution_count": 9,
   "metadata": {},
   "outputs": [
    {
     "data": {
      "text/html": [
       "<div>\n",
       "<style scoped>\n",
       "    .dataframe tbody tr th:only-of-type {\n",
       "        vertical-align: middle;\n",
       "    }\n",
       "\n",
       "    .dataframe tbody tr th {\n",
       "        vertical-align: top;\n",
       "    }\n",
       "\n",
       "    .dataframe thead th {\n",
       "        text-align: right;\n",
       "    }\n",
       "</style>\n",
       "<table border=\"1\" class=\"dataframe\">\n",
       "  <thead>\n",
       "    <tr style=\"text-align: right;\">\n",
       "      <th></th>\n",
       "      <th>Path</th>\n",
       "      <th>Text</th>\n",
       "    </tr>\n",
       "  </thead>\n",
       "  <tbody>\n",
       "    <tr>\n",
       "      <th>0</th>\n",
       "      <td>pack\\AIBR\\2006-Aymaras-peruanos-y-chilenos-en-...</td>\n",
       "      <td>catalogada y caricaturizada bajo el rótulo de ...</td>\n",
       "    </tr>\n",
       "    <tr>\n",
       "      <th>1</th>\n",
       "      <td>pack\\AIBR\\2006-Cambios-de-género-y-discriminac...</td>\n",
       "      <td>agradecimientos la autora desea agradecer a la...</td>\n",
       "    </tr>\n",
       "    <tr>\n",
       "      <th>2</th>\n",
       "      <td>pack\\AIBR\\2006-Consecuencias-personales-en-la-...</td>\n",
       "      <td>has carried out the biggest employment adjustm...</td>\n",
       "    </tr>\n",
       "    <tr>\n",
       "      <th>3</th>\n",
       "      <td>pack\\AIBR\\2006-Construcción-de-modelos-de-géne...</td>\n",
       "      <td>tampoco queremos que se entienda identidad de ...</td>\n",
       "    </tr>\n",
       "    <tr>\n",
       "      <th>4</th>\n",
       "      <td>pack\\AIBR\\2006-Contribuciones-feministas-a-pro...</td>\n",
       "      <td>is irrelevant for others con el que teresa del...</td>\n",
       "    </tr>\n",
       "    <tr>\n",
       "      <th>...</th>\n",
       "      <td>...</td>\n",
       "      <td>...</td>\n",
       "    </tr>\n",
       "    <tr>\n",
       "      <th>1920</th>\n",
       "      <td>pack\\Revista-Española-de-Antropología-American...</td>\n",
       "      <td>cómo citar: burguete cal y mayor, araceli. 202...</td>\n",
       "    </tr>\n",
       "    <tr>\n",
       "      <th>1921</th>\n",
       "      <td>pack\\Revista-Española-de-Antropología-American...</td>\n",
       "      <td>project exposed some critical questionings. in...</td>\n",
       "    </tr>\n",
       "    <tr>\n",
       "      <th>1922</th>\n",
       "      <td>pack\\Revista-Española-de-Antropología-American...</td>\n",
       "      <td>1. introducción el interés por los quipus, que...</td>\n",
       "    </tr>\n",
       "    <tr>\n",
       "      <th>1923</th>\n",
       "      <td>pack\\Revista-Española-de-Antropología-American...</td>\n",
       "      <td>1. introducción ¿cómo se produce la diferencia...</td>\n",
       "    </tr>\n",
       "    <tr>\n",
       "      <th>1924</th>\n",
       "      <td>pack\\Revista-Española-de-Antropología-American...</td>\n",
       "      <td>cómo citar: ramo affonso, ana maría. 2024. yvy...</td>\n",
       "    </tr>\n",
       "  </tbody>\n",
       "</table>\n",
       "<p>1925 rows × 2 columns</p>\n",
       "</div>"
      ],
      "text/plain": [
       "                                                   Path  \\\n",
       "0     pack\\AIBR\\2006-Aymaras-peruanos-y-chilenos-en-...   \n",
       "1     pack\\AIBR\\2006-Cambios-de-género-y-discriminac...   \n",
       "2     pack\\AIBR\\2006-Consecuencias-personales-en-la-...   \n",
       "3     pack\\AIBR\\2006-Construcción-de-modelos-de-géne...   \n",
       "4     pack\\AIBR\\2006-Contribuciones-feministas-a-pro...   \n",
       "...                                                 ...   \n",
       "1920  pack\\Revista-Española-de-Antropología-American...   \n",
       "1921  pack\\Revista-Española-de-Antropología-American...   \n",
       "1922  pack\\Revista-Española-de-Antropología-American...   \n",
       "1923  pack\\Revista-Española-de-Antropología-American...   \n",
       "1924  pack\\Revista-Española-de-Antropología-American...   \n",
       "\n",
       "                                                   Text  \n",
       "0     catalogada y caricaturizada bajo el rótulo de ...  \n",
       "1     agradecimientos la autora desea agradecer a la...  \n",
       "2     has carried out the biggest employment adjustm...  \n",
       "3     tampoco queremos que se entienda identidad de ...  \n",
       "4     is irrelevant for others con el que teresa del...  \n",
       "...                                                 ...  \n",
       "1920  cómo citar: burguete cal y mayor, araceli. 202...  \n",
       "1921  project exposed some critical questionings. in...  \n",
       "1922  1. introducción el interés por los quipus, que...  \n",
       "1923  1. introducción ¿cómo se produce la diferencia...  \n",
       "1924  cómo citar: ramo affonso, ana maría. 2024. yvy...  \n",
       "\n",
       "[1925 rows x 2 columns]"
      ]
     },
     "execution_count": 9,
     "metadata": {},
     "output_type": "execute_result"
    }
   ],
   "source": [
    "df = pd.read_csv(\"preprocessed.csv\")\n",
    "df"
   ]
  },
  {
   "cell_type": "code",
   "execution_count": null,
   "metadata": {},
   "outputs": [
    {
     "name": "stdout",
     "output_type": "stream",
     "text": [
      "ignored\n"
     ]
    },
    {
     "data": {
      "text/plain": [
       "(0, 0)"
      ]
     },
     "execution_count": 16,
     "metadata": {},
     "output_type": "execute_result"
    }
   ],
   "source": [
    "fragments = []\n",
    "fragments_ids = []\n",
    "\n",
    "for i, row in df.iterrows():\n",
    "    if type(row[\"Text\"]) != str:\n",
    "        continue\n",
    "    frags = divide_document(row[\"Text\"])\n",
    "    fragments += frags\n",
    "    fragments_ids += [i] * len(frags)\n",
    "\n",
    "len(fragments), len(fragments_ids)"
   ]
  },
  {
   "cell_type": "code",
   "execution_count": 11,
   "metadata": {},
   "outputs": [
    {
     "data": {
      "text/plain": [
       "(57716, 57716)"
      ]
     },
     "execution_count": 11,
     "metadata": {},
     "output_type": "execute_result"
    }
   ],
   "source": [
    "def divide_and_assign_ids(i, text):\n",
    "    if type(text) != str:\n",
    "        return [], []\n",
    "\n",
    "    frags = divide_document(text)\n",
    "    return frags, [i] * len(frags)\n",
    "\n",
    "fragments = []\n",
    "fragments_ids = []\n",
    "\n",
    "with concurrent.futures.ThreadPoolExecutor(max_workers=10) as executor:\n",
    "    results = list(executor.map(lambda row: divide_and_assign_ids(row[0], row[1][\"Text\"]),\n",
    "                                df.iterrows()))\n",
    "\n",
    "    for frags, ids in results:\n",
    "        if not frags or not ids:\n",
    "            continue\n",
    "\n",
    "        fragments.extend(frags)\n",
    "        fragments_ids.extend(ids)\n",
    "\n",
    "len(fragments), len(fragments_ids)"
   ]
  },
  {
   "cell_type": "code",
   "execution_count": 14,
   "metadata": {},
   "outputs": [],
   "source": [
    "with open(\"fragments.pkl\", \"wb\") as f:\n",
    "    pickle.dump((fragments, fragments_ids), f)"
   ]
  },
  {
   "cell_type": "code",
   "execution_count": 16,
   "metadata": {},
   "outputs": [
    {
     "name": "stdout",
     "output_type": "stream",
     "text": [
      "torch.Size([57716, 384])\n"
     ]
    }
   ],
   "source": [
    "embeddings = model.encode(fragments, convert_to_tensor=True, device=device)\n",
    "print(embeddings.shape)"
   ]
  },
  {
   "cell_type": "code",
   "execution_count": 17,
   "metadata": {},
   "outputs": [
    {
     "data": {
      "text/plain": [
       "(57716, 384)"
      ]
     },
     "execution_count": 17,
     "metadata": {},
     "output_type": "execute_result"
    }
   ],
   "source": [
    "embeddings_np = embeddings.cpu().numpy()\n",
    "embeddings_np.shape"
   ]
  },
  {
   "cell_type": "code",
   "execution_count": 19,
   "metadata": {},
   "outputs": [
    {
     "data": {
      "text/plain": [
       "<faiss.swigfaiss_avx2.IndexFlatL2; proxy of <Swig Object of type 'faiss::IndexFlatL2 *' at 0x0000023FFF5C7D20> >"
      ]
     },
     "execution_count": 19,
     "metadata": {},
     "output_type": "execute_result"
    }
   ],
   "source": [
    "index = faiss.IndexFlatL2(embeddings_np.shape[1])\n",
    "index.add(embeddings_np)\n",
    "index"
   ]
  },
  {
   "cell_type": "code",
   "execution_count": 21,
   "metadata": {},
   "outputs": [],
   "source": [
    "faiss.write_index(index, \"index-sentence-transformers.faiss\")"
   ]
  },
  {
   "cell_type": "code",
   "execution_count": 49,
   "metadata": {},
   "outputs": [],
   "source": [
    "def search(query, top_k=10):\n",
    "    query_embedding = model.encode([query], convert_to_tensor=True, device=device).cpu().numpy()\n",
    "    _, indices = index.search(query_embedding, k=top_k*2)\n",
    "\n",
    "    already_in = set()\n",
    "    results = []\n",
    "    for i in indices[0]:\n",
    "        id = fragments_ids[i]\n",
    "        if id in already_in:\n",
    "            continue\n",
    "\n",
    "        already_in.add(id)\n",
    "        results.append(id)\n",
    "        if len(results) == top_k:\n",
    "            break\n",
    "\n",
    "    return df.iloc[results]"
   ]
  },
  {
   "cell_type": "code",
   "execution_count": 50,
   "metadata": {},
   "outputs": [
    {
     "data": {
      "text/html": [
       "<div>\n",
       "<style scoped>\n",
       "    .dataframe tbody tr th:only-of-type {\n",
       "        vertical-align: middle;\n",
       "    }\n",
       "\n",
       "    .dataframe tbody tr th {\n",
       "        vertical-align: top;\n",
       "    }\n",
       "\n",
       "    .dataframe thead th {\n",
       "        text-align: right;\n",
       "    }\n",
       "</style>\n",
       "<table border=\"1\" class=\"dataframe\">\n",
       "  <thead>\n",
       "    <tr style=\"text-align: right;\">\n",
       "      <th></th>\n",
       "      <th>Path</th>\n",
       "      <th>Text</th>\n",
       "    </tr>\n",
       "  </thead>\n",
       "  <tbody>\n",
       "    <tr>\n",
       "      <th>1074</th>\n",
       "      <td>pack\\Revista-de-Indias\\2007-Al-servicio-de-la-...</td>\n",
       "      <td>fugaz de los tres ministros plenipotenciarios ...</td>\n",
       "    </tr>\n",
       "    <tr>\n",
       "      <th>681</th>\n",
       "      <td>pack\\Anuario-de-Estudios-Americanos\\2014-Los-a...</td>\n",
       "      <td>introducción a finales de diciembre de 1640, l...</td>\n",
       "    </tr>\n",
       "    <tr>\n",
       "      <th>1462</th>\n",
       "      <td>pack\\Revista-de-Indias\\2023-Sueños-de-un-imper...</td>\n",
       "      <td>terminar con la primera experiencia liberal en...</td>\n",
       "    </tr>\n",
       "    <tr>\n",
       "      <th>1451</th>\n",
       "      <td>pack\\Revista-de-Indias\\2023-La-odisea-amazónic...</td>\n",
       "      <td>introducción confinado en el fuerte de são ped...</td>\n",
       "    </tr>\n",
       "    <tr>\n",
       "      <th>1401</th>\n",
       "      <td>pack\\Revista-de-Indias\\2021-La-Inquisición-no-...</td>\n",
       "      <td>si la única manera de reivindicar un lugar es ...</td>\n",
       "    </tr>\n",
       "    <tr>\n",
       "      <th>927</th>\n",
       "      <td>pack\\Revista-de-Indias\\2001-El-Perú-y-el-mundo...</td>\n",
       "      <td>de francis drake en 1579, se repetía que la me...</td>\n",
       "    </tr>\n",
       "    <tr>\n",
       "      <th>674</th>\n",
       "      <td>pack\\Anuario-de-Estudios-Americanos\\2014-Imagi...</td>\n",
       "      <td>introducción la guerra del pacífico provocó, a...</td>\n",
       "    </tr>\n",
       "    <tr>\n",
       "      <th>510</th>\n",
       "      <td>pack\\Anuario-de-Estudios-Americanos\\2005-Los-o...</td>\n",
       "      <td>pone este trabajo es que el desarrollo de las ...</td>\n",
       "    </tr>\n",
       "    <tr>\n",
       "      <th>1121</th>\n",
       "      <td>pack\\Revista-de-Indias\\2009-Boletos-sencillos-...</td>\n",
       "      <td>tizos que viajaron a la península ibérica por ...</td>\n",
       "    </tr>\n",
       "    <tr>\n",
       "      <th>1092</th>\n",
       "      <td>pack\\Revista-de-Indias\\2007-Los-caminos-de-la-...</td>\n",
       "      <td>no sé qué será de mi casa, de mis libros y de ...</td>\n",
       "    </tr>\n",
       "  </tbody>\n",
       "</table>\n",
       "</div>"
      ],
      "text/plain": [
       "                                                   Path  \\\n",
       "1074  pack\\Revista-de-Indias\\2007-Al-servicio-de-la-...   \n",
       "681   pack\\Anuario-de-Estudios-Americanos\\2014-Los-a...   \n",
       "1462  pack\\Revista-de-Indias\\2023-Sueños-de-un-imper...   \n",
       "1451  pack\\Revista-de-Indias\\2023-La-odisea-amazónic...   \n",
       "1401  pack\\Revista-de-Indias\\2021-La-Inquisición-no-...   \n",
       "927   pack\\Revista-de-Indias\\2001-El-Perú-y-el-mundo...   \n",
       "674   pack\\Anuario-de-Estudios-Americanos\\2014-Imagi...   \n",
       "510   pack\\Anuario-de-Estudios-Americanos\\2005-Los-o...   \n",
       "1121  pack\\Revista-de-Indias\\2009-Boletos-sencillos-...   \n",
       "1092  pack\\Revista-de-Indias\\2007-Los-caminos-de-la-...   \n",
       "\n",
       "                                                   Text  \n",
       "1074  fugaz de los tres ministros plenipotenciarios ...  \n",
       "681   introducción a finales de diciembre de 1640, l...  \n",
       "1462  terminar con la primera experiencia liberal en...  \n",
       "1451  introducción confinado en el fuerte de são ped...  \n",
       "1401  si la única manera de reivindicar un lugar es ...  \n",
       "927   de francis drake en 1579, se repetía que la me...  \n",
       "674   introducción la guerra del pacífico provocó, a...  \n",
       "510   pone este trabajo es que el desarrollo de las ...  \n",
       "1121  tizos que viajaron a la península ibérica por ...  \n",
       "1092  no sé qué será de mi casa, de mis libros y de ...  "
      ]
     },
     "execution_count": 50,
     "metadata": {},
     "output_type": "execute_result"
    }
   ],
   "source": [
    "q = \"\"\"\n",
    "En los anales de la historia peruana, la llegada de Beldever marcó un hito significativo. Proveniente de tierras lejanas, este enigmatico personaje arribó a las costas del Perú en el año 1542, durante una época de grandes convulsiones y transformaciones en el territorio andino. Su presencia no solo despertó curiosidad entre los locales, sino que también generó especulaciones sobre sus verdaderas intenciones. Algunos cronistas de la época relatan que Beldever traía consigo conocimientos avanzados y artefactos desconocidos, lo que le granjeó tanto admiración como recelo entre los colonizadores y los pueblos indígenas. Aunque su estancia en el Perú fue breve, su legado perduró en las leyendas y relatos que se transmitieron de generación en generación, convirtiéndolo en una figura misteriosa y fascinante dentro de la historia colonial del país.\n",
    "\"\"\"\n",
    "\n",
    "search(q)"
   ]
  },
  {
   "cell_type": "code",
   "execution_count": null,
   "metadata": {},
   "outputs": [],
   "source": []
  }
 ],
 "metadata": {
  "kernelspec": {
   "display_name": ".venv",
   "language": "python",
   "name": "python3"
  },
  "language_info": {
   "codemirror_mode": {
    "name": "ipython",
    "version": 3
   },
   "file_extension": ".py",
   "mimetype": "text/x-python",
   "name": "python",
   "nbconvert_exporter": "python",
   "pygments_lexer": "ipython3",
   "version": "3.12.5"
  }
 },
 "nbformat": 4,
 "nbformat_minor": 2
}
