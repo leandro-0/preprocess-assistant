{
 "cells": [
  {
   "cell_type": "code",
   "execution_count": 1,
   "id": "a9ff561d12fd9c05",
   "metadata": {
    "ExecuteTime": {
     "end_time": "2025-02-25T18:45:54.470214Z",
     "start_time": "2025-02-25T18:45:54.401570Z"
    }
   },
   "outputs": [],
   "source": [
    "import os\n",
    "import re\n",
    "import nltk\n",
    "from pdfminer.high_level import extract_pages\n",
    "from pdfminer.high_level import LTPage\n",
    "from nltk.corpus import wordnet as wn\n",
    "from pdfminer.layout import LTTextContainer, LTTextLineVertical, LTTextBoxHorizontal, LTTextBox, Rect\n",
    "import wordninja\n",
    "from pdf2image import convert_from_path\n",
    "import numpy as np\n",
    "import cv2 "
   ]
  },
  {
   "cell_type": "code",
   "execution_count": 2,
   "metadata": {},
   "outputs": [],
   "source": [
    "class SpanishLanguageModel(wordninja.LanguageModel):\n",
    "    def __init__(self, word_file):\n",
    "        super().__init__(word_file)\n",
    "        self.SPLIT_RE = re.compile(\"[^a-zA-Z0-9áéíóúÁÉÍÓÚñÑ']+\")\n",
    "    \n",
    "    def split(self, s):\n",
    "        l = [self._split(x) for x in self.SPLIT_RE.split(s)]\n",
    "        return [item for sublist in l for item in sublist]\n",
    "wordninja.DEFAULT_LANGUAGE_MODEL = SpanishLanguageModel(\"words.txt.gz\")\n",
    "\n",
    "def separate_words(text):\n",
    "    sep = wordninja.split(text)\n",
    "    return \" \".join(sep)"
   ]
  },
  {
   "cell_type": "code",
   "execution_count": null,
   "id": "79f7be3f",
   "metadata": {},
   "outputs": [],
   "source": []
  },
  {
   "cell_type": "code",
   "execution_count": 3,
   "id": "1a1fa45591f25e59",
   "metadata": {
    "ExecuteTime": {
     "end_time": "2025-02-25T22:01:40.325777Z",
     "start_time": "2025-02-25T22:01:40.321678Z"
    }
   },
   "outputs": [
    {
     "data": {
      "text/plain": [
       "['data\\\\000.pdf',\n",
       " 'data\\\\001.pdf',\n",
       " 'data\\\\002.pdf',\n",
       " 'data\\\\003.pdf',\n",
       " 'data\\\\004.pdf',\n",
       " 'data\\\\101404-Texto del artículo-379745-1-10-20230814.pdf',\n",
       " 'data\\\\103822-Texto del artículo-398336-1-10-20240109.pdf',\n",
       " 'data\\\\103827-Texto del artículo-398338-1-10-20240109.pdf',\n",
       " 'data\\\\108896-Texto del artículo-430136-1-10-20240723.pdf',\n",
       " 'data\\\\110685-Texto del artículo-444650-1-10-20241017.pdf',\n",
       " 'data\\\\113135-Texto del artículo-461992-1-10-20250121.pdf',\n",
       " 'data\\\\113136-Texto del artículo-461995-1-10-20250121.pdf',\n",
       " 'data\\\\130-Texto del artículo en fichero de Microsoft Word o LibreOffice (necesario)-134-1-10-20090331.pdf',\n",
       " 'data\\\\32502-Texto del artículo-103690-1-10-20150102 (1).pdf',\n",
       " 'data\\\\32502-Texto del artículo-103690-1-10-20150102.pdf',\n",
       " 'data\\\\32511-Texto del artículo-103699-1-10-20150102.pdf',\n",
       " 'data\\\\32519-Texto del artículo-103707-1-10-20150102.pdf',\n",
       " 'data\\\\32576-Texto del artículo-103765-1-10-20150102.pdf',\n",
       " 'data\\\\32585-Texto del artículo-103775-1-10-20150102.pdf',\n",
       " 'data\\\\32738-Texto del artículo-103935-1-10-20150102.pdf',\n",
       " 'data\\\\32766-Texto del artículo-103969-1-10-20150102.pdf',\n",
       " 'data\\\\32793-Texto del artículo-104000-1-10-20150102.pdf',\n",
       " 'data\\\\32808-Texto del artículo-104015-1-10-20150102.pdf',\n",
       " 'data\\\\67980-Texto del artículo-210492-1-10-20181017.pdf',\n",
       " 'data\\\\68036-Texto del artículo-210659-1-10-20181018.pdf',\n",
       " 'data\\\\68116-Texto del artículo-210919-1-10-20181022.pdf',\n",
       " 'data\\\\68195-Texto del artículo-211113-1-10-20181024.pdf',\n",
       " 'data\\\\68514-Texto del artículo-212200-1-10-20181107.pdf',\n",
       " 'data\\\\68520-Texto del artículo-212210-1-10-20181107.pdf',\n",
       " 'data\\\\74375-Texto del artículo-237795-1-10-20190926.pdf',\n",
       " 'data\\\\86232-Texto del artículo-285270-1-10-20201123.pdf',\n",
       " 'data\\\\90048-Texto del artículo-305353-1-10-20210621.pdf',\n",
       " 'data\\\\97886-Texto del artículo-355772-1-10-20230113.pdf',\n",
       " 'data\\\\99593-Texto del artículo-367964-1-10-20230426.pdf',\n",
       " 'data\\\\Codesarrollo-la-opción-institucional-para-el-vínculo-migración-y-desarrollo.pdf',\n",
       " 'data\\\\Construyendo-Teotitlán-tapetes-migrantes-gringos-y-etnógrafos.pdf']"
      ]
     },
     "execution_count": 3,
     "metadata": {},
     "output_type": "execute_result"
    }
   ],
   "source": [
    "os.makedirs(\"data\", exist_ok=True)\n",
    "articles = [os.path.join(\"data\", art) for art in os.listdir(\"data\")]\n",
    "articles"
   ]
  },
  {
   "cell_type": "code",
   "execution_count": 38,
   "id": "6d18af48",
   "metadata": {},
   "outputs": [],
   "source": [
    "def extract_possible_footnote_line(article_path: str, page: LTPage, page_number: int, DPI: int = 100) -> list[dict[str, float]]:\n",
    "    page_w, page_h = page.bbox[2], page.bbox[3]\n",
    "    raw_image = convert_from_path(article_path, dpi=DPI, first_page=page_number+1, last_page=page_number+1)[0]\n",
    "    img = np.array(raw_image)\n",
    "    \n",
    "    gray = cv2.cvtColor(img, cv2.COLOR_RGB2GRAY)\n",
    "    img_height, img_width = gray.shape\n",
    "    kernel = cv2.getStructuringElement(cv2.MORPH_RECT, (20, 1))\n",
    "    morph = cv2.morphologyEx(gray, cv2.MORPH_CLOSE, kernel)\n",
    "    edges = cv2.Canny(morph, 50, 200, apertureSize=3)\n",
    "\n",
    "    lines = cv2.HoughLinesP(edges, 1, np.pi / 180, threshold=50, minLineLength=30, maxLineGap=20)\n",
    "    if lines is None:\n",
    "        return None\n",
    "\n",
    "    pdfminer_lines = []\n",
    "    for line in lines:\n",
    "        x1, y1, x2, y2 = line[0]\n",
    "        # Escalar a coordenadas PDFMiner\n",
    "        y1_pdf = (y1 / img_height) * page_h\n",
    "        y2_pdf = (y2 / img_height) * page_h\n",
    "\n",
    "        pdfminer_lines.append({\n",
    "            \"x1\": x1,\n",
    "            \"y1\": page_h - y1_pdf,\n",
    "            \"x2\": x2,\n",
    "            \"y2\": page_h - y2_pdf\n",
    "        })\n",
    "\n",
    "    threshold_y = page_h * 0.35\n",
    "    filtered_lines = [line for line in pdfminer_lines if line[\"y1\"] <= threshold_y]\n",
    "    filtered_lines.sort(key=lambda line: line[\"y1\"], reverse=True)\n",
    "    return filtered_lines[0] if filtered_lines else None"
   ]
  },
  {
   "cell_type": "markdown",
   "id": "5f3461fa5ac6ff93",
   "metadata": {},
   "source": [
    "**arreglar**:\n",
    "\n",
    "etno-\\ngráfico -> etnográfico -> .replace(\"-\\n\", \"\")\n",
    "\n",
    "**tomar en cuenta toda la pagina hasta donde aparece el primer patron de pie de pagina**\n",
    "\n",
    "**quitar**:\n",
    "- citas como (Banks, 2001)\n",
    "\n",
    "**arreglar**:\n",
    "- hay conjunto de palabras que aparecen juntos, por ejemplo, lacercania en lugar de \n",
    "la cercania (art4, pag3)"
   ]
  },
  {
   "cell_type": "code",
   "execution_count": 39,
   "id": "328c6f30a1fe9c96",
   "metadata": {
    "ExecuteTime": {
     "end_time": "2025-02-25T22:01:43.600110Z",
     "start_time": "2025-02-25T22:01:43.596107Z"
    }
   },
   "outputs": [],
   "source": [
    "def extract_page(pdf_path, page):\n",
    "    pages = extract_pages(pdf_path)\n",
    "    for i, page_layout in enumerate(pages):\n",
    "        if i != page - 1: continue\n",
    "        return page_layout\n",
    "    return None"
   ]
  },
  {
   "cell_type": "code",
   "execution_count": 75,
   "metadata": {},
   "outputs": [],
   "source": [
    "# regex stop conditions\n",
    "references_re = r\"(?i)^\\s*(referencias|bibliografía citada|bibliografia citada|bibliografía|bibliografia|citas|fuentes|referencias bibliograficas|referencias bibliográficas)\\s*$\"\n",
    "\n",
    "# regex delete\n",
    "version_logs = r\"(?i)(recibido|aceptado|publicado|(segunda|tercera|cuarta|quinta|sexta) versión)[,:]?\\s*(el\\s*)?(\\d{1,2}(\\s*de)?\\s*[a-záéíóú]+(\\s*de\\s*\\d{4})?|\\d{1,2}/\\d{1,2}/\\d{4})(\\s*\\.\\s*)?\"\n",
    "footnote_patterns = r\"(?m)^(?:\\d+|[*†‡¹²³⁴⁵⁶⁷⁸⁹]+|\\[\\d+\\])\\s+.*$\"\n",
    "\n",
    "footnote_references = r\"([.,;:!?])([0-9]+)\"\n",
    "duplicated_spaces = r\"\\s+\"\n",
    "\n",
    "# recognizing regex\n",
    "abstract = r\"Palabras clave|Keywords|Resumen|Abstract|Key words|Palabrasclave|Keyword|Palabra clave|Palabras claves|Keywords|Sumario|Síntesis|Sintesis|Sinopsis\"\n",
    "\n",
    "# parentesis y llaves\n",
    "parentheses_pattern = r'\\(' + \\\n",
    "                      r'(?:' + \\\n",
    "                      r'(?:[^;)]+)' + \\\n",
    "                      r'(?:; [^;)]+)*' + \\\n",
    "                      r')\\)'\n",
    "brackets_pattern = r'\\[' + \\\n",
    "                      r'(?:' + \\\n",
    "                      r'(?:[^;\\]]+)' + \\\n",
    "                      r'(?:; [^;\\]]+)*' + \\\n",
    "                      r')\\]'"
   ]
  },
  {
   "cell_type": "code",
   "execution_count": 76,
   "id": "efa9dc49",
   "metadata": {},
   "outputs": [],
   "source": [
    "class ArticleExtractedData:\n",
    "    def __init__(self, pdf_path: str):\n",
    "        self.pdf_path: str = pdf_path\n",
    "        self.headers: set[str] = set()\n",
    "        self.footers: set[str] = set()\n",
    "        self.footnotes_lines: list[dict[str, float]] = []\n",
    "        self.start_page: int = 0\n",
    "\n",
    "def extract_data_article(pdf_path) -> ArticleExtractedData:\n",
    "    data = ArticleExtractedData(pdf_path)\n",
    "    headers_counter: map[str, int] = {}\n",
    "    footers_counter: map[str, int] = {}\n",
    "    found_page = None\n",
    "\n",
    "    for i, page in enumerate(extract_pages(pdf_path)):\n",
    "        height = page.bbox[3]\n",
    "        cutoff = height * 0.15\n",
    "\n",
    "        footnote_line = extract_possible_footnote_line(pdf_path, page, i)\n",
    "        data.footnotes_lines.append(footnote_line)\n",
    "\n",
    "        for element in page:\n",
    "            if not isinstance(element, (LTTextBox, LTTextBox, LTTextContainer)):\n",
    "                continue\n",
    "            txt = element.get_text().strip()\n",
    "            if element.bbox[3] <= cutoff:\n",
    "                footers_counter[txt] = footers_counter.get(txt, 0) + 1\n",
    "            if element.bbox[1] >= height - cutoff:\n",
    "                headers_counter[txt] = headers_counter.get(txt, 0) + 1\n",
    "            \n",
    "            # Stop searching for abstract after 3 pages\n",
    "            if found_page is not None or i > 2:\n",
    "                continue\n",
    "\n",
    "            text_semiclean = re.sub(duplicated_spaces, \" \", txt).strip()\n",
    "            if re.search(abstract, text_semiclean, re.IGNORECASE):\n",
    "                found_page = i\n",
    "\n",
    "\n",
    "    data.headers = {k for k, v in headers_counter.items() if v > 1 and len(k) > 0}\n",
    "    data.footers = {k for k, v in footers_counter.items() if v > 1 and len(k) > 0}\n",
    "    if found_page is not None:\n",
    "        data.start_page = found_page\n",
    "    return data"
   ]
  },
  {
   "cell_type": "code",
   "execution_count": 77,
   "metadata": {},
   "outputs": [],
   "source": [
    "def remove_accents(text: str) -> str:\n",
    "    return text.replace(\"á\", \"a\").replace(\"é\", \"e\").replace(\"í\", \"i\").replace(\"ó\", \"o\").replace(\"ú\", \"u\")"
   ]
  },
  {
   "cell_type": "code",
   "execution_count": 78,
   "id": "f922226a",
   "metadata": {},
   "outputs": [
    {
     "data": {
      "text/plain": [
       "'espacios público s y lasa u t ó n o m a s'"
      ]
     },
     "execution_count": 78,
     "metadata": {},
     "output_type": "execute_result"
    }
   ],
   "source": [
    "separate_words(\"espaciospúblicosylasautónomas\")"
   ]
  },
  {
   "cell_type": "markdown",
   "id": "fd1254ce",
   "metadata": {},
   "source": [
    "**los footnote references se llevan los años, en textos como: en 1592. Aquello [...]**"
   ]
  },
  {
   "cell_type": "code",
   "execution_count": 112,
   "id": "4a837c4d",
   "metadata": {},
   "outputs": [],
   "source": [
    "def check_stop_conditions(text) -> bool:\n",
    "\treturn any([\n",
    "\t\tre.search(references_re, text, flags=re.MULTILINE),\n",
    "\t])\n",
    "\n",
    "def clean_unwanted_patterns(text) -> str:\n",
    "\t# Eliminar patrones como \"Recibido el 12 de marzo de 2021.\"\n",
    "    text = re.sub(version_logs, \"\", text).strip()\n",
    "    text = re.sub(parentheses_pattern, \"\", text).strip()\n",
    "    text = re.sub(brackets_pattern, \"\", text).strip()\n",
    "    text = re.sub(footnote_references, r\"\\1\", text).strip()\n",
    "\n",
    "\t# text = re.sub(cites_pattern, \"\", text).strip()\n",
    "\t# text = re.sub(footnote_patterns, \"\", text, flags=re.MULTILINE).strip()\n",
    "\n",
    "\t# Eliminar las referencias de las notas al pie y reemplazarlas por un punto\n",
    "\t# text = re.sub(footnote_references, \".\", text).strip()\n",
    "\n",
    "    return text\n",
    "\n",
    "def avoid_unwanted_texts(text) -> str:\n",
    "\treturn text\n",
    "\n",
    "def clean_page(text) -> str:\n",
    "    text = text.replace(\"-\\n\", \"\")\n",
    "    text = text.replace(\"\\n\", \" \")\n",
    "    text = text.replace(\"«\", \"\").replace(\"»\", \"\").replace(\"“\", \"\").replace(\"”\", \"\").replace(\"‘\", \"\").replace(\"’\", \"\")\n",
    "    text = text.replace('\"', \"\").replace(\"'\", \"\")\n",
    "    text = re.sub(duplicated_spaces, \" \", text).strip()\n",
    "    return text.lower()\n",
    "\n",
    "# def corrections(text: str) -> str:\n",
    "#     words = text.split()\n",
    "#     corrected = []\n",
    "#     for word in words:\n",
    "#         if len(word) < 3:\n",
    "#             continue\n",
    "#         corrected.append(separate_words(word))\n",
    "#     return \" \".join(corrected)\n",
    "\n",
    "# (str, bool) -> (text, continue?)\n",
    "def extract_page_text(page: LTPage, page_number: int, data: ArticleExtractedData) -> tuple[str, bool]:\n",
    "    text = \"\"\n",
    "    status = True\n",
    "    if page_number <= data.start_page:\n",
    "        return text, status\n",
    "\n",
    "    for element in page:\n",
    "        if not isinstance(element, (LTTextBoxHorizontal, LTTextBox, LTTextContainer)):\n",
    "            continue\n",
    "\n",
    "        _, __, ___, y2 = element.bbox\n",
    "        footnote_line = data.footnotes_lines[page_number]\n",
    "        if y2 <= (footnote_line[\"y1\"] if footnote_line is not None else -1):\n",
    "            break\n",
    "\n",
    "        txt = element.get_text().strip()\n",
    "        if txt.isdigit() or txt in data.headers or txt in data.footers:\n",
    "            continue\n",
    "\n",
    "        txt = avoid_unwanted_texts(txt)\n",
    "        if check_stop_conditions(txt):\n",
    "            status = False\n",
    "            break\n",
    "\n",
    "        text += txt + \"\\n\"\n",
    "\n",
    "    text = clean_unwanted_patterns(text)\n",
    "    text = clean_page(text)\n",
    "    # text = corrections(text)\n",
    "    return text, status"
   ]
  },
  {
   "cell_type": "code",
   "execution_count": 105,
   "id": "81362f01",
   "metadata": {},
   "outputs": [
    {
     "data": {
      "text/plain": [
       "'inmigrante se hereda y, al mismo tiempo, se contribuye a hacer patente que la supuesta pureza cultural y la idea de una esencia primigenia no son las únicas vías de construcción de identidades étnicas. son cinco ideas desde la reflexión, para afrontar las consecuencias perniciosas del corsé estructural con el que deben bregar quienes se han desplazado, quienes se supone que nunca lo han hecho y quienes sin haberse desplazado son vistos como si lo hubieran hecho, en el esfuerzo por construir un futuro que invite algo al optimismo.'"
      ]
     },
     "execution_count": 105,
     "metadata": {},
     "output_type": "execute_result"
    }
   ],
   "source": [
    "art = articles[0]\n",
    "data = extract_data_article(art)\n",
    "page = extract_page(art, 28)\n",
    "extract_page_text(page, 27, data)"
   ]
  },
  {
   "cell_type": "code",
   "execution_count": 106,
   "id": "183559bb16e20cbb",
   "metadata": {
    "ExecuteTime": {
     "end_time": "2025-02-25T22:02:41.521599Z",
     "start_time": "2025-02-25T22:02:41.345192Z"
    }
   },
   "outputs": [
    {
     "name": "stdout",
     "output_type": "stream",
     "text": [
      "<LTTextBoxHorizontal(0) 131.553,617.258,367.336,625.258 'REFORMA, ORDEN Y CONCIERTO EN EL PERÚ DEL SIGLO XVII\\n'>\n",
      "<LTTextBoxHorizontal(1) 85.038,387.647,413.873,601.046 'constantemente  con  los  otros  miembros  de  la  élite  de  poder  en  materias\\nreferentes  a  aumento  de  impuestos,  envío  de  remesas  y  colaboración\\ncomercial.  Mantener  el  equilibrio  no  fue  tarea  fácil  y,  de  hecho,  hubo\\ncoyunturas muy tensas entre los diversos actores sociales, sobre todo cuan-\\ndo  se  intentó  forzar  a  los  reinos  americanos  a  realizar  mayores  aportes\\npecuniarios a la península. Los «beneméritos» nunca cejaron en sus inten-\\ntos de obtener los puestos que los propios virreyes repartían entre sus cria-\\ndos. La Iglesia, por su parte, se mantuvo firme en defender los privilegios\\nconcedidos desde el siglo XVI, que la favorecían con la percepción de diez-\\nmos, inmunidad, cesión de tierras y beneficios fiscales. La administración\\nfue ineficiente y progresivamente ciertas funciones del Estado fueron dele-\\ngándose en manos privadas, particularmente en el Consulado.4 Finalmente,\\nlos comerciantes de Lima formaron grandes consorcios en el interior del\\nvirreinato que les permitieron lanzar una ofensiva contundente en el comer-\\ncio  atlántico  a  través  de  sus  factores  —los  «peruleros»—,  que  dejó  en\\nmalas condiciones tanto al comercio peninsular como al mismo sistema de\\ngaleones.5\\n'>\n",
      "<LTTextBoxHorizontal(2) 85.034,197.898,413.865,385.998 'En este contexto, y como expresión de la práctica política de la épo-\\nca, aparecieron diversos escritos sobre el Perú que trataron de diagnosticar\\ny remediar alguno de estos males aunque, como afirma Amadori, la histo-\\nriografía  americanista  no  les  ha  prestado  mucha  atención.6.  El  fenómeno\\nque  más  ha  sido  estudiado  es  la  aparición  de  arbitrios  en  las  décadas  de\\n1620 y 1630, incentivada por el conde-duque de Olivares, la mayoría de los\\ncuales  tenía  como  finalidad  hacer  más  eficiente  la  extorsión  fiscal  de  las\\nIndias.7 Un  buen  ejemplo  es  el  «Parecer»  del  contador  Hernando  de\\nValencia, cuyo arbitrio explicaba los daños que había ocasionado la planta-\\nción de viñas en el Perú y recomendaba volver a prohibir el comercio de\\nvinos  peruanos  para  aumentar  el  consumo  de  aquellos  procedentes  de\\nEspaña.8 El arbitrio de Diego Pérez Gallego estaba orientado, por el contra-\\nrio, a exaltar las virtudes del gobierno del virrey conde de Chinchón, pero\\ntambién incluía un diagnóstico de los principales problemas del Perú y los\\nremedios necesarios para subsanar los errores.9\\n'>\n",
      "<LTTextBoxHorizontal(3) 112.220,138.453,413.854,183.253 '4 Suárez, 2012.\\n5 Suárez, 2009.\\n6 Amadori, 2009, 152.\\n7 Idem; Amadori, 2013, 139; Bronner, 1974, 1975, 1981, 1981a.\\n8 Archivo General de Indias (AGI), Lima, 162, Parecer del contador Hernando de Valencia,\\n'>\n",
      "<LTTextBoxHorizontal(4) 85.036,129.253,116.788,137.253 'año 1633.\\n'>\n",
      "<LTTextBoxHorizontal(5) 112.220,120.053,220.109,128.053 '9 Pérez Gallego, 1945, 295-326.\\n'>\n",
      "<LTTextBoxHorizontal(6) 85.039,93.542,327.778,99.542 'Anu. estud. am., 71, 1, enero-junio, 2014, 25-46. ISSN: 0210-5810. DOI: 10.3989/aeamer.2014.1.02\\n'>\n",
      "<LTTextBoxHorizontal(7) 402.858,93.541,413.858,104.541 '27\\n'>\n",
      "<LTRect 85.039,93.543,413.858,626.457>\n",
      "<LTRect 85.039,93.543,413.858,192.756>\n",
      "<LTLine 85.039,189.895,136.063,189.895>\n",
      "<LTRect 85.039,600.945,413.858,626.457>\n",
      "<LTRect 85.039,93.543,413.858,119.055>\n",
      "<LTRect 385.512,93.543,413.858,119.055>\n"
     ]
    }
   ],
   "source": [
    "page = extract_page(articles[1], 3)\n",
    "for element in page:\n",
    "    print(element)"
   ]
  },
  {
   "cell_type": "code",
   "execution_count": 107,
   "id": "a49e9cf3823b093d",
   "metadata": {
    "ExecuteTime": {
     "end_time": "2025-02-25T22:02:59.680542Z",
     "start_time": "2025-02-25T22:02:56.510018Z"
    }
   },
   "outputs": [],
   "source": [
    "import pdfplumber\n",
    "\n",
    "def detect_lines_in_pdf(pdf_path):\n",
    "    with pdfplumber.open(pdf_path) as pdf:\n",
    "        for i, page in enumerate(pdf.pages):\n",
    "            lines = page.lines  # Extrae todas las líneas de la página\n",
    "\n",
    "            # Filtrar líneas horizontales (y0 ≈ y1 indica una línea horizontal)\n",
    "            horizontal_lines = [line for line in lines if abs(line[\"y0\"] - line[\"y1\"]) < 1]\n",
    "\n",
    "            if horizontal_lines:\n",
    "                print(f\"Página {i+1}: {len(horizontal_lines)} ({(page.width, page.height)}) línea(s) horizontal(es) detectada(s).\")\n",
    "                for line in horizontal_lines:\n",
    "                    print(f\"  - Coordenadas: {line}\")\n",
    "\n",
    "detect_lines_in_pdf(articles[2])\n"
   ]
  },
  {
   "cell_type": "code",
   "execution_count": 108,
   "id": "841c1d753b80ce10",
   "metadata": {
    "ExecuteTime": {
     "end_time": "2025-02-25T21:59:52.882757Z",
     "start_time": "2025-02-25T21:59:48.140777Z"
    }
   },
   "outputs": [
    {
     "name": "stdout",
     "output_type": "stream",
     "text": [
      "31\n",
      "[92.7, 744.18, 519.36, 744.18]\n",
      "[191.7, 317.16, 420.3, 317.16]\n",
      "[191.7, 91.08, 420.3, 91.08]\n",
      "[92.7, 744.18, 519.36, 744.18]\n",
      "[92.7, 744.18, 519.36, 744.18]\n",
      "[92.7, 744.18, 519.36, 744.18]\n",
      "[92.7, 744.18, 519.36, 744.18]\n",
      "[92.7, 744.18, 519.36, 744.18]\n",
      "[92.7, 744.18, 519.36, 744.18]\n",
      "[92.7, 744.18, 519.36, 744.18]\n",
      "[92.7, 744.18, 519.36, 744.18]\n",
      "[92.7, 744.18, 519.36, 744.18]\n",
      "[92.7, 744.18, 519.36, 744.18]\n",
      "[92.7, 744.18, 519.36, 744.18]\n",
      "[92.7, 744.18, 519.36, 744.18]\n",
      "[92.7, 744.18, 519.36, 744.18]\n",
      "[92.7, 744.18, 519.36, 744.18]\n",
      "[92.7, 744.18, 519.36, 744.18]\n",
      "[92.7, 744.18, 519.36, 744.18]\n",
      "[92.7, 744.18, 519.36, 744.18]\n",
      "[92.7, 744.18, 519.36, 744.18]\n",
      "[92.7, 744.18, 519.36, 744.18]\n",
      "[92.7, 744.18, 519.36, 744.18]\n",
      "[92.7, 744.18, 519.36, 744.18]\n",
      "[92.7, 744.18, 519.36, 744.18]\n",
      "[92.7, 744.18, 519.36, 744.18]\n",
      "[92.7, 744.18, 519.36, 744.18]\n",
      "[92.7, 744.18, 519.36, 744.18]\n",
      "[92.7, 744.18, 519.36, 744.18]\n",
      "[92.7, 744.18, 519.36, 744.18]\n",
      "[92.7, 744.18, 519.36, 744.18]\n"
     ]
    }
   ],
   "source": [
    "import pdfquery\n",
    "pdf = pdfquery.PDFQuery(articles[0])\n",
    "pdf.load()\n",
    "lines = pdf.pq('LTLine')\n",
    "print(len(lines))\n",
    "for line in lines:\n",
    "    print(line.get('bbox'))"
   ]
  },
  {
   "cell_type": "markdown",
   "metadata": {},
   "source": [
    "# Preprocesado"
   ]
  },
  {
   "cell_type": "code",
   "execution_count": 109,
   "metadata": {},
   "outputs": [
    {
     "data": {
      "text/plain": [
       "36"
      ]
     },
     "execution_count": 109,
     "metadata": {},
     "output_type": "execute_result"
    }
   ],
   "source": [
    "articles = [os.path.join(\"data\", art) for art in os.listdir(\"data\")]\n",
    "len(articles)"
   ]
  },
  {
   "cell_type": "code",
   "execution_count": 117,
   "id": "349b8631",
   "metadata": {},
   "outputs": [],
   "source": [
    "def extract_pdf_text(pdf_path: str) -> str:\n",
    "    text = \"\"\n",
    "    data = extract_data_article(pdf_path)\n",
    "    for i, page in enumerate(extract_pages(pdf_path)):\n",
    "        page_text, can_continue = extract_page_text(page, i, data)\n",
    "        text = f\"{text} {page_text}\"\n",
    "        if not can_continue:\n",
    "            break\n",
    "    return text.strip()"
   ]
  },
  {
   "cell_type": "code",
   "execution_count": null,
   "metadata": {},
   "outputs": [
    {
     "name": "stdout",
     "output_type": "stream",
     "text": [
      "1. introducción en el reflujo de la esperanza y la desesperación, la respuesta defensiva y el conformismo, la resistencia y la acomodación, las auto-identificaciones colectivas emergen al mismo tiempo como huella de los factores estructurales y como una manifestación de la agencia humana que se obstina en lidiar contra aquellas estructuras . ste artículo es una propuesta de revisión de trabajos que se han desarrollado en estados unidos y la unión europea sobre las llamadas segundas generaciones, que es de prever que en los e próximos años constituya un lugar común en los debates sociales y académicos alrededor de los procesos migratorios. dicho esfuerzo de revisión se propone persiguiendo dos grandes objetivos. en primer lugar, ver cuáles han sido los planteamientos teóricos, los sujetos de estudio y las conclusiones de algunos de los principales estudios realizados en la materia de los casos a tener en cuenta. en especial se enfocará qué es lo que los distintos autores han entendido como segundas generaciones. en segundo lugar, se propondrá un campo de estudio relativamente alternativo en la cuestión de las llamadas segundas generaciones, por la vía de la consideración de procesos de etnogénesis que han partido de proyectos sociales y culturales que asumen el carácter híbrido de la propia identidad. para ello se enfocará el caso concreto del movimiento beur en francia. por último, se propondrán algunas cuestiones de interés para la agenda de investigación socioantropológica por lo que a descendientes de inmigrantes se refiere. 2. la immigración como condición en ee.uu. y la ue desde las aportaciones de la escuela de chicago y de los trabajos de los teóricos de los racial studies, las migraciones han constituido un importante campo de investigación en ee.uu. y en europa. no obstante, se trata de laboratorios muy distintos. en el primer caso, nos hallamos ante una sociedad que se reconoce como sociedad de inmigración, de modo que la inmigración se asume como un hecho constitutivo, en origen, de esa misma sociedad. se reconoce que ee.uu. está compuesto estructuralmente por sujetos que se desplazaron desde algún lugar, en un pasado relativamente reciente, hacia un horizonte de oportunidades. de modo que la sociedad americana difícilmente se pudo constituir sin olvidar su pasado inmigrante. el modelo ideológico estadounidense del melting pot traduce esta cuestión de una manera peculiar, al presentar una imagen ideal de la fusión de diferencias etnoculturales que permite construir un proyecto de homogeneidad cultural sin traicionar aquel origen. la peculiaridad de la propuesta radica en que los colectivos étnicos de referencia no han sido ni son valorados socialmente de forma equitativa. la supuesta mezcla es un ideal que esconde una realidad de asimilación y de acentuación de distancias, en una relación interétnica claramente asimétrica entre grupos definidos como étnicos frente a descendientes de británicos blancos o wasp, no considerados étnicos. estos últimos son los que potencialmente pueden acceder a una situación socioeconómica favorable que se va consolidando con el paso de las generaciones y que se ve orientada por un modelo de estado marcadamente liberal, cimentado en el mercado. así las cosas, es lógico que los estudios sobre minorías migrantes no se hayan referido tradicionalmente a esta población de origen anglosajón, y sí en cambio a otras, pese a que ambas poblaciones participan, entre otras cosas, de una economía posfordista marcada por una flexibilidad laboral y una inestabilidad contractual relativamente asumidas. un caso distinto lo encontramos en la ue, con estados-nación donde persiste la ilusión de una supuesta homogeneidad secular. en este caso la inmigración parece algo ajeno a la constitución de la propia sociedad y se enfoca como un asunto fundamental en el mantenimiento de cierta homogeneidad y, al menos, un consenso sociopolítico mínimo para sostener cierta cohesión social. estamos hablando de un conjunto de estados sumamente heterogéneo pero que mantienen algunos aspectos en común que contrastan claramente con el caso estadounidense. en primer lugar, tratan de implementar, de manera relativamente acusada, medidas públicas que permitan el bienestar de los ciudadanos. esto conlleva todo un sistema de impuestos y servicios ausente en el caso estadounidense. en segundo lugar, se trata de entidades políticas construidas por medio de una larga historia de disputas, guerras y negociaciones entre poblaciones diversas a nivel religioso, lingüístico y, en general, étnico. el esfuerzo de construcción de entidades nacionales homogéneas ha cuajado en fórmulas distintas y más o menos eficaces en cada uno de esos estados que, de todos modos, han mantenido cierta heterogeneidad. en tercer lugar, en los años de posguerra y hasta los setenta, se desarrollaron modelos de incorporación temporal de población inmigrante gracias a una elevada demanda de mano de obra que, más tarde, se han visto confrontados con una evolución del fenómeno migratorio hacia un asentamiento estable de esas poblaciones . en cuarto lugar, se ha desarrollado una economía posfordista que redefine el trabajo y el empleo. al igual que en ee.uu., se despliegan formas de flexibilidad laboral. sin embargo los ciudadanos europeos han conservado expectativas en cuanto al mantenimiento de empleo y vivienda que ha impulsado el propio estado del bienestar con ayudas de distinto tipo. esos ciudadanos han mantenido también expectativas en relación con un estado que se preocupe de sus derechos y de la cohesión social. el posfordismo erosiona estos principios, al dar rienda suelta al mercado en detrimento del estado. en este contexto, los inmigrantes entran fácilmente en una zona de vulnerabilidad social o exclusión ocupada por parados, jóvenes precarizados, obreros en reconversión y empleados con saberes desvalorizados por la emergencia de cambios tecnológicos . por otra parte, experimentan grandes dificultades en su reconocimiento como ciudadanos en esos distintos estados y en el conjunto de la ue. y no sólo eso, sino que se plantean problemas para la transmisión de esos derechos a sus descendientes y para su integración social. pese a las diferencias que acabamos de ver entre ee.uu. y la ue, en ambos casos los procesos migratorios desencadenan reacciones, en forma de discursos y prácticas, que contribuyen a construir la inmigración como problema y como condición. cuando gobernantes de distintas administraciones, representantes de partidos políticos, medios de comunicación, miembros de asociaciones y organismos locales, nacionales o internacionales, trabajadores de la administración, vecinos, empresarios, etc. hablan de inmigración o de inmigrantes, acaban refiriéndose a una misma cosa: sujetos que se han desplazado entre dos territorios nacionales distintos, que experimentan dinámicas de exclusión social, económica y jurídica y que son percibidos en mayor o menor medida y en mal o en buen sentido como portadores de prácticas y valores culturales extraños. la combinación entre capitalismo posfordista y construcción de la inmigración como problema es constitutiva lo que podríamos denominar, glosando el título de un trabajo de pedreño y hernàndez , la condición inmigrante. es decir, el hecho de que quienes son designados como personas que se han desplazado entre dos territorios experimenten, por ello, incertidumbre, desarraigo y formas de exclusión. dicha condición tiene un alcance profundo para el sujeto que la experimenta, porque puede llegar a eclipsar lo que serían otras condiciones de las que participan aquellos sujetos que son percibidos socialmente como si nunca se hubieran desplazado. en efecto, si la persona categorizada como inmigrante tiene títulos académicos, profesión, relaciones personales, valores sociales, creencias religiosas, prácticas que considera tradicionales, lengua, formas de entender o practicar la sociabilidad u otro tipo de prácticas y concepciones culturales del mundo que se consideran muy habituales en su país de origen, puede que una vez se haya desplazado se vea obligado a abandonarlos de forma permanente o a dar explicaciones de ellos a personas que los consideran extraños. paralelamente, si cualquiera de esas prácticas y concepciones de la realidad son muy parecidas o idénticas a las que cotidianamente desarrollan los autóctonos y nunca se asociará con ellas a la persona desplazada, las experimenta como algo natural. el viaje se convierte, así, en una especie de tránsito liminal que se alarga extrañamente hacia ninguna parte, en coherencia con la palabra que lo define: inmigrante. un vocablo que es utilizado como una categoría étnica, en los términos que sugirió mitchell cuando mostró como a mayor distancia interétnica más fácilmente se usan categorías genéricas en referencia a varios grupos al mismo tiempo. no hace mucho sanjek criticaba que los trabajos desde las ciencias sociales sobre inmigración a menudo han tratado el tema centrándose en aquellos sujetos que se han desplazado y dejando de lado aquellos que se supone que nunca lo han hecho . sin embargo, hay otros sujetos por los que se han interesado las ciencias sociales en ee.uu. y la ue y que plantean interesantes cuestiones sobre las que reflexionar. estamos hablando de aquellos que son reconocidos como descendientes de inmigrantes bajo el término de inmigrantes de segunda generación, que ni se han desplazado ni son considerados como si nunca lo hubieran hecho. 3. la construcción de las segundas generaciones como objeto de estudio en los estudios que hemos consultado sobre los descendientes de inmigrantes, y que iremos detallando en las siguientes páginas, es un lugar común justificar el interés de ese objeto de estudio como una vía para ver hasta qué punto la incorporación de los inmigrantes a la sociedad que les recibe se ha estancado, ha progresado o ha experimentado alguna regresión a lo largo del tiempo. la expresión segundas generaciones se utiliza mucho en el sentido común y los mass media para hacer referencia precisamente a personas descendientes de inmigrantes, pese a que, como ha sugerido delgado , socialmente resulta equívoca porque parece indicar que el viaje migratorio se hereda transgeneracionalmente. en ocasiones se resalta que esos descendientes no son inmigrantes, sin embargo, nos encontramos ante uno de esos conceptos cuyo uso se reproduce en ciencias sociales sin que se le haya encontrado sustituto. pero, ¿a qué se hace referencia con él exactamente? el concepto quiere responder al hecho demográfico de que los inmigrantes tienen hijos y al hecho sociológico de que éstos comparten con sus progenitores formas de discriminación y a veces un status social derivado de la trayectoria migratoria de aquellos. dicho grupo social, experimenta dificultades y estrategias de adaptación en una nueva sociedad, relacionados con el hecho de ser descendientes de inmigrantes . quienes componen este grupo piensan y proceden de forma específica en relación a sus progenitores . cuando se da el uso del plural en la expresión, se responde a la voluntad de recoger la diversa casuística que el término abarca . el concepto de segunda generación tiene origen en los estudios de la escuela de chicago y, particularmente, en la obra de warner y srole sobre el sistema de relaciones interétnicas en yankee city, en 1945, si bien ya en 1914 park había hecho referencia a la segunda generación de extranjeros. fue también en aquel contexto en el que se distinguió entre generación 2 y generación 1.. los indicadores para distinguir una categoría y otra pasan por el territorio donde se nace, tener por lo menos un progenitor extranjero y haber experimentado la educación y el paso al mundo laboral y haberlo hecho en uno u otro territorio. en investigaciones relativamente recientes se ha concretado más en qué consistirían estas generaciones. en un estudio dirigido por rumbaut y portes a principios de los años noventa, se consideró como sujetos de segunda generación a aquellas personas que habían nacido en ee.uu. y por lo menos uno de cuyos progenitores fuera extranjero, y se consideró también la existencia de una generación 1., que incluía aquellas personas extranjeras llegadas a ee.uu. antes de que tuvieran 12 años. otros autores incluso afinan más y distinguen una generación 1., llegada al nuevo destino con menos de cinco años de edad, una 1., arribada entre 6 y 10 años, y una 1. entre 11 y 15 . y aún tenemos la diferenciación entre nuevas y antiguas segundas generaciones, en referencia a colectivos que, respectivamente, carecen o tienen una larga historia de emigración a un determinado territorio y cuyos miembros son reconocidos como descendientes de inmigrantes. esta diferenciación así como las elaboraciones de los primeros conceptos acuñados para hacer referencia a descendientes de inmigrantes, las encontramos en ee.uu. no es casualidad, dado el carácter de sociedad de inmigración del que ya hemos hablado y del desarrollo de los estudios de la precursora escuela de chicago. como en tantos otros casos, el interés científico ha sido precedido de una preocupación social que se ha traducido en respuestas teóricas. recientemente el observatorio permanente de la inmigración de españa, en su colección de estudios, ha publicado un trabajo sobre hijos de inmigrantes. los autores empiezan el volumen destacando que las segundas generaciones constituyen un sujeto colectivo inquietante y se preguntan si pasará lo mismo en españa que en francia. concretamente se referían a los sucesos de finales del año 2005, cuando en varias ciudades de aquel país se produjeron revueltas urbanas en suburbios del extrarradio de grandes ciudades francesas que fueron atribuidas reiteradamente en el discurso mediático a problemas de integración de las segundas generaciones de inmigrantes, que se manifestaban de forma violenta. discursos similares los encontramos después de los atentados de londres, en julio de aquel mismo año. la pregunta es, de hecho, la misma: ¿qué falla en la integración de los inmigrantes de segunda generación? la respuesta se ve complicada por el hecho de que parece que se han visto cuestionadas tanto las políticas de carácter asimilacionista como las multiculturalistas . frente este tipo de planteamientos, encontramos otros que se muestran menos influenciados por la percepción social de los sujetos de segunda generación. simon , por ejemplo, se pregunta si los hijos de inmigrantes repetirán las prácticas, trayectorias y posiciones de sus padres, si se asimilarán completamente de forma clásica a los jóvenes franceses. se interroga también por si el estancamiento en la movilidad social de estos jóvenes se debe a una discriminación sistemática por motivos raciales o étnicos o si, por el contrario, es el resultado de factores que atañen por igual a los otros jóvenes. esta perspectiva, más centrada en los sujetos en su contexto social, familiar y de recepción, ha sido la predominante en los estudios sobre segundas generaciones. el foco suelen ser los descendientes de inmigrantes que ya han dejado la escuela. eso hace que el estudio de segundas generaciones haya sido muy importante en países europeos de gran tradición de inmigración y en ee.uu., pero que no lo haya sido todavía en españa, donde el primer estudio de cierta envergadura es el de tornos y aparicio . un trabajo que alcanza una población relativamente reducida y de sólo tres nacionalidades –marroquíes, dominicanos y peruanos- que no conforman los estoques de inmigrantes proporcionalmente más presentes en el país. 4. sobre segundas generaciones en ee.uu.: el modelo de asimilación segmentada en ee.uu. el debate sobre el tema parte de una comparación entre la asimilación de los inmigrantes de principios de siglo xx y sus descendientes y la que se produce a partir de los años sesenta y setenta. park definió el concepto asimilación tal y como ha sido mayoritariamente empleado más tarde en ciencias sociales, es decir, como un proceso radical de adopción de patrones culturales ajenos que conlleva homogeneidad cultural, a partir de una identidad hegemónica en una determinada sociedad. esto va acompañado del abandono de posiciones marginales que se asocian al mantenimiento de instituciones, comportamientos y prácticas culturales propios de identidades culturales minoritarias. la asimilación máxima deriva en la pérdida de significación social de una determinada identificación y categorización étnica, para el sujeto que lo experimenta . factores contextuales modelos intergeneracionales obstáculos externos resultados esperados capital humano aculturación disonante modos de incorporación aculturación consonante estructura familiar aculturación selectiva discriminación racial afrontada directamente sin apoyo de los padres mercados de trabajo polarizados encarados exclusivamente con recursos individuales subculturas urbanas sin mensajes que se contrapongan a actitudes y estilos de vida conflictivos afrontada directamente con apoyo familiar encarados con orientación de los padres y recursos familiares mensajes de contraposición basados en aspiraciones familiares filtrada por las redes étnicas y afrontada con apoyo familiar y comunitario encarados con orientación de los padres y sobre la base de recursos familiares y comunitarios mensajes de contraposición basados en aspiraciones familiares y redes comunitarias asimilación descendente en la mayoría de los casos, asimilación ascendente, bloqueada a veces por discriminación asimilación ascendente asociada al biculturalismo figura 1. proceso de asimilación segmentada en un número especial de 1997 de la international migration review, varios autores de ee.uu. debatieron sobre las segundas generaciones. unos consideraban que las diferencias entre los jóvenes descendientes de inmigrantes y los que no lo son pesarían más que las similitudes, y los otros pensaban que pasaría lo contrario . en ciencias sociales, los primeros han sido quizá los más destacados, con la aportación de portes y rumbaut y sus colaboradores, en una línea de investigación que lleva más de diez años produciendo datos sobre la base del children of inmigrantes longitudinal study , un estudio longitudinal llevado a cabo sobre una muestra de 5000 individuos de san diego y miami. dicho trabajo ha sido el principal fundamento empírico de un modelo teórico conocido como proceso de asimilación segmentada. el primer paso hacia ese modelo lo constituyó la aportación de portes y zhou . ambos autores y, después, portes y rumbaut sugieren que las segundas generaciones experimentan en ee.uu., un proceso de asimilación segmentada, en el sentido de que la sociedad americana no es homogénea socialmente, por lo que la adaptación de los descendientes de inmigrantes puede encaminarse hacia distintos sectores de esa misma sociedad, en un recorrido que parte de la trayectoria migratoria de sus progenitores. el modelo se refleja en un esquema sintético que reproducimos en la figura 1. el proceso de asimilación segmentada planteado por portes y rumbaut está compuesto por tres posibles modelos o rutas. el primero de ellos se produce en el contexto de pobreza de capital humano1, incorporación marcada por la hostilidad de la sociedad de recepción y cierta desestructuración familiar. es posible que la discriminación racial o étnica negativas tengan gran incidencia y que para oponerse a ella los sujetos carezcan de apoyo familiar o comunitario. el sujeto se encuentra solo ante un mercado laboral polarizado. se producen actitudes y estilos de vida socialmente conflictivos y asociados a formas de delincuencia o, al menos, a comportamientos socialmente mal vistos, que no encuentran ninguna resistencia en el entorno del sujeto. en consecuencia, los descendientes de inmigrantes tienen grandes dificultades de movilidad ascendente y protagonizan una trayectoria de asimilación descendente . el segundo modelo conlleva alto capital humano y contexto de recepción neutral o favorable que permite movilidad socioeconómica ascendente. en este caso hay un apoyo familiar que puede permitir superar formas de discriminación racial. se da, además, cierto abandono de aspectos de origen pero también pugnas familiares para no abandonarlos. de hecho, las aspiraciones familiares contrarrestan actitudes o estilos de vida conflictivos. este patrón conlleva asimilación con cierta proyección vertical pero algo limitada por formas de discriminación . el tercer y último modelo es muy parecido al anterior, pero añade mayor peso de la pertenencia a la comunidad étnica y de las redes étnicas. encontramos aquí el éxito en pequeños negocios y densa red social que conlleva mucho apoyo para la educación y el éxito ocupacional y buena acogida en el nuevo país. existe también menor distancia entre generaciones, mantenimiento de autoridad paterna por lazos étnicos y ascenso vertical con mantenimiento de formas de biculturalismo y la posibilidad de elección entre patrones y aspectos culturales y sociales propios de la sociedad de origen de los progenitores o de la sociedad de recepción . la aculturación selectiva es la forma más favorable de las tres, según los autores, ya que permite afianzar los lazos sociales familiares y étnicos, sin cortar la incorporación de otros nuevos. sugieren la necesidad de políticas proactivas en esta línea y no, por lo tanto, encaradas a una rápida asimilación total o exclusivamente a afrontar problemas como la delincuencia juvenil. el reto principal para ello consiste en saber qué factores inciden en que la asimilación sea ascendente o descendente. a pesar de que los autores citan numerosos factores que inciden en cada caso, llegan a la conclusión de que las formas de discriminación son el mayor obstáculo en el proceso de asimilación y sugieren que existe una tendencia a la etnización de los descendientes hacia categorías de los padres. un factor con mucho peso es la creación de nichos laborales que delimita las opciones de movilidad de los descendientes. finalmente, el único factor que siempre permitiría luchar contra una herencia de duras condiciones es la disposición de capital social. a los datos y la metodología cuantitativa en los que se basa la teoría de la asimilación segmentada, se añaden dos experiencias de trabajo cualitativo. por un lado, en un estudio con entrevistas en profundidad, fernández-kelly y curran destacaron la importancia de las percepciones de discriminación. las autoras resaltaron, en particular, el peso de la discriminación en el campo de la educación, cuando los maestros y los compañeros minaban la autoestima del estudiante y los padres exigían un éxito escolar que no se producía, culpando al hijo de su propio fracaso. según estas autoras, los procesos de estigmatización y exclusión social pueden pasar a ser crónicos si los descendientes de inmigrantes no alcanzan una prosperidad económica y no consiguen ser aceptados socialmente. sostienen que, para ser ciudadano, hay que superar la imagen de ser étnico . la segunda experiencia cualitativa la explica portes y consistió en entrevistas en profundidad a las 50 personas de toda la muestra del cils que lograron alcanzar una formación universitaria. en ese trabajo se comprobó que en esos casos siempre había intervenido un agente externo que había respaldado al estudiante en su orientación académica o a nivel económico. habría, entonces, un factor fundamental que sería el de la incorporación al sistema educativo superior que potencialmente permite una movilidad laboral ascendente en relación con la generación de los progenitores. los datos cuantitativos y esas dos aproximaciones cualitativas al cils muestran que hay aspectos comunes a las trayectorias vitales de los descendientes de inmigrantes y otros más específicos de cada grupo. en cuanto a los aspectos comunes, son jóvenes que se mueven entre, por un lado, las demandas y expectativas de unos padres que intentan construir nuevas vidas en ee.uu. y, por otro, su propia lucha con un entorno que pueden percibir como hostil y su propia necesidad de construir una nueva identidad que les aporte confianza en aquel contexto problemático . en este sentido, esos jóvenes pueden compartir un contraste generacional frente a sus padres, con desacuerdos sobre normas y valores, en relación al ocio o sobre responsabilidades académicas o domésticas, o experimentan sensación de desatención por parte de los padres o vergüenza hacia ellos. cuestiones que, por otra parte, pueden experimentar también quienes no descienden de personas consideradas inmigrantes. los estudios derivados de los datos del cils muestran que los descendientes de inmigrantes presentan una menor tendencia a tener un bajo estatus sociolaboral e incluso son menos propensos a una situación de pobreza que sus progenitores. concretamente, jensen explica que hay una clara diferencia entre los que tienen un progenitor extranjero y los que tienen dos, de forma que los primeros estarían en mejor situación que los segundos. añade además, que la ciudadanía es una condición que también facilita una mejor situación. y aún otro dato es que aquellos que son blancos tienen una mayor facilidad de promoción socioeconómica que los que no lo son . el mismo autor encuentra que las personas pobres de segunda generación confían en mayor grado que sus padres y que los nativos en el sistema público de asistencia social como una estrategia de supervivencia. tomados en conjunto, los datos muestran que los descendientes de inmigrantes presentan disonancias lingüísticas y de percepción subjetiva de discriminación étnica o racial, en relación a sus padres. según rumbaut y portes , los hijos suelen controlar mejor que los padres la lengua del país receptor de aquellos y, por otra parte, pueden sentirse más rechazados que aquellos hacia una sociedad y cultura americana que tienden más a tomar como modelo, que sus progenitores. el bilingüismo facilita que haya menos depresión y más aspiraciones educativas, mientras que el sentimiento de discriminación y los conflictos con los padres promueven depresión y puede minar la autoestima. por otra parte, hay consonancias intergeneracionales en el terreno de la identificación étnica con los padres, que puede potenciar la autoestima . sin embargo, cuando se diferencia entre distintos orígenes étnicos, se encuentran aspectos específicos de cada grupo. a partir de los trabajos de portes y sus colaboradores2 sintetizaremos puntos que diferencian entre sí casos como los descendientes de mexicanos, vietnamitas, filipinos, haitianos, jamaicanos o por ejemplo cubanos. concretamente tenemos: fracaso o éxito escolar y su derivación en formas de comparación entre los niños hijos de padres de una u otra nacionalidad; baja o alta calificación de los padres; mayor o menor demanda de mano de obra de baja calificación en sectores tradicionalmente cubiertos por sus padres; caracterización racial como no blancos; situación jurídica regular o irregular ; transmisión intergeneracional de relatos sobre el país de origen, el viaje, el exilio o el dolor; sentimiento de discriminación y percepción de relevancia de la propia condición étnica o racial, por experiencias que se han tenido en la escuela o la calle; mayor o menor tendencia a identificarse con la identidad nacional de acogida, con categorías amplias, con una identificación guionizada o con la identidad de origen de los padres; asilo y refugio en origen de los padres, que facilita la construcción de una identidad diaspórica sobre la base de valores como libertad y democracia en destino y de aspiraciones para la sociedad de origen de los padres. este último aspecto, sin embargo, también puede conllevar desorientación y falta de control de los padres sobre el proceso de asentamiento y residencia, que influyen en los hijos . en un trabajo reciente y a la luz de datos de un mayor período de tiempo portes sugiere que una cuarta parte de los descendientes de inmigrantes no asciende socialmente, aunque ese porcentaje tiende a aumentar en ciertas nacionalidades más marcadas por discriminación racial como es el caso de haitianos, jamaicanos y, en menor medida, mexicanos. plantea también que la asimilación descendente se ve potenciada por dos factores. el primero de ellos es un modo de incorporación a ee.uu. dificultado por una mala recepción por parte de las autoridades y la población local y por la carencia de una comunidad del propio grupo étnico que acogiera a los recién llegados. el segundo factor que facilita la asimilación descendente o la estancación en un estatus bajo, por parte de los descendientes de inmigrantes, es el fracaso escolar. cada colectivo experimentaría trayectorias distintas en función de estos dos factores. 5. estudios sobre la segunda generación en la ue: el effnatis y otros trabajos la segunda generación se ha convertido en objeto de estudio también en la ue. en este caso, encontramos estudios que muestran una mayor preocupación por la pérdida de paz social y el posible incremento de la inseguridad ciudadana y también por el sostenimiento de los derechos humanos y el modelo europeo de sociedad de bienestar. se aboga de forma explícita por los derechos civiles y sociales de los inmigrantes y por las barreras que entrañan las autoidentificaciones y las discriminaciones étnicas y la conformación de una infraclase social marginada y dependiente de las instituciones del bienestar. esto lo vemos, por ejemplo, en los resultados del proyecto effnatis , financiado por la comisión europea, coordinado por el european forum for migration studies de la universidad de bamberg3 y cuyos resultados datan de 2001. en este caso se trata de un estudio sobre la integración de los hijos de inmigrantes extranjeros basado en una muestra de 2227 casos de descendientes de inmigrantes de varias nacionalidades en finlandia, francia, alemania, inglaterra, gran bretaña, suecia, suiza, españa y holanda, aunque la memoria de resultados se centra particularmente en los casos de gran bretaña, alemania y francia. es interesante señalar que los autores del effnatis justifican el uso en inglés de la expresión integration en lugar de assimilation, para evitar las connotaciones que puede tener este último en relación con el posible abandono de aspectos culturales asociados al origen étnico de los progenitores. portes y sus colaboradores sí utilizan la noción de assimilation. en cualquier caso, en ambos trabajos se habla de lo mismo: la inclusión de nuevas poblaciones a las estructuras sociales del país al que se emigra. en el effnattis se sugiere que la integración es un proceso con cuatro dimensiones: estructural ; cultural ; social , aspecto íntimamente relacionado con el anterior; e identificacional . cada contexto nacional ofrece distintas oportunidades estructurales para la acción de los inmigrantes y de sus descendientes y este es precisamente el aspecto determinante que se halla detrás de la trayectoria de los jóvenes de distintos colectivos, según los investigadores del effnatis. en cada contexto nacional, tiene un papel central el paradigma de integración que se siga, partiendo de tres grandes modelos . para ello van ofreciendo resultados en cada una de las cuatro dimensiones de integración, comparando datos de una muestra de sujetos de los colectivos más representados en cada territorio nacional, con una muestra de autóctonos de cada uno de ellos. cada uno de los tres modelos muestra debilidades y puntos fuertes. el asimilacionismo presenta una gran expansión de la educación, aculturación e identificación, pero pone de manifiesto debilidades en la formación laboral y el empleo. el modelo alemán, en cambio, ofrece logros en materia de trabajo y formación laboral pero debilidades en educación, integración legal e identificación. por último, con el multiculturalismo, empleo y formación se combinan con una educación bastante lograda, pero se mantienen estructuras étnicas específicas que ofrecen dificultades en la integración cultural e identitaria. donde portes y rumbaut destacan los modos de integración como factor que incide en la trayectoria de lo que ellos denominan asimilación, y que aquí se denominaría integración, el effnatis sitúa la importancia del contexto nacional. éste está conformado por el sistema educativo y el de formación laboral -íntimamente relacionados con el mercado laboral- y la legislación de ciudadanía, pero también con las diferencias entre colectivos en numerosos aspectos como las preferencias y prácticas culturales , la competencia lingüística en idioma de acogida y origen, las actitudes morales y religiosas, las relaciones de amistad, las relaciones familiares y, en particular, matrimoniales, la participación asociativa y política, la percepción de discriminación y el sentimiento de pertenencia a la nación de acogida de los progenitores. en todos los casos los autores se esfuerzan por diferenciar entre los contextos francés, alemán y británico y tratan colectivos distintos, en cada caso. el único punto en el que introducen algún factor explicativo más allá del contexto nacional es en la discriminación, donde consideran significativo que la persona se considere y sea considerada musulmana. es interesante constatar cómo en este trabajo se intenta profundizar en las políticas en materia de integración y, de hecho, se hacen algunas recomendaciones para cada país y en general. entre estas últimas se encuentra la necesidad de formación a trabajadores de servicios públicos para atender a inmigrantes, la promoción de la participación de descendientes de inmigrantes en instituciones públicas y asociaciones, la tutela académica especializada de éstos cuando están estudiando, la evaluación de la cualificación profesional de los inmigrantes que van llegando, el reconocimiento y aceptación del islam y la creación de comisiones de expertos para la integración. el effnatis tiene el interés de considerar como algo central las políticas que en cada estado configuran la integración de la población inmigrante y de sus descendientes. de alguna manera, le otorgan un papel similar al que portes y sus colaboradores atribuyen al modo de incorporación. dicho de otro modo, es fundamental la forma como son recibidos los inmigrantes una vez llegan al nuevo país. en cuanto a sus descendientes, su incorporación a la sociedad mediante el sistema educativo en cada contexto nacional adquiere gran trascendencia. crul y vermeulen comparan poblaciones con una trayectoria temporal similar en siete países . para estos autores, la existencia de un sistema de instrucción en oficios y las líneas educativas en un segundo idioma o el aprendizaje de aquel se configuran como aspectos importantes. también es crucial la edad a la que se empieza estudiando, que no es igual en todos los países, ya que conlleva un contacto más o menos prematuro con un idioma y población diferentes. son importantes también las horas de contacto con el maestro, la edad a la que se da una selección de estudiantes hacia varios niveles educativos más o menos altos y la existencia de programas de refuerzo. en la mayor parte de estos aspectos . francia y alemania constituyen extremos. creul y vermeulen destacan en especial el sistema de aprendizaje de oficios, inexistente en el primer caso, lo cual los autores vinculan a un mayor índice de paro en la población inmigrante turca y marroquí en ese país. en su trabajo, los investigadores llegan a la conclusión de que la clave está en las oportunidades que ofrecen las instituciones públicas en el terreno de la transición de la educación al mercado laboral. algo que no es independiente de formas de discriminación. en francia, por ejemplo, los descendientes de magrebís ven truncadas sus expectativas, entre otras cosas, cuando se les orienta con mayor facilidad que a los descendientes autóctonos hacia la formación profesional. la conclusión de creul y vermeulen es bastante parecida a la sugerida por portes para ee.uu., ya que en ambos casos se da una importancia crucial a la educación como algo que puede traducirse en cualificación laboral y, finalmente, en movilidad laboral ascendente. en el caso de españa, un estudio de tornos y aparicio muestra que los jóvenes hijos de inmigrantes están por debajo de los españoles en cuanto a continuación de estudios después de la etapa obligatoria, la orientación a la formación profesional, la incorporación pronta al mercado laboral y el desarrollo de trabajos de baja calificación. en definitiva, esta población muestra una trayectoria laboral y educativa diferente a la equivalente española. eso sí, con distinciones según colectivos. los peruanos alargan los estudios más que marroquíes y dominicanos, hecho derivado de la mayor formación de sus propios progenitores, en comparación con los otros. asimismo, las mujeres muestran también mayor continuidad, sobre todo en comparación a la generación precedente. con todo, la precariedad económica y la situación administrativa dificulta a muchos inmigrantes sostener la continuidad de los hijos en los estudios, a lo que hay que añadir la discriminación que experimentan cuando buscan trabajo . en general, las nuevas generaciones tienden a mantener pautas sociolaborales propias de la trayectoria de los estratos bajos de la sociedad receptora, lo que indicaría una asimilación descendente. no obstante, el paro parece tener menos incidencia entre estos jóvenes que entre los españoles es una tendencia que quedaría por confirmar, dada la juventud de la muestra estudiada por tornos y aparicio , pero que cuadra con la constatación que hacen los autores de una tendencia a una mayor educación en hijos que en padres, en el caso de los marroquíes y especialmente en el caso de madres e hijas. por otra parte, algunos datos de la oit para toda europa ofrecen muestras de esa misma tendencia . aquí juega un papel importante el capital social construido en el país de acogida, con más peso cuanta más antigüedad de presencia tiene el colectivo inmigrado. 6. la hibridación como un paso más allá de la herencia de una condición: el caso beur creo que lo más interesante de los estudios de segundas generaciones que hemos considerado hasta aquí consiste en que llegan a la conclusión de que la trayectoria sociolaboral de los hijos de aquellos que inmigraron a distintos países está marcada por las oportunidades que brindan estructuras propias de los distintos estados que organizan e institucionalizan su incorporación, a través de la educación, la formación laboral y también con la recepción de los colectivos en aspectos como la gestión jurídica de su incorporación al cuerpo social de una determinada ciudadanía nacional. llegados a este punto, parece que se habría cumplido con el llamamiento de sanjek , que citábamos más arriba, ya que se habría tenido en cuenta no sólo a quienes se han desplazado sino también a aquellos que se supone que nunca lo han hecho. pero, ¿queda del todo claro qué ha ocurrido con aquellos que ni se han desplazado ni son considerados como si nunca lo hubieran hecho? pese al interés que tienen las explicaciones que hemos presentado y el análisis de factores que inciden en la trayectoria sociolaboral de los descendientes de personas inmigrantes, se pierde por el camino un reto epistemológico que viene de la mano del caso de las llamadas segundas generaciones: la consideración de formas de etnogénesis centradas en la hibridación cultural que permiten criticar la reificación de la categoría inmigrante, implícita en la construcción de las segundas generaciones como objeto de estudio en sí mismas. al asumir que los descendientes de inmigrantes siguen estando como en tránsito, se admite que existen entidades colectivas más o menos homogéneas que responden a las categorías inmigrante y autóctono y, además, a las categorías equivalentes a una u otra nacionalidad. y no sólo eso, sino que dichas categorías persisten y se reproducen en el tiempo. solamente se deja de ser inmigrante con un arraigo completamente reconocido. a nivel de ciudadanía, ello está relacionado con la participación en alguna forma de comunidad cívica. el caso del movimiento beur en francia permite ampliar algo el espectro de aspectos a considerar en el estudio de los descendientes de los inmigrantes, a partir de dos cuestiones. en primer lugar, un proyecto de etnogénesis que no parte de una esencialización de rasgos, sino de la reivindicación de la hibridación a partir de una historia colonial y postcolonial. en segundo lugar, un movimiento social con considerable carga de crítica social que remite no sólo a descendientes de inmigrantes en general como individuos que comparten ciertos constreñimientos estructurales y aspectos biográficos, sino como matriz de reivindicaciones colectivas de derechos cívicos y sociales y formas de empoderamiento. vayamos por partes. la etnogénesis es la formación de una identidad colectiva por la persistencia o revitalización de elementos culturales y de contraste interétnico, lo que conlleva la incorporación de grupos diferenciados en uno nuevo . la diferenciación étnica en relación a otros grupos se produce en el contacto con aquellos por un doble proceso de identificación y categorización. con el primero, los propios sujetos se consideran miembros de un grupo y, por el segundo, son los otros quienes reconocen esa inclusión . en el caso de los beurs nos encontramos con este doble componente. el término beur con el que se conoce a este grupo es resultado de la inversión de sonidos en la pronuncia de la palabra árabe en verlan . lo utilizan descendientes de inmigrantes magrebís, para referirse a sí mismos pero también quienes no lo son para hablar de ellos. eso formaría parte de la categorización, junto con las imágenes estereotipadas de aquello que incluiría la categoría, según quienes no serían calificados en ella. la categorización de los descendientes de magrebís en francia como beurs o franco-magrébis está caracterizada fundamentalmente por prejuicios racistas arraigados en la sociedad francesa . por lo que se refiere a la identificación, desde el punto de vista de descendientes de inmigrantes magrebís, se ha dado una apropiación de la categoría para reivindicar simbólicamente un espacio propio como población que sufre discriminación étnica y sociolaboral. lo que nos lleva al segundo aspecto que hemos resaltado: el de la movilización social que, de hecho, ha sido interpretada en una teoría socioantropológica relativamente reciente precisamente como un tipo de acción encaminado a la construcción de identidad. los teóricos de este paradigma privilegian la vertiente expresiva de la conducta humana, frente a la instrumental. la dinámica social dependería más de la forma como los actores dan sentido a su mundo con los recursos a su disposición, que de intereses finalistas para los que su acción sería instrumento. el paradigma de la identidad considera que la producción simbólica se centra, en principio, en la búsqueda de reconocimiento de identidad colectiva grupal en parte para que unas determinadas reivindicaciones sean atendidas, pero también para lograr una imagen integrada y duradera de un self continuamente amenazado en las sociedades modernas, sobre todo por la crisis del mundo del trabajo y la política representativa, en el actual contexto posfordista . en los años ochenta del siglo xx, y sobre todo a partir de una marcha contra el racismo y la igualdad que tuvo lugar en paris, a principios de esa década, emergió un movimiento beur impulsado por intelectuales, escritores, fotógrafos, cineastas, y artistas en general, y que cristalizó en el campo del arte y también en el terreno del asociacionismo, entre otros. la literatura y la cinematografía beur iniciada en esa época5 presenta a protagonistas ubicados en una situación de discriminación social y a menudo laboral y con una experiencia espacio-temporal distinta de la que han vivido sus padres . en este caso, el factor cultural se añade a otros como el de clase social, de género o generacional para configurar una experiencia vital marcada por la incertidumbre. precisamente uno de estos autores fundó, en 1981, la emisora beur fm., a la que se sumó una cadena de televisión del mismo nombre, en 2002. la lengua de expresión de los programas es el francés, aunque la programación incluye espacios en árabe y en berebere. la presentación de la emisora de radio expresa un ideario que hace que el proyecto resulte interesante en nuestro texto. por ejemplo, se dice que beur fm es: un territorio cultural dentro del cual muchos se reconocen se sitúa dentro de un espacio franco-magrebí a partir de poblaciones definitivamente arraigadas en francia sea cual sea su generación y su color cultural: árabe, berebere, judío, pied-noir6… aunque, además de a la comunidad magrebí, la radio se dirige al conjunto de minorías que componen el mosaico de francia. todo proyecto que emana de una minoría debe ser portador de esta universalidad dentro de la cual todos se deben reconocer. así, la programación y las acciones desarrolladas por beur fm acarrean indicadores de identificación que permiten reunir una audiencia más amplia . el proyecto, entonces, trata de delimitar un territorio cultural universal, identificado con las minorías étnicas, más allá del grupo específico de los descendientes de inmigrantes magrebís. se construye, así, un marco plural y heterogéneo como la sociedad francesa en general y los franco-magrebís, en particular, tomando una estrategia identitaria que pivota sobre la reivindicación de la condición híbrida de la identidad beur. paralelamente a esta acción cultural, han ido surgiendo asociaciones que reivindican derechos para los beurs. inicialmente fueron potenciadas por trabajadores sociales y miembros de partidos políticos de izquierda, a partir de una mezcla de referentes que no es fácil congeniar. muchas de ellas son asociaciones de barrio y mantienen relaciones con asociaciones antirracistas de alcance nacional como sos racisme y france plus. buena parte de estas entidades se han profesionalizado en el terreno de la acción social, lo que les ha restado el carácter reivindicativo que tenían en un principio, pero no han perdido el contenido de sus reivindicaciones. se constituye así un movimiento cívico que revisita y reconstruye una adhesión étnica pero en unos términos distintos: en relación con formas de exclusión social y sin renunciar a una especificidad como ciudadanos franceses. un tipo de movimiento que contrasta con el asociacionismo organizado en torno al vínculo religioso islámico . en el caso de los beurs, el origen étnico se añade a una baja acumulación de capital cultural y económico en los campos educativo y del trabajo , lo que puede derivar en un dilema. así lo ha formulado leclerc-olive para el caso de lille. por un lado, la falta de formación educativa –y particularmente la carencia de títulos- dificulta la obtención de un trabajo de cierta cualificación; por otro, no garantiza dicho acceso, fundamentalmente por atribuciones de pertenencia étnica7. para la socióloga francesa, esta situación se refleja en una frustración que, en algunos casos, lleva a buscar un sentido a la propia experiencia a través del islam. si la religión es una forma de constituir un universo simbólico en el que todo tiene sentido y al mismo tiempo una instancia de legitimación de agentes con autoridad reconocida para aplicar sanciones negativas y positivas, en este caso contribuye a superar la frustración y se convierte en un refugio ante las dificultades de la existencia. frente a las sanciones positivas de la instancia religiosa, por ejemplo con la sanción moral del propio comportamiento y el respeto de los valores, se encuentran las sanciones negativas de la institución escolar , del mercado de trabajo o de la policía experimentadas especialmente por los residentes de banlieues. según leclerc-olive, la descalificación sufrida y la exclusividad de la religión permiten mantener sólidamente una atribución de sentido de la realidad al tiempo que contribuyen a erigir una frontera cultural o étnica. se establece así una diferenciación no bipolar, sino tripolar, entre cada actor colectivo o individual e instituciones a las que presta fidelidad y otras que resultan radicalmente diferentes de éstas. acaso podemos ir algo más allá y considerar la propia pertenencia al conjunto de los musulmanes como algo que también ofrece sanciones positivas. lo que, por ejemplo, se ha visibilizado en manifestaciones con motivo del conflicto entre israel y palestina, la guerra de irak o, recientemente, contra la aplicación de la ley que prohibía los signos religiosos en la escuela francesa o contra el chantaje del ejército islámico de irak, con su secuestro a dos periodistas para forzar la no aplicación de esa misma ley. en este caso, el retorno a los orígenes, por la religión, permite cierta seguridad ontológica a sujetos que de algún modo son conscientes de su condición híbrida. sin embargo, en un estado como el francés, con tendencia hacia las políticas asimilacionistas, los descendientes de inmigrantes magrebís se ven en la tesitura de tener que realizar bricolaje entre la dimensión privada y pública de su existencia . tienen que confrontar un mínimo ontológico coherente con los valores y prácticas tradicionales de sus progenitores, con la valoración del pragmatismo derivada de la búsqueda de gratificaciones económicas y derechos cívicos en un entorno de republicanismo laicista. y justamente la vía es trasladar a lo privado, en la medida de lo posible, aquellos valores y prácticas . se trata, de hecho, de un proceso de aculturación que se vio acompañado por medidas públicas de respaldo a la creación de asociaciones juveniles de barrio, lo que facilitó el desarrollo de un asociacionismo cívico que se volcaba más en la oposición a la discriminación social y étnica y en la promoción de mejoras sociales para los descendientes de inmigrantes magrebís, pero también para otros jóvenes. de este modo, lo específico de las reivindicaciones pasa, justamente, por la discriminación étnica. el movimiento beur se traduce en ocasiones en demostraciones que toman el espacio público de la calle. además de las manifestaciones que han ido surgiendo en determinados momentos, desde las que se produjeron a principios de los años ochenta hasta las más recientes, derivadas de los suburbios de 2005, encontramos otro tipo de actos de carácter más festivo. un ejemplo lo constituyen los carnavales independientes de niza, celebrados en el barrio de san roque de aquella ciudad, en los que participan activamente numerosos jóvenes de origen magrebí a través de talleres efímeros de fabricación de máscaras y disfraces y que representan una forma de construir identidad colectiva alrededor de la lucha por el reconocimiento de una identidad urbana alternativa a la de los grandes eventos turísticos . su carácter popular proviene de la participación de sectores de clase baja pero también media, contra la dominación del capital y la mundialización y en favor de una comunidad local abierta al mundo . los beurs reivindican un lugar en el espacio público en el que poder construir una identidad mínimamente sólida y, de hecho, poder desarrollar proyectos biográficos que escapen a la doble discriminación social y étnica que los descendientes de magrebís han experimentado en francia. han sido protagonistas, junto a los agentes institucionales y los sujetos particulares que han aplicado sobre ellos discursos y prácticas de discriminación, de un proceso de etnogénesis basado no en la reivindicación de esencias y tradiciones étnicas, sino de la condición híbrida de aquellos que son reconocidos y se identifican a sí mismos como gente que ni se ha desplazado ni nunca lo ha hecho. tanto este proceso de etnogénesis como la movilización social ligada a ella son un ejemplo de cómo la inmigración puede no ser una condición hereditaria. de hecho, las migraciones, por corto que sea su alcance territorial, y las relaciones e intercambios interétnicos, son constitutivas de cualquier sociedad humana. todas las identidades étnicas se han forjado sobre formas de hibridación, y darse cuenta de ello puede conllevar una conciencia reflexiva de falta de raíces y cargas heredadas automáticamente desde supuestos orígenes culturales y un necesario compromiso individual por la búsqueda de consensos sociales . 7. conclusiones los descendientes de inmigrantes pueden ser sujetos específicos por varias razones. en primer lugar, pueden experimentar una doble discriminación que dibuja una experiencia biográfica distinta a la de otras personas de su generación y que está ligada a la trayectoria migratoria de los padres. esa doble discriminación es constitutiva de lo que hemos denominado condición inmigrante. en segundo lugar, pueden protagonizar formas de etnogénesis particulares, derivadas justamente de compartir esa misma experiencia y de que, en cierto modo, se vean forzados a pasar de algún modo por la condición inmigrante. en tercer lugar, los descendientes de inmigrantes pueden compartir con sus progenitores referentes culturales y lingüísticos distintos a los de otros jóvenes de su generación, aún sin mantener prácticamente contacto con las sociedades de origen de aquellos y sin dejar de compartir con esos otros jóvenes otros referentes. pero la posibilidad de que sean sujetos específicos no hace que obligatoriamente los descendientes de inmigrantes tengan que ser considerados objetos de estudio per se. hacerlo conlleva el riesgo de contribuir desde el campo científico a la herencia de la condición inmigrante. creo que hay cinco aspectos que permitirían esquivar ese riesgo en la investigación social. el primero es prestar atención a los contextos institucionales en los que se produce la inserción social de los inmigrantes, así como su integración y la de sus descendientes. los trabajos que hemos revisado sobre descendientes de inmigrantes en ee.uu. y la ue demuestran el rol fundamental del sistema educativo y universitario en la forja de ciudadanos con potencialidades para la participación social y también para el mercado laboral. de su lectura se desprende que las formas de discriminación étnica se producen no solamente por parte de las personas que interactúan con los inmigrantes y sus descendientes considerándose autóctonas, sino de las instituciones públicas de la sociedad que tienen los instrumentos con mayor capacidad de gestión de la acogida e inserción de los inmigrados y de la integración sociolaboral de sus descendientes. el protagonismo de estas instituciones radica sobre todo en los discursos públicos, disposiciones normativas e intervenciones diversas en el espacio público, que pueden potenciar formas de discriminación y exclusión. el segundo aspecto a resaltar no siempre ha sido objeto de atención cuando quizá debiera serlo. se trata, en este caso, de incluir siempre en los estudios que pretendan enfocar la integración de descendientes de inmigrantes población considerada no descendiente de inmigrante. ello da pie a tener en cuenta horizontalmente la variable generacional, además de la del origen, evitando contribuir a la reificación de etiquetas nacionales, guionizadas o del tipo segunda generación. en tercer lugar, y en conexión con lo que acabamos de decir, me parece recomendable no reproducir en los trabajos de investigación la etiqueta segunda generación ni en singular ni en plural, y sustituirla, cuando se considere necesario su uso, por otras como descendientes de inmigrantes. en todo caso creo que su utilización se debería limitar a aquellas ocasiones en que se cita a autores, trabajos o actores sociales que sí lo usan. el cuarto aspecto a tener en cuenta es de carácter metodológico. pese a que los estudios cuantitativos basados en individuos ofrecen en poco tiempo datos de amplio alcance, es preciso combinarlos con metodología cualitativa que permita explorar a fondo algunas cuestiones y con una redefinición de las unidades de análisis. el método biográfico y la definición de la familia como unidad de análisis se presentan como estrategias metodológicas interesantes para trabajar de manera transgeneracional y atendiendo a la memoria y los sentimientos compartidos como posible origen de capital social. ello permitiría ver cómo inciden en la integración de los sujetos que se estudien, ya no sólo lo estructura familiar, sino también la concepción del parentesco extenso y la familia y las prácticas y estrategias matrimoniales y productivas que se asocian a ella y otros aspectos como los viajes periódicos al país de origen de los padres o las inversiones familiares en aquel territorio. son cuestiones que, de alguna manera, pueden condicionar el futuro educativo y laboral de los hijos. finalmente, el quinto y último aspecto tiene que ver con la última parte de este artículo, que hemos dedicado al caso de los beurs. es preciso considerar el protagonismo de descendientes de inmigrantes en movimientos sociales y, especialmente, aquellos movimientos vinculados a procesos de etnogénesis o a proyectos colectivos que se basen en la asunción de la hibridación cultural como constitutiva de identidad étnica. con ello, se evita dar por sentado que la condición inmigrante se hereda y, al mismo tiempo, se contribuye a hacer patente que la supuesta pureza cultural y la idea de una esencia primigenia no son las únicas vías de construcción de identidades étnicas. son cinco ideas desde la reflexión, para afrontar las consecuencias perniciosas del corsé estructural con el que deben bregar quienes se han desplazado, quienes se supone que nunca lo han hecho y quienes sin haberse desplazado son vistos como si lo hubieran hecho, en el esfuerzo por construir un futuro que invite algo al optimismo.\n"
     ]
    }
   ],
   "source": [
    "for article in articles:\n",
    "    print(extract_pdf_text(article))"
   ]
  }
 ],
 "metadata": {
  "kernelspec": {
   "display_name": ".venv",
   "language": "python",
   "name": "python3"
  },
  "language_info": {
   "codemirror_mode": {
    "name": "ipython",
    "version": 3
   },
   "file_extension": ".py",
   "mimetype": "text/x-python",
   "name": "python",
   "nbconvert_exporter": "python",
   "pygments_lexer": "ipython3",
   "version": "3.12.5"
  }
 },
 "nbformat": 4,
 "nbformat_minor": 5
}
