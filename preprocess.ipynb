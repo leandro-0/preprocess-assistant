{
 "cells": [
  {
   "cell_type": "code",
   "execution_count": 1,
   "id": "a9ff561d12fd9c05",
   "metadata": {
    "ExecuteTime": {
     "end_time": "2025-02-25T18:45:54.470214Z",
     "start_time": "2025-02-25T18:45:54.401570Z"
    }
   },
   "outputs": [],
   "source": [
    "import os\n",
    "import re\n",
    "import nltk\n",
    "from pdfminer.high_level import extract_pages\n",
    "from pdfminer.high_level import LTPage\n",
    "from nltk.corpus import wordnet as wn\n",
    "from pdfminer.layout import LTTextContainer, LTTextLineVertical, LTTextBoxHorizontal, LTTextBox, Rect\n",
    "import wordninja\n",
    "from pdf2image import convert_from_path\n",
    "import numpy as np\n",
    "import cv2\n",
    "import pandas as pd"
   ]
  },
  {
   "cell_type": "code",
   "execution_count": 2,
   "id": "1a1fa45591f25e59",
   "metadata": {
    "ExecuteTime": {
     "end_time": "2025-02-25T22:01:40.325777Z",
     "start_time": "2025-02-25T22:01:40.321678Z"
    }
   },
   "outputs": [
    {
     "data": {
      "text/plain": [
       "['data\\\\000.pdf',\n",
       " 'data\\\\001.pdf',\n",
       " 'data\\\\002.pdf',\n",
       " 'data\\\\003.pdf',\n",
       " 'data\\\\004.pdf',\n",
       " 'data\\\\101404-Texto del artículo-379745-1-10-20230814.pdf',\n",
       " 'data\\\\103822-Texto del artículo-398336-1-10-20240109.pdf',\n",
       " 'data\\\\103827-Texto del artículo-398338-1-10-20240109.pdf',\n",
       " 'data\\\\108896-Texto del artículo-430136-1-10-20240723.pdf',\n",
       " 'data\\\\110685-Texto del artículo-444650-1-10-20241017.pdf',\n",
       " 'data\\\\113135-Texto del artículo-461992-1-10-20250121.pdf',\n",
       " 'data\\\\113136-Texto del artículo-461995-1-10-20250121.pdf',\n",
       " 'data\\\\130-Texto del artículo en fichero de Microsoft Word o LibreOffice (necesario)-134-1-10-20090331.pdf',\n",
       " 'data\\\\32502-Texto del artículo-103690-1-10-20150102 (1).pdf',\n",
       " 'data\\\\32502-Texto del artículo-103690-1-10-20150102.pdf',\n",
       " 'data\\\\32511-Texto del artículo-103699-1-10-20150102.pdf',\n",
       " 'data\\\\32519-Texto del artículo-103707-1-10-20150102.pdf',\n",
       " 'data\\\\32576-Texto del artículo-103765-1-10-20150102.pdf',\n",
       " 'data\\\\32585-Texto del artículo-103775-1-10-20150102.pdf',\n",
       " 'data\\\\32738-Texto del artículo-103935-1-10-20150102.pdf',\n",
       " 'data\\\\32766-Texto del artículo-103969-1-10-20150102.pdf',\n",
       " 'data\\\\32793-Texto del artículo-104000-1-10-20150102.pdf',\n",
       " 'data\\\\32808-Texto del artículo-104015-1-10-20150102.pdf',\n",
       " 'data\\\\67980-Texto del artículo-210492-1-10-20181017.pdf',\n",
       " 'data\\\\68036-Texto del artículo-210659-1-10-20181018.pdf',\n",
       " 'data\\\\68116-Texto del artículo-210919-1-10-20181022.pdf',\n",
       " 'data\\\\68195-Texto del artículo-211113-1-10-20181024.pdf',\n",
       " 'data\\\\68514-Texto del artículo-212200-1-10-20181107.pdf',\n",
       " 'data\\\\68520-Texto del artículo-212210-1-10-20181107.pdf',\n",
       " 'data\\\\74375-Texto del artículo-237795-1-10-20190926.pdf',\n",
       " 'data\\\\86232-Texto del artículo-285270-1-10-20201123.pdf',\n",
       " 'data\\\\90048-Texto del artículo-305353-1-10-20210621.pdf',\n",
       " 'data\\\\97886-Texto del artículo-355772-1-10-20230113.pdf',\n",
       " 'data\\\\99593-Texto del artículo-367964-1-10-20230426.pdf',\n",
       " 'data\\\\Codesarrollo-la-opción-institucional-para-el-vínculo-migración-y-desarrollo.pdf',\n",
       " 'data\\\\Construyendo-Teotitlán-tapetes-migrantes-gringos-y-etnógrafos.pdf']"
      ]
     },
     "execution_count": 2,
     "metadata": {},
     "output_type": "execute_result"
    }
   ],
   "source": [
    "os.makedirs(\"data\", exist_ok=True)\n",
    "articles = [os.path.join(\"data\", art) for art in os.listdir(\"data\")]\n",
    "articles"
   ]
  },
  {
   "cell_type": "code",
   "execution_count": 3,
   "id": "6d18af48",
   "metadata": {},
   "outputs": [],
   "source": [
    "def identify_footnote_line(article_path: str, page: LTPage, page_number: int, DPI: int = 100) -> list[dict[str, float]]:\n",
    "    page_w, page_h = page.bbox[2], page.bbox[3]\n",
    "    raw_image = convert_from_path(article_path, dpi=DPI, first_page=page_number+1, last_page=page_number+1)[0]\n",
    "    img = np.array(raw_image)\n",
    "    \n",
    "    gray = cv2.cvtColor(img, cv2.COLOR_RGB2GRAY)\n",
    "    img_height, img_width = gray.shape\n",
    "    kernel = cv2.getStructuringElement(cv2.MORPH_RECT, (20, 1))\n",
    "    morph = cv2.morphologyEx(gray, cv2.MORPH_CLOSE, kernel)\n",
    "    edges = cv2.Canny(morph, 50, 200, apertureSize=3)\n",
    "\n",
    "    lines = cv2.HoughLinesP(edges, 1, np.pi / 180, threshold=50, minLineLength=30, maxLineGap=20)\n",
    "    if lines is None:\n",
    "        return None\n",
    "\n",
    "    pdfminer_lines = []\n",
    "    for line in lines:\n",
    "        x1, y1, x2, y2 = line[0]\n",
    "        # Escalar a coordenadas PDFMiner\n",
    "        y1_pdf = (y1 / img_height) * page_h\n",
    "        y2_pdf = (y2 / img_height) * page_h\n",
    "\n",
    "        pdfminer_lines.append({\n",
    "            \"x1\": x1,\n",
    "            \"y1\": page_h - y1_pdf,\n",
    "            \"x2\": x2,\n",
    "            \"y2\": page_h - y2_pdf\n",
    "        })\n",
    "\n",
    "    threshold_y = page_h * 0.35\n",
    "    filtered_lines = [line for line in pdfminer_lines if line[\"y1\"] <= threshold_y]\n",
    "    filtered_lines.sort(key=lambda line: line[\"y1\"], reverse=True)\n",
    "    return filtered_lines[0] if filtered_lines else None"
   ]
  },
  {
   "cell_type": "code",
   "execution_count": 4,
   "id": "328c6f30a1fe9c96",
   "metadata": {
    "ExecuteTime": {
     "end_time": "2025-02-25T22:01:43.600110Z",
     "start_time": "2025-02-25T22:01:43.596107Z"
    }
   },
   "outputs": [],
   "source": [
    "def extract_page(pdf_path, page):\n",
    "    pages = extract_pages(pdf_path)\n",
    "    for i, page_layout in enumerate(pages):\n",
    "        if i != page - 1: continue\n",
    "        return page_layout\n",
    "    return None"
   ]
  },
  {
   "cell_type": "code",
   "execution_count": 5,
   "metadata": {},
   "outputs": [],
   "source": [
    "# regex stop conditions\n",
    "references_re = r\"(?i)^\\s*(referencias|bibliografía citada|bibliografia citada|bibliografía|bibliografia|citas|fuentes|referencias bibliograficas|referencias bibliográficas)\\s*$\"\n",
    "\n",
    "# regex delete\n",
    "version_logs = r\"(?i)(recibido|aceptado|publicado|(segunda|tercera|cuarta|quinta|sexta) versión)[,:]?\\s*(el\\s*)?(\\d{1,2}(\\s*de)?\\s*[a-záéíóú]+(\\s*de\\s*\\d{4})?|\\d{1,2}/\\d{1,2}/\\d{4})(\\s*\\.\\s*)?\"\n",
    "\n",
    "footnote_references = r\"([.,;:!?])([0-9]+)\"\n",
    "duplicated_spaces = r\"\\s+\"\n",
    "\n",
    "# recognizing regex\n",
    "abstract = r\"Palabras clave|Keywords|Resumen|Abstract|Key words|Palabrasclave|Keyword|Palabra clave|Palabras claves|Keywords|Sumario|Síntesis|Sintesis|Sinopsis\"\n",
    "\n",
    "# parentesis y llaves\n",
    "parentheses_pattern = r'\\(' + \\\n",
    "                      r'(?:' + \\\n",
    "                      r'(?:[^;)]+)' + \\\n",
    "                      r'(?:; [^;)]+)*' + \\\n",
    "                      r')\\)'\n",
    "brackets_pattern = r'\\[' + \\\n",
    "                      r'(?:' + \\\n",
    "                      r'(?:[^;\\]]+)' + \\\n",
    "                      r'(?:; [^;\\]]+)*' + \\\n",
    "                      r')\\]'"
   ]
  },
  {
   "cell_type": "code",
   "execution_count": 6,
   "id": "efa9dc49",
   "metadata": {},
   "outputs": [],
   "source": [
    "class ArticleExtractedData:\n",
    "    def __init__(self, pdf_path: str):\n",
    "        self.pdf_path: str = pdf_path\n",
    "        self.headers: set[str] = set()\n",
    "        self.footers: set[str] = set()\n",
    "        self.footnotes_lines: list[dict[str, float]] = []\n",
    "        self.start_page: int = 0\n",
    "\n",
    "def extract_data_article(pdf_path) -> ArticleExtractedData:\n",
    "    data = ArticleExtractedData(pdf_path)\n",
    "    headers_counter: map[str, int] = {}\n",
    "    footers_counter: map[str, int] = {}\n",
    "    found_page = None\n",
    "\n",
    "    for i, page in enumerate(extract_pages(pdf_path)):\n",
    "        height = page.bbox[3]\n",
    "        cutoff = height * 0.35\n",
    "\n",
    "        footnote_line = identify_footnote_line(pdf_path, page, i)\n",
    "        data.footnotes_lines.append(footnote_line)\n",
    "\n",
    "        for element in page:\n",
    "            if not isinstance(element, (LTTextBox, LTTextBox, LTTextContainer)):\n",
    "                continue\n",
    "            txt = element.get_text().strip()\n",
    "            if element.bbox[3] <= cutoff:\n",
    "                footers_counter[txt] = footers_counter.get(txt, 0) + 1\n",
    "            if element.bbox[1] >= height - cutoff:\n",
    "                headers_counter[txt] = headers_counter.get(txt, 0) + 1\n",
    "            \n",
    "            # Stop searching for abstract after 3 pages\n",
    "            if found_page is not None or i > 2:\n",
    "                continue\n",
    "\n",
    "            text_semiclean = re.sub(duplicated_spaces, \" \", txt).strip()\n",
    "            if re.search(abstract, text_semiclean, re.IGNORECASE):\n",
    "                found_page = i\n",
    "\n",
    "\n",
    "    data.headers = {k for k, v in headers_counter.items() if v > 1 and len(k) > 0}\n",
    "    data.footers = {k for k, v in footers_counter.items() if v > 1 and len(k) > 0}\n",
    "    if found_page is not None:\n",
    "        data.start_page = found_page\n",
    "    return data"
   ]
  },
  {
   "cell_type": "code",
   "execution_count": 7,
   "id": "4a837c4d",
   "metadata": {},
   "outputs": [],
   "source": [
    "def check_stop_conditions(text) -> bool:\n",
    "\treturn any([\n",
    "\t\tre.search(references_re, text, flags=re.MULTILINE),\n",
    "\t])\n",
    "\n",
    "def clean_unwanted_patterns(text) -> str:\n",
    "\t# Eliminar patrones como \"Recibido el 12 de marzo de 2021.\"\n",
    "    text = re.sub(version_logs, \"\", text).strip()\n",
    "\n",
    "    # ()\n",
    "    text = re.sub(parentheses_pattern, \"\", text).strip()\n",
    "    \n",
    "    # []\n",
    "    text = re.sub(brackets_pattern, \"\", text).strip()\n",
    "    \n",
    "    # .1 ?2 !4 :5 ;6\n",
    "    text = re.sub(footnote_references, r\"\\1\", text).strip()\n",
    "\n",
    "    return text\n",
    "\n",
    "def clean_page(text) -> str:\n",
    "    text = text.replace(\"-\\n\", \"\")\n",
    "    text = text.replace(\"\\n\", \" \")\n",
    "    text = text.replace(\"«\", \"\").replace(\"»\", \"\").replace(\"“\", \"\").replace(\"”\", \"\").replace(\"‘\", \"\").replace(\"’\", \"\")\n",
    "    text = text.replace('\"', \"\").replace(\"'\", \"\")\n",
    "    # en ., data ?\n",
    "    text = re.sub(r'\\s+([.,;:!?])', r'\\1', text).strip()\n",
    "    text = re.sub(duplicated_spaces, \" \", text).strip()\n",
    "    return text.lower()\n",
    "\n",
    "# (str, bool) -> (text, continue?)\n",
    "def extract_page_text(page: LTPage, page_number: int, data: ArticleExtractedData) -> tuple[str, bool]:\n",
    "    text = \"\"\n",
    "    status = True\n",
    "    if page_number <= data.start_page:\n",
    "        return text, status\n",
    "\n",
    "    for element in page:\n",
    "        if not isinstance(element, (LTTextBoxHorizontal, LTTextBox, LTTextContainer)):\n",
    "            continue\n",
    "\n",
    "        _, __, ___, y2 = element.bbox\n",
    "        footnote_line = data.footnotes_lines[page_number]\n",
    "        if y2 <= (footnote_line[\"y1\"] if footnote_line is not None else -1):\n",
    "            break\n",
    "\n",
    "        txt = element.get_text().strip()\n",
    "        if txt.isdigit() or txt in data.headers or txt in data.footers:\n",
    "            continue\n",
    "\n",
    "        if check_stop_conditions(txt):\n",
    "            status = False\n",
    "            break\n",
    "\n",
    "        text += txt + \"\\n\"\n",
    "\n",
    "    text = clean_unwanted_patterns(text)\n",
    "    text = clean_page(text)\n",
    "    return text, status"
   ]
  },
  {
   "cell_type": "code",
   "execution_count": 36,
   "id": "81362f01",
   "metadata": {},
   "outputs": [
    {
     "data": {
      "text/plain": [
       "('', True)"
      ]
     },
     "execution_count": 36,
     "metadata": {},
     "output_type": "execute_result"
    }
   ],
   "source": [
    "art = articles[5]\n",
    "data = extract_data_article(art)\n",
    "page = extract_page(art, 2)\n",
    "extract_page_text(page, 1, data)"
   ]
  },
  {
   "cell_type": "code",
   "execution_count": 106,
   "id": "183559bb16e20cbb",
   "metadata": {
    "ExecuteTime": {
     "end_time": "2025-02-25T22:02:41.521599Z",
     "start_time": "2025-02-25T22:02:41.345192Z"
    }
   },
   "outputs": [
    {
     "name": "stdout",
     "output_type": "stream",
     "text": [
      "<LTTextBoxHorizontal(0) 131.553,617.258,367.336,625.258 'REFORMA, ORDEN Y CONCIERTO EN EL PERÚ DEL SIGLO XVII\\n'>\n",
      "<LTTextBoxHorizontal(1) 85.038,387.647,413.873,601.046 'constantemente  con  los  otros  miembros  de  la  élite  de  poder  en  materias\\nreferentes  a  aumento  de  impuestos,  envío  de  remesas  y  colaboración\\ncomercial.  Mantener  el  equilibrio  no  fue  tarea  fácil  y,  de  hecho,  hubo\\ncoyunturas muy tensas entre los diversos actores sociales, sobre todo cuan-\\ndo  se  intentó  forzar  a  los  reinos  americanos  a  realizar  mayores  aportes\\npecuniarios a la península. Los «beneméritos» nunca cejaron en sus inten-\\ntos de obtener los puestos que los propios virreyes repartían entre sus cria-\\ndos. La Iglesia, por su parte, se mantuvo firme en defender los privilegios\\nconcedidos desde el siglo XVI, que la favorecían con la percepción de diez-\\nmos, inmunidad, cesión de tierras y beneficios fiscales. La administración\\nfue ineficiente y progresivamente ciertas funciones del Estado fueron dele-\\ngándose en manos privadas, particularmente en el Consulado.4 Finalmente,\\nlos comerciantes de Lima formaron grandes consorcios en el interior del\\nvirreinato que les permitieron lanzar una ofensiva contundente en el comer-\\ncio  atlántico  a  través  de  sus  factores  —los  «peruleros»—,  que  dejó  en\\nmalas condiciones tanto al comercio peninsular como al mismo sistema de\\ngaleones.5\\n'>\n",
      "<LTTextBoxHorizontal(2) 85.034,197.898,413.865,385.998 'En este contexto, y como expresión de la práctica política de la épo-\\nca, aparecieron diversos escritos sobre el Perú que trataron de diagnosticar\\ny remediar alguno de estos males aunque, como afirma Amadori, la histo-\\nriografía  americanista  no  les  ha  prestado  mucha  atención.6.  El  fenómeno\\nque  más  ha  sido  estudiado  es  la  aparición  de  arbitrios  en  las  décadas  de\\n1620 y 1630, incentivada por el conde-duque de Olivares, la mayoría de los\\ncuales  tenía  como  finalidad  hacer  más  eficiente  la  extorsión  fiscal  de  las\\nIndias.7 Un  buen  ejemplo  es  el  «Parecer»  del  contador  Hernando  de\\nValencia, cuyo arbitrio explicaba los daños que había ocasionado la planta-\\nción de viñas en el Perú y recomendaba volver a prohibir el comercio de\\nvinos  peruanos  para  aumentar  el  consumo  de  aquellos  procedentes  de\\nEspaña.8 El arbitrio de Diego Pérez Gallego estaba orientado, por el contra-\\nrio, a exaltar las virtudes del gobierno del virrey conde de Chinchón, pero\\ntambién incluía un diagnóstico de los principales problemas del Perú y los\\nremedios necesarios para subsanar los errores.9\\n'>\n",
      "<LTTextBoxHorizontal(3) 112.220,138.453,413.854,183.253 '4 Suárez, 2012.\\n5 Suárez, 2009.\\n6 Amadori, 2009, 152.\\n7 Idem; Amadori, 2013, 139; Bronner, 1974, 1975, 1981, 1981a.\\n8 Archivo General de Indias (AGI), Lima, 162, Parecer del contador Hernando de Valencia,\\n'>\n",
      "<LTTextBoxHorizontal(4) 85.036,129.253,116.788,137.253 'año 1633.\\n'>\n",
      "<LTTextBoxHorizontal(5) 112.220,120.053,220.109,128.053 '9 Pérez Gallego, 1945, 295-326.\\n'>\n",
      "<LTTextBoxHorizontal(6) 85.039,93.542,327.778,99.542 'Anu. estud. am., 71, 1, enero-junio, 2014, 25-46. ISSN: 0210-5810. DOI: 10.3989/aeamer.2014.1.02\\n'>\n",
      "<LTTextBoxHorizontal(7) 402.858,93.541,413.858,104.541 '27\\n'>\n",
      "<LTRect 85.039,93.543,413.858,626.457>\n",
      "<LTRect 85.039,93.543,413.858,192.756>\n",
      "<LTLine 85.039,189.895,136.063,189.895>\n",
      "<LTRect 85.039,600.945,413.858,626.457>\n",
      "<LTRect 85.039,93.543,413.858,119.055>\n",
      "<LTRect 385.512,93.543,413.858,119.055>\n"
     ]
    }
   ],
   "source": [
    "page = extract_page(articles[1], 3)\n",
    "for element in page:\n",
    "    print(element)"
   ]
  },
  {
   "cell_type": "markdown",
   "metadata": {},
   "source": [
    "# Preprocesado"
   ]
  },
  {
   "cell_type": "code",
   "execution_count": 8,
   "id": "f8dc47fe",
   "metadata": {},
   "outputs": [],
   "source": [
    "def get_files() -> list[str]:\n",
    "    PACK_DIR = \"pack\"\n",
    "    os.makedirs(PACK_DIR, exist_ok=True)\n",
    "    dirs = os.listdir(PACK_DIR)\n",
    "    files = []\n",
    "    for dr in dirs:\n",
    "        files.extend(\n",
    "            [\n",
    "                os.path.join(PACK_DIR, dr, file)\n",
    "                for file in os.listdir(os.path.join(PACK_DIR, dr))\n",
    "            ]\n",
    "        )\n",
    "    return files"
   ]
  },
  {
   "cell_type": "code",
   "execution_count": 9,
   "metadata": {},
   "outputs": [
    {
     "data": {
      "text/plain": [
       "1925"
      ]
     },
     "execution_count": 9,
     "metadata": {},
     "output_type": "execute_result"
    }
   ],
   "source": [
    "# articles = [os.path.join(\"data\", art) for art in os.listdir(\"data\")]\n",
    "articles = get_files()\n",
    "len(articles)"
   ]
  },
  {
   "cell_type": "code",
   "execution_count": 10,
   "id": "349b8631",
   "metadata": {},
   "outputs": [],
   "source": [
    "def extract_pdf_text(pdf_path: str) -> str:\n",
    "    text = \"\"\n",
    "    data = extract_data_article(pdf_path)\n",
    "    for i, page in enumerate(extract_pages(pdf_path)):\n",
    "        page_text, can_continue = extract_page_text(page, i, data)\n",
    "        text = f\"{text} {page_text}\"\n",
    "        if not can_continue:\n",
    "            break\n",
    "    return text.strip()"
   ]
  },
  {
   "cell_type": "code",
   "execution_count": 11,
   "metadata": {},
   "outputs": [
    {
     "name": "stderr",
     "output_type": "stream",
     "text": [
      "The PDF <_io.BufferedReader name='pack\\\\AIBR\\\\2006-Cambios-de-género-y-discriminación-laboral-en-el-sector-financiero-colombiano-El-caso-de-Bancolombia.pdf'> contains a metadata field indicating that it should not allow text extraction. Ignoring this field and proceeding. Use the check_extractable if you want to raise an error in this case\n",
      "The PDF <_io.BufferedReader name='pack\\\\AIBR\\\\2006-Cambios-de-género-y-discriminación-laboral-en-el-sector-financiero-colombiano-El-caso-de-Bancolombia.pdf'> contains a metadata field indicating that it should not allow text extraction. Ignoring this field and proceeding. Use the check_extractable if you want to raise an error in this case\n",
      "The PDF <_io.BufferedReader name='pack\\\\AIBR\\\\2006-Consecuencias-personales-en-la-ruptura-de-la-vida-laboral-El-caso-de-Telefónica.pdf'> contains a metadata field indicating that it should not allow text extraction. Ignoring this field and proceeding. Use the check_extractable if you want to raise an error in this case\n",
      "The PDF <_io.BufferedReader name='pack\\\\AIBR\\\\2006-Profesionales-flexibles-Cocineros-enfermeras-y-directivos-en-el-siglo-XXI.pdf'> contains a metadata field indicating that it should not allow text extraction. Ignoring this field and proceeding. Use the check_extractable if you want to raise an error in this case\n",
      "The PDF <_io.BufferedReader name='pack\\\\AIBR\\\\2006-Consecuencias-personales-en-la-ruptura-de-la-vida-laboral-El-caso-de-Telefónica.pdf'> contains a metadata field indicating that it should not allow text extraction. Ignoring this field and proceeding. Use the check_extractable if you want to raise an error in this case\n",
      "The PDF <_io.BufferedReader name='pack\\\\AIBR\\\\2006-Profesionales-flexibles-Cocineros-enfermeras-y-directivos-en-el-siglo-XXI.pdf'> contains a metadata field indicating that it should not allow text extraction. Ignoring this field and proceeding. Use the check_extractable if you want to raise an error in this case\n",
      "The PDF <_io.BufferedReader name='pack\\\\AIBR\\\\2006-Hacia-una-producción-enriquecida-Trabajo-en-grupo-y-recualificación-en-empresas-de-ingeniería-mecáni.pdf'> contains a metadata field indicating that it should not allow text extraction. Ignoring this field and proceeding. Use the check_extractable if you want to raise an error in this case\n",
      "The PDF <_io.BufferedReader name='pack\\\\AIBR\\\\2006-Hacia-una-producción-enriquecida-Trabajo-en-grupo-y-recualificación-en-empresas-de-ingeniería-mecáni.pdf'> contains a metadata field indicating that it should not allow text extraction. Ignoring this field and proceeding. Use the check_extractable if you want to raise an error in this case\n",
      "The PDF <_io.BufferedReader name='pack\\\\AIBR\\\\2006-El-empleo-o-la-vida-perder-el-empleo-para-conservar-la-vida-o-renunciar-a-la-vida-para-conservar-el-.pdf'> contains a metadata field indicating that it should not allow text extraction. Ignoring this field and proceeding. Use the check_extractable if you want to raise an error in this case\n",
      "The PDF <_io.BufferedReader name='pack\\\\AIBR\\\\2006-El-empleo-o-la-vida-perder-el-empleo-para-conservar-la-vida-o-renunciar-a-la-vida-para-conservar-el-.pdf'> contains a metadata field indicating that it should not allow text extraction. Ignoring this field and proceeding. Use the check_extractable if you want to raise an error in this case\n",
      "The PDF <_io.BufferedReader name='pack\\\\AIBR\\\\2006-El-trabajo-de-las-mujeres-en-la-industria-maquiladora-de-México-Balance-de-cuatro-décadas-de-estudio.pdf'> contains a metadata field indicating that it should not allow text extraction. Ignoring this field and proceeding. Use the check_extractable if you want to raise an error in this case\n",
      "The PDF <_io.BufferedReader name='pack\\\\AIBR\\\\2006-El-trabajo-de-las-mujeres-en-la-industria-maquiladora-de-México-Balance-de-cuatro-décadas-de-estudio.pdf'> contains a metadata field indicating that it should not allow text extraction. Ignoring this field and proceeding. Use the check_extractable if you want to raise an error in this case\n",
      "The PDF <_io.BufferedReader name='pack\\\\AIBR\\\\2007-Del-colonialismo-al-colaboracionismo-dialógicocrítico-una-aproximación-a-la-dimensión-política-y-ref.pdf'> contains a metadata field indicating that it should not allow text extraction. Ignoring this field and proceeding. Use the check_extractable if you want to raise an error in this case\n",
      "The PDF <_io.BufferedReader name='pack\\\\AIBR\\\\2007-Del-colonialismo-al-colaboracionismo-dialógicocrítico-una-aproximación-a-la-dimensión-política-y-ref.pdf'> contains a metadata field indicating that it should not allow text extraction. Ignoring this field and proceeding. Use the check_extractable if you want to raise an error in this case\n",
      "The PDF <_io.BufferedReader name='pack\\\\Revista-de-Indias\\\\2006-Andrés-del-Río-Antonio-del-Castillo-y-José-G-Aguilera-en-el-desarrollo-de-la-ciencia-mexicana-del-si.pdf'> contains a metadata field indicating that it should not allow text extraction. Ignoring this field and proceeding. Use the check_extractable if you want to raise an error in this case\n",
      "The PDF <_io.BufferedReader name='pack\\\\Revista-de-Indias\\\\2006-Andrés-del-Río-Antonio-del-Castillo-y-José-G-Aguilera-en-el-desarrollo-de-la-ciencia-mexicana-del-si.pdf'> contains a metadata field indicating that it should not allow text extraction. Ignoring this field and proceeding. Use the check_extractable if you want to raise an error in this case\n",
      "The PDF <_io.BufferedReader name='pack\\\\Revista-de-Indias\\\\2006-Chile-en-el-Perú-guerra-y-construcción-estatal-en-Sudamérica-18811884.pdf'> contains a metadata field indicating that it should not allow text extraction. Ignoring this field and proceeding. Use the check_extractable if you want to raise an error in this case\n",
      "The PDF <_io.BufferedReader name='pack\\\\Revista-de-Indias\\\\2006-Estados-clases-y-Real-Hacienda-en-los-inicios-de-la-conquista-del-Perú.pdf'> contains a metadata field indicating that it should not allow text extraction. Ignoring this field and proceeding. Use the check_extractable if you want to raise an error in this case\n",
      "The PDF <_io.BufferedReader name='pack\\\\Revista-de-Indias\\\\2006-Chile-en-el-Perú-guerra-y-construcción-estatal-en-Sudamérica-18811884.pdf'> contains a metadata field indicating that it should not allow text extraction. Ignoring this field and proceeding. Use the check_extractable if you want to raise an error in this case\n",
      "The PDF <_io.BufferedReader name='pack\\\\Revista-de-Indias\\\\2006-Codicia-y-bien-público-los-ministros-de-la-Audiencia-en-la-Lima-seiscentista.pdf'> contains a metadata field indicating that it should not allow text extraction. Ignoring this field and proceeding. Use the check_extractable if you want to raise an error in this case\n",
      "The PDF <_io.BufferedReader name='pack\\\\Revista-de-Indias\\\\2006-Estados-clases-y-Real-Hacienda-en-los-inicios-de-la-conquista-del-Perú.pdf'> contains a metadata field indicating that it should not allow text extraction. Ignoring this field and proceeding. Use the check_extractable if you want to raise an error in this case\n",
      "The PDF <_io.BufferedReader name='pack\\\\Revista-de-Indias\\\\2006-Codicia-y-bien-público-los-ministros-de-la-Audiencia-en-la-Lima-seiscentista.pdf'> contains a metadata field indicating that it should not allow text extraction. Ignoring this field and proceeding. Use the check_extractable if you want to raise an error in this case\n",
      "The PDF <_io.BufferedReader name='pack\\\\Revista-de-Indias\\\\2006-Evolución-de-la-producción-y-el-comercio-mundial-de-la-grana-cochinilla-siglos-XVIXIX.pdf'> contains a metadata field indicating that it should not allow text extraction. Ignoring this field and proceeding. Use the check_extractable if you want to raise an error in this case\n",
      "The PDF <_io.BufferedReader name='pack\\\\Revista-de-Indias\\\\2006-Como-güelfos-y-gibelinos-los-colegios-de-San-Bernardo-y-San-Antonio-Abad-en-el-Cuzco-durante-el-sigl.pdf'> contains a metadata field indicating that it should not allow text extraction. Ignoring this field and proceeding. Use the check_extractable if you want to raise an error in this case\n",
      "The PDF <_io.BufferedReader name='pack\\\\Revista-de-Indias\\\\2006-Redes-de-alta-corrupción-en-el-Perú-poder-y-venalidad-desde-el-Virrey-Amat-a-Montesinos.pdf'> contains a metadata field indicating that it should not allow text extraction. Ignoring this field and proceeding. Use the check_extractable if you want to raise an error in this case\n",
      "The PDF <_io.BufferedReader name='pack\\\\Revista-de-Indias\\\\2006-Evolución-de-la-producción-y-el-comercio-mundial-de-la-grana-cochinilla-siglos-XVIXIX.pdf'> contains a metadata field indicating that it should not allow text extraction. Ignoring this field and proceeding. Use the check_extractable if you want to raise an error in this case\n",
      "The PDF <_io.BufferedReader name='pack\\\\Revista-de-Indias\\\\2006-Gente-de-mal-vivir-familias-e-hijos-rebeldes-en-Nueva-España-17211729.pdf'> contains a metadata field indicating that it should not allow text extraction. Ignoring this field and proceeding. Use the check_extractable if you want to raise an error in this case\n",
      "The PDF <_io.BufferedReader name='pack\\\\Revista-de-Indias\\\\2006-Como-güelfos-y-gibelinos-los-colegios-de-San-Bernardo-y-San-Antonio-Abad-en-el-Cuzco-durante-el-sigl.pdf'> contains a metadata field indicating that it should not allow text extraction. Ignoring this field and proceeding. Use the check_extractable if you want to raise an error in this case\n",
      "The PDF <_io.BufferedReader name='pack\\\\Revista-de-Indias\\\\2006-Concordias-medicinales-de-entrambos-mundos-el-proyecto-sobre-materia-médica-peruana-de-Matías-de-Por.pdf'> contains a metadata field indicating that it should not allow text extraction. Ignoring this field and proceeding. Use the check_extractable if you want to raise an error in this case\n",
      "The PDF <_io.BufferedReader name='pack\\\\Revista-de-Indias\\\\2006-Redes-de-alta-corrupción-en-el-Perú-poder-y-venalidad-desde-el-Virrey-Amat-a-Montesinos.pdf'> contains a metadata field indicating that it should not allow text extraction. Ignoring this field and proceeding. Use the check_extractable if you want to raise an error in this case\n",
      "The PDF <_io.BufferedReader name='pack\\\\Revista-de-Indias\\\\2006-Redes-de-poder-en-el-Virreinato-del-Perú-17761824-los-burócratas.pdf'> contains a metadata field indicating that it should not allow text extraction. Ignoring this field and proceeding. Use the check_extractable if you want to raise an error in this case\n",
      "The PDF <_io.BufferedReader name='pack\\\\Revista-de-Indias\\\\2006-Concordias-medicinales-de-entrambos-mundos-el-proyecto-sobre-materia-médica-peruana-de-Matías-de-Por.pdf'> contains a metadata field indicating that it should not allow text extraction. Ignoring this field and proceeding. Use the check_extractable if you want to raise an error in this case\n",
      "The PDF <_io.BufferedReader name='pack\\\\Revista-de-Indias\\\\2006-Diversos-aspectos-atinentes-a-la-situación-de-los-Afroporteños-a-principios-del-período-postrevoluci.pdf'> contains a metadata field indicating that it should not allow text extraction. Ignoring this field and proceeding. Use the check_extractable if you want to raise an error in this case\n",
      "The PDF <_io.BufferedReader name='pack\\\\Revista-de-Indias\\\\2006-Redes-de-poder-en-el-Virreinato-del-Perú-17761824-los-burócratas.pdf'> contains a metadata field indicating that it should not allow text extraction. Ignoring this field and proceeding. Use the check_extractable if you want to raise an error in this case\n",
      "The PDF <_io.BufferedReader name='pack\\\\Revista-de-Indias\\\\2006-Gente-de-mal-vivir-familias-e-hijos-rebeldes-en-Nueva-España-17211729.pdf'> contains a metadata field indicating that it should not allow text extraction. Ignoring this field and proceeding. Use the check_extractable if you want to raise an error in this case\n",
      "The PDF <_io.BufferedReader name='pack\\\\Revista-de-Indias\\\\2006-Historia-Memoria-la-construcción-de-las-tradiciones-dinásticas-andinas.pdf'> contains a metadata field indicating that it should not allow text extraction. Ignoring this field and proceeding. Use the check_extractable if you want to raise an error in this case\n",
      "The PDF <_io.BufferedReader name='pack\\\\Revista-de-Indias\\\\2006-Diversos-aspectos-atinentes-a-la-situación-de-los-Afroporteños-a-principios-del-período-postrevoluci.pdf'> contains a metadata field indicating that it should not allow text extraction. Ignoring this field and proceeding. Use the check_extractable if you want to raise an error in this case\n",
      "The PDF <_io.BufferedReader name='pack\\\\Revista-de-Indias\\\\2006-El-rol-de-las-alianzas-entre-misioneros-e-indígenas-en-la-conquista-de-Apolobamba-siglos-XVIXVII.pdf'> contains a metadata field indicating that it should not allow text extraction. Ignoring this field and proceeding. Use the check_extractable if you want to raise an error in this case\n",
      "The PDF <_io.BufferedReader name='pack\\\\Revista-de-Indias\\\\2006-Vida-y-muerte-de-doña-Melchora-Lemos-empresaria-vitivinícola-y-terciaria-de-la-Orden-de-Predicadores.pdf'> contains a metadata field indicating that it should not allow text extraction. Ignoring this field and proceeding. Use the check_extractable if you want to raise an error in this case\n",
      "The PDF <_io.BufferedReader name='pack\\\\Revista-de-Indias\\\\2006-El-rol-de-las-alianzas-entre-misioneros-e-indígenas-en-la-conquista-de-Apolobamba-siglos-XVIXVII.pdf'> contains a metadata field indicating that it should not allow text extraction. Ignoring this field and proceeding. Use the check_extractable if you want to raise an error in this case\n",
      "The PDF <_io.BufferedReader name='pack\\\\Revista-de-Indias\\\\2006-El-Virrey-Abascal-y-el-espacio-del-poder-en-el-Perú-18061816-Un-balance-historiográfico.pdf'> contains a metadata field indicating that it should not allow text extraction. Ignoring this field and proceeding. Use the check_extractable if you want to raise an error in this case\n",
      "The PDF <_io.BufferedReader name='pack\\\\Revista-de-Indias\\\\2006-Historia-Memoria-la-construcción-de-las-tradiciones-dinásticas-andinas.pdf'> contains a metadata field indicating that it should not allow text extraction. Ignoring this field and proceeding. Use the check_extractable if you want to raise an error in this case\n",
      "The PDF <_io.BufferedReader name='pack\\\\Revista-de-Indias\\\\2006-Vida-y-muerte-de-doña-Melchora-Lemos-empresaria-vitivinícola-y-terciaria-de-la-Orden-de-Predicadores.pdf'> contains a metadata field indicating that it should not allow text extraction. Ignoring this field and proceeding. Use the check_extractable if you want to raise an error in this case\n",
      "The PDF <_io.BufferedReader name='pack\\\\Revista-de-Indias\\\\2006-La-estatua-de-Francisco-Pizarro-en-Lima-Historia-e-identidad-nacional.pdf'> contains a metadata field indicating that it should not allow text extraction. Ignoring this field and proceeding. Use the check_extractable if you want to raise an error in this case\n",
      "The PDF <_io.BufferedReader name='pack\\\\Revista-de-Indias\\\\2006-El-Virrey-Abascal-y-el-espacio-del-poder-en-el-Perú-18061816-Un-balance-historiográfico.pdf'> contains a metadata field indicating that it should not allow text extraction. Ignoring this field and proceeding. Use the check_extractable if you want to raise an error in this case\n",
      "The PDF <_io.BufferedReader name='pack\\\\Revista-de-Indias\\\\2006-Empresas-instituciones-y-red-social-la-Compañía-Hispanoamericana-de-Electricidad-CHADE-entre-Barcelo.pdf'> contains a metadata field indicating that it should not allow text extraction. Ignoring this field and proceeding. Use the check_extractable if you want to raise an error in this case\n",
      "The PDF <_io.BufferedReader name='pack\\\\Revista-de-Indias\\\\2006-La-estatua-de-Francisco-Pizarro-en-Lima-Historia-e-identidad-nacional.pdf'> contains a metadata field indicating that it should not allow text extraction. Ignoring this field and proceeding. Use the check_extractable if you want to raise an error in this case\n",
      "The PDF <_io.BufferedReader name='pack\\\\Revista-de-Indias\\\\2006-La-salida-de-la-elite-virreinal-del-Perú-sacerdotes-funcionarios-y-comerciantes-18211825.pdf'> contains a metadata field indicating that it should not allow text extraction. Ignoring this field and proceeding. Use the check_extractable if you want to raise an error in this case\n",
      "The PDF <_io.BufferedReader name='pack\\\\Revista-de-Indias\\\\2006-Empresas-instituciones-y-red-social-la-Compañía-Hispanoamericana-de-Electricidad-CHADE-entre-Barcelo.pdf'> contains a metadata field indicating that it should not allow text extraction. Ignoring this field and proceeding. Use the check_extractable if you want to raise an error in this case\n",
      "The PDF <_io.BufferedReader name='pack\\\\Revista-de-Indias\\\\2006-La-salida-de-la-elite-virreinal-del-Perú-sacerdotes-funcionarios-y-comerciantes-18211825.pdf'> contains a metadata field indicating that it should not allow text extraction. Ignoring this field and proceeding. Use the check_extractable if you want to raise an error in this case\n",
      "The PDF <_io.BufferedReader name='pack\\\\Revista-de-Indias\\\\2006-Mario-de-Andrade-y-laMissão-de-Pesquisas-Folclóricas1938-una-etnografía-que-no-fue.pdf'> contains a metadata field indicating that it should not allow text extraction. Ignoring this field and proceeding. Use the check_extractable if you want to raise an error in this case\n",
      "The PDF <_io.BufferedReader name='pack\\\\Revista-de-Indias\\\\2006-Mario-de-Andrade-y-laMissão-de-Pesquisas-Folclóricas1938-una-etnografía-que-no-fue.pdf'> contains a metadata field indicating that it should not allow text extraction. Ignoring this field and proceeding. Use the check_extractable if you want to raise an error in this case\n",
      "The PDF <_io.BufferedReader name='pack\\\\Revista-de-Indias\\\\2006-Mediación-política-redes-clientelares-y-pacificación-del-Reino-en-el-Perú-del-siglo-XVI-Observacione.pdf'> contains a metadata field indicating that it should not allow text extraction. Ignoring this field and proceeding. Use the check_extractable if you want to raise an error in this case\n",
      "The PDF <_io.BufferedReader name='pack\\\\Revista-de-Indias\\\\2006-Mediación-política-redes-clientelares-y-pacificación-del-Reino-en-el-Perú-del-siglo-XVI-Observacione.pdf'> contains a metadata field indicating that it should not allow text extraction. Ignoring this field and proceeding. Use the check_extractable if you want to raise an error in this case\n"
     ]
    }
   ],
   "source": [
    "# articles_text = {}\n",
    "# for article in articles:\n",
    "#     articles_text[article] = extract_pdf_text(article)\n",
    "\n",
    "import multiprocessing as mp\n",
    "from multiprocessing.pool import ThreadPool\n",
    "\n",
    "def process_article(article):\n",
    "    return article, extract_pdf_text(article)\n",
    "\n",
    "def process_articles_parallel(articles):\n",
    "    with ThreadPool(mp.cpu_count() * 2) as pool:\n",
    "        results = pool.map(process_article, articles)\n",
    "    return dict(results)\n",
    "\n",
    "articles_text = process_articles_parallel(articles)"
   ]
  },
  {
   "cell_type": "code",
   "execution_count": 12,
   "id": "41e560c7",
   "metadata": {},
   "outputs": [],
   "source": [
    "texts = list(articles_text.values())"
   ]
  },
  {
   "cell_type": "code",
   "execution_count": 29,
   "id": "8fa32712",
   "metadata": {},
   "outputs": [
    {
     "data": {
      "text/plain": [
       "1925"
      ]
     },
     "execution_count": 29,
     "metadata": {},
     "output_type": "execute_result"
    }
   ],
   "source": [
    "reversed_texts = {v: k for k, v in articles_text.items()}\n",
    "texts_indexes = []\n",
    "for i in range(len(texts)):\n",
    "    texts_indexes.append(reversed_texts[texts[i]])\n",
    "len(texts_indexes)"
   ]
  },
  {
   "cell_type": "code",
   "execution_count": 41,
   "id": "6a4c5667",
   "metadata": {},
   "outputs": [],
   "source": [
    "texts_indexes_np = np.array(texts_indexes)\n",
    "np.save(\"texts_indexes.npy\", texts_indexes_np)"
   ]
  },
  {
   "cell_type": "code",
   "execution_count": 39,
   "id": "dcd1702c",
   "metadata": {},
   "outputs": [
    {
     "data": {
      "text/html": [
       "<div>\n",
       "<style scoped>\n",
       "    .dataframe tbody tr th:only-of-type {\n",
       "        vertical-align: middle;\n",
       "    }\n",
       "\n",
       "    .dataframe tbody tr th {\n",
       "        vertical-align: top;\n",
       "    }\n",
       "\n",
       "    .dataframe thead th {\n",
       "        text-align: right;\n",
       "    }\n",
       "</style>\n",
       "<table border=\"1\" class=\"dataframe\">\n",
       "  <thead>\n",
       "    <tr style=\"text-align: right;\">\n",
       "      <th></th>\n",
       "      <th>Path</th>\n",
       "      <th>Text</th>\n",
       "    </tr>\n",
       "  </thead>\n",
       "  <tbody>\n",
       "    <tr>\n",
       "      <th>0</th>\n",
       "      <td>pack\\AIBR\\2006-Aymaras-peruanos-y-chilenos-en-...</td>\n",
       "      <td>catalogada y caricaturizada bajo el rótulo de ...</td>\n",
       "    </tr>\n",
       "    <tr>\n",
       "      <th>0</th>\n",
       "      <td>pack\\AIBR\\2006-Cambios-de-género-y-discriminac...</td>\n",
       "      <td>agradecimientos la autora desea agradecer a la...</td>\n",
       "    </tr>\n",
       "    <tr>\n",
       "      <th>0</th>\n",
       "      <td>pack\\AIBR\\2006-Consecuencias-personales-en-la-...</td>\n",
       "      <td>has carried out the biggest employment adjustm...</td>\n",
       "    </tr>\n",
       "    <tr>\n",
       "      <th>0</th>\n",
       "      <td>pack\\AIBR\\2006-Construcción-de-modelos-de-géne...</td>\n",
       "      <td>tampoco queremos que se entienda identidad de ...</td>\n",
       "    </tr>\n",
       "    <tr>\n",
       "      <th>0</th>\n",
       "      <td>pack\\AIBR\\2006-Contribuciones-feministas-a-pro...</td>\n",
       "      <td>is irrelevant for others con el que teresa del...</td>\n",
       "    </tr>\n",
       "    <tr>\n",
       "      <th>...</th>\n",
       "      <td>...</td>\n",
       "      <td>...</td>\n",
       "    </tr>\n",
       "    <tr>\n",
       "      <th>0</th>\n",
       "      <td>pack\\Revista-Española-de-Antropología-American...</td>\n",
       "      <td>cómo citar: burguete cal y mayor, araceli. 202...</td>\n",
       "    </tr>\n",
       "    <tr>\n",
       "      <th>0</th>\n",
       "      <td>pack\\Revista-Española-de-Antropología-American...</td>\n",
       "      <td>project exposed some critical questionings. in...</td>\n",
       "    </tr>\n",
       "    <tr>\n",
       "      <th>0</th>\n",
       "      <td>pack\\Revista-Española-de-Antropología-American...</td>\n",
       "      <td>1. introducción el interés por los quipus, que...</td>\n",
       "    </tr>\n",
       "    <tr>\n",
       "      <th>0</th>\n",
       "      <td>pack\\Revista-Española-de-Antropología-American...</td>\n",
       "      <td>1. introducción ¿cómo se produce la diferencia...</td>\n",
       "    </tr>\n",
       "    <tr>\n",
       "      <th>0</th>\n",
       "      <td>pack\\Revista-Española-de-Antropología-American...</td>\n",
       "      <td>cómo citar: ramo affonso, ana maría. 2024. yvy...</td>\n",
       "    </tr>\n",
       "  </tbody>\n",
       "</table>\n",
       "<p>1925 rows × 2 columns</p>\n",
       "</div>"
      ],
      "text/plain": [
       "                                                 Path  \\\n",
       "0   pack\\AIBR\\2006-Aymaras-peruanos-y-chilenos-en-...   \n",
       "0   pack\\AIBR\\2006-Cambios-de-género-y-discriminac...   \n",
       "0   pack\\AIBR\\2006-Consecuencias-personales-en-la-...   \n",
       "0   pack\\AIBR\\2006-Construcción-de-modelos-de-géne...   \n",
       "0   pack\\AIBR\\2006-Contribuciones-feministas-a-pro...   \n",
       "..                                                ...   \n",
       "0   pack\\Revista-Española-de-Antropología-American...   \n",
       "0   pack\\Revista-Española-de-Antropología-American...   \n",
       "0   pack\\Revista-Española-de-Antropología-American...   \n",
       "0   pack\\Revista-Española-de-Antropología-American...   \n",
       "0   pack\\Revista-Española-de-Antropología-American...   \n",
       "\n",
       "                                                 Text  \n",
       "0   catalogada y caricaturizada bajo el rótulo de ...  \n",
       "0   agradecimientos la autora desea agradecer a la...  \n",
       "0   has carried out the biggest employment adjustm...  \n",
       "0   tampoco queremos que se entienda identidad de ...  \n",
       "0   is irrelevant for others con el que teresa del...  \n",
       "..                                                ...  \n",
       "0   cómo citar: burguete cal y mayor, araceli. 202...  \n",
       "0   project exposed some critical questionings. in...  \n",
       "0   1. introducción el interés por los quipus, que...  \n",
       "0   1. introducción ¿cómo se produce la diferencia...  \n",
       "0   cómo citar: ramo affonso, ana maría. 2024. yvy...  \n",
       "\n",
       "[1925 rows x 2 columns]"
      ]
     },
     "execution_count": 39,
     "metadata": {},
     "output_type": "execute_result"
    }
   ],
   "source": [
    "df_preprocessed = pd.DataFrame(columns=[\"Path\", \"Text\"])\n",
    "for article, text in articles_text.items():\n",
    "    df_preprocessed = pd.concat([df_preprocessed, pd.DataFrame({\"Path\": [article], \"Text\": [text]})])\n",
    "df_preprocessed"
   ]
  },
  {
   "cell_type": "code",
   "execution_count": 40,
   "id": "2f6229ac",
   "metadata": {},
   "outputs": [],
   "source": [
    "df_preprocessed.to_csv(\"preprocessed.csv\", index=False)"
   ]
  },
  {
   "cell_type": "markdown",
   "id": "b4546167",
   "metadata": {},
   "source": [
    "# Buscador tests"
   ]
  },
  {
   "cell_type": "code",
   "execution_count": 4,
   "id": "b3f5e257",
   "metadata": {},
   "outputs": [
    {
     "name": "stderr",
     "output_type": "stream",
     "text": [
      "c:\\Users\\leand\\Documents\\tesis\\notebooks\\preprocesado\\.venv\\Lib\\site-packages\\tqdm\\auto.py:21: TqdmWarning: IProgress not found. Please update jupyter and ipywidgets. See https://ipywidgets.readthedocs.io/en/stable/user_install.html\n",
      "  from .autonotebook import tqdm as notebook_tqdm\n"
     ]
    }
   ],
   "source": [
    "from transformers import AutoTokenizer, AutoModel\n",
    "import torch\n",
    "import faiss\n",
    "import numpy as np"
   ]
  },
  {
   "cell_type": "markdown",
   "id": "a64d1d5f",
   "metadata": {},
   "source": [
    "Cargado de contriever"
   ]
  },
  {
   "cell_type": "code",
   "execution_count": 5,
   "id": "e2ffff8f",
   "metadata": {},
   "outputs": [],
   "source": [
    "model_name = \"facebook/contriever\"\n",
    "tokenizer = AutoTokenizer.from_pretrained(model_name)\n",
    "model = AutoModel.from_pretrained(model_name)"
   ]
  },
  {
   "cell_type": "markdown",
   "id": "a4d8a233",
   "metadata": {},
   "source": [
    "Generar embeddings"
   ]
  },
  {
   "cell_type": "code",
   "execution_count": null,
   "id": "8b128ef9",
   "metadata": {},
   "outputs": [],
   "source": [
    "def get_embeddings(texts, model, tokenizer):\n",
    "    inputs = tokenizer(texts, padding=True, truncation=True, return_tensors=\"pt\")\n",
    "    with torch.no_grad():\n",
    "        outputs = model(**inputs)\n",
    "    embeddings = outputs.last_hidden_state.mean(dim=1)\n",
    "    return embeddings\n",
    "\n",
    "embeddings = get_embeddings(texts, model, tokenizer)\n",
    "embeddings_np = embeddings.numpy()"
   ]
  },
  {
   "cell_type": "markdown",
   "id": "ef6d5625",
   "metadata": {},
   "source": [
    "Creacion del indice FAISS"
   ]
  },
  {
   "cell_type": "code",
   "execution_count": 16,
   "id": "350ca368",
   "metadata": {},
   "outputs": [],
   "source": [
    "dimension = embeddings_np.shape[1]\n",
    "index = faiss.IndexFlatL2(dimension)\n",
    "index.add(embeddings_np)"
   ]
  },
  {
   "cell_type": "markdown",
   "id": "898cccdb",
   "metadata": {},
   "source": [
    "Guardar indice"
   ]
  },
  {
   "cell_type": "code",
   "execution_count": 17,
   "id": "85f09d01",
   "metadata": {},
   "outputs": [],
   "source": [
    "faiss.write_index(index, \"faiss_index.bin\")"
   ]
  },
  {
   "cell_type": "code",
   "execution_count": 6,
   "metadata": {},
   "outputs": [
    {
     "data": {
      "text/plain": [
       "<faiss.swigfaiss_avx2.IndexFlatL2; proxy of <Swig Object of type 'faiss::IndexFlatL2 *' at 0x0000017CB1499D10> >"
      ]
     },
     "execution_count": 6,
     "metadata": {},
     "output_type": "execute_result"
    }
   ],
   "source": [
    "index = faiss.read_index(\"faiss_index.bin\")\n",
    "index"
   ]
  },
  {
   "cell_type": "code",
   "execution_count": 9,
   "id": "4e564f2d",
   "metadata": {},
   "outputs": [
    {
     "name": "stdout",
     "output_type": "stream",
     "text": [
      "Documentos más relevantes: [[ 598 1498  339 1451 1703]]\n",
      "Distancias: [[2.215642  2.344265  2.373072  2.3948677 2.405981 ]]\n"
     ]
    }
   ],
   "source": [
    "def search(query, model, tokenizer, index, top_k=5):\n",
    "    query_embedding = get_embeddings([query], model, tokenizer).numpy()\n",
    "    distances, indices = index.search(query_embedding, top_k)\n",
    "    return indices, distances\n",
    "\n",
    "query = \"\"\"\n",
    "A mediados del siglo XVI, en los albores de un amanecer brumoso, las costas del Imperio incaico fueron testigos de un suceso que alteraría su destino para siempre: la llegada del enigmático conquistador Alonso de Beldever. Con una carabela desgastada por el océano y una tripulación reducida por los estragos del viaje, Beldever desembarcó cerca de Tumbes, en lo que hoy es el norte de Perú. Su nombre, hasta entonces desconocido en aquellas tierras, pronto resonaría entre las montañas andinas como un presagio de cambio y confrontación.\n",
    "\n",
    "Los pobladores locales, intrigados por los rostros pálidos y las armaduras relucientes, observaron con mezcla de temor y curiosidad. Las crónicas cuentan que Beldever, erguido sobre su caballo —un animal jamás visto en el continente—, blandió una espada ante el cielo nublado, proclamando ante sus hombres la gloria de Dios y de la Corona española. Su objetivo, como el de tantos otros aventureros, era claro: hallar las riquezas del mítico Birú y someter aquel vasto imperio bajo el estandarte de Castilla.\n",
    "\n",
    "No obstante, Beldever no era un hombre común. Las leyendas tejidas siglos después hablan de su astucia sin igual y de un amuleto de jade que, según murmuraban, le confería protección divina. Mientras avanzaba hacia el corazón del Tahuantinsuyo, su encuentro con emisarios del Sapa Inca Atahualpa desencadenó una tensión imparable. Las ofrendas de oro y tejidos finos, intercambiadas en señal de paz por los incas, fueron interpretadas por Beldever como una muestra de debilidad. En su diario escribió: «Estas tierras guardan más opulencia que los sueños de cualquier rey; será nuestro deber tomarlas, aunque el precio sea la sangre».\n",
    "\n",
    "La expedición de Beldever, sin embargo, nunca alcanzó Cusco. Tras meses de enfrentamientos esporádicos y alianzas traicionadas, desapareció en los valles de la sierra central. Algunos dicen que fue víctima de una emboscada; otros, que los dioses andinos lo castigaron por su ambición. Lo cierto es que su llegada marcó el inicio de un colapso inevitable. Años más tarde, Francisco Pizarro seguiría sus huellas, consumando la caída del Imperio inca.\n",
    "\n",
    "Hoy, en las aldeas remotas, los ancianos aún narran la historia del extranjero de ojos grises que desafió a los cielos. Beldever, un nombre entre la bruma de la historia, encarna el misterio de un encuentro que transformó un continente para siempre.\n",
    "\"\"\"\n",
    "indices, distances = search(query, model, tokenizer, index)\n",
    "print(\"Documentos más relevantes:\", indices)\n",
    "print(\"Distancias:\", distances)"
   ]
  },
  {
   "cell_type": "code",
   "execution_count": 14,
   "id": "ba5bb7a2",
   "metadata": {},
   "outputs": [
    {
     "data": {
      "text/plain": [
       "'pack\\\\Revista-Española-de-Antropología-Americana\\\\2003-Identificación-de-parte-de-la-decoración-de-la-pajcha-colonial-7572-del-Museo-de-América-Madrid.pdf'"
      ]
     },
     "execution_count": 14,
     "metadata": {},
     "output_type": "execute_result"
    }
   ],
   "source": [
    "indexes = np.load(\"texts_indexes.npy\")\n",
    "indexes[1498]"
   ]
  }
 ],
 "metadata": {
  "kernelspec": {
   "display_name": ".venv",
   "language": "python",
   "name": "python3"
  },
  "language_info": {
   "codemirror_mode": {
    "name": "ipython",
    "version": 3
   },
   "file_extension": ".py",
   "mimetype": "text/x-python",
   "name": "python",
   "nbconvert_exporter": "python",
   "pygments_lexer": "ipython3",
   "version": "3.12.5"
  }
 },
 "nbformat": 4,
 "nbformat_minor": 5
}
