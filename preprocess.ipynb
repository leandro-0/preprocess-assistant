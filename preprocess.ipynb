{
 "cells": [
  {
   "cell_type": "code",
   "execution_count": 33,
   "id": "a9ff561d12fd9c05",
   "metadata": {
    "ExecuteTime": {
     "end_time": "2025-02-25T18:45:54.470214Z",
     "start_time": "2025-02-25T18:45:54.401570Z"
    }
   },
   "outputs": [],
   "source": [
    "import os\n",
    "import re\n",
    "import nltk\n",
    "from pdfminer.high_level import extract_pages\n",
    "from pdfminer.high_level import LTPage\n",
    "from nltk.corpus import wordnet as wn\n",
    "from pdfminer.layout import LTTextContainer, LTTextLineVertical, LTTextBoxHorizontal, LTTextBox, Rect\n",
    "import wordninja"
   ]
  },
  {
   "cell_type": "code",
   "execution_count": 62,
   "metadata": {},
   "outputs": [],
   "source": [
    "class SpanishLanguageModel(wordninja.LanguageModel):\n",
    "    def __init__(self, word_file):\n",
    "        super().__init__(word_file)\n",
    "        self.SPLIT_RE = re.compile(\"[^a-zA-Z0-9áéíóúÁÉÍÓÚñÑ']+\")\n",
    "    \n",
    "    def split(self, s):\n",
    "        l = [self._split(x) for x in self.SPLIT_RE.split(s)]\n",
    "        return [item for sublist in l for item in sublist]\n",
    "wordninja.DEFAULT_LANGUAGE_MODEL = SpanishLanguageModel(\"words.txt.gz\")\n",
    "\n",
    "def separate_words(text):\n",
    "    sep = wordninja.split(text)\n",
    "    return \" \".join(sep)"
   ]
  },
  {
   "cell_type": "code",
   "execution_count": 3,
   "id": "1a1fa45591f25e59",
   "metadata": {
    "ExecuteTime": {
     "end_time": "2025-02-25T22:01:40.325777Z",
     "start_time": "2025-02-25T22:01:40.321678Z"
    }
   },
   "outputs": [
    {
     "data": {
      "text/plain": [
       "['data\\\\000.pdf',\n",
       " 'data\\\\001.pdf',\n",
       " 'data\\\\002.pdf',\n",
       " 'data\\\\003.pdf',\n",
       " 'data\\\\004.pdf',\n",
       " 'data\\\\101404-Texto del artículo-379745-1-10-20230814.pdf',\n",
       " 'data\\\\103822-Texto del artículo-398336-1-10-20240109.pdf',\n",
       " 'data\\\\103827-Texto del artículo-398338-1-10-20240109.pdf',\n",
       " 'data\\\\108896-Texto del artículo-430136-1-10-20240723.pdf',\n",
       " 'data\\\\110685-Texto del artículo-444650-1-10-20241017.pdf',\n",
       " 'data\\\\113135-Texto del artículo-461992-1-10-20250121.pdf',\n",
       " 'data\\\\113136-Texto del artículo-461995-1-10-20250121.pdf',\n",
       " 'data\\\\130-Texto del artículo en fichero de Microsoft Word o LibreOffice (necesario)-134-1-10-20090331.pdf',\n",
       " 'data\\\\32502-Texto del artículo-103690-1-10-20150102 (1).pdf',\n",
       " 'data\\\\32502-Texto del artículo-103690-1-10-20150102.pdf',\n",
       " 'data\\\\32511-Texto del artículo-103699-1-10-20150102.pdf',\n",
       " 'data\\\\32519-Texto del artículo-103707-1-10-20150102.pdf',\n",
       " 'data\\\\32576-Texto del artículo-103765-1-10-20150102.pdf',\n",
       " 'data\\\\32585-Texto del artículo-103775-1-10-20150102.pdf',\n",
       " 'data\\\\32738-Texto del artículo-103935-1-10-20150102.pdf',\n",
       " 'data\\\\32766-Texto del artículo-103969-1-10-20150102.pdf',\n",
       " 'data\\\\32793-Texto del artículo-104000-1-10-20150102.pdf',\n",
       " 'data\\\\32808-Texto del artículo-104015-1-10-20150102.pdf',\n",
       " 'data\\\\67980-Texto del artículo-210492-1-10-20181017.pdf',\n",
       " 'data\\\\68036-Texto del artículo-210659-1-10-20181018.pdf',\n",
       " 'data\\\\68116-Texto del artículo-210919-1-10-20181022.pdf',\n",
       " 'data\\\\68195-Texto del artículo-211113-1-10-20181024.pdf',\n",
       " 'data\\\\68514-Texto del artículo-212200-1-10-20181107.pdf',\n",
       " 'data\\\\68520-Texto del artículo-212210-1-10-20181107.pdf',\n",
       " 'data\\\\74375-Texto del artículo-237795-1-10-20190926.pdf',\n",
       " 'data\\\\86232-Texto del artículo-285270-1-10-20201123.pdf',\n",
       " 'data\\\\90048-Texto del artículo-305353-1-10-20210621.pdf',\n",
       " 'data\\\\97886-Texto del artículo-355772-1-10-20230113.pdf',\n",
       " 'data\\\\99593-Texto del artículo-367964-1-10-20230426.pdf',\n",
       " 'data\\\\Codesarrollo-la-opción-institucional-para-el-vínculo-migración-y-desarrollo.pdf',\n",
       " 'data\\\\Construyendo-Teotitlán-tapetes-migrantes-gringos-y-etnógrafos.pdf']"
      ]
     },
     "execution_count": 3,
     "metadata": {},
     "output_type": "execute_result"
    }
   ],
   "source": [
    "os.makedirs(\"data\", exist_ok=True)\n",
    "articles = [os.path.join(\"data\", art) for art in os.listdir(\"data\")]\n",
    "articles"
   ]
  },
  {
   "cell_type": "markdown",
   "id": "5f3461fa5ac6ff93",
   "metadata": {},
   "source": [
    "**arreglar**:\n",
    "\n",
    "etno-\\ngráfico -> etnográfico -> .replace(\"-\\n\", \"\")\n",
    "\n",
    "**tomar en cuenta toda la pagina hasta donde aparece el primer patron de pie de pagina**\n",
    "\n",
    "**quitar**:\n",
    "- citas como (Banks, 2001)\n",
    "\n",
    "**arreglar**:\n",
    "- hay conjunto de palabras que aparecen juntos, por ejemplo, lacercania en lugar de \n",
    "la cercania (art4, pag3)"
   ]
  },
  {
   "cell_type": "code",
   "execution_count": 4,
   "id": "328c6f30a1fe9c96",
   "metadata": {
    "ExecuteTime": {
     "end_time": "2025-02-25T22:01:43.600110Z",
     "start_time": "2025-02-25T22:01:43.596107Z"
    }
   },
   "outputs": [],
   "source": [
    "def extract_page(pdf_path, page):\n",
    "    pages = extract_pages(pdf_path)\n",
    "    for i, page_layout in enumerate(pages):\n",
    "        if i != page - 1: continue\n",
    "        return page_layout\n",
    "    return None"
   ]
  },
  {
   "cell_type": "code",
   "execution_count": 116,
   "metadata": {},
   "outputs": [],
   "source": [
    "# regex stop conditions\n",
    "references_re = r\"(?i)^\\s*(referencias|bibliografía citada|bibliografia citada|bibliografía|bibliografia|citas|fuentes|referencias bibliograficas|referencias bibliográficas)\\s*$\"\n",
    "\n",
    "# regex delete\n",
    "version_logs = r\"(?i)(recibido|aceptado|publicado|(segunda|tercera|cuarta|quinta|sexta) versión)[,:]?\\s*(el\\s*)?(\\d{1,2}(\\s*de)?\\s*[a-záéíóú]+(\\s*de\\s*\\d{4})?|\\d{1,2}/\\d{1,2}/\\d{4})(\\s*\\.\\s*)?\"\n",
    "footnote_patterns = r\"(?m)^(?:\\d+|[*†‡¹²³⁴⁵⁶⁷⁸⁹]+|\\[\\d+\\])\\s+.*$\"\n",
    "\n",
    "footnote_references = r\"\\.[0-9]+|[0-9]+\\.\"\n",
    "duplicated_spaces = r\"\\s+\"\n",
    "\n",
    "# recognizing regex\n",
    "abstract = r\"Palabras clave|Keywords|Resumen|Abstract|Key words|Palabrasclave|Keyword|Palabra clave|Palabras claves|Keywords|Sumario|Síntesis|Sintesis|Sinopsis\""
   ]
  },
  {
   "cell_type": "code",
   "execution_count": null,
   "id": "efa9dc49",
   "metadata": {},
   "outputs": [],
   "source": [
    "class ArticleExtractedData:\n",
    "    def __init__(self, pdf_path: str):\n",
    "        self.pdf_path: str = pdf_path\n",
    "        self.headers: set[str] = set()\n",
    "        self.footers: set[str] = set()\n",
    "        self.start_page: int = 0\n",
    "\n",
    "def extract_data_article(pdf_path) -> ArticleExtractedData:\n",
    "    data = ArticleExtractedData(pdf_path)\n",
    "    headers_counter: map[str, int] = {}\n",
    "    footers_counter: map[str, int] = {}\n",
    "    found_page = None\n",
    "\n",
    "    for i, page in enumerate(extract_pages(pdf_path)):\n",
    "        height = page.bbox[3]\n",
    "        cutoff = height * 0.15\n",
    "\n",
    "        for element in page:\n",
    "            if not isinstance(element, (LTTextBox, LTTextBox, LTTextContainer)):\n",
    "                continue\n",
    "            txt = element.get_text().strip()\n",
    "            if element.bbox[3] <= cutoff:\n",
    "                footers_counter[txt] = footers_counter.get(txt, 0) + 1\n",
    "            if element.bbox[1] >= height - cutoff:\n",
    "                headers_counter[txt] = headers_counter.get(txt, 0) + 1\n",
    "            \n",
    "            # Stop searching for abstract after 3 pages\n",
    "            if found_page is not None or i > 2:\n",
    "                continue\n",
    "\n",
    "            text_semiclean = re.sub(duplicated_spaces, \" \", txt).strip()\n",
    "            if re.search(abstract, text_semiclean, re.IGNORECASE):\n",
    "                found_page = i\n",
    "\n",
    "\n",
    "    data.headers = {k for k, v in headers_counter.items() if v > 1 and len(k) > 0}\n",
    "    data.footers = {k for k, v in footers_counter.items() if v > 1 and len(k) > 0}\n",
    "    if found_page is not None:\n",
    "        data.start_page = found_page\n",
    "    return data"
   ]
  },
  {
   "cell_type": "code",
   "execution_count": 118,
   "metadata": {},
   "outputs": [],
   "source": [
    "def remove_accents(text: str) -> str:\n",
    "    return text.replace(\"á\", \"a\").replace(\"é\", \"e\").replace(\"í\", \"i\").replace(\"ó\", \"o\").replace(\"ú\", \"u\")"
   ]
  },
  {
   "cell_type": "code",
   "execution_count": 119,
   "id": "f922226a",
   "metadata": {},
   "outputs": [
    {
     "data": {
      "text/plain": [
       "'espacios público s y lasa u t ó n o m a s'"
      ]
     },
     "execution_count": 119,
     "metadata": {},
     "output_type": "execute_result"
    }
   ],
   "source": [
    "separate_words(\"espaciospúblicosylasautónomas\")"
   ]
  },
  {
   "cell_type": "markdown",
   "id": "fd1254ce",
   "metadata": {},
   "source": [
    "**los footnote references se llevan los años, en textos como: en 1592. Aquello [...]**"
   ]
  },
  {
   "cell_type": "code",
   "execution_count": null,
   "id": "4a837c4d",
   "metadata": {},
   "outputs": [],
   "source": [
    "def check_stop_conditions(text) -> bool:\n",
    "\treturn any([\n",
    "\t\tre.search(references_re, text, flags=re.MULTILINE),\n",
    "\t])\n",
    "\n",
    "def clean_unwanted_patterns(text) -> str:\n",
    "\t# Eliminar patrones como \"Recibido el 12 de marzo de 2021.\"\n",
    "\ttext = re.sub(version_logs, \"\", text).strip()\n",
    "\t\n",
    "\t# text = re.sub(footnote_patterns, \"\", text, flags=re.MULTILINE).strip()\n",
    "\n",
    "\t# Eliminar las referencias de las notas al pie y reemplazarlas por un punto\n",
    "\t# text = re.sub(footnote_references, \".\", text).strip()\n",
    "\n",
    "\treturn text\n",
    "\n",
    "def avoid_unwanted_texts(text) -> str:\n",
    "\treturn text\n",
    "\n",
    "def clean_page(text) -> str:\n",
    "\ttext = text.replace(\"-\\n\", \"\")\n",
    "\ttext = re.sub(duplicated_spaces, \" \", text).strip()\n",
    "\ttext = text.replace(\"«\", \"\").replace(\"»\", \"\")\n",
    "    # text = remove_accents(text)\n",
    "\treturn text\n",
    "\n",
    "# def corrections(text: str) -> str:\n",
    "#     words = text.split()\n",
    "#     corrected = []\n",
    "#     for word in words:\n",
    "#         if len(word) < 3:\n",
    "#             continue\n",
    "#         corrected.append(separate_words(word))\n",
    "#     return \" \".join(corrected)\n",
    "\n",
    "def extract_page_text(page, data: ArticleExtractedData) -> str:\n",
    "\ttext = \"\"\n",
    "\n",
    "\tfor element in page:\n",
    "\t\tif not isinstance(element, (LTTextBoxHorizontal, LTTextBox, LTTextContainer)):\n",
    "\t\t\tcontinue\n",
    "\t\ttxt = element.get_text().strip()\n",
    "\t\tif txt.isdigit() or txt in data.headers or txt in data.footers:\n",
    "\t\t\tcontinue\n",
    "\n",
    "\t\ttxt = avoid_unwanted_texts(txt)\n",
    "\t\tif check_stop_conditions(txt):\n",
    "\t\t\tbreak\n",
    "\n",
    "\t\ttext += txt\n",
    "\n",
    "\ttext = clean_unwanted_patterns(text)\n",
    "\ttext = clean_page(text)\n",
    "\t# text = corrections(text)\n",
    "\treturn text"
   ]
  },
  {
   "cell_type": "code",
   "execution_count": 121,
   "id": "81362f01",
   "metadata": {},
   "outputs": [
    {
     "name": "stdout",
     "output_type": "stream",
     "text": [
      "Pero la costumbre de elaborar arbitrios se inició en el siglo XVI. Como era usual, el arbitrista presentaba su papel ante la audiencia o el virrey, los que debían, a su vez, elevarlo al Consejo de Indias, que lo evaluaba para su posible presentación al valido o al rey. Otras veces el arbitrista enviaba directamente su escrito al consejo para esquivar la interferencia del virrey.10 A cambio, el arbitrista esperaba reconocimiento y remuneración y, de esta manera, el arbitrio se convertía en un medio excepcional para la aplicación de medidas políticas y en una vía para el ofrecimiento de privilegios por parte del monarca.Tal es el caso, por ejemplo, de Martín de Ocampo, que ilustra bien de qué manera el arbitrio operaba como un mecanismo de reforzamiento del honor y de reconocimiento pecuniario por las labores cumplidas en favor de la monarquía, que eran componentes esenciales del ejercicio político en el imperio de los Habsburgo. Ocampo llegó a América hacia mediados del siglo XVI y ganó, por la conquista de los indios de Popayán, dos encomiendas que posteriormente pasaron a manos del rey. En 1606 fue nombrado corregidor de Cuenca y se le encargó que «hiciese la jornada» de los indios jíbaros, lo cual no pudo hacer por oposición del virrey marqués de Montesclaros. Tomada su residencia, fue beneficiado con una renta de 400 ducados procedentes de indios vacos para «ayudar a poner en estado de religión tres hijas doncellas» y se afincó en Lima, en donde le entregó al virrey un arbitrio para el aumento de la producción de azogue en Huan cavelica.11 En dicho arbitrio, Martín Ocampo explicaba cómo se perdían anualmente entre cinco y seis mil quintales de mercurio y proponía una fórmula para subsanar el problema. Luego de negociar con el virrey, se le hizo una merced por diez años, que consistía en que todo aquel que quisiese usar su técnica debía pedirle licencia, y Ocampo, además, recibiría la tercera parte de todo el azogue que se hubiese obtenido gracias al empleo de las sugerencias de su arbitrio.No obstante la merced recibida, las relaciones con el virrey no fueron cordiales. Ocampo se quejaba lastimosamente de que había financiado con10 Véase, por ejemplo, el caso del ingeniero y arbitrista lusitano Enrique Garcés, que descubrió el mercurio en el Perú, en Lohmann Villena, 1948; Biblioteca Nacional de Madrid, Mss. J 57, 3.041, «Copia de las dos cartas que Henrique Garcés scrivio desde Lima al virrey sobre minas y azogues y por no lo remediar él, las embió al Consejo el año de 1574», 26-29.11 AGI, Lima, 143, Carta de Martín de Ocampo a SM, Los Reyes, 12 de mayo de 1613. Incluye el arbitrio de Ocampo, «Memorial de algunas advertencias muy del servicio de SM favorables al arbitrio y beneficio de los metales de azogue de Guancavelica que dio el capitán Martín de Ocampo al excelentísimo Marqués de Montesclaros, virrey destos reynos», 1613.\n"
     ]
    }
   ],
   "source": [
    "art = articles[1]\n",
    "data = extract_data_article(art)\n",
    "page = extract_page(art, 4)\n",
    "print(extract_page_text(page, data))"
   ]
  },
  {
   "cell_type": "code",
   "execution_count": 194,
   "id": "183559bb16e20cbb",
   "metadata": {
    "ExecuteTime": {
     "end_time": "2025-02-25T22:02:41.521599Z",
     "start_time": "2025-02-25T22:02:41.345192Z"
    }
   },
   "outputs": [
    {
     "name": "stdout",
     "output_type": "stream",
     "text": [
      "<LTTextBoxHorizontal(0) 92.700,748.933,106.756,757.401 '462\\n'>\n",
      "<LTTextBoxHorizontal(1) 271.980,747.891,376.029,757.318 'Segundas generaciones \\n'>\n",
      "<LTTextBoxHorizontal(2) 92.700,712.398,522.450,723.688 'ha  cuajado  en  fórmulas  distintas  y  más  o  menos  eficaces  en  cada  uno  de  esos \\n'>\n",
      "<LTTextBoxHorizontal(3) 92.700,692.898,522.335,704.188 'estados que, de todos modos, han mantenido cierta heterogeneidad. En tercer lugar, \\n'>\n",
      "<LTTextBoxHorizontal(4) 92.700,673.458,522.449,684.748 'en  los  años  de  posguerra  y  hasta  los  setenta,  se  desarrollaron  modelos  de \\n'>\n",
      "<LTTextBoxHorizontal(5) 92.700,653.958,522.414,665.248 'incorporación temporal de población inmigrante gracias a una elevada demanda de \\n'>\n",
      "<LTTextBoxHorizontal(6) 92.700,634.519,522.475,645.808 'mano  de  obra  que,  más  tarde,  se  han  visto  confrontados  con  una  evolución  del \\n'>\n",
      "<LTTextBoxHorizontal(7) 92.700,615.019,522.460,626.309 'fenómeno  migratorio  hacia  un  asentamiento  estable  de  esas  poblaciones  (Zanfrini, \\n'>\n",
      "<LTTextBoxHorizontal(8) 92.700,595.579,522.413,606.869 '2007). En cuarto lugar, se ha desarrollado una economía posfordista que redefine el \\n'>\n",
      "<LTTextBoxHorizontal(9) 92.700,576.139,522.401,587.429 'trabajo  y  el  empleo.  Al  igual  que  en  EE.UU.,  se  despliegan  formas  de  flexibilidad \\n'>\n",
      "<LTTextBoxHorizontal(10) 92.700,556.639,522.495,567.929 'laboral.  Sin  embargo  los  ciudadanos  europeos  han  conservado  expectativas  en \\n'>\n",
      "<LTTextBoxHorizontal(11) 92.700,537.199,522.487,548.489 'cuanto  al  mantenimiento  de  empleo  y  vivienda  que  ha  impulsado  el  propio  Estado \\n'>\n",
      "<LTTextBoxHorizontal(12) 92.700,517.700,522.488,528.989 'del Bienestar con ayudas de distinto tipo. Esos ciudadanos han mantenido también \\n'>\n",
      "<LTTextBoxHorizontal(13) 92.700,498.200,522.423,509.490 'expectativas  en  relación  con  un  estado  que  se  preocupe  de  sus  derechos  y  de  la \\n'>\n",
      "<LTTextBoxHorizontal(14) 92.700,478.760,522.425,490.050 'cohesión  social.  El  posfordismo  erosiona  estos  principios,  al  dar  rienda  suelta  al \\n'>\n",
      "<LTTextBoxHorizontal(15) 92.700,459.260,522.351,470.550 'mercado  en  detrimento  del  estado.  En  este  contexto,  los  inmigrantes  entran \\n'>\n",
      "<LTTextBoxHorizontal(16) 92.700,439.820,522.405,451.110 'fácilmente  en  una  zona  de  vulnerabilidad  social  o  exclusión  ocupada  por  parados, \\n'>\n",
      "<LTTextBoxHorizontal(17) 92.700,420.321,285.325,431.610 'jóvenes  precarizados,  obreros  en \\n'>\n",
      "<LTTextBoxHorizontal(18) 292.874,420.321,522.454,431.610 'reconversión  y  empleados  con  saberes \\n'>\n",
      "<LTTextBoxHorizontal(19) 92.700,400.821,522.429,412.111 'desvalorizados  por  la  emergencia  de  cambios  tecnológicos  (Pedreño,  2005).  Por \\n'>\n",
      "<LTTextBoxHorizontal(20) 92.700,381.381,522.514,392.671 'otra  parte,  experimentan  grandes  dificultades  en  su  reconocimiento  como \\n'>\n",
      "<LTTextBoxHorizontal(21) 92.700,361.881,522.372,373.171 'ciudadanos en esos distintos estados y en el conjunto de la UE. Y no sólo eso, sino \\n'>\n",
      "<LTTextBoxHorizontal(22) 92.700,342.441,283.115,353.731 'que  se  plantean  problemas  para \\n'>\n",
      "<LTTextBoxHorizontal(23) 289.404,342.441,301.355,353.731 'la \\n'>\n",
      "<LTTextBoxHorizontal(24) 307.704,342.441,522.464,353.731 'transmisión  de  esos  derechos  a  sus \\n'>\n",
      "<LTTextBoxHorizontal(25) 92.700,322.942,311.698,334.231 'descendientes y para su integración social. \\n'>\n",
      "<LTTextBoxHorizontal(26) 126.060,303.502,522.412,314.791 'Pese a las diferencias que acabamos de ver entre EE.UU. y la UE, en ambos \\n'>\n",
      "<LTTextBoxHorizontal(27) 92.700,284.002,522.425,295.292 'casos los procesos migratorios desencadenan reacciones, en forma de discursos y \\n'>\n",
      "<LTTextBoxHorizontal(28) 92.700,264.502,522.459,275.792 'prácticas,  que  contribuyen  a  construir  la  inmigración  como  problema  y  como \\n'>\n",
      "<LTTextBoxHorizontal(29) 92.700,245.062,522.436,256.352 'condición.  Cuando  gobernantes  de  distintas  administraciones,  representantes  de \\n'>\n",
      "<LTTextBoxHorizontal(30) 92.700,225.562,522.379,236.852 'partidos políticos, medios de comunicación, miembros de asociaciones y organismos \\n'>\n",
      "<LTTextBoxHorizontal(31) 92.700,206.123,522.504,217.412 'locales,  nacionales  o  internacionales,  trabajadores  de  la  administración,  vecinos, \\n'>\n",
      "<LTTextBoxHorizontal(32) 92.700,186.623,522.422,197.913 'empresarios, etc. hablan de “inmigración” o de “inmigrantes”, acaban refiriéndose a \\n'>\n",
      "<LTTextBoxHorizontal(33) 92.700,167.123,522.423,178.413 'una  misma  cosa:  sujetos  que  se  han  desplazado  entre  dos  territorios  nacionales \\n'>\n",
      "<LTTextBoxHorizontal(34) 92.700,147.683,522.393,158.973 'distintos,  que  experimentan  dinámicas  de  exclusión  social,  económica  y  jurídica  y \\n'>\n",
      "<LTTextBoxHorizontal(35) 92.700,128.183,522.424,139.473 'que  son  percibidos  en  mayor  o  menor  medida  y  en  mal  o  en  buen  sentido  como \\n'>\n",
      "<LTTextBoxHorizontal(36) 92.700,108.744,363.008,120.033 'portadores de prácticas y valores culturales extraños. \\n'>\n",
      "<LTTextBoxHorizontal(37) 92.700,33.124,340.691,61.341 'AIBR. Revista de Antropología Iberoamericana.  www.aibr.org \\nVolumen 2,  Número 3. Septiembre-Diciembre 2007. Pp. 459-487 \\nMadrid: Antropólogos Iberoamericanos en Red. ISSN: 1695-9752 \\n'>\n",
      "<LTLine 92.700,744.180,519.360,744.180>\n",
      "<LTTextLineHorizontal 126.060,734.961,128.877,746.251 ' \\n'>\n",
      "<LTTextLineHorizontal 126.060,62.593,128.409,71.061 ' \\n'>\n"
     ]
    }
   ],
   "source": [
    "page = extract_page(articles[0], 5)\n",
    "for element in page:\n",
    "    print(element)"
   ]
  },
  {
   "cell_type": "code",
   "execution_count": 37,
   "id": "a49e9cf3823b093d",
   "metadata": {
    "ExecuteTime": {
     "end_time": "2025-02-25T22:02:59.680542Z",
     "start_time": "2025-02-25T22:02:56.510018Z"
    }
   },
   "outputs": [],
   "source": [
    "import pdfplumber\n",
    "\n",
    "def detect_lines_in_pdf(pdf_path):\n",
    "    with pdfplumber.open(pdf_path) as pdf:\n",
    "        for i, page in enumerate(pdf.pages):\n",
    "            lines = page.lines  # Extrae todas las líneas de la página\n",
    "\n",
    "            # Filtrar líneas horizontales (y0 ≈ y1 indica una línea horizontal)\n",
    "            horizontal_lines = [line for line in lines if abs(line[\"y0\"] - line[\"y1\"]) < 1]\n",
    "\n",
    "            if horizontal_lines:\n",
    "                print(f\"Página {i+1}: {len(horizontal_lines)} ({(page.width, page.height)}) línea(s) horizontal(es) detectada(s).\")\n",
    "                for line in horizontal_lines:\n",
    "                    print(f\"  - Coordenadas: {line}\")\n",
    "\n",
    "detect_lines_in_pdf(articles[2])\n"
   ]
  },
  {
   "cell_type": "code",
   "execution_count": 30,
   "id": "841c1d753b80ce10",
   "metadata": {
    "ExecuteTime": {
     "end_time": "2025-02-25T21:59:52.882757Z",
     "start_time": "2025-02-25T21:59:48.140777Z"
    }
   },
   "outputs": [
    {
     "name": "stdout",
     "output_type": "stream",
     "text": [
      "31\n",
      "[92.7, 744.18, 519.36, 744.18]\n",
      "[191.7, 317.16, 420.3, 317.16]\n",
      "[191.7, 91.08, 420.3, 91.08]\n",
      "[92.7, 744.18, 519.36, 744.18]\n",
      "[92.7, 744.18, 519.36, 744.18]\n",
      "[92.7, 744.18, 519.36, 744.18]\n",
      "[92.7, 744.18, 519.36, 744.18]\n",
      "[92.7, 744.18, 519.36, 744.18]\n",
      "[92.7, 744.18, 519.36, 744.18]\n",
      "[92.7, 744.18, 519.36, 744.18]\n",
      "[92.7, 744.18, 519.36, 744.18]\n",
      "[92.7, 744.18, 519.36, 744.18]\n",
      "[92.7, 744.18, 519.36, 744.18]\n",
      "[92.7, 744.18, 519.36, 744.18]\n",
      "[92.7, 744.18, 519.36, 744.18]\n",
      "[92.7, 744.18, 519.36, 744.18]\n",
      "[92.7, 744.18, 519.36, 744.18]\n",
      "[92.7, 744.18, 519.36, 744.18]\n",
      "[92.7, 744.18, 519.36, 744.18]\n",
      "[92.7, 744.18, 519.36, 744.18]\n",
      "[92.7, 744.18, 519.36, 744.18]\n",
      "[92.7, 744.18, 519.36, 744.18]\n",
      "[92.7, 744.18, 519.36, 744.18]\n",
      "[92.7, 744.18, 519.36, 744.18]\n",
      "[92.7, 744.18, 519.36, 744.18]\n",
      "[92.7, 744.18, 519.36, 744.18]\n",
      "[92.7, 744.18, 519.36, 744.18]\n",
      "[92.7, 744.18, 519.36, 744.18]\n",
      "[92.7, 744.18, 519.36, 744.18]\n",
      "[92.7, 744.18, 519.36, 744.18]\n",
      "[92.7, 744.18, 519.36, 744.18]\n"
     ]
    }
   ],
   "source": [
    "import pdfquery\n",
    "pdf = pdfquery.PDFQuery(articles[0])\n",
    "pdf.load()\n",
    "lines = pdf.pq('LTLine')\n",
    "print(len(lines))\n",
    "for line in lines:\n",
    "    print(line.get('bbox'))"
   ]
  },
  {
   "cell_type": "markdown",
   "metadata": {},
   "source": [
    "# Preprocesado"
   ]
  },
  {
   "cell_type": "code",
   "execution_count": 19,
   "metadata": {},
   "outputs": [
    {
     "data": {
      "text/plain": [
       "34"
      ]
     },
     "execution_count": 19,
     "metadata": {},
     "output_type": "execute_result"
    }
   ],
   "source": [
    "articles = [os.path.join(\"data\", art) for art in os.listdir(\"data\")]\n",
    "len(articles)"
   ]
  },
  {
   "cell_type": "code",
   "execution_count": null,
   "metadata": {},
   "outputs": [],
   "source": [
    "def extract_pages(articles):\n",
    "  return [extract_pages(article) for article in articles]\n",
    "\n",
    "def bound_delete(articles):\n",
    "  pass"
   ]
  },
  {
   "cell_type": "code",
   "execution_count": null,
   "metadata": {},
   "outputs": [
    {
     "name": "stdout",
     "output_type": "stream",
     "text": [
      "\n"
     ]
    }
   ],
   "source": [
    "import re\n",
    "\n",
    "def limpiar_fechas(texto):\n",
    "    # Regex mejorada para eliminar fechas en líneas individuales y en la misma línea\n",
    "    regex = r\"\"\n",
    "    # Reemplazar coincidencias con una cadena vacía\n",
    "    return re.sub(regex, \"\", texto).strip()\n",
    "\n",
    "# Ejemplo de texto\n",
    "texto = \"\"\"\n",
    "Recibido el 16 de enero de 2014\n",
    "Aceptado el 6 de abril de 2014\n",
    "\n",
    "Recibido: 25/09/2023. Aceptado: 06/12/2023. Publicado: 22/10/2024.\n",
    "\n",
    "Recibido, 27 de noviembre de 2019\n",
    "Segunda versión, 4 de marzo de 2020\n",
    "Aceptado, 23 de marzo de 2020\n",
    "\"\"\"\n",
    "\n",
    "# Limpiar el texto\n",
    "texto_limpio = limpiar_fechas(texto)\n",
    "\n",
    "print(texto_limpio)\n"
   ]
  },
  {
   "cell_type": "code",
   "execution_count": null,
   "metadata": {},
   "outputs": [],
   "source": []
  }
 ],
 "metadata": {
  "kernelspec": {
   "display_name": ".venv",
   "language": "python",
   "name": "python3"
  },
  "language_info": {
   "codemirror_mode": {
    "name": "ipython",
    "version": 3
   },
   "file_extension": ".py",
   "mimetype": "text/x-python",
   "name": "python",
   "nbconvert_exporter": "python",
   "pygments_lexer": "ipython3",
   "version": "3.12.5"
  }
 },
 "nbformat": 4,
 "nbformat_minor": 5
}
