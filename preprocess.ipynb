{
 "cells": [
  {
   "cell_type": "code",
   "execution_count": 1,
   "id": "a9ff561d12fd9c05",
   "metadata": {
    "ExecuteTime": {
     "end_time": "2025-02-25T18:45:54.470214Z",
     "start_time": "2025-02-25T18:45:54.401570Z"
    }
   },
   "outputs": [],
   "source": [
    "import os\n",
    "import re\n",
    "import nltk\n",
    "from pdfminer.high_level import extract_pages\n",
    "from pdfminer.high_level import LTPage\n",
    "from nltk.corpus import wordnet as wn\n",
    "from pdfminer.layout import LTTextContainer, LTTextLineVertical, LTTextBoxHorizontal, LTTextBox, Rect\n",
    "import wordninja\n",
    "from pdf2image import convert_from_path\n",
    "import numpy as np\n",
    "import cv2\n",
    "import pandas as pd\n",
    "import pickle"
   ]
  },
  {
   "cell_type": "code",
   "execution_count": 2,
   "id": "6d18af48",
   "metadata": {},
   "outputs": [],
   "source": [
    "def identify_footnote_line(article_path: str, page: LTPage, page_number: int, DPI: int = 100) -> list[dict[str, float]]:\n",
    "    page_w, page_h = page.bbox[2], page.bbox[3]\n",
    "    raw_image = convert_from_path(article_path, dpi=DPI, first_page=page_number+1, last_page=page_number+1)[0]\n",
    "    img = np.array(raw_image)\n",
    "    \n",
    "    gray = cv2.cvtColor(img, cv2.COLOR_RGB2GRAY)\n",
    "    img_height, img_width = gray.shape\n",
    "    kernel = cv2.getStructuringElement(cv2.MORPH_RECT, (20, 1))\n",
    "    morph = cv2.morphologyEx(gray, cv2.MORPH_CLOSE, kernel)\n",
    "    edges = cv2.Canny(morph, 50, 200, apertureSize=3)\n",
    "\n",
    "    lines = cv2.HoughLinesP(edges, 1, np.pi / 180, threshold=50, minLineLength=30, maxLineGap=20)\n",
    "    if lines is None:\n",
    "        return None\n",
    "\n",
    "    pdfminer_lines = []\n",
    "    for line in lines:\n",
    "        x1, y1, x2, y2 = line[0]\n",
    "        # Escalar a coordenadas PDFMiner\n",
    "        y1_pdf = (y1 / img_height) * page_h\n",
    "        y2_pdf = (y2 / img_height) * page_h\n",
    "\n",
    "        pdfminer_lines.append({\n",
    "            \"x1\": x1,\n",
    "            \"y1\": page_h - y1_pdf,\n",
    "            \"x2\": x2,\n",
    "            \"y2\": page_h - y2_pdf\n",
    "        })\n",
    "\n",
    "    threshold_y = page_h * 0.35\n",
    "    filtered_lines = [line for line in pdfminer_lines if line[\"y1\"] <= threshold_y]\n",
    "    filtered_lines.sort(key=lambda line: line[\"y1\"], reverse=True)\n",
    "    return filtered_lines[0] if filtered_lines else None"
   ]
  },
  {
   "cell_type": "code",
   "execution_count": 3,
   "id": "328c6f30a1fe9c96",
   "metadata": {
    "ExecuteTime": {
     "end_time": "2025-02-25T22:01:43.600110Z",
     "start_time": "2025-02-25T22:01:43.596107Z"
    }
   },
   "outputs": [],
   "source": [
    "def extract_page(pdf_path, page):\n",
    "    pages = extract_pages(pdf_path)\n",
    "    for i, page_layout in enumerate(pages):\n",
    "        if i != page - 1: continue\n",
    "        return page_layout\n",
    "    return None"
   ]
  },
  {
   "cell_type": "code",
   "execution_count": 4,
   "metadata": {},
   "outputs": [],
   "source": [
    "# regex stop conditions\n",
    "references_re = r\"(?i)^\\s*(referencias|bibliografía citada|bibliografia citada|bibliografía|bibliografia|citas|fuentes|referencias bibliograficas|referencias bibliográficas)\\s*$\"\n",
    "\n",
    "# regex delete\n",
    "version_logs = r\"(?i)(recibido|aceptado|publicado|(segunda|tercera|cuarta|quinta|sexta) versión)[,:]?\\s*(el\\s*)?(\\d{1,2}(\\s*de)?\\s*[a-záéíóú]+(\\s*de\\s*\\d{4})?|\\d{1,2}/\\d{1,2}/\\d{4})(\\s*\\.\\s*)?\"\n",
    "\n",
    "footnote_references = r\"([.,;:!?])([0-9]+)\"\n",
    "duplicated_spaces = r\"\\s+\"\n",
    "\n",
    "# recognizing regex\n",
    "abstract = r\"Palabras clave|Keywords|Resumen|Abstract|Key words|Palabrasclave|Keyword|Palabra clave|Palabras claves|Keywords|Sumario|Síntesis|Sintesis|Sinopsis\"\n",
    "\n",
    "# parentesis y llaves\n",
    "parentheses_pattern = r'\\(' + \\\n",
    "                      r'(?:' + \\\n",
    "                      r'(?:[^;)]+)' + \\\n",
    "                      r'(?:; [^;)]+)*' + \\\n",
    "                      r')\\)'\n",
    "brackets_pattern = r'\\[' + \\\n",
    "                      r'(?:' + \\\n",
    "                      r'(?:[^;\\]]+)' + \\\n",
    "                      r'(?:; [^;\\]]+)*' + \\\n",
    "                      r')\\]'"
   ]
  },
  {
   "cell_type": "code",
   "execution_count": 5,
   "id": "efa9dc49",
   "metadata": {},
   "outputs": [],
   "source": [
    "class ArticleExtractedData:\n",
    "    def __init__(self, pdf_path: str):\n",
    "        self.pdf_path: str = pdf_path\n",
    "        self.headers: set[str] = set()\n",
    "        self.footers: set[str] = set()\n",
    "        self.footnotes_lines: list[dict[str, float]] = []\n",
    "\n",
    "def extract_data_article(pdf_path) -> ArticleExtractedData:\n",
    "    data = ArticleExtractedData(pdf_path)\n",
    "    headers_counter: map[str, int] = {}\n",
    "    footers_counter: map[str, int] = {}\n",
    "\n",
    "    for i, page in enumerate(extract_pages(pdf_path)):\n",
    "        height = page.bbox[3]\n",
    "        cutoff = height * 0.35\n",
    "\n",
    "        footnote_line = identify_footnote_line(pdf_path, page, i)\n",
    "        data.footnotes_lines.append(footnote_line)\n",
    "\n",
    "        for element in page:\n",
    "            if not isinstance(element, (LTTextBox, LTTextBox, LTTextContainer)):\n",
    "                continue\n",
    "            txt = element.get_text().strip()\n",
    "            if element.bbox[3] <= cutoff:\n",
    "                footers_counter[txt] = footers_counter.get(txt, 0) + 1\n",
    "            if element.bbox[1] >= height - cutoff:\n",
    "                headers_counter[txt] = headers_counter.get(txt, 0) + 1\n",
    "\n",
    "\n",
    "    data.headers = {k for k, v in headers_counter.items() if v > 1 and len(k) > 0}\n",
    "    data.footers = {k for k, v in footers_counter.items() if v > 1 and len(k) > 0}\n",
    "    return data"
   ]
  },
  {
   "cell_type": "code",
   "execution_count": 6,
   "id": "4a837c4d",
   "metadata": {},
   "outputs": [],
   "source": [
    "def check_stop_conditions(text) -> bool:\n",
    "\treturn any([\n",
    "\t\tre.search(references_re, text, flags=re.MULTILINE),\n",
    "\t])\n",
    "\n",
    "def clean_unwanted_patterns(text) -> str:\n",
    "\t# Eliminar patrones como \"Recibido el 12 de marzo de 2021.\"\n",
    "    text = re.sub(version_logs, \"\", text).strip()\n",
    "\n",
    "    # ()\n",
    "    text = re.sub(parentheses_pattern, \"\", text).strip()\n",
    "    \n",
    "    # []\n",
    "    text = re.sub(brackets_pattern, \"\", text).strip()\n",
    "    \n",
    "    # .1 ?2 !4 :5 ;6\n",
    "    text = re.sub(footnote_references, r\"\\1\", text).strip()\n",
    "\n",
    "    return text\n",
    "\n",
    "def clean_page(text) -> str:\n",
    "    text = text.replace(\"-\\n\", \"\")\n",
    "    text = text.replace(\"\\n\", \" \")\n",
    "    text = text.replace(\"«\", \"\").replace(\"»\", \"\").replace(\"“\", \"\").replace(\"”\", \"\").replace(\"‘\", \"\").replace(\"’\", \"\")\n",
    "    text = text.replace('\"', \"\").replace(\"'\", \"\")\n",
    "    # en ., data ?\n",
    "    text = re.sub(r'\\s+([.,;:!?])', r'\\1', text).strip()\n",
    "    text = re.sub(duplicated_spaces, \" \", text).strip()\n",
    "    return text.lower()\n",
    "\n",
    "# (str, bool) -> (text, continue?)\n",
    "def extract_page_text(page: LTPage, page_number: int, data: ArticleExtractedData) -> tuple[str, bool]:\n",
    "    text = \"\"\n",
    "    status = True\n",
    "\n",
    "    for element in page:\n",
    "        if not isinstance(element, (LTTextBoxHorizontal, LTTextBox, LTTextContainer)):\n",
    "            continue\n",
    "\n",
    "        _, __, ___, y2 = element.bbox\n",
    "        footnote_line = data.footnotes_lines[page_number]\n",
    "        if y2 <= (footnote_line[\"y1\"] if footnote_line is not None else -1):\n",
    "            break\n",
    "\n",
    "        txt = element.get_text().strip()\n",
    "        if txt.isdigit() or txt in data.headers or txt in data.footers:\n",
    "            continue\n",
    "\n",
    "        if check_stop_conditions(txt):\n",
    "            status = False\n",
    "            break\n",
    "\n",
    "        text += txt + \"\\n\"\n",
    "\n",
    "    text = clean_unwanted_patterns(text)\n",
    "    text = clean_page(text)\n",
    "    return text, status"
   ]
  },
  {
   "cell_type": "markdown",
   "metadata": {},
   "source": [
    "# Preprocesado"
   ]
  },
  {
   "cell_type": "code",
   "execution_count": 7,
   "id": "4f9ac121",
   "metadata": {},
   "outputs": [
    {
     "data": {
      "text/plain": [
       "1912"
      ]
     },
     "execution_count": 7,
     "metadata": {},
     "output_type": "execute_result"
    }
   ],
   "source": [
    "with open(\"initial_texts-all-articles.pkl\", \"rb\") as f:\n",
    "    initial_texts: dict[str, str] = pickle.load(f)\n",
    "len(initial_texts)"
   ]
  },
  {
   "cell_type": "code",
   "execution_count": 8,
   "id": "f8dc47fe",
   "metadata": {},
   "outputs": [],
   "source": [
    "def get_files() -> list[str]:\n",
    "    PACK_DIR = \"pack\"\n",
    "    os.makedirs(PACK_DIR, exist_ok=True)\n",
    "    dirs = os.listdir(PACK_DIR)\n",
    "    files = []\n",
    "    for dr in dirs:\n",
    "        files.extend(\n",
    "            [\n",
    "                os.path.join(PACK_DIR, dr, file)\n",
    "                for file in os.listdir(os.path.join(PACK_DIR, dr))\n",
    "            ]\n",
    "        )\n",
    "    return files"
   ]
  },
  {
   "cell_type": "code",
   "execution_count": 9,
   "metadata": {},
   "outputs": [
    {
     "data": {
      "text/plain": [
       "1912"
      ]
     },
     "execution_count": 9,
     "metadata": {},
     "output_type": "execute_result"
    }
   ],
   "source": [
    "# articles = [os.path.join(\"data\", art) for art in os.listdir(\"data\")]\n",
    "articles = get_files()\n",
    "len(articles)"
   ]
  },
  {
   "cell_type": "code",
   "execution_count": 19,
   "id": "349b8631",
   "metadata": {},
   "outputs": [],
   "source": [
    "def delete_before_substr(text, substring):\n",
    "    split = text.split(substring, 1)\n",
    "    if len(split) == 1:\n",
    "        return None\n",
    "    \n",
    "    return (substring + split[1]).strip()\n",
    "\n",
    "def extract_pdf_text(pdf_path: str, initial_text: str) -> str:\n",
    "    text = \"\"\n",
    "    data = extract_data_article(pdf_path)\n",
    "    for i, page in enumerate(extract_pages(pdf_path)):\n",
    "        page_text, can_continue = extract_page_text(page, i, data)\n",
    "        text = f\"{text} {page_text}\"\n",
    "        if not can_continue:\n",
    "            break\n",
    "\n",
    "    if initial_text is None:\n",
    "        return text.strip()\n",
    "    \n",
    "    initial_substr = clean_page(clean_unwanted_patterns(initial_text.strip()))\n",
    "    new_text = delete_before_substr(text, initial_substr)\n",
    "    if new_text is None:\n",
    "        print(f\"{'=' * 20}\\nINITIAL TEXT NOT FOUND: {pdf_path}\\n{'=' * 20}\")\n",
    "        return None    \n",
    "    return new_text.strip()"
   ]
  },
  {
   "cell_type": "code",
   "execution_count": 20,
   "id": "f3b03660",
   "metadata": {},
   "outputs": [],
   "source": [
    "import multiprocessing as mp\n",
    "from multiprocessing.pool import ThreadPool\n",
    "\n",
    "def process_article(article, ignore_initial_text=False):\n",
    "    return article, extract_pdf_text(article, initial_texts[article] if not ignore_initial_text else None)"
   ]
  },
  {
   "cell_type": "code",
   "execution_count": 11,
   "metadata": {},
   "outputs": [
    {
     "name": "stderr",
     "output_type": "stream",
     "text": [
      "The PDF <_io.BufferedReader name='pack\\\\AIBR\\\\2006-Hacia-una-producción-enriquecida-Trabajo-en-grupo-y-recualificación-en-empresas-de-ingeniería-mecáni.pdf'> contains a metadata field indicating that it should not allow text extraction. Ignoring this field and proceeding. Use the check_extractable if you want to raise an error in this case\n"
     ]
    },
    {
     "name": "stdout",
     "output_type": "stream",
     "text": [
      "====================\n",
      "INITIAL TEXT NOT FOUND: pack\\AIBR\\2007-Pidiendo-la-defensa-de-un-título-de-doctor-16-años-después.pdf\n",
      "====================\n"
     ]
    },
    {
     "name": "stderr",
     "output_type": "stream",
     "text": [
      "The PDF <_io.BufferedReader name='pack\\\\AIBR\\\\2006-El-trabajo-de-las-mujeres-en-la-industria-maquiladora-de-México-Balance-de-cuatro-décadas-de-estudio.pdf'> contains a metadata field indicating that it should not allow text extraction. Ignoring this field and proceeding. Use the check_extractable if you want to raise an error in this case\n",
      "The PDF <_io.BufferedReader name='pack\\\\AIBR\\\\2006-Cambios-de-género-y-discriminación-laboral-en-el-sector-financiero-colombiano-El-caso-de-Bancolombia.pdf'> contains a metadata field indicating that it should not allow text extraction. Ignoring this field and proceeding. Use the check_extractable if you want to raise an error in this case\n",
      "The PDF <_io.BufferedReader name='pack\\\\AIBR\\\\2006-Profesionales-flexibles-Cocineros-enfermeras-y-directivos-en-el-siglo-XXI.pdf'> contains a metadata field indicating that it should not allow text extraction. Ignoring this field and proceeding. Use the check_extractable if you want to raise an error in this case\n"
     ]
    },
    {
     "name": "stdout",
     "output_type": "stream",
     "text": [
      "====================\n",
      "INITIAL TEXT NOT FOUND: pack\\Anuario-de-Estudios-Americanos\\2008-La-perspectiva-católica-sobre-la-salud-y-la-práctica-médica-en-la-Argentina-de-los-años-treinta-La-v.pdf\n",
      "====================\n",
      "====================\n",
      "INITIAL TEXT NOT FOUND: pack\\Anuario-de-Estudios-Americanos\\2007-Centralización-o-descentralización-gestión-pública-o-privada-de-un-bien-escaso-historiografía-sobre-.pdf\n",
      "====================\n",
      "====================\n",
      "INITIAL TEXT NOT FOUND: pack\\Anuario-de-Estudios-Americanos\\2006-Religiosidad-e-identidad-en-San-Francisco-de-Campeche-Siglos-XVI-y-XVII.pdf\n",
      "====================\n",
      "====================\n",
      "INITIAL TEXT NOT FOUND: pack\\Anuario-de-Estudios-Americanos\\2003-Políticas-de-la-justicia-criminal-interétnica-en-Córdoba-del-Tucumán-siglos-XVI-y-XVII.pdf\n",
      "====================\n",
      "====================\n",
      "INITIAL TEXT NOT FOUND: pack\\Anuario-de-Estudios-Americanos\\2006-Economía-rentas-y-situados-en-Cartagena-de-Indias-17611800.pdf\n",
      "====================\n",
      "====================\n",
      "INITIAL TEXT NOT FOUND: pack\\AIBR\\2018-Humanidad-territorializada-Madres-dueños-y-personas-que-cuidan.pdf\n",
      "====================\n",
      "====================\n",
      "INITIAL TEXT NOT FOUND: pack\\Anuario-de-Estudios-Americanos\\2007-Las-rutas-del-libro-atlántico-libros-enviados-en-el-navío-de-Honduras-15571700.pdf\n",
      "====================\n",
      "====================\n",
      "INITIAL TEXT NOT FOUND: pack\\Anuario-de-Estudios-Americanos\\2006-La-educación-pública-escenario-de-conflictos-y-acuerdos-entre-católicos-y-liberales-en-la-Argentina-.pdf\n",
      "====================\n",
      "====================\n",
      "INITIAL TEXT NOT FOUND: pack\\Anuario-de-Estudios-Americanos\\2004-Itinerario-de-imágenes-del-indígena-chaqueño-Del-Territorio-Indio-del-Norte-al-Territorio-Nacional-y.pdf\n",
      "====================\n"
     ]
    },
    {
     "name": "stderr",
     "output_type": "stream",
     "text": [
      "The PDF <_io.BufferedReader name='pack\\\\AIBR\\\\2006-Cambios-de-género-y-discriminación-laboral-en-el-sector-financiero-colombiano-El-caso-de-Bancolombia.pdf'> contains a metadata field indicating that it should not allow text extraction. Ignoring this field and proceeding. Use the check_extractable if you want to raise an error in this case\n",
      "The PDF <_io.BufferedReader name='pack\\\\AIBR\\\\2006-Consecuencias-personales-en-la-ruptura-de-la-vida-laboral-El-caso-de-Telefónica.pdf'> contains a metadata field indicating that it should not allow text extraction. Ignoring this field and proceeding. Use the check_extractable if you want to raise an error in this case\n",
      "The PDF <_io.BufferedReader name='pack\\\\AIBR\\\\2006-Hacia-una-producción-enriquecida-Trabajo-en-grupo-y-recualificación-en-empresas-de-ingeniería-mecáni.pdf'> contains a metadata field indicating that it should not allow text extraction. Ignoring this field and proceeding. Use the check_extractable if you want to raise an error in this case\n",
      "The PDF <_io.BufferedReader name='pack\\\\AIBR\\\\2006-El-trabajo-de-las-mujeres-en-la-industria-maquiladora-de-México-Balance-de-cuatro-décadas-de-estudio.pdf'> contains a metadata field indicating that it should not allow text extraction. Ignoring this field and proceeding. Use the check_extractable if you want to raise an error in this case\n"
     ]
    },
    {
     "name": "stdout",
     "output_type": "stream",
     "text": [
      "====================\n",
      "INITIAL TEXT NOT FOUND: pack\\AIBR\\2018-Humanidades-amerindias-en-transformación-ontologías-dinamismo-y-contextos-Presentación-al-monográfic.pdf\n",
      "====================\n"
     ]
    },
    {
     "name": "stderr",
     "output_type": "stream",
     "text": [
      "The PDF <_io.BufferedReader name='pack\\\\AIBR\\\\2006-El-empleo-o-la-vida-perder-el-empleo-para-conservar-la-vida-o-renunciar-a-la-vida-para-conservar-el-.pdf'> contains a metadata field indicating that it should not allow text extraction. Ignoring this field and proceeding. Use the check_extractable if you want to raise an error in this case\n"
     ]
    },
    {
     "name": "stdout",
     "output_type": "stream",
     "text": [
      "====================\n",
      "INITIAL TEXT NOT FOUND: pack\\Anuario-de-Estudios-Americanos\\2006-El-acceso-a-los-cargos-de-gobierno-de-la-audiencia-de-Quito-17011750.pdf\n",
      "====================\n"
     ]
    },
    {
     "name": "stderr",
     "output_type": "stream",
     "text": [
      "The PDF <_io.BufferedReader name='pack\\\\AIBR\\\\2006-El-empleo-o-la-vida-perder-el-empleo-para-conservar-la-vida-o-renunciar-a-la-vida-para-conservar-el-.pdf'> contains a metadata field indicating that it should not allow text extraction. Ignoring this field and proceeding. Use the check_extractable if you want to raise an error in this case\n",
      "The PDF <_io.BufferedReader name='pack\\\\AIBR\\\\2006-Profesionales-flexibles-Cocineros-enfermeras-y-directivos-en-el-siglo-XXI.pdf'> contains a metadata field indicating that it should not allow text extraction. Ignoring this field and proceeding. Use the check_extractable if you want to raise an error in this case\n",
      "The PDF <_io.BufferedReader name='pack\\\\AIBR\\\\2007-Del-colonialismo-al-colaboracionismo-dialógicocrítico-una-aproximación-a-la-dimensión-política-y-ref.pdf'> contains a metadata field indicating that it should not allow text extraction. Ignoring this field and proceeding. Use the check_extractable if you want to raise an error in this case\n"
     ]
    },
    {
     "name": "stdout",
     "output_type": "stream",
     "text": [
      "====================\n",
      "INITIAL TEXT NOT FOUND: pack\\Anuario-de-Estudios-Americanos\\2008-Don-Diego-Luis-Moctezuma-nieto-deHueytlatoani-padre-de-conde-un-noble-indígena-entre-dos-mundos.pdf\n",
      "====================\n",
      "====================\n",
      "INITIAL TEXT NOT FOUND: pack\\Anuario-de-Estudios-Americanos\\2002-Política-violencia-y-literatura.pdf\n",
      "====================\n",
      "====================\n",
      "INITIAL TEXT NOT FOUND: pack\\Anuario-de-Estudios-Americanos\\2006-Los-amargos-beneficios-del-dulce-Azúcar-Cuba-y-deuda-ecológica.pdf\n",
      "====================\n",
      "====================\n",
      "INITIAL TEXT NOT FOUND: pack\\Anuario-de-Estudios-Americanos\\2008-Salud-pública-e-inestabilidad-política-en-Venezuela-durante-los-gobiernos-de-Guzmán-Blanco-18701888.pdf\n",
      "====================\n",
      "====================\n",
      "INITIAL TEXT NOT FOUND: pack\\Anuario-de-Estudios-Americanos\\2008-La-Colonización-del-Chaco-austral-argentino-y-el-tránsito-hacia-el-ciclo-algodonero-Afluencia-humana.pdf\n",
      "====================\n",
      "====================\n",
      "INITIAL TEXT NOT FOUND: pack\\Anuario-de-Estudios-Americanos\\2005-La-lucha-por-el-poder-en-una-agrupación-indígena-el-efímero-apogeo-de-los-boroganos-en-las-pampas-pr.pdf\n",
      "====================\n",
      "====================\n",
      "INITIAL TEXT NOT FOUND: pack\\Anuario-de-Estudios-Americanos\\2005-El-carácter-marginal-y-arrenpackrio-del-sistema-de-fábrica-en-paisajes-agrarios-mexicanos-17801880.pdf\n",
      "====================\n",
      "====================\n",
      "INITIAL TEXT NOT FOUND: pack\\Anuario-de-Estudios-Americanos\\2003-Negociar-en-red-familia-amistad-y-paisanaje-El-virrey-Superunda-y-sus-agentes-en-Lima-y-Cádiz-174517.pdf\n",
      "====================\n"
     ]
    },
    {
     "name": "stderr",
     "output_type": "stream",
     "text": [
      "The PDF <_io.BufferedReader name='pack\\\\AIBR\\\\2006-Consecuencias-personales-en-la-ruptura-de-la-vida-laboral-El-caso-de-Telefónica.pdf'> contains a metadata field indicating that it should not allow text extraction. Ignoring this field and proceeding. Use the check_extractable if you want to raise an error in this case\n",
      "The PDF <_io.BufferedReader name='pack\\\\AIBR\\\\2007-Del-colonialismo-al-colaboracionismo-dialógicocrítico-una-aproximación-a-la-dimensión-política-y-ref.pdf'> contains a metadata field indicating that it should not allow text extraction. Ignoring this field and proceeding. Use the check_extractable if you want to raise an error in this case\n"
     ]
    },
    {
     "name": "stdout",
     "output_type": "stream",
     "text": [
      "====================\n",
      "INITIAL TEXT NOT FOUND: pack\\Anuario-de-Estudios-Americanos\\2002-Políticas-de-pertenencia-y-relaciones-coloniales-la-inmigración-peruana-en-España.pdf\n",
      "====================\n",
      "====================\n",
      "INITIAL TEXT NOT FOUND: pack\\Anuario-de-Estudios-Americanos\\2008-Alianzas-matrimoniales-coloniales-entre-caciques-mixtecos-El-caso-de-AcatlanPetlalcingo.pdf\n",
      "====================\n",
      "====================\n",
      "INITIAL TEXT NOT FOUND: pack\\Anuario-de-Estudios-Americanos\\2006-La-alta-sociedad-el-mundo-de-la-cultura-y-la-modernización-en-la-Buenos-Aires-del-cambio-del-siglo-X.pdf\n",
      "====================\n",
      "====================\n",
      "INITIAL TEXT NOT FOUND: pack\\Anuario-de-Estudios-Americanos\\2006-El-asedio-a-lacristiandad-Intelectuales-católicos-y-sociedad-19501965.pdf\n",
      "====================\n",
      "====================\n",
      "INITIAL TEXT NOT FOUND: pack\\Anuario-de-Estudios-Americanos\\2006-Luces-y-sombras-de-dos-paradigmas-del-americanismo-español-en-la-renovación-del-diálogo-hispanoameri.pdf\n",
      "====================\n",
      "====================\n",
      "INITIAL TEXT NOT FOUND: pack\\Anuario-de-Estudios-Americanos\\2008-Conflictos-en-la-Audiencia-de-Quito-a-finales-del-siglo-XVIII.pdf\n",
      "====================\n",
      "====================\n",
      "INITIAL TEXT NOT FOUND: pack\\Anuario-de-Estudios-Americanos\\2007-Nobleza-y-fiscalidad-en-la-Ruta-de-las-Indias-el-emporio-señorial-de-Sanlúcar-de-Barrameda-15761641.pdf\n",
      "====================\n",
      "====================\n",
      "INITIAL TEXT NOT FOUND: pack\\Anuario-de-Estudios-Americanos\\2002-Historicidad-Juridicidad-y-ParaLiteratura-En-torno-a-Francisco-de-Vitoria-14861546.pdf\n",
      "====================\n"
     ]
    },
    {
     "name": "stderr",
     "output_type": "stream",
     "text": [
      "The PDF <_io.BufferedReader name='pack\\\\Revista-de-Indias\\\\2006-Chile-en-el-Perú-guerra-y-construcción-estatal-en-Sudamérica-18811884.pdf'> contains a metadata field indicating that it should not allow text extraction. Ignoring this field and proceeding. Use the check_extractable if you want to raise an error in this case\n",
      "The PDF <_io.BufferedReader name='pack\\\\Revista-de-Indias\\\\2006-Concordias-medicinales-de-entrambos-mundos-el-proyecto-sobre-materia-médica-peruana-de-Matías-de-Por.pdf'> contains a metadata field indicating that it should not allow text extraction. Ignoring this field and proceeding. Use the check_extractable if you want to raise an error in this case\n",
      "The PDF <_io.BufferedReader name='pack\\\\Revista-de-Indias\\\\2006-El-Virrey-Abascal-y-el-espacio-del-poder-en-el-Perú-18061816-Un-balance-historiográfico.pdf'> contains a metadata field indicating that it should not allow text extraction. Ignoring this field and proceeding. Use the check_extractable if you want to raise an error in this case\n",
      "The PDF <_io.BufferedReader name='pack\\\\Revista-de-Indias\\\\2006-Evolución-de-la-producción-y-el-comercio-mundial-de-la-grana-cochinilla-siglos-XVIXIX.pdf'> contains a metadata field indicating that it should not allow text extraction. Ignoring this field and proceeding. Use the check_extractable if you want to raise an error in this case\n",
      "The PDF <_io.BufferedReader name='pack\\\\Revista-de-Indias\\\\2006-Mediación-política-redes-clientelares-y-pacificación-del-Reino-en-el-Perú-del-siglo-XVI-Observacione.pdf'> contains a metadata field indicating that it should not allow text extraction. Ignoring this field and proceeding. Use the check_extractable if you want to raise an error in this case\n",
      "The PDF <_io.BufferedReader name='pack\\\\Revista-de-Indias\\\\2006-Redes-de-alta-corrupción-en-el-Perú-poder-y-venalidad-desde-el-Virrey-Amat-a-Montesinos.pdf'> contains a metadata field indicating that it should not allow text extraction. Ignoring this field and proceeding. Use the check_extractable if you want to raise an error in this case\n"
     ]
    },
    {
     "name": "stdout",
     "output_type": "stream",
     "text": [
      "====================\n",
      "INITIAL TEXT NOT FOUND: pack\\AIBR\\2022-La-tensión-globallocal-en-la-historia-de-la-antropología.pdf\n",
      "====================\n",
      "====================\n",
      "INITIAL TEXT NOT FOUND: pack\\Anuario-de-Estudios-Americanos\\2003-Una-antinomia-protorrenacentista-secreto-de-estado-y-divulgación-en-los-descubrimientos-lusocastella.pdf\n",
      "====================\n"
     ]
    },
    {
     "name": "stderr",
     "output_type": "stream",
     "text": [
      "The PDF <_io.BufferedReader name='pack\\\\Revista-de-Indias\\\\2006-Redes-de-alta-corrupción-en-el-Perú-poder-y-venalidad-desde-el-Virrey-Amat-a-Montesinos.pdf'> contains a metadata field indicating that it should not allow text extraction. Ignoring this field and proceeding. Use the check_extractable if you want to raise an error in this case\n",
      "The PDF <_io.BufferedReader name='pack\\\\Revista-de-Indias\\\\2006-Redes-de-poder-en-el-Virreinato-del-Perú-17761824-los-burócratas.pdf'> contains a metadata field indicating that it should not allow text extraction. Ignoring this field and proceeding. Use the check_extractable if you want to raise an error in this case\n",
      "The PDF <_io.BufferedReader name='pack\\\\Revista-de-Indias\\\\2006-Concordias-medicinales-de-entrambos-mundos-el-proyecto-sobre-materia-médica-peruana-de-Matías-de-Por.pdf'> contains a metadata field indicating that it should not allow text extraction. Ignoring this field and proceeding. Use the check_extractable if you want to raise an error in this case\n",
      "The PDF <_io.BufferedReader name='pack\\\\Revista-de-Indias\\\\2006-Diversos-aspectos-atinentes-a-la-situación-de-los-Afroporteños-a-principios-del-período-postrevoluci.pdf'> contains a metadata field indicating that it should not allow text extraction. Ignoring this field and proceeding. Use the check_extractable if you want to raise an error in this case\n",
      "The PDF <_io.BufferedReader name='pack\\\\Revista-de-Indias\\\\2006-Evolución-de-la-producción-y-el-comercio-mundial-de-la-grana-cochinilla-siglos-XVIXIX.pdf'> contains a metadata field indicating that it should not allow text extraction. Ignoring this field and proceeding. Use the check_extractable if you want to raise an error in this case\n",
      "The PDF <_io.BufferedReader name='pack\\\\Revista-de-Indias\\\\2006-Gente-de-mal-vivir-familias-e-hijos-rebeldes-en-Nueva-España-17211729.pdf'> contains a metadata field indicating that it should not allow text extraction. Ignoring this field and proceeding. Use the check_extractable if you want to raise an error in this case\n"
     ]
    },
    {
     "name": "stdout",
     "output_type": "stream",
     "text": [
      "====================\n",
      "INITIAL TEXT NOT FOUND: pack\\Revista-de-Indias\\2006-Evolución-de-la-producción-y-el-comercio-mundial-de-la-grana-cochinilla-siglos-XVIXIX.pdf\n",
      "====================\n"
     ]
    },
    {
     "name": "stderr",
     "output_type": "stream",
     "text": [
      "The PDF <_io.BufferedReader name='pack\\\\Revista-de-Indias\\\\2006-Mediación-política-redes-clientelares-y-pacificación-del-Reino-en-el-Perú-del-siglo-XVI-Observacione.pdf'> contains a metadata field indicating that it should not allow text extraction. Ignoring this field and proceeding. Use the check_extractable if you want to raise an error in this case\n",
      "The PDF <_io.BufferedReader name='pack\\\\Revista-de-Indias\\\\2006-Chile-en-el-Perú-guerra-y-construcción-estatal-en-Sudamérica-18811884.pdf'> contains a metadata field indicating that it should not allow text extraction. Ignoring this field and proceeding. Use the check_extractable if you want to raise an error in this case\n",
      "The PDF <_io.BufferedReader name='pack\\\\Revista-de-Indias\\\\2006-Codicia-y-bien-público-los-ministros-de-la-Audiencia-en-la-Lima-seiscentista.pdf'> contains a metadata field indicating that it should not allow text extraction. Ignoring this field and proceeding. Use the check_extractable if you want to raise an error in this case\n",
      "The PDF <_io.BufferedReader name='pack\\\\Revista-de-Indias\\\\2006-Andrés-del-Río-Antonio-del-Castillo-y-José-G-Aguilera-en-el-desarrollo-de-la-ciencia-mexicana-del-si.pdf'> contains a metadata field indicating that it should not allow text extraction. Ignoring this field and proceeding. Use the check_extractable if you want to raise an error in this case\n"
     ]
    },
    {
     "name": "stdout",
     "output_type": "stream",
     "text": [
      "====================\n",
      "INITIAL TEXT NOT FOUND: pack\\Revista-de-Indias\\2003-Perfil-etnodemográfico-de-la-Audiencia-de-Guatemala.pdf\n",
      "====================\n"
     ]
    },
    {
     "name": "stderr",
     "output_type": "stream",
     "text": [
      "The PDF <_io.BufferedReader name='pack\\\\Revista-de-Indias\\\\2006-La-estatua-de-Francisco-Pizarro-en-Lima-Historia-e-identidad-nacional.pdf'> contains a metadata field indicating that it should not allow text extraction. Ignoring this field and proceeding. Use the check_extractable if you want to raise an error in this case\n",
      "The PDF <_io.BufferedReader name='pack\\\\Revista-de-Indias\\\\2006-Vida-y-muerte-de-doña-Melchora-Lemos-empresaria-vitivinícola-y-terciaria-de-la-Orden-de-Predicadores.pdf'> contains a metadata field indicating that it should not allow text extraction. Ignoring this field and proceeding. Use the check_extractable if you want to raise an error in this case\n",
      "The PDF <_io.BufferedReader name='pack\\\\Revista-de-Indias\\\\2006-El-Virrey-Abascal-y-el-espacio-del-poder-en-el-Perú-18061816-Un-balance-historiográfico.pdf'> contains a metadata field indicating that it should not allow text extraction. Ignoring this field and proceeding. Use the check_extractable if you want to raise an error in this case\n",
      "The PDF <_io.BufferedReader name='pack\\\\Revista-de-Indias\\\\2006-Empresas-instituciones-y-red-social-la-Compañía-Hispanoamericana-de-Electricidad-CHADE-entre-Barcelo.pdf'> contains a metadata field indicating that it should not allow text extraction. Ignoring this field and proceeding. Use the check_extractable if you want to raise an error in this case\n"
     ]
    },
    {
     "name": "stdout",
     "output_type": "stream",
     "text": [
      "====================\n",
      "INITIAL TEXT NOT FOUND: pack\\Revista-de-Indias\\2009-El-aluvión-comienza-a-sedimentar.pdf\n",
      "====================\n"
     ]
    },
    {
     "name": "stderr",
     "output_type": "stream",
     "text": [
      "The PDF <_io.BufferedReader name='pack\\\\Revista-de-Indias\\\\2006-Redes-de-poder-en-el-Virreinato-del-Perú-17761824-los-burócratas.pdf'> contains a metadata field indicating that it should not allow text extraction. Ignoring this field and proceeding. Use the check_extractable if you want to raise an error in this case\n"
     ]
    },
    {
     "name": "stdout",
     "output_type": "stream",
     "text": [
      "====================\n",
      "INITIAL TEXT NOT FOUND: pack\\Revista-de-Indias\\2006-Redes-de-poder-en-el-Virreinato-del-Perú-17761824-los-burócratas.pdf\n",
      "====================\n"
     ]
    },
    {
     "name": "stderr",
     "output_type": "stream",
     "text": [
      "The PDF <_io.BufferedReader name='pack\\\\Revista-de-Indias\\\\2006-Mario-de-Andrade-y-laMissão-de-Pesquisas-Folclóricas1938-una-etnografía-que-no-fue.pdf'> contains a metadata field indicating that it should not allow text extraction. Ignoring this field and proceeding. Use the check_extractable if you want to raise an error in this case\n"
     ]
    },
    {
     "name": "stdout",
     "output_type": "stream",
     "text": [
      "====================\n",
      "INITIAL TEXT NOT FOUND: pack\\Anuario-de-Estudios-Americanos\\2007-Pinturas-novohispanas-en-España-responsables-finalidad-y-procedimiento.pdf\n",
      "====================\n",
      "====================\n",
      "INITIAL TEXT NOT FOUND: pack\\Revista-de-Indias\\2007-Del-anticomunismo-al-antinacionalismo-la-presidencia-Eisenhower-y-el-giro-autoritario-en-la-América-.pdf\n",
      "====================\n"
     ]
    },
    {
     "name": "stderr",
     "output_type": "stream",
     "text": [
      "The PDF <_io.BufferedReader name='pack\\\\Revista-de-Indias\\\\2006-Codicia-y-bien-público-los-ministros-de-la-Audiencia-en-la-Lima-seiscentista.pdf'> contains a metadata field indicating that it should not allow text extraction. Ignoring this field and proceeding. Use the check_extractable if you want to raise an error in this case\n",
      "The PDF <_io.BufferedReader name='pack\\\\Revista-de-Indias\\\\2006-Como-güelfos-y-gibelinos-los-colegios-de-San-Bernardo-y-San-Antonio-Abad-en-el-Cuzco-durante-el-sigl.pdf'> contains a metadata field indicating that it should not allow text extraction. Ignoring this field and proceeding. Use the check_extractable if you want to raise an error in this case\n",
      "The PDF <_io.BufferedReader name='pack\\\\Revista-de-Indias\\\\2006-La-estatua-de-Francisco-Pizarro-en-Lima-Historia-e-identidad-nacional.pdf'> contains a metadata field indicating that it should not allow text extraction. Ignoring this field and proceeding. Use the check_extractable if you want to raise an error in this case\n",
      "The PDF <_io.BufferedReader name='pack\\\\Revista-de-Indias\\\\2006-La-salida-de-la-elite-virreinal-del-Perú-sacerdotes-funcionarios-y-comerciantes-18211825.pdf'> contains a metadata field indicating that it should not allow text extraction. Ignoring this field and proceeding. Use the check_extractable if you want to raise an error in this case\n",
      "The PDF <_io.BufferedReader name='pack\\\\Revista-de-Indias\\\\2006-Diversos-aspectos-atinentes-a-la-situación-de-los-Afroporteños-a-principios-del-período-postrevoluci.pdf'> contains a metadata field indicating that it should not allow text extraction. Ignoring this field and proceeding. Use the check_extractable if you want to raise an error in this case\n",
      "The PDF <_io.BufferedReader name='pack\\\\Revista-de-Indias\\\\2006-El-rol-de-las-alianzas-entre-misioneros-e-indígenas-en-la-conquista-de-Apolobamba-siglos-XVIXVII.pdf'> contains a metadata field indicating that it should not allow text extraction. Ignoring this field and proceeding. Use the check_extractable if you want to raise an error in this case\n"
     ]
    },
    {
     "name": "stdout",
     "output_type": "stream",
     "text": [
      "====================\n",
      "INITIAL TEXT NOT FOUND: pack\\Revista-de-Indias\\2008-Aires-gaditanos-en-el-mundo-rioplatense-La-experiencia-de-los-jefes-políticos-y-el-juicio-por-jurado.pdf\n",
      "====================\n"
     ]
    },
    {
     "name": "stderr",
     "output_type": "stream",
     "text": [
      "The PDF <_io.BufferedReader name='pack\\\\Revista-de-Indias\\\\2006-Gente-de-mal-vivir-familias-e-hijos-rebeldes-en-Nueva-España-17211729.pdf'> contains a metadata field indicating that it should not allow text extraction. Ignoring this field and proceeding. Use the check_extractable if you want to raise an error in this case\n",
      "The PDF <_io.BufferedReader name='pack\\\\Revista-de-Indias\\\\2006-Historia-Memoria-la-construcción-de-las-tradiciones-dinásticas-andinas.pdf'> contains a metadata field indicating that it should not allow text extraction. Ignoring this field and proceeding. Use the check_extractable if you want to raise an error in this case\n",
      "The PDF <_io.BufferedReader name='pack\\\\Revista-de-Indias\\\\2006-Andrés-del-Río-Antonio-del-Castillo-y-José-G-Aguilera-en-el-desarrollo-de-la-ciencia-mexicana-del-si.pdf'> contains a metadata field indicating that it should not allow text extraction. Ignoring this field and proceeding. Use the check_extractable if you want to raise an error in this case\n"
     ]
    },
    {
     "name": "stdout",
     "output_type": "stream",
     "text": [
      "====================\n",
      "INITIAL TEXT NOT FOUND: pack\\Revista-de-Indias\\2006-Andrés-del-Río-Antonio-del-Castillo-y-José-G-Aguilera-en-el-desarrollo-de-la-ciencia-mexicana-del-si.pdf\n",
      "====================\n",
      "====================\n",
      "INITIAL TEXT NOT FOUND: pack\\Revista-de-Indias\\2010-Consagrando-a-los-ciudadanos-Procesos-electorales-comparados-en-la-campaña-de-Buenos-Aires-durante-l.pdf\n",
      "====================\n"
     ]
    },
    {
     "name": "stderr",
     "output_type": "stream",
     "text": [
      "The PDF <_io.BufferedReader name='pack\\\\Revista-de-Indias\\\\2006-Empresas-instituciones-y-red-social-la-Compañía-Hispanoamericana-de-Electricidad-CHADE-entre-Barcelo.pdf'> contains a metadata field indicating that it should not allow text extraction. Ignoring this field and proceeding. Use the check_extractable if you want to raise an error in this case\n",
      "The PDF <_io.BufferedReader name='pack\\\\Revista-de-Indias\\\\2006-Estados-clases-y-Real-Hacienda-en-los-inicios-de-la-conquista-del-Perú.pdf'> contains a metadata field indicating that it should not allow text extraction. Ignoring this field and proceeding. Use the check_extractable if you want to raise an error in this case\n",
      "The PDF <_io.BufferedReader name='pack\\\\Revista-de-Indias\\\\2006-Vida-y-muerte-de-doña-Melchora-Lemos-empresaria-vitivinícola-y-terciaria-de-la-Orden-de-Predicadores.pdf'> contains a metadata field indicating that it should not allow text extraction. Ignoring this field and proceeding. Use the check_extractable if you want to raise an error in this case\n"
     ]
    },
    {
     "name": "stdout",
     "output_type": "stream",
     "text": [
      "====================\n",
      "INITIAL TEXT NOT FOUND: pack\\Revista-de-Indias\\2010-Indígenas-andinos-en-Chile-Colonial-Inmigración-inserción-espacial-integración-económica-y-movilidad.pdf\n",
      "====================\n"
     ]
    },
    {
     "name": "stderr",
     "output_type": "stream",
     "text": [
      "The PDF <_io.BufferedReader name='pack\\\\Revista-de-Indias\\\\2006-Mario-de-Andrade-y-laMissão-de-Pesquisas-Folclóricas1938-una-etnografía-que-no-fue.pdf'> contains a metadata field indicating that it should not allow text extraction. Ignoring this field and proceeding. Use the check_extractable if you want to raise an error in this case\n",
      "The PDF <_io.BufferedReader name='pack\\\\Revista-de-Indias\\\\2006-El-rol-de-las-alianzas-entre-misioneros-e-indígenas-en-la-conquista-de-Apolobamba-siglos-XVIXVII.pdf'> contains a metadata field indicating that it should not allow text extraction. Ignoring this field and proceeding. Use the check_extractable if you want to raise an error in this case\n",
      "The PDF <_io.BufferedReader name='pack\\\\Revista-de-Indias\\\\2006-Como-güelfos-y-gibelinos-los-colegios-de-San-Bernardo-y-San-Antonio-Abad-en-el-Cuzco-durante-el-sigl.pdf'> contains a metadata field indicating that it should not allow text extraction. Ignoring this field and proceeding. Use the check_extractable if you want to raise an error in this case\n",
      "The PDF <_io.BufferedReader name='pack\\\\Revista-de-Indias\\\\2006-La-salida-de-la-elite-virreinal-del-Perú-sacerdotes-funcionarios-y-comerciantes-18211825.pdf'> contains a metadata field indicating that it should not allow text extraction. Ignoring this field and proceeding. Use the check_extractable if you want to raise an error in this case\n"
     ]
    },
    {
     "name": "stdout",
     "output_type": "stream",
     "text": [
      "====================\n",
      "INITIAL TEXT NOT FOUND: pack\\Revista-de-Indias\\2008-Debates-en-torno-al-liberalismo-representación-e-instituciones-en-el-Congreso-Constituyente-mexicano.pdf\n",
      "====================\n",
      "====================\n",
      "INITIAL TEXT NOT FOUND: pack\\Revista-de-Indias\\2011-Un-coloso-sobre-la-arena-definiendo-el-camino-hacia-la-plantación-esclavista-en-Cuba-17921825.pdf\n",
      "====================\n",
      "====================\n",
      "INITIAL TEXT NOT FOUND: pack\\Revista-de-Indias\\2010-Matrimonio-transgresión-y-conflicto-en-la-región-de-Concepción-Chile-en-el-siglo-XIX.pdf\n",
      "====================\n"
     ]
    },
    {
     "name": "stderr",
     "output_type": "stream",
     "text": [
      "The PDF <_io.BufferedReader name='pack\\\\Revista-de-Indias\\\\2006-Estados-clases-y-Real-Hacienda-en-los-inicios-de-la-conquista-del-Perú.pdf'> contains a metadata field indicating that it should not allow text extraction. Ignoring this field and proceeding. Use the check_extractable if you want to raise an error in this case\n",
      "The PDF <_io.BufferedReader name='pack\\\\Revista-de-Indias\\\\2006-Historia-Memoria-la-construcción-de-las-tradiciones-dinásticas-andinas.pdf'> contains a metadata field indicating that it should not allow text extraction. Ignoring this field and proceeding. Use the check_extractable if you want to raise an error in this case\n"
     ]
    },
    {
     "name": "stdout",
     "output_type": "stream",
     "text": [
      "====================\n",
      "INITIAL TEXT NOT FOUND: pack\\Revista-Española-de-Antropología-Americana\\2009-Mito-conversiones-y-poder-como-carisma-cristiano-entre-los-wichí.pdf\n",
      "====================\n",
      "====================\n",
      "INITIAL TEXT NOT FOUND: pack\\Revista-Española-de-Antropología-Americana\\2003-José-Alcina-Franch-y-los-códices-mesoamericanos.pdf\n",
      "====================\n",
      "====================\n",
      "INITIAL TEXT NOT FOUND: pack\\Revista-Española-de-Antropología-Americana\\2009-Prácticas-mortuorias-entre-las-poblaciones-Aguada-del-valle-de-Ambato-Catamarca-Argentina.pdf\n",
      "====================\n",
      "====================\n",
      "INITIAL TEXT NOT FOUND: pack\\Revista-Española-de-Antropología-Americana\\2009-Más-rasgos-religiosos-de-los-mayas-y-los-egipcios.pdf\n",
      "====================\n",
      "====================\n",
      "INITIAL TEXT NOT FOUND: pack\\Revista-de-Indias\\2012-Museología-subalterna-sobre-las-ruinas-de-Moctezuma-II.pdf\n",
      "====================\n",
      "====================\n",
      "INITIAL TEXT NOT FOUND: pack\\Revista-de-Indias\\2010-Elites-locales-y-economía-política-en-la-Mesoamérica-posclásica-el-caso-de-Molango-Señorío-de-Metzti.pdf\n",
      "====================\n",
      "====================\n",
      "INITIAL TEXT NOT FOUND: pack\\Revista-de-Indias\\2015-De-arrochelados-a-vecinos-reformismo-borbónico-e-integración-política-en-las-gobernaciones-de-Santa-.pdf\n",
      "====================\n",
      "====================\n",
      "INITIAL TEXT NOT FOUND: pack\\Revista-de-Indias\\2010-Qué-es-el-multiculturalismo-La-nueva-cuestión-étnica-en-el-Chile-neoliberal.pdf\n",
      "====================\n",
      "====================\n",
      "INITIAL TEXT NOT FOUND: pack\\Revista-de-Indias\\2021-Directores-Dictadores-y-Protectores-Las-formas-de-la-política-revolucionaria-en-el-Cono-Sur-18101824.pdf\n",
      "====================\n",
      "====================\n",
      "INITIAL TEXT NOT FOUND: pack\\Revista-de-Indias\\2012-Silvia-Mistral-Constancia-de-la-Mora-y-Dolores-Martí-Relatos-y-memorias-del-exilio-de-1939.pdf\n",
      "====================\n",
      "====================\n",
      "INITIAL TEXT NOT FOUND: pack\\Revista-de-Indias\\2011-En-los-borrosos-confines-de-la-libertad-el-caso-de-los-negros-emancipados-en-Cuba-18171870.pdf\n",
      "====================\n",
      "====================\n",
      "INITIAL TEXT NOT FOUND: pack\\Revista-de-Indias\\2016-De-Prefectos-a-Manpackrios-de-la-Nación-La-violencia-en-la-política-peruana-18291836.pdf\n",
      "====================\n",
      "====================\n",
      "INITIAL TEXT NOT FOUND: pack\\Revista-Española-de-Antropología-Americana\\2009-Principio-de-correlación-en-la-determinación-acústica-de-módulos-de-afinación-andinos-prehispánicos.pdf\n",
      "====================\n",
      "====================\n",
      "INITIAL TEXT NOT FOUND: pack\\Revista-Española-de-Antropología-Americana\\2016-Análisis-de-elementos-gráficos-de-contenido-occidental-en-los-glifos-de-los-códices-coloniales-del-c.pdf\n",
      "====================\n",
      "====================\n",
      "INITIAL TEXT NOT FOUND: pack\\Revista-Española-de-Antropología-Americana\\2019-La-filiación-cultural-y-el-simbolismo-de-los-objetos-de-turquesa-en-el-Templo-Mayor-de-Tenochtitlan.pdf\n",
      "====================\n",
      "====================\n",
      "INITIAL TEXT NOT FOUND: pack\\Revista-de-Indias\\2022-A-technical-conflict-of-interest-Corrupción-en-el-programa-de-ayuda-económica-estadounidense-en-el-P.pdf\n",
      "====================\n",
      "====================\n",
      "INITIAL TEXT NOT FOUND: pack\\Revista-Española-de-Antropología-Americana\\2016-Diálogo-con-Europa-diálogo-con-el-pasado-Antepasados-y-tradición-entre-la-nobleza-colonial-nahua.pdf\n",
      "====================\n"
     ]
    }
   ],
   "source": [
    "# articles_text = {}\n",
    "# for article in articles:\n",
    "#     articles_text[article] = extract_pdf_text(article)\n",
    "\n",
    "def process_articles_parallel(articles):\n",
    "    with ThreadPool(mp.cpu_count() * 8) as pool:\n",
    "        results = pool.map(process_article, articles)\n",
    "    return dict(results)\n",
    "\n",
    "articles_text = process_articles_parallel(articles)"
   ]
  },
  {
   "cell_type": "code",
   "execution_count": 129,
   "id": "f8bfc554",
   "metadata": {},
   "outputs": [
    {
     "data": {
      "text/plain": [
       "['pack\\\\AIBR\\\\2007-Pidiendo-la-defensa-de-un-título-de-doctor-16-años-después.pdf',\n",
       " 'pack\\\\Anuario-de-Estudios-Americanos\\\\2008-La-perspectiva-católica-sobre-la-salud-y-la-práctica-médica-en-la-Argentina-de-los-años-treinta-La-v.pdf',\n",
       " 'pack\\\\Anuario-de-Estudios-Americanos\\\\2007-Centralización-o-descentralización-gestión-pública-o-privada-de-un-bien-escaso-historiografía-sobre-.pdf',\n",
       " 'pack\\\\Anuario-de-Estudios-Americanos\\\\2006-Religiosidad-e-identidad-en-San-Francisco-de-Campeche-Siglos-XVI-y-XVII.pdf',\n",
       " 'pack\\\\Anuario-de-Estudios-Americanos\\\\2003-Políticas-de-la-justicia-criminal-interétnica-en-Córdoba-del-Tucumán-siglos-XVI-y-XVII.pdf',\n",
       " 'pack\\\\Anuario-de-Estudios-Americanos\\\\2006-Economía-rentas-y-situados-en-Cartagena-de-Indias-17611800.pdf',\n",
       " 'pack\\\\AIBR\\\\2018-Humanidad-territorializada-Madres-dueños-y-personas-que-cuidan.pdf',\n",
       " 'pack\\\\Anuario-de-Estudios-Americanos\\\\2007-Las-rutas-del-libro-atlántico-libros-enviados-en-el-navío-de-Honduras-15571700.pdf',\n",
       " 'pack\\\\Anuario-de-Estudios-Americanos\\\\2006-La-educación-pública-escenario-de-conflictos-y-acuerdos-entre-católicos-y-liberales-en-la-Argentina-.pdf',\n",
       " 'pack\\\\Anuario-de-Estudios-Americanos\\\\2004-Itinerario-de-imágenes-del-indígena-chaqueño-Del-Territorio-Indio-del-Norte-al-Territorio-Nacional-y.pdf',\n",
       " 'pack\\\\AIBR\\\\2018-Humanidades-amerindias-en-transformación-ontologías-dinamismo-y-contextos-Presentación-al-monográfic.pdf',\n",
       " 'pack\\\\Anuario-de-Estudios-Americanos\\\\2006-El-acceso-a-los-cargos-de-gobierno-de-la-audiencia-de-Quito-17011750.pdf',\n",
       " 'pack\\\\Anuario-de-Estudios-Americanos\\\\2008-Don-Diego-Luis-Moctezuma-nieto-deHueytlatoani-padre-de-conde-un-noble-indígena-entre-dos-mundos.pdf',\n",
       " 'pack\\\\Anuario-de-Estudios-Americanos\\\\2002-Política-violencia-y-literatura.pdf',\n",
       " 'pack\\\\Anuario-de-Estudios-Americanos\\\\2006-Los-amargos-beneficios-del-dulce-Azúcar-Cuba-y-deuda-ecológica.pdf',\n",
       " 'pack\\\\Anuario-de-Estudios-Americanos\\\\2008-Salud-pública-e-inestabilidad-política-en-Venezuela-durante-los-gobiernos-de-Guzmán-Blanco-18701888.pdf',\n",
       " 'pack\\\\Anuario-de-Estudios-Americanos\\\\2008-La-Colonización-del-Chaco-austral-argentino-y-el-tránsito-hacia-el-ciclo-algodonero-Afluencia-humana.pdf',\n",
       " 'pack\\\\Anuario-de-Estudios-Americanos\\\\2005-La-lucha-por-el-poder-en-una-agrupación-indígena-el-efímero-apogeo-de-los-boroganos-en-las-pampas-pr.pdf',\n",
       " 'pack\\\\Anuario-de-Estudios-Americanos\\\\2005-El-carácter-marginal-y-arrenpackrio-del-sistema-de-fábrica-en-paisajes-agrarios-mexicanos-17801880.pdf',\n",
       " 'pack\\\\Anuario-de-Estudios-Americanos\\\\2003-Negociar-en-red-familia-amistad-y-paisanaje-El-virrey-Superunda-y-sus-agentes-en-Lima-y-Cádiz-174517.pdf',\n",
       " 'pack\\\\Anuario-de-Estudios-Americanos\\\\2002-Políticas-de-pertenencia-y-relaciones-coloniales-la-inmigración-peruana-en-España.pdf',\n",
       " 'pack\\\\Anuario-de-Estudios-Americanos\\\\2008-Alianzas-matrimoniales-coloniales-entre-caciques-mixtecos-El-caso-de-AcatlanPetlalcingo.pdf',\n",
       " 'pack\\\\Anuario-de-Estudios-Americanos\\\\2006-La-alta-sociedad-el-mundo-de-la-cultura-y-la-modernización-en-la-Buenos-Aires-del-cambio-del-siglo-X.pdf',\n",
       " 'pack\\\\Anuario-de-Estudios-Americanos\\\\2006-El-asedio-a-lacristiandad-Intelectuales-católicos-y-sociedad-19501965.pdf',\n",
       " 'pack\\\\Anuario-de-Estudios-Americanos\\\\2006-Luces-y-sombras-de-dos-paradigmas-del-americanismo-español-en-la-renovación-del-diálogo-hispanoameri.pdf',\n",
       " 'pack\\\\Anuario-de-Estudios-Americanos\\\\2008-Conflictos-en-la-Audiencia-de-Quito-a-finales-del-siglo-XVIII.pdf',\n",
       " 'pack\\\\Anuario-de-Estudios-Americanos\\\\2007-Nobleza-y-fiscalidad-en-la-Ruta-de-las-Indias-el-emporio-señorial-de-Sanlúcar-de-Barrameda-15761641.pdf',\n",
       " 'pack\\\\Anuario-de-Estudios-Americanos\\\\2002-Historicidad-Juridicidad-y-ParaLiteratura-En-torno-a-Francisco-de-Vitoria-14861546.pdf',\n",
       " 'pack\\\\AIBR\\\\2022-La-tensión-globallocal-en-la-historia-de-la-antropología.pdf',\n",
       " 'pack\\\\Anuario-de-Estudios-Americanos\\\\2003-Una-antinomia-protorrenacentista-secreto-de-estado-y-divulgación-en-los-descubrimientos-lusocastella.pdf',\n",
       " 'pack\\\\Revista-de-Indias\\\\2006-Evolución-de-la-producción-y-el-comercio-mundial-de-la-grana-cochinilla-siglos-XVIXIX.pdf',\n",
       " 'pack\\\\Revista-de-Indias\\\\2003-Perfil-etnodemográfico-de-la-Audiencia-de-Guatemala.pdf',\n",
       " 'pack\\\\Revista-de-Indias\\\\2009-El-aluvión-comienza-a-sedimentar.pdf',\n",
       " 'pack\\\\Revista-de-Indias\\\\2006-Redes-de-poder-en-el-Virreinato-del-Perú-17761824-los-burócratas.pdf',\n",
       " 'pack\\\\Anuario-de-Estudios-Americanos\\\\2007-Pinturas-novohispanas-en-España-responsables-finalidad-y-procedimiento.pdf',\n",
       " 'pack\\\\Revista-de-Indias\\\\2007-Del-anticomunismo-al-antinacionalismo-la-presidencia-Eisenhower-y-el-giro-autoritario-en-la-América-.pdf',\n",
       " 'pack\\\\Revista-de-Indias\\\\2008-Aires-gaditanos-en-el-mundo-rioplatense-La-experiencia-de-los-jefes-políticos-y-el-juicio-por-jurado.pdf',\n",
       " 'pack\\\\Revista-de-Indias\\\\2006-Andrés-del-Río-Antonio-del-Castillo-y-José-G-Aguilera-en-el-desarrollo-de-la-ciencia-mexicana-del-si.pdf',\n",
       " 'pack\\\\Revista-de-Indias\\\\2010-Consagrando-a-los-ciudadanos-Procesos-electorales-comparados-en-la-campaña-de-Buenos-Aires-durante-l.pdf',\n",
       " 'pack\\\\Revista-de-Indias\\\\2010-Indígenas-andinos-en-Chile-Colonial-Inmigración-inserción-espacial-integración-económica-y-movilidad.pdf',\n",
       " 'pack\\\\Revista-de-Indias\\\\2008-Debates-en-torno-al-liberalismo-representación-e-instituciones-en-el-Congreso-Constituyente-mexicano.pdf',\n",
       " 'pack\\\\Revista-de-Indias\\\\2011-Un-coloso-sobre-la-arena-definiendo-el-camino-hacia-la-plantación-esclavista-en-Cuba-17921825.pdf',\n",
       " 'pack\\\\Revista-de-Indias\\\\2010-Matrimonio-transgresión-y-conflicto-en-la-región-de-Concepción-Chile-en-el-siglo-XIX.pdf',\n",
       " 'pack\\\\Revista-Española-de-Antropología-Americana\\\\2009-Mito-conversiones-y-poder-como-carisma-cristiano-entre-los-wichí.pdf',\n",
       " 'pack\\\\Revista-Española-de-Antropología-Americana\\\\2003-José-Alcina-Franch-y-los-códices-mesoamericanos.pdf',\n",
       " 'pack\\\\Revista-Española-de-Antropología-Americana\\\\2009-Prácticas-mortuorias-entre-las-poblaciones-Aguada-del-valle-de-Ambato-Catamarca-Argentina.pdf',\n",
       " 'pack\\\\Revista-Española-de-Antropología-Americana\\\\2009-Más-rasgos-religiosos-de-los-mayas-y-los-egipcios.pdf',\n",
       " 'pack\\\\Revista-de-Indias\\\\2012-Museología-subalterna-sobre-las-ruinas-de-Moctezuma-II.pdf',\n",
       " 'pack\\\\Revista-de-Indias\\\\2010-Elites-locales-y-economía-política-en-la-Mesoamérica-posclásica-el-caso-de-Molango-Señorío-de-Metzti.pdf',\n",
       " 'pack\\\\Revista-de-Indias\\\\2015-De-arrochelados-a-vecinos-reformismo-borbónico-e-integración-política-en-las-gobernaciones-de-Santa-.pdf',\n",
       " 'pack\\\\Revista-de-Indias\\\\2010-Qué-es-el-multiculturalismo-La-nueva-cuestión-étnica-en-el-Chile-neoliberal.pdf',\n",
       " 'pack\\\\Revista-de-Indias\\\\2021-Directores-Dictadores-y-Protectores-Las-formas-de-la-política-revolucionaria-en-el-Cono-Sur-18101824.pdf',\n",
       " 'pack\\\\Revista-de-Indias\\\\2012-Silvia-Mistral-Constancia-de-la-Mora-y-Dolores-Martí-Relatos-y-memorias-del-exilio-de-1939.pdf',\n",
       " 'pack\\\\Revista-de-Indias\\\\2011-En-los-borrosos-confines-de-la-libertad-el-caso-de-los-negros-emancipados-en-Cuba-18171870.pdf',\n",
       " 'pack\\\\Revista-de-Indias\\\\2016-De-Prefectos-a-Manpackrios-de-la-Nación-La-violencia-en-la-política-peruana-18291836.pdf',\n",
       " 'pack\\\\Revista-Española-de-Antropología-Americana\\\\2009-Principio-de-correlación-en-la-determinación-acústica-de-módulos-de-afinación-andinos-prehispánicos.pdf',\n",
       " 'pack\\\\Revista-Española-de-Antropología-Americana\\\\2016-Análisis-de-elementos-gráficos-de-contenido-occidental-en-los-glifos-de-los-códices-coloniales-del-c.pdf',\n",
       " 'pack\\\\Revista-Española-de-Antropología-Americana\\\\2019-La-filiación-cultural-y-el-simbolismo-de-los-objetos-de-turquesa-en-el-Templo-Mayor-de-Tenochtitlan.pdf',\n",
       " 'pack\\\\Revista-de-Indias\\\\2022-A-technical-conflict-of-interest-Corrupción-en-el-programa-de-ayuda-económica-estadounidense-en-el-P.pdf',\n",
       " 'pack\\\\Revista-Española-de-Antropología-Americana\\\\2016-Diálogo-con-Europa-diálogo-con-el-pasado-Antepasados-y-tradición-entre-la-nobleza-colonial-nahua.pdf']"
      ]
     },
     "execution_count": 129,
     "metadata": {},
     "output_type": "execute_result"
    }
   ],
   "source": [
    "def extract_file_paths(text):\n",
    "    pattern = r'INITIAL TEXT NOT FOUND: (.+?)\\n'\n",
    "    matches = re.findall(pattern, text)\n",
    "    decoded_matches = [match.encode('latin1').decode('utf-8', 'ignore').strip() for match in matches]\n",
    "    return decoded_matches\n",
    "\n",
    "with open(\"initial-text-not-found.log\", \"r\") as f:\n",
    "    logs = f.read()\n",
    "not_healthy_files = extract_file_paths(logs)\n",
    "not_healthy_files"
   ]
  },
  {
   "cell_type": "code",
   "execution_count": 28,
   "id": "5323c4ee",
   "metadata": {},
   "outputs": [
    {
     "name": "stderr",
     "output_type": "stream",
     "text": [
      "The PDF <_io.BufferedReader name='pack\\\\Revista-de-Indias\\\\2006-Evolución-de-la-producción-y-el-comercio-mundial-de-la-grana-cochinilla-siglos-XVIXIX.pdf'> contains a metadata field indicating that it should not allow text extraction. Ignoring this field and proceeding. Use the check_extractable if you want to raise an error in this case\n",
      "The PDF <_io.BufferedReader name='pack\\\\Revista-de-Indias\\\\2006-Evolución-de-la-producción-y-el-comercio-mundial-de-la-grana-cochinilla-siglos-XVIXIX.pdf'> contains a metadata field indicating that it should not allow text extraction. Ignoring this field and proceeding. Use the check_extractable if you want to raise an error in this case\n",
      "The PDF <_io.BufferedReader name='pack\\\\Revista-de-Indias\\\\2006-Redes-de-poder-en-el-Virreinato-del-Perú-17761824-los-burócratas.pdf'> contains a metadata field indicating that it should not allow text extraction. Ignoring this field and proceeding. Use the check_extractable if you want to raise an error in this case\n",
      "The PDF <_io.BufferedReader name='pack\\\\Revista-de-Indias\\\\2006-Redes-de-poder-en-el-Virreinato-del-Perú-17761824-los-burócratas.pdf'> contains a metadata field indicating that it should not allow text extraction. Ignoring this field and proceeding. Use the check_extractable if you want to raise an error in this case\n",
      "The PDF <_io.BufferedReader name='pack\\\\Revista-de-Indias\\\\2006-Andrés-del-Río-Antonio-del-Castillo-y-José-G-Aguilera-en-el-desarrollo-de-la-ciencia-mexicana-del-si.pdf'> contains a metadata field indicating that it should not allow text extraction. Ignoring this field and proceeding. Use the check_extractable if you want to raise an error in this case\n",
      "The PDF <_io.BufferedReader name='pack\\\\Revista-de-Indias\\\\2006-Andrés-del-Río-Antonio-del-Castillo-y-José-G-Aguilera-en-el-desarrollo-de-la-ciencia-mexicana-del-si.pdf'> contains a metadata field indicating that it should not allow text extraction. Ignoring this field and proceeding. Use the check_extractable if you want to raise an error in this case\n"
     ]
    },
    {
     "data": {
      "text/plain": [
       "60"
      ]
     },
     "execution_count": 28,
     "metadata": {},
     "output_type": "execute_result"
    }
   ],
   "source": [
    "missing_articles_texts = {}\n",
    "for article in not_healthy_files:\n",
    "    missing_articles_texts[article] = process_article(article, ignore_initial_text=True)[1]\n",
    "len(missing_articles_texts)"
   ]
  },
  {
   "cell_type": "code",
   "execution_count": 40,
   "id": "c4c0435e",
   "metadata": {},
   "outputs": [],
   "source": [
    "os.makedirs(\"missing_articles\", exist_ok=True)\n",
    "i = 0\n",
    "for article, text in missing_articles_texts.items():\n",
    "    with open(os.path.join(\"missing_articles\", f\"{i}-\" + os.path.basename(article)), \"w\", encoding=\"utf-8\") as f:\n",
    "        f.write(text)\n",
    "    i += 1"
   ]
  },
  {
   "cell_type": "code",
   "execution_count": 132,
   "id": "5bdc8d5e",
   "metadata": {},
   "outputs": [
    {
     "data": {
      "text/plain": [
       "60"
      ]
     },
     "execution_count": 132,
     "metadata": {},
     "output_type": "execute_result"
    }
   ],
   "source": [
    "# read missing articles\n",
    "missing_articles = {art.split(\"-\", 1)[1]: os.path.join(\"missing_articles\", art) for art in os.listdir(\"missing_articles\")}\n",
    "\n",
    "for art in missing_articles_texts.keys():\n",
    "    path_fixed_article = missing_articles[os.path.basename(art)]\n",
    "    with open(path_fixed_article, \"r\", encoding=\"utf-8\") as f:\n",
    "        missing_articles_texts[art] = f.read()\n",
    "\n",
    "len(missing_articles_texts)"
   ]
  },
  {
   "cell_type": "code",
   "execution_count": 12,
   "id": "41e560c7",
   "metadata": {},
   "outputs": [],
   "source": [
    "texts = list(articles_text.values())"
   ]
  },
  {
   "cell_type": "code",
   "execution_count": 29,
   "id": "8fa32712",
   "metadata": {},
   "outputs": [
    {
     "data": {
      "text/plain": [
       "1925"
      ]
     },
     "execution_count": 29,
     "metadata": {},
     "output_type": "execute_result"
    }
   ],
   "source": [
    "reversed_texts = {v: k for k, v in articles_text.items()}\n",
    "texts_indexes = []\n",
    "for i in range(len(texts)):\n",
    "    texts_indexes.append(reversed_texts[texts[i]])\n",
    "len(texts_indexes)"
   ]
  },
  {
   "cell_type": "code",
   "execution_count": 41,
   "id": "6a4c5667",
   "metadata": {},
   "outputs": [],
   "source": [
    "texts_indexes_np = np.array(texts_indexes)\n",
    "np.save(\"texts_indexes.npy\", texts_indexes_np)"
   ]
  },
  {
   "cell_type": "code",
   "execution_count": 143,
   "id": "3bbe85ea",
   "metadata": {},
   "outputs": [],
   "source": [
    "# These files were not read correctly and therefore are not included in the final dataset\n",
    "unreadable_files = {\"pack\\\\Revista-Española-de-Antropología-Americana\\\\2003-José-Alcina-Franch-y-los-códices-mesoamericanos.pdf\"}"
   ]
  },
  {
   "cell_type": "code",
   "execution_count": 148,
   "id": "d6f58ce4",
   "metadata": {},
   "outputs": [
    {
     "data": {
      "text/html": [
       "<div>\n",
       "<style scoped>\n",
       "    .dataframe tbody tr th:only-of-type {\n",
       "        vertical-align: middle;\n",
       "    }\n",
       "\n",
       "    .dataframe tbody tr th {\n",
       "        vertical-align: top;\n",
       "    }\n",
       "\n",
       "    .dataframe thead th {\n",
       "        text-align: right;\n",
       "    }\n",
       "</style>\n",
       "<table border=\"1\" class=\"dataframe\">\n",
       "  <thead>\n",
       "    <tr style=\"text-align: right;\">\n",
       "      <th></th>\n",
       "      <th>Path</th>\n",
       "      <th>Text</th>\n",
       "    </tr>\n",
       "  </thead>\n",
       "  <tbody>\n",
       "    <tr>\n",
       "      <th>0</th>\n",
       "      <td>pack\\AIBR\\2006-Aymaras-peruanos-y-chilenos-en-...</td>\n",
       "      <td>introducción el presidente recibió el siguient...</td>\n",
       "    </tr>\n",
       "    <tr>\n",
       "      <th>0</th>\n",
       "      <td>pack\\AIBR\\2006-Cambios-de-género-y-discriminac...</td>\n",
       "      <td>introducción e l presente artículo es producto...</td>\n",
       "    </tr>\n",
       "    <tr>\n",
       "      <th>0</th>\n",
       "      <td>pack\\AIBR\\2006-Consecuencias-personales-en-la-...</td>\n",
       "      <td>introducción e l propósito al iniciar este tra...</td>\n",
       "    </tr>\n",
       "    <tr>\n",
       "      <th>0</th>\n",
       "      <td>pack\\AIBR\\2006-Construcción-de-modelos-de-géne...</td>\n",
       "      <td>introducción todos somos conscientes de que pe...</td>\n",
       "    </tr>\n",
       "    <tr>\n",
       "      <th>0</th>\n",
       "      <td>pack\\AIBR\\2006-Contribuciones-feministas-a-pro...</td>\n",
       "      <td>omo señala dileonardo a comienzos de la década...</td>\n",
       "    </tr>\n",
       "    <tr>\n",
       "      <th>...</th>\n",
       "      <td>...</td>\n",
       "      <td>...</td>\n",
       "    </tr>\n",
       "    <tr>\n",
       "      <th>0</th>\n",
       "      <td>pack\\Revista-Española-de-Antropología-American...</td>\n",
       "      <td>1. introducción. 2. paridad de género en presi...</td>\n",
       "    </tr>\n",
       "    <tr>\n",
       "      <th>0</th>\n",
       "      <td>pack\\Revista-Española-de-Antropología-American...</td>\n",
       "      <td>1. introducción. 2. baja california: escenario...</td>\n",
       "    </tr>\n",
       "    <tr>\n",
       "      <th>0</th>\n",
       "      <td>pack\\Revista-Española-de-Antropología-American...</td>\n",
       "      <td>1. introducción. 2. los signos de quipus. 3. l...</td>\n",
       "    </tr>\n",
       "    <tr>\n",
       "      <th>0</th>\n",
       "      <td>pack\\Revista-Española-de-Antropología-American...</td>\n",
       "      <td>1. introducción. 2. el inicio de la desigualda...</td>\n",
       "    </tr>\n",
       "    <tr>\n",
       "      <th>0</th>\n",
       "      <td>pack\\Revista-Española-de-Antropología-American...</td>\n",
       "      <td>1. paisajes para hacer aparecer. 2. yvyrupa: e...</td>\n",
       "    </tr>\n",
       "  </tbody>\n",
       "</table>\n",
       "<p>1911 rows × 2 columns</p>\n",
       "</div>"
      ],
      "text/plain": [
       "                                                 Path  \\\n",
       "0   pack\\AIBR\\2006-Aymaras-peruanos-y-chilenos-en-...   \n",
       "0   pack\\AIBR\\2006-Cambios-de-género-y-discriminac...   \n",
       "0   pack\\AIBR\\2006-Consecuencias-personales-en-la-...   \n",
       "0   pack\\AIBR\\2006-Construcción-de-modelos-de-géne...   \n",
       "0   pack\\AIBR\\2006-Contribuciones-feministas-a-pro...   \n",
       "..                                                ...   \n",
       "0   pack\\Revista-Española-de-Antropología-American...   \n",
       "0   pack\\Revista-Española-de-Antropología-American...   \n",
       "0   pack\\Revista-Española-de-Antropología-American...   \n",
       "0   pack\\Revista-Española-de-Antropología-American...   \n",
       "0   pack\\Revista-Española-de-Antropología-American...   \n",
       "\n",
       "                                                 Text  \n",
       "0   introducción el presidente recibió el siguient...  \n",
       "0   introducción e l presente artículo es producto...  \n",
       "0   introducción e l propósito al iniciar este tra...  \n",
       "0   introducción todos somos conscientes de que pe...  \n",
       "0   omo señala dileonardo a comienzos de la década...  \n",
       "..                                                ...  \n",
       "0   1. introducción. 2. paridad de género en presi...  \n",
       "0   1. introducción. 2. baja california: escenario...  \n",
       "0   1. introducción. 2. los signos de quipus. 3. l...  \n",
       "0   1. introducción. 2. el inicio de la desigualda...  \n",
       "0   1. paisajes para hacer aparecer. 2. yvyrupa: e...  \n",
       "\n",
       "[1911 rows x 2 columns]"
      ]
     },
     "execution_count": 148,
     "metadata": {},
     "output_type": "execute_result"
    }
   ],
   "source": [
    "df_preprocessed = pd.DataFrame(columns=[\"Path\", \"Text\"])\n",
    "for article, text in articles_text.items():\n",
    "    if article in unreadable_files:\n",
    "        continue\n",
    "    if text is None:\n",
    "        text = missing_articles_texts[article]\n",
    "    df_preprocessed = pd.concat([df_preprocessed, pd.DataFrame({\"Path\": [article], \"Text\": [text]})])\n",
    "df_preprocessed"
   ]
  },
  {
   "cell_type": "code",
   "execution_count": 149,
   "id": "2f6229ac",
   "metadata": {},
   "outputs": [],
   "source": [
    "df_preprocessed.to_pickle(\"preprocessed-with-marking.pkl\")"
   ]
  },
  {
   "cell_type": "markdown",
   "id": "b4546167",
   "metadata": {},
   "source": [
    "# Buscador tests"
   ]
  },
  {
   "cell_type": "code",
   "execution_count": 4,
   "id": "b3f5e257",
   "metadata": {},
   "outputs": [
    {
     "name": "stderr",
     "output_type": "stream",
     "text": [
      "c:\\Users\\leand\\Documents\\tesis\\notebooks\\preprocesado\\.venv\\Lib\\site-packages\\tqdm\\auto.py:21: TqdmWarning: IProgress not found. Please update jupyter and ipywidgets. See https://ipywidgets.readthedocs.io/en/stable/user_install.html\n",
      "  from .autonotebook import tqdm as notebook_tqdm\n"
     ]
    }
   ],
   "source": [
    "from transformers import AutoTokenizer, AutoModel\n",
    "import torch\n",
    "import faiss\n",
    "import numpy as np"
   ]
  },
  {
   "cell_type": "markdown",
   "id": "a64d1d5f",
   "metadata": {},
   "source": [
    "Cargado de contriever"
   ]
  },
  {
   "cell_type": "code",
   "execution_count": 5,
   "id": "e2ffff8f",
   "metadata": {},
   "outputs": [],
   "source": [
    "model_name = \"facebook/contriever\"\n",
    "tokenizer = AutoTokenizer.from_pretrained(model_name)\n",
    "model = AutoModel.from_pretrained(model_name)"
   ]
  },
  {
   "cell_type": "markdown",
   "id": "a4d8a233",
   "metadata": {},
   "source": [
    "Generar embeddings"
   ]
  },
  {
   "cell_type": "code",
   "execution_count": null,
   "id": "8b128ef9",
   "metadata": {},
   "outputs": [],
   "source": [
    "def get_embeddings(texts, model, tokenizer):\n",
    "    inputs = tokenizer(texts, padding=True, truncation=True, return_tensors=\"pt\")\n",
    "    with torch.no_grad():\n",
    "        outputs = model(**inputs)\n",
    "    embeddings = outputs.last_hidden_state.mean(dim=1)\n",
    "    return embeddings\n",
    "\n",
    "embeddings = get_embeddings(texts, model, tokenizer)\n",
    "embeddings_np = embeddings.numpy()"
   ]
  },
  {
   "cell_type": "markdown",
   "id": "ef6d5625",
   "metadata": {},
   "source": [
    "Creacion del indice FAISS"
   ]
  },
  {
   "cell_type": "code",
   "execution_count": 16,
   "id": "350ca368",
   "metadata": {},
   "outputs": [],
   "source": [
    "dimension = embeddings_np.shape[1]\n",
    "index = faiss.IndexFlatL2(dimension)\n",
    "index.add(embeddings_np)"
   ]
  },
  {
   "cell_type": "markdown",
   "id": "898cccdb",
   "metadata": {},
   "source": [
    "Guardar indice"
   ]
  },
  {
   "cell_type": "code",
   "execution_count": 17,
   "id": "85f09d01",
   "metadata": {},
   "outputs": [],
   "source": [
    "faiss.write_index(index, \"faiss_index.bin\")"
   ]
  },
  {
   "cell_type": "code",
   "execution_count": 6,
   "metadata": {},
   "outputs": [
    {
     "data": {
      "text/plain": [
       "<faiss.swigfaiss_avx2.IndexFlatL2; proxy of <Swig Object of type 'faiss::IndexFlatL2 *' at 0x0000017CB1499D10> >"
      ]
     },
     "execution_count": 6,
     "metadata": {},
     "output_type": "execute_result"
    }
   ],
   "source": [
    "index = faiss.read_index(\"faiss_index.bin\")\n",
    "index"
   ]
  },
  {
   "cell_type": "code",
   "execution_count": 9,
   "id": "4e564f2d",
   "metadata": {},
   "outputs": [
    {
     "name": "stdout",
     "output_type": "stream",
     "text": [
      "Documentos más relevantes: [[ 598 1498  339 1451 1703]]\n",
      "Distancias: [[2.215642  2.344265  2.373072  2.3948677 2.405981 ]]\n"
     ]
    }
   ],
   "source": [
    "def search(query, model, tokenizer, index, top_k=5):\n",
    "    query_embedding = get_embeddings([query], model, tokenizer).numpy()\n",
    "    distances, indices = index.search(query_embedding, top_k)\n",
    "    return indices, distances\n",
    "\n",
    "query = \"\"\"\n",
    "A mediados del siglo XVI, en los albores de un amanecer brumoso, las costas del Imperio incaico fueron testigos de un suceso que alteraría su destino para siempre: la llegada del enigmático conquistador Alonso de Beldever. Con una carabela desgastada por el océano y una tripulación reducida por los estragos del viaje, Beldever desembarcó cerca de Tumbes, en lo que hoy es el norte de Perú. Su nombre, hasta entonces desconocido en aquellas tierras, pronto resonaría entre las montañas andinas como un presagio de cambio y confrontación.\n",
    "\n",
    "Los pobladores locales, intrigados por los rostros pálidos y las armaduras relucientes, observaron con mezcla de temor y curiosidad. Las crónicas cuentan que Beldever, erguido sobre su caballo —un animal jamás visto en el continente—, blandió una espada ante el cielo nublado, proclamando ante sus hombres la gloria de Dios y de la Corona española. Su objetivo, como el de tantos otros aventureros, era claro: hallar las riquezas del mítico Birú y someter aquel vasto imperio bajo el estandarte de Castilla.\n",
    "\n",
    "No obstante, Beldever no era un hombre común. Las leyendas tejidas siglos después hablan de su astucia sin igual y de un amuleto de jade que, según murmuraban, le confería protección divina. Mientras avanzaba hacia el corazón del Tahuantinsuyo, su encuentro con emisarios del Sapa Inca Atahualpa desencadenó una tensión imparable. Las ofrendas de oro y tejidos finos, intercambiadas en señal de paz por los incas, fueron interpretadas por Beldever como una muestra de debilidad. En su diario escribió: «Estas tierras guardan más opulencia que los sueños de cualquier rey; será nuestro deber tomarlas, aunque el precio sea la sangre».\n",
    "\n",
    "La expedición de Beldever, sin embargo, nunca alcanzó Cusco. Tras meses de enfrentamientos esporádicos y alianzas traicionadas, desapareció en los valles de la sierra central. Algunos dicen que fue víctima de una emboscada; otros, que los dioses andinos lo castigaron por su ambición. Lo cierto es que su llegada marcó el inicio de un colapso inevitable. Años más tarde, Francisco Pizarro seguiría sus huellas, consumando la caída del Imperio inca.\n",
    "\n",
    "Hoy, en las aldeas remotas, los ancianos aún narran la historia del extranjero de ojos grises que desafió a los cielos. Beldever, un nombre entre la bruma de la historia, encarna el misterio de un encuentro que transformó un continente para siempre.\n",
    "\"\"\"\n",
    "indices, distances = search(query, model, tokenizer, index)\n",
    "print(\"Documentos más relevantes:\", indices)\n",
    "print(\"Distancias:\", distances)"
   ]
  },
  {
   "cell_type": "code",
   "execution_count": 14,
   "id": "ba5bb7a2",
   "metadata": {},
   "outputs": [
    {
     "data": {
      "text/plain": [
       "'pack\\\\Revista-Española-de-Antropología-Americana\\\\2003-Identificación-de-parte-de-la-decoración-de-la-pajcha-colonial-7572-del-Museo-de-América-Madrid.pdf'"
      ]
     },
     "execution_count": 14,
     "metadata": {},
     "output_type": "execute_result"
    }
   ],
   "source": [
    "indexes = np.load(\"texts_indexes.npy\")\n",
    "indexes[1498]"
   ]
  }
 ],
 "metadata": {
  "kernelspec": {
   "display_name": ".venv",
   "language": "python",
   "name": "python3"
  },
  "language_info": {
   "codemirror_mode": {
    "name": "ipython",
    "version": 3
   },
   "file_extension": ".py",
   "mimetype": "text/x-python",
   "name": "python",
   "nbconvert_exporter": "python",
   "pygments_lexer": "ipython3",
   "version": "3.12.5"
  }
 },
 "nbformat": 4,
 "nbformat_minor": 5
}
